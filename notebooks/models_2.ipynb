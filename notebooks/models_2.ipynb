{
 "cells": [
  {
   "cell_type": "code",
   "execution_count": 1,
   "metadata": {
    "collapsed": true
   },
   "outputs": [],
   "source": [
    "import pandas as pd\n",
    "import numpy as np\n",
    "\n",
    "X_scaler_df_TOTdrop = pd.read_csv('../data/X_scaler_df_TOTdrop.csv')\n",
    "X_scaler1 = pd.read_csv('../data/X_scaler1.csv')\n",
    "high_schools = pd.read_csv('../data/high_schools.csv')"
   ]
  },
  {
   "cell_type": "code",
   "execution_count": 2,
   "outputs": [],
   "source": [
    "X_scaler_df_TOTdrop = X_scaler_df_TOTdrop.iloc[:,:]\n",
    "X_scaler1 = X_scaler1.iloc[:,:]\n",
    "y = high_schools['ACT']"
   ],
   "metadata": {
    "collapsed": false,
    "pycharm": {
     "name": "#%%\n"
    }
   }
  },
  {
   "cell_type": "code",
   "execution_count": 3,
   "outputs": [],
   "source": [
    "from sklearn.model_selection import train_test_split\n",
    "\n",
    "X1_train, X1_test, y1_train, y1_test = train_test_split(X_scaler_df_TOTdrop, y, test_size=.2, random_state=1)\n",
    "X1_train, X1_val, y1_train, y1_val = train_test_split(X1_train, y1_train, test_size=0.25, random_state=1)"
   ],
   "metadata": {
    "collapsed": false,
    "pycharm": {
     "name": "#%%\n"
    }
   }
  },
  {
   "cell_type": "code",
   "execution_count": 4,
   "outputs": [],
   "source": [
    "X2_train, X2_test, y2_train, y2_test = train_test_split(X_scaler1, y, test_size=.2, random_state=1)\n",
    "X2_train, X2_val, y2_train, y2_val = train_test_split(X2_train, y2_train, test_size=0.25, random_state=1)"
   ],
   "metadata": {
    "collapsed": false,
    "pycharm": {
     "name": "#%%\n"
    }
   }
  },
  {
   "cell_type": "code",
   "execution_count": 5,
   "outputs": [],
   "source": [
    "from sklearn.tree import DecisionTreeRegressor\n",
    "\n",
    "reg_tree = DecisionTreeRegressor()\n",
    "\n",
    "spaceTree={\"splitter\":[\"best\",\"random\"],\n",
    "            \"max_depth\" : [1,3,5,7,9,11,12],\n",
    "           \"min_samples_leaf\":[1,2,3,4,5,6,7,8,9,10],\n",
    "           \"min_weight_fraction_leaf\":[0.1,0.2,0.3,0.4,0.5,0.6,0.7,0.8,0.9],\n",
    "           \"max_features\":[\"auto\",\"log2\",\"sqrt\",None],\n",
    "           \"max_leaf_nodes\":[None,10,20,30,40,50,60,70,80,90] }"
   ],
   "metadata": {
    "collapsed": false,
    "pycharm": {
     "name": "#%%\n"
    }
   }
  },
  {
   "cell_type": "code",
   "execution_count": 6,
   "outputs": [],
   "source": [
    "from sklearn.model_selection import GridSearchCV\n",
    "\n",
    "treeSearch = GridSearchCV(reg_tree, spaceTree, scoring='neg_mean_absolute_error', cv=5, n_jobs=-1, verbose=3)"
   ],
   "metadata": {
    "collapsed": false,
    "pycharm": {
     "name": "#%%\n"
    }
   }
  },
  {
   "cell_type": "code",
   "execution_count": 7,
   "outputs": [
    {
     "name": "stdout",
     "output_type": "stream",
     "text": [
      "Fitting 5 folds for each of 50400 candidates, totalling 252000 fits\n"
     ]
    },
    {
     "name": "stderr",
     "output_type": "stream",
     "text": [
      "c:\\users\\david\\documents\\school\\dsba 6156\\finalproject\\venv\\lib\\site-packages\\sklearn\\model_selection\\_validation.py:372: FitFailedWarning: \n",
      "112000 fits failed out of a total of 252000.\n",
      "The score on these train-test partitions for these parameters will be set to nan.\n",
      "If these failures are not expected, you can try to debug them by setting error_score='raise'.\n",
      "\n",
      "Below are more details about the failures:\n",
      "--------------------------------------------------------------------------------\n",
      "112000 fits failed with the following error:\n",
      "Traceback (most recent call last):\n",
      "  File \"c:\\users\\david\\documents\\school\\dsba 6156\\finalproject\\venv\\lib\\site-packages\\sklearn\\model_selection\\_validation.py\", line 680, in _fit_and_score\n",
      "    estimator.fit(X_train, y_train, **fit_params)\n",
      "  File \"c:\\users\\david\\documents\\school\\dsba 6156\\finalproject\\venv\\lib\\site-packages\\sklearn\\tree\\_classes.py\", line 1315, in fit\n",
      "    super().fit(\n",
      "  File \"c:\\users\\david\\documents\\school\\dsba 6156\\finalproject\\venv\\lib\\site-packages\\sklearn\\tree\\_classes.py\", line 304, in fit\n",
      "    raise ValueError(\"min_weight_fraction_leaf must in [0, 0.5]\")\n",
      "ValueError: min_weight_fraction_leaf must in [0, 0.5]\n",
      "\n",
      "  warnings.warn(some_fits_failed_message, FitFailedWarning)\n",
      "c:\\users\\david\\documents\\school\\dsba 6156\\finalproject\\venv\\lib\\site-packages\\sklearn\\model_selection\\_search.py:969: UserWarning: One or more of the test scores are non-finite: [-1.95531781 -1.9733178  -1.9534283  ...         nan         nan\n",
      "         nan]\n",
      "  warnings.warn(\n"
     ]
    },
    {
     "name": "stdout",
     "output_type": "stream",
     "text": [
      "Fitting 5 folds for each of 50400 candidates, totalling 252000 fits\n"
     ]
    },
    {
     "name": "stderr",
     "output_type": "stream",
     "text": [
      "c:\\users\\david\\documents\\school\\dsba 6156\\finalproject\\venv\\lib\\site-packages\\sklearn\\model_selection\\_validation.py:372: FitFailedWarning: \n",
      "112000 fits failed out of a total of 252000.\n",
      "The score on these train-test partitions for these parameters will be set to nan.\n",
      "If these failures are not expected, you can try to debug them by setting error_score='raise'.\n",
      "\n",
      "Below are more details about the failures:\n",
      "--------------------------------------------------------------------------------\n",
      "112000 fits failed with the following error:\n",
      "Traceback (most recent call last):\n",
      "  File \"c:\\users\\david\\documents\\school\\dsba 6156\\finalproject\\venv\\lib\\site-packages\\sklearn\\model_selection\\_validation.py\", line 680, in _fit_and_score\n",
      "    estimator.fit(X_train, y_train, **fit_params)\n",
      "  File \"c:\\users\\david\\documents\\school\\dsba 6156\\finalproject\\venv\\lib\\site-packages\\sklearn\\tree\\_classes.py\", line 1315, in fit\n",
      "    super().fit(\n",
      "  File \"c:\\users\\david\\documents\\school\\dsba 6156\\finalproject\\venv\\lib\\site-packages\\sklearn\\tree\\_classes.py\", line 304, in fit\n",
      "    raise ValueError(\"min_weight_fraction_leaf must in [0, 0.5]\")\n",
      "ValueError: min_weight_fraction_leaf must in [0, 0.5]\n",
      "\n",
      "  warnings.warn(some_fits_failed_message, FitFailedWarning)\n"
     ]
    },
    {
     "name": "stdout",
     "output_type": "stream",
     "text": [
      "Best Score TOT: -1.877890698273447\n",
      "Best Hyperparameters TOT: {'max_depth': 12, 'max_features': 'log2', 'max_leaf_nodes': 10, 'min_samples_leaf': 10, 'min_weight_fraction_leaf': 0.1, 'splitter': 'best'}\n",
      "Best Score TOT: -1.877890698273447\n",
      "Best Hyperparameters TOT: {'max_depth': 12, 'max_features': 'log2', 'max_leaf_nodes': 10, 'min_samples_leaf': 10, 'min_weight_fraction_leaf': 0.1, 'splitter': 'best'}\n"
     ]
    },
    {
     "name": "stderr",
     "output_type": "stream",
     "text": [
      "c:\\users\\david\\documents\\school\\dsba 6156\\finalproject\\venv\\lib\\site-packages\\sklearn\\model_selection\\_search.py:969: UserWarning: One or more of the test scores are non-finite: [-1.97622114 -1.96142103 -1.97588173 ...         nan         nan\n",
      "         nan]\n",
      "  warnings.warn(\n"
     ]
    }
   ],
   "source": [
    "treeResult_TOT = treeSearch.fit(X1_val, y1_val)\n",
    "treeResult = treeSearch.fit(X2_val, y2_val)\n",
    "\n",
    "print('Best Score TOT: %s' % treeResult_TOT.best_score_)\n",
    "print('Best Hyperparameters TOT: %s' % treeResult_TOT.best_params_)\n",
    "\n",
    "print('Best Score TOT: %s' % treeResult.best_score_)\n",
    "print('Best Hyperparameters TOT: %s' % treeResult.best_params_)"
   ],
   "metadata": {
    "collapsed": false,
    "pycharm": {
     "name": "#%%\n"
    }
   }
  },
  {
   "cell_type": "code",
   "execution_count": 8,
   "outputs": [
    {
     "data": {
      "text/plain": "<matplotlib.collections.PathCollection at 0x276529bb970>"
     },
     "execution_count": 8,
     "metadata": {},
     "output_type": "execute_result"
    },
    {
     "data": {
      "text/plain": "<Figure size 432x288 with 1 Axes>",
      "image/png": "[encoded data removed]"
     },
     "metadata": {
      "needs_background": "light"
     },
     "output_type": "display_data"
    }
   ],
   "source": [
    "tuned_tree = DecisionTreeRegressor(max_depth=5, max_features='sqrt', max_leaf_nodes=90, min_samples_leaf=5, min_weight_fraction_leaf=0.1, splitter='best')\n",
    "\n",
    "tuned_tree.fit(X1_train, y1_train)\n",
    "tuned_tree_pred1 = tuned_tree.predict(X1_test)\n",
    "\n",
    "import matplotlib.pyplot as plt\n",
    "\n",
    "plt.scatter(y1_test, tuned_tree_pred1)"
   ],
   "metadata": {
    "collapsed": false,
    "pycharm": {
     "name": "#%%\n"
    }
   }
  },
  {
   "cell_type": "code",
   "execution_count": 9,
   "outputs": [
    {
     "data": {
      "text/plain": "<matplotlib.collections.PathCollection at 0x27654d42af0>"
     },
     "execution_count": 9,
     "metadata": {},
     "output_type": "execute_result"
    },
    {
     "data": {
      "text/plain": "<Figure size 432x288 with 1 Axes>",
      "image/png": "[encoded data removed]"
     },
     "metadata": {
      "needs_background": "light"
     },
     "output_type": "display_data"
    }
   ],
   "source": [
    "tuned_tree.fit(X2_train, y2_train)\n",
    "tuned_tree_pred2 = tuned_tree.predict(X2_test)\n",
    "\n",
    "plt.scatter(y2_test, tuned_tree_pred2)"
   ],
   "metadata": {
    "collapsed": false,
    "pycharm": {
     "name": "#%%\n"
    }
   }
  },
  {
   "cell_type": "code",
   "execution_count": 10,
   "outputs": [
    {
     "name": "stdout",
     "output_type": "stream",
     "text": [
      "Residual sum of squares: 6.70\n",
      "R2: 0.14140573702391812\n",
      "MAE: 1.9925912724380506\n",
      "MSE: 6.69806209360424\n",
      "RMSE: 2.588061454758028\n"
     ]
    }
   ],
   "source": [
    "from sklearn import metrics\n",
    "\n",
    "print(\"Residual sum of squares: %.2f\" % np.mean((tuned_tree_pred1 - y1_test) ** 2))\n",
    "print('R2:', metrics.r2_score(y1_test,tuned_tree_pred1))\n",
    "print('MAE:', metrics.mean_absolute_error(y1_test,tuned_tree_pred1))\n",
    "print('MSE:', metrics.mean_squared_error(y1_test, tuned_tree_pred1))\n",
    "print('RMSE:', np.sqrt(metrics.mean_squared_error(y1_test, tuned_tree_pred1)))"
   ],
   "metadata": {
    "collapsed": false,
    "pycharm": {
     "name": "#%%\n"
    }
   }
  },
  {
   "cell_type": "code",
   "execution_count": 11,
   "outputs": [
    {
     "name": "stdout",
     "output_type": "stream",
     "text": [
      "Residual sum of squares: 7.08\n",
      "R2: 0.09264577608779889\n",
      "MAE: 2.0510902968350737\n",
      "MSE: 7.078448103755045\n",
      "RMSE: 2.6605353039858435\n"
     ]
    }
   ],
   "source": [
    "print(\"Residual sum of squares: %.2f\" % np.mean((tuned_tree_pred2 - y2_test) ** 2))\n",
    "print('R2:', metrics.r2_score(y2_test,tuned_tree_pred2))\n",
    "print('MAE:', metrics.mean_absolute_error(y2_test,tuned_tree_pred2))\n",
    "print('MSE:', metrics.mean_squared_error(y2_test, tuned_tree_pred2))\n",
    "print('RMSE:', np.sqrt(metrics.mean_squared_error(y2_test, tuned_tree_pred2)))"
   ],
   "metadata": {
    "collapsed": false,
    "pycharm": {
     "name": "#%%\n"
    }
   }
  },
  {
   "cell_type": "code",
   "execution_count": 12,
   "outputs": [
    {
     "name": "stdout",
     "output_type": "stream",
     "text": [
      "Cross validation mean MSE score using tuned_Tree1 is 1.9013744765917635\n",
      "Cross validation mean R2 score using tuned_Tree1 is 0.16061693338630917\n",
      "Cross validation mean MSE score using tuned_Tree2 is 1.9604334529758858\n",
      "Cross validation mean R2 score using tuned_Tree2 is 0.1195896764562088\n"
     ]
    }
   ],
   "source": [
    "from sklearn.model_selection import cross_val_score\n",
    "\n",
    "print(\"Cross validation mean MSE score using tuned_Tree1 is %s\" % (\n",
    "            -1 * cross_val_score(tuned_tree, X1_train, y1_train, cv=5,scoring='neg_mean_absolute_error').mean()))\n",
    "print(\"Cross validation mean R2 score using tuned_Tree1 is %s\" % (\n",
    "    cross_val_score(tuned_tree, X1_train, y1_train, cv=5, scoring='r2').mean()))\n",
    "\n",
    "print(\"Cross validation mean MSE score using tuned_Tree2 is %s\" % (\n",
    "            -1 * cross_val_score(tuned_tree, X2_train, y2_train, cv=5, scoring='neg_mean_absolute_error').mean()))\n",
    "print(\"Cross validation mean R2 score using tuned_Tree2 is %s\" % (\n",
    "    cross_val_score(tuned_tree, X2_train, y2_train, cv=5, scoring='r2').mean()))"
   ],
   "metadata": {
    "collapsed": false,
    "pycharm": {
     "name": "#%%\n"
    }
   }
  },
  {
   "cell_type": "code",
   "execution_count": 13,
   "outputs": [],
   "source": [
    "from sklearn.svm import SVR\n",
    "from scipy.stats import uniform as sp_randFloat\n",
    "\n",
    "SVR_model = SVR()\n",
    "spaceSVR = {\n",
    "    'kernel' : ['linear', 'rbf'],\n",
    "    'C' : sp_randFloat(0,10),\n",
    "    'gamma' : [\"auto\", \"scale\"]\n",
    "}"
   ],
   "metadata": {
    "collapsed": false,
    "pycharm": {
     "name": "#%%\n"
    }
   }
  },
  {
   "cell_type": "code",
   "execution_count": 14,
   "outputs": [],
   "source": [
    "from sklearn.model_selection import RandomizedSearchCV\n",
    "\n",
    "SVRSearch = RandomizedSearchCV(SVR_model, spaceSVR, n_iter=500, scoring='neg_mean_absolute_error', cv=3, random_state=0, n_jobs=-1, verbose = 3)"
   ],
   "metadata": {
    "collapsed": false,
    "pycharm": {
     "name": "#%%\n"
    }
   }
  },
  {
   "cell_type": "code",
   "execution_count": 15,
   "outputs": [
    {
     "name": "stdout",
     "output_type": "stream",
     "text": [
      "Fitting 3 folds for each of 500 candidates, totalling 1500 fits\n",
      "Fitting 3 folds for each of 500 candidates, totalling 1500 fits\n",
      "Best Score TOT: -1.6684018846490292\n",
      "Best Hyperparameters TOT: {'C': 5.771402440203418, 'gamma': 'auto', 'kernel': 'rbf'}\n",
      "Best Score: -1.6684018846490292\n",
      "Best Hyperparameters: {'C': 5.771402440203418, 'gamma': 'auto', 'kernel': 'rbf'}\n"
     ]
    }
   ],
   "source": [
    "SVR_result_tot = SVRSearch.fit(X1_val, y1_val)\n",
    "SVR_result = SVRSearch.fit(X2_val, y2_val)\n",
    "\n",
    "print('Best Score TOT: %s' % SVR_result_tot.best_score_)\n",
    "print('Best Hyperparameters TOT: %s' % SVR_result_tot.best_params_)\n",
    "\n",
    "print('Best Score: %s' % SVR_result.best_score_)\n",
    "print('Best Hyperparameters: %s' % SVR_result.best_params_)"
   ],
   "metadata": {
    "collapsed": false,
    "pycharm": {
     "name": "#%%\n"
    }
   }
  },
  {
   "cell_type": "code",
   "execution_count": 16,
   "outputs": [],
   "source": [
    "tuned_SVR = SVR(kernel = 'rbf', C=5.7714, gamma = 'auto')"
   ],
   "metadata": {
    "collapsed": false,
    "pycharm": {
     "name": "#%%\n"
    }
   }
  },
  {
   "cell_type": "code",
   "execution_count": 17,
   "outputs": [
    {
     "name": "stdout",
     "output_type": "stream",
     "text": [
      "Residual sum of squares: 4.80\n",
      "Variance score: 0.38\n",
      "Residual sum of squares: 4.76\n",
      "Variance score: 0.39\n"
     ]
    }
   ],
   "source": [
    "tuned_SVR.fit(X1_train, y1_train)\n",
    "SVR_pred1 = tuned_SVR.predict(X1_test)\n",
    "\n",
    "print(\"Residual sum of squares: %.2f\" % np.mean((SVR_pred1 - y1_test) ** 2))\n",
    "print('Variance score: %.2f' % tuned_SVR.score(X1_test, y1_test))\n",
    "\n",
    "tuned_SVR.fit(X2_train, y2_train)\n",
    "SVR_pred2 = tuned_SVR.predict(X2_test)\n",
    "\n",
    "print(\"Residual sum of squares: %.2f\" % np.mean((SVR_pred2 - y2_test) ** 2))\n",
    "print('Variance score: %.2f' % tuned_SVR.score(X2_test, y2_test))"
   ],
   "metadata": {
    "collapsed": false,
    "pycharm": {
     "name": "#%%\n"
    }
   }
  },
  {
   "cell_type": "code",
   "execution_count": 18,
   "outputs": [
    {
     "name": "stdout",
     "output_type": "stream",
     "text": [
      "Cross validation mean MSE score using SVR1 is 1.5669730143614775\n",
      "Cross validation mean R2 score using SVR1 is 0.3834521488449492\n",
      "Cross validation mean MSE score using SVR2 is 1.5562976545921876\n",
      "Cross validation mean R2 score using SVR2 is 0.3889653345048186\n"
     ]
    }
   ],
   "source": [
    "print(\"Cross validation mean MSE score using SVR1 is %s\" % (\n",
    "            -1 * cross_val_score(tuned_SVR, X1_train, y1_train, cv=5, scoring='neg_mean_absolute_error').mean()))\n",
    "print(\"Cross validation mean R2 score using SVR1 is %s\" % (\n",
    "    cross_val_score(tuned_SVR, X1_train, y1_train, cv=5, scoring='r2').mean()))\n",
    "\n",
    "print(\"Cross validation mean MSE score using SVR2 is %s\" % (\n",
    "            -1 * cross_val_score(tuned_SVR, X2_train, y2_train, cv=5, scoring='neg_mean_absolute_error').mean()))\n",
    "print(\"Cross validation mean R2 score using SVR2 is %s\" % (\n",
    "    cross_val_score(tuned_SVR, X2_train, y2_train, cv=5, scoring='r2').mean()))"
   ],
   "metadata": {
    "collapsed": false,
    "pycharm": {
     "name": "#%%\n"
    }
   }
  },
  {
   "cell_type": "code",
   "execution_count": 30,
   "outputs": [],
   "source": [
    "from mlxtend.feature_selection import SequentialFeatureSelector as sfs\n",
    "from sklearn.linear_model import LinearRegression\n",
    "from sklearn.model_selection import train_test_split\n",
    "\n",
    "clf = LinearRegression()\n",
    "\n",
    "# Build step forward feature selection\n",
    "sfs1 = sfs(clf,k_features = \"best\",forward=True,floating=False, scoring='r2',cv=5)\n",
    "\n",
    "# Perform SFFS\n",
    "sfs1 = sfs1.fit(X2_train, y2_train)"
   ],
   "metadata": {
    "collapsed": false,
    "pycharm": {
     "name": "#%%\n"
    }
   }
  },
  {
   "cell_type": "code",
   "execution_count": 34,
   "outputs": [
    {
     "data": {
      "text/plain": "('0',\n '2',\n '3',\n '4',\n '5',\n '6',\n '7',\n '8',\n '9',\n '10',\n '11',\n '12',\n '13',\n '14',\n '16',\n '18',\n '19',\n '26',\n '27',\n '29',\n '30',\n '31',\n '33',\n '34',\n '35',\n '36')"
     },
     "execution_count": 34,
     "metadata": {},
     "output_type": "execute_result"
    }
   ],
   "source": [
    "sfs1.k_feature_names_"
   ],
   "metadata": {
    "collapsed": false,
    "pycharm": {
     "name": "#%%\n"
    }
   }
  },
  {
   "cell_type": "code",
   "execution_count": 37,
   "outputs": [
    {
     "data": {
      "text/plain": "0.25796329313589683"
     },
     "execution_count": 37,
     "metadata": {},
     "output_type": "execute_result"
    }
   ],
   "source": [
    "selected_features = X_scaler1[list(sfs1.k_feature_names_)]\n",
    "X_train_sf, X_test_sf, y_train_sf, y_test_sf = train_test_split(selected_features, y)\n",
    "sfs_model = LinearRegression().fit(X_train_sf, y_train_sf)\n",
    "sfs_model.score(X_test_sf, y_test_sf)"
   ],
   "metadata": {
    "collapsed": false,
    "pycharm": {
     "name": "#%%\n"
    }
   }
  },
  {
   "cell_type": "code",
   "execution_count": null,
   "outputs": [],
   "source": [],
   "metadata": {
    "collapsed": false,
    "pycharm": {
     "name": "#%%\n"
    }
   }
  },
  {
   "cell_type": "code",
   "execution_count": 39,
   "outputs": [],
   "source": [
    "from mlxtend.feature_selection import SequentialFeatureSelector as sfs\n",
    "from sklearn.linear_model import LinearRegression\n",
    "from sklearn.model_selection import train_test_split\n",
    "\n",
    "clf = LinearRegression()\n",
    "\n",
    "# Build step forward feature selection\n",
    "sfs2 = sfs(clf,k_features = \"best\",forward=True,floating=False, scoring='r2',cv=5)\n",
    "\n",
    "# Perform SFFS\n",
    "sfs2 = sfs2.fit(X1_train, y1_train)"
   ],
   "metadata": {
    "collapsed": false,
    "pycharm": {
     "name": "#%%\n"
    }
   }
  },
  {
   "cell_type": "code",
   "execution_count": 40,
   "outputs": [
    {
     "data": {
      "text/plain": "0.24318706534416012"
     },
     "execution_count": 40,
     "metadata": {},
     "output_type": "execute_result"
    }
   ],
   "source": [
    "selected_features = X_scaler_df_TOTdrop[list(sfs2.k_feature_names_)]\n",
    "X_train_sf, X_test_sf, y_train_sf, y_test_sf = train_test_split(selected_features, y)\n",
    "sfs_model = LinearRegression().fit(X_train_sf, y_train_sf)\n",
    "sfs_model.score(X_test_sf, y_test_sf)"
   ],
   "metadata": {
    "collapsed": false,
    "pycharm": {
     "name": "#%%\n"
    }
   }
  },
  {
   "cell_type": "code",
   "execution_count": 50,
   "outputs": [
    {
     "data": {
      "text/plain": "   TOT_APENR_M  TOT_APEXAM_NONE_M  TOT_ALGENR_GS0910_M  TOT_MATHENR_ALG2_M  \\\n0     0.756234          -0.058656            -0.163718           -0.078318   \n\n   TOT_MATHENR_CALC_M  TOT_DUAL_M  TOT_LEPENR_M  TOT_504ENR_M  \\\n0            0.461879    0.134065     -0.518511      0.316989   \n\n   TOT_DISCWODIS_EXPWE_M  TOT_DISCWODIS_EXPWOE_M  TOT_DISCWODIS_EXPZT_M  \\\n0               -0.18456               -0.110954               0.059249   \n\n   TOT_DISCWDIS_EXPWE_IDEA_F  TOT_DISCWDIS_EXPWOE_IDEA_F  TOT_GTENR_M  \\\n0                   0.006487                     0.09589     0.166095   \n\n   TOT_RET_G09_M  TOT_RET_G12_M  TOT_SATACT_M  TOT_SSSPORTS  TOT_SSPART  \\\n0       -0.48501      -0.138297     -0.168725       0.21374    0.309946   \n\n   TOT_DISCWDIS_TFRALT_IDEA_M  \n0                    0.098438  ",
      "text/html": "<div>\n<style scoped>\n    .dataframe tbody tr th:only-of-type {\n        vertical-align: middle;\n    }\n\n    .dataframe tbody tr th {\n        vertical-align: top;\n    }\n\n    .dataframe thead th {\n        text-align: right;\n    }\n</style>\n<table border=\"1\" class=\"dataframe\">\n  <thead>\n    <tr style=\"text-align: right;\">\n      <th></th>\n      <th>TOT_APENR_M</th>\n      <th>TOT_APEXAM_NONE_M</th>\n      <th>TOT_ALGENR_GS0910_M</th>\n      <th>TOT_MATHENR_ALG2_M</th>\n      <th>TOT_MATHENR_CALC_M</th>\n      <th>TOT_DUAL_M</th>\n      <th>TOT_LEPENR_M</th>\n      <th>TOT_504ENR_M</th>\n      <th>TOT_DISCWODIS_EXPWE_M</th>\n      <th>TOT_DISCWODIS_EXPWOE_M</th>\n      <th>TOT_DISCWODIS_EXPZT_M</th>\n      <th>TOT_DISCWDIS_EXPWE_IDEA_F</th>\n      <th>TOT_DISCWDIS_EXPWOE_IDEA_F</th>\n      <th>TOT_GTENR_M</th>\n      <th>TOT_RET_G09_M</th>\n      <th>TOT_RET_G12_M</th>\n      <th>TOT_SATACT_M</th>\n      <th>TOT_SSSPORTS</th>\n      <th>TOT_SSPART</th>\n      <th>TOT_DISCWDIS_TFRALT_IDEA_M</th>\n    </tr>\n  </thead>\n  <tbody>\n    <tr>\n      <th>0</th>\n      <td>0.756234</td>\n      <td>-0.058656</td>\n      <td>-0.163718</td>\n      <td>-0.078318</td>\n      <td>0.461879</td>\n      <td>0.134065</td>\n      <td>-0.518511</td>\n      <td>0.316989</td>\n      <td>-0.18456</td>\n      <td>-0.110954</td>\n      <td>0.059249</td>\n      <td>0.006487</td>\n      <td>0.09589</td>\n      <td>0.166095</td>\n      <td>-0.48501</td>\n      <td>-0.138297</td>\n      <td>-0.168725</td>\n      <td>0.21374</td>\n      <td>0.309946</td>\n      <td>0.098438</td>\n    </tr>\n  </tbody>\n</table>\n</div>"
     },
     "execution_count": 50,
     "metadata": {},
     "output_type": "execute_result"
    }
   ],
   "source": [
    "pd.DataFrame([sfs_model.coef_], columns=list(sfs2.k_feature_names_))"
   ],
   "metadata": {
    "collapsed": false,
    "pycharm": {
     "name": "#%%\n"
    }
   }
  },
  {
   "cell_type": "code",
   "execution_count": 45,
   "outputs": [
    {
     "data": {
      "text/plain": "('TOT_APENR_M',\n 'TOT_APEXAM_NONE_M',\n 'TOT_ALGENR_GS0910_M',\n 'TOT_MATHENR_ALG2_M',\n 'TOT_MATHENR_CALC_M',\n 'TOT_DUAL_M',\n 'TOT_LEPENR_M',\n 'TOT_504ENR_M',\n 'TOT_DISCWODIS_EXPWE_M',\n 'TOT_DISCWODIS_EXPWOE_M',\n 'TOT_DISCWODIS_EXPZT_M',\n 'TOT_DISCWDIS_EXPWE_IDEA_F',\n 'TOT_DISCWDIS_EXPWOE_IDEA_F',\n 'TOT_GTENR_M',\n 'TOT_RET_G09_M',\n 'TOT_RET_G12_M',\n 'TOT_SATACT_M',\n 'TOT_SSSPORTS',\n 'TOT_SSPART',\n 'TOT_DISCWDIS_TFRALT_IDEA_M')"
     },
     "execution_count": 45,
     "metadata": {},
     "output_type": "execute_result"
    }
   ],
   "source": [
    "sfs2.k_feature_names_"
   ],
   "metadata": {
    "collapsed": false,
    "pycharm": {
     "name": "#%%\n"
    }
   }
  },
  {
   "cell_type": "code",
   "execution_count": 1,
   "outputs": [
    {
     "ename": "NameError",
     "evalue": "name 'LinearRegression' is not defined",
     "output_type": "error",
     "traceback": [
      "\u001B[1;31m---------------------------------------------------------------------------\u001B[0m",
      "\u001B[1;31mNameError\u001B[0m                                 Traceback (most recent call last)",
      "Input \u001B[1;32mIn [1]\u001B[0m, in \u001B[0;36m<cell line: 1>\u001B[1;34m()\u001B[0m\n\u001B[1;32m----> 1\u001B[0m clf \u001B[38;5;241m=\u001B[39m \u001B[43mLinearRegression\u001B[49m()\n\u001B[0;32m      3\u001B[0m \u001B[38;5;66;03m# Build step forward feature selection\u001B[39;00m\n\u001B[0;32m      4\u001B[0m sfs3 \u001B[38;5;241m=\u001B[39m sfs(clf,k_features \u001B[38;5;241m=\u001B[39m \u001B[38;5;124m\"\u001B[39m\u001B[38;5;124mbest\u001B[39m\u001B[38;5;124m\"\u001B[39m,forward\u001B[38;5;241m=\u001B[39m\u001B[38;5;28;01mTrue\u001B[39;00m,floating\u001B[38;5;241m=\u001B[39m\u001B[38;5;28;01mFalse\u001B[39;00m, scoring\u001B[38;5;241m=\u001B[39m\u001B[38;5;124m'\u001B[39m\u001B[38;5;124mr2\u001B[39m\u001B[38;5;124m'\u001B[39m,cv\u001B[38;5;241m=\u001B[39m\u001B[38;5;241m5\u001B[39m)\n",
      "\u001B[1;31mNameError\u001B[0m: name 'LinearRegression' is not defined"
     ]
    }
   ],
   "source": [
    "clf = LinearRegression()\n",
    "\n",
    "# Build step forward feature selection\n",
    "sfs3 = sfs(clf,k_features = \"best\",forward=True,floating=False, scoring='r2',cv=5)\n",
    "X_train, X_test, y_train, y_test = train_test_split(high_schools.drop(['LEA_STATE_NAME','LEA_NAME','ACT'], axis=1), y)\n",
    "\n",
    "# Perform SFFS\n",
    "sfs2 = sfs3.fit(X_train, y_train)"
   ],
   "metadata": {
    "collapsed": false,
    "pycharm": {
     "name": "#%%\n"
    }
   }
  },
  {
   "cell_type": "code",
   "execution_count": null,
   "outputs": [],
   "source": [
    "selected_features = X_scaler_df_TOTdrop[list(sfs3.k_feature_names_)]\n",
    "X_train_sf, X_test_sf, y_train_sf, y_test_sf = train_test_split(selected_features, y)\n",
    "sfs_model = LinearRegression().fit(X_train_sf, y_train_sf)\n",
    "sfs_model.score(X_test_sf, y_test_sf)"
   ],
   "metadata": {
    "collapsed": false,
    "pycharm": {
     "name": "#%%\n"
    }
   }
  },
  {
   "cell_type": "code",
   "execution_count": null,
   "outputs": [],
   "source": [
    "pd.DataFrame([sfs_model.coef_], columns=list(sfs3.k_feature_names_))"
   ],
   "metadata": {
    "collapsed": false,
    "pycharm": {
     "name": "#%%\n"
    }
   }
  },
  {
   "cell_type": "code",
   "execution_count": null,
   "outputs": [],
   "source": [],
   "metadata": {
    "collapsed": false,
    "pycharm": {
     "name": "#%%\n"
    }
   }
  }
 ],
 "metadata": {
  "kernelspec": {
   "display_name": "Python 3",
   "language": "python",
   "name": "python3"
  },
  "language_info": {
   "codemirror_mode": {
    "name": "ipython",
    "version": 2
   },
   "file_extension": ".py",
   "mimetype": "text/x-python",
   "name": "python",
   "nbconvert_exporter": "python",
   "pygments_lexer": "ipython2",
   "version": "2.7.6"
  }
 },
 "nbformat": 4,
 "nbformat_minor": 0
}