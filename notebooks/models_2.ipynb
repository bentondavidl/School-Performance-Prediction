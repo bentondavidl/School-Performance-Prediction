{
 "cells": [
  {
   "cell_type": "code",
   "execution_count": null,
   "metadata": {
    "collapsed": true
   },
   "outputs": [],
   "source": [
    "import pandas as pd\n",
    "import numpy as np\n",
    "\n",
    "X_scaler_df_TOTdrop = pd.read_csv('../data/X_scaler_df_TOTdrop.csv')\n",
    "X_scaler1 = pd.read_csv('../data/X_scaler1.csv')\n",
    "high_schools = pd.read_csv('../data/high_schools.csv')"
   ]
  },
  {
   "cell_type": "code",
   "execution_count": null,
   "outputs": [],
   "source": [
    "X_scaler_df_TOTdrop = X_scaler_df_TOTdrop.iloc[:,:]\n",
    "X_scaler1 = X_scaler1.iloc[:,:]\n",
    "y = high_schools['ACT']"
   ],
   "metadata": {
    "collapsed": false,
    "pycharm": {
     "name": "#%%\n"
    }
   }
  },
  {
   "cell_type": "code",
   "execution_count": null,
   "outputs": [],
   "source": [
    "from sklearn.model_selection import train_test_split\n",
    "\n",
    "X1_train, X1_test, y1_train, y1_test = train_test_split(X_scaler_df_TOTdrop, y, test_size=.2, random_state=1)\n",
    "X1_train, X1_val, y1_train, y1_val = train_test_split(X1_train, y1_train, test_size=0.25, random_state=1)"
   ],
   "metadata": {
    "collapsed": false,
    "pycharm": {
     "name": "#%%\n"
    }
   }
  },
  {
   "cell_type": "code",
   "execution_count": null,
   "outputs": [],
   "source": [
    "X2_train, X2_test, y2_train, y2_test = train_test_split(X_scaler1, y, test_size=.2, random_state=1)\n",
    "X2_train, X2_val, y2_train, y2_val = train_test_split(X2_train, y2_train, test_size=0.25, random_state=1)"
   ],
   "metadata": {
    "collapsed": false,
    "pycharm": {
     "name": "#%%\n"
    }
   }
  },
  {
   "cell_type": "code",
   "execution_count": null,
   "outputs": [],
   "source": [
    "from sklearn.tree import DecisionTreeRegressor\n",
    "\n",
    "reg_tree = DecisionTreeRegressor()\n",
    "\n",
    "spaceTree={\"splitter\":[\"best\",\"random\"],\n",
    "            \"max_depth\" : [1,3,5,7,9,11,12],\n",
    "           \"min_samples_leaf\":[1,2,3,4,5,6,7,8,9,10],\n",
    "           \"min_weight_fraction_leaf\":[0.1,0.2,0.3,0.4,0.5,0.6,0.7,0.8,0.9],\n",
    "           \"max_features\":[\"auto\",\"log2\",\"sqrt\",None],\n",
    "           \"max_leaf_nodes\":[None,10,20,30,40,50,60,70,80,90] }"
   ],
   "metadata": {
    "collapsed": false,
    "pycharm": {
     "name": "#%%\n"
    }
   }
  },
  {
   "cell_type": "code",
   "execution_count": null,
   "outputs": [],
   "source": [
    "from sklearn.model_selection import GridSearchCV\n",
    "\n",
    "treeSearch = GridSearchCV(reg_tree, spaceTree, scoring='neg_mean_absolute_error', cv=5, n_jobs=-1, verbose=3)"
   ],
   "metadata": {
    "collapsed": false,
    "pycharm": {
     "name": "#%%\n"
    }
   }
  },
  {
   "cell_type": "code",
   "execution_count": null,
   "outputs": [],
   "source": [
    "treeResult_TOT = treeSearch.fit(X1_val, y1_val)\n",
    "treeResult = treeSearch.fit(X2_val, y2_val)\n",
    "\n",
    "print('Best Score TOT: %s' % treeResult_TOT.best_score_)\n",
    "print('Best Hyperparameters TOT: %s' % treeResult_TOT.best_params_)\n",
    "\n",
    "print('Best Score TOT: %s' % treeResult.best_score_)\n",
    "print('Best Hyperparameters TOT: %s' % treeResult.best_params_)"
   ],
   "metadata": {
    "collapsed": false,
    "pycharm": {
     "name": "#%%\n"
    }
   }
  },
  {
   "cell_type": "code",
   "execution_count": null,
   "outputs": [],
   "source": [
    "tuned_tree = DecisionTreeRegressor(max_depth=5, max_features='sqrt', max_leaf_nodes=90, min_samples_leaf=5, min_weight_fraction_leaf=0.1, splitter='best')\n",
    "\n",
    "tuned_tree.fit(X1_train, y1_train)\n",
    "tuned_tree_pred1 = tuned_tree.predict(X1_test)\n",
    "\n",
    "import matplotlib.pyplot as plt\n",
    "\n",
    "plt.scatter(y1_test, tuned_tree_pred1)"
   ],
   "metadata": {
    "collapsed": false,
    "pycharm": {
     "name": "#%%\n"
    }
   }
  },
  {
   "cell_type": "code",
   "execution_count": null,
   "outputs": [],
   "source": [
    "tuned_tree.fit(X2_train, y2_train)\n",
    "tuned_tree_pred2 = tuned_tree.predict(X2_test)\n",
    "\n",
    "plt.scatter(y2_test, tuned_tree_pred2)"
   ],
   "metadata": {
    "collapsed": false,
    "pycharm": {
     "name": "#%%\n"
    }
   }
  },
  {
   "cell_type": "code",
   "execution_count": null,
   "outputs": [],
   "source": [
    "from sklearn import metrics\n",
    "\n",
    "print(\"Residual sum of squares: %.2f\" % np.mean((tuned_tree_pred1 - y1_test) ** 2))\n",
    "print('R2:', metrics.r2_score(y1_test,tuned_tree_pred1))\n",
    "print('MAE:', metrics.mean_absolute_error(y1_test,tuned_tree_pred1))\n",
    "print('MSE:', metrics.mean_squared_error(y1_test, tuned_tree_pred1))\n",
    "print('RMSE:', np.sqrt(metrics.mean_squared_error(y1_test, tuned_tree_pred1)))"
   ],
   "metadata": {
    "collapsed": false,
    "pycharm": {
     "name": "#%%\n"
    }
   }
  },
  {
   "cell_type": "code",
   "execution_count": null,
   "outputs": [],
   "source": [
    "print(\"Residual sum of squares: %.2f\" % np.mean((tuned_tree_pred2 - y2_test) ** 2))\n",
    "print('R2:', metrics.r2_score(y2_test,tuned_tree_pred2))\n",
    "print('MAE:', metrics.mean_absolute_error(y2_test,tuned_tree_pred2))\n",
    "print('MSE:', metrics.mean_squared_error(y2_test, tuned_tree_pred2))\n",
    "print('RMSE:', np.sqrt(metrics.mean_squared_error(y2_test, tuned_tree_pred2)))"
   ],
   "metadata": {
    "collapsed": false,
    "pycharm": {
     "name": "#%%\n"
    }
   }
  },
  {
   "cell_type": "code",
   "execution_count": null,
   "outputs": [],
   "source": [
    "from sklearn.model_selection import cross_val_score\n",
    "\n",
    "print(\"Cross validation mean MSE score using tuned_Tree1 is %s\" % (\n",
    "            -1 * cross_val_score(tuned_tree, X1_train, y1_train, cv=5,scoring='neg_mean_absolute_error').mean()))\n",
    "print(\"Cross validation mean R2 score using tuned_Tree1 is %s\" % (\n",
    "    cross_val_score(tuned_tree, X1_train, y1_train, cv=5, scoring='r2').mean()))\n",
    "\n",
    "print(\"Cross validation mean MSE score using tuned_Tree2 is %s\" % (\n",
    "            -1 * cross_val_score(tuned_tree, X2_train, y2_train, cv=5, scoring='neg_mean_absolute_error').mean()))\n",
    "print(\"Cross validation mean R2 score using tuned_Tree2 is %s\" % (\n",
    "    cross_val_score(tuned_tree, X2_train, y2_train, cv=5, scoring='r2').mean()))"
   ],
   "metadata": {
    "collapsed": false,
    "pycharm": {
     "name": "#%%\n"
    }
   }
  },
  {
   "cell_type": "code",
   "execution_count": null,
   "outputs": [],
   "source": [
    "from sklearn.svm import SVR\n",
    "from scipy.stats import uniform as sp_randFloat\n",
    "\n",
    "SVR_model = SVR()\n",
    "spaceSVR = {\n",
    "    'kernel' : ['linear', 'rbf'],\n",
    "    'C' : sp_randFloat(0,10),\n",
    "    'gamma' : [\"auto\", \"scale\"]\n",
    "}"
   ],
   "metadata": {
    "collapsed": false,
    "pycharm": {
     "name": "#%%\n"
    }
   }
  },
  {
   "cell_type": "code",
   "execution_count": null,
   "outputs": [],
   "source": [
    "from sklearn.model_selection import RandomizedSearchCV\n",
    "\n",
    "SVRSearch = RandomizedSearchCV(SVR_model, spaceSVR, n_iter=500, scoring='neg_mean_absolute_error', cv=3, random_state=0, n_jobs=-1, verbose = 3)"
   ],
   "metadata": {
    "collapsed": false,
    "pycharm": {
     "name": "#%%\n"
    }
   }
  },
  {
   "cell_type": "code",
   "execution_count": null,
   "outputs": [],
   "source": [
    "SVR_result_tot = SVRSearch.fit(X1_val, y1_val)\n",
    "SVR_result = SVRSearch.fit(X2_val, y2_val)\n",
    "\n",
    "print('Best Score TOT: %s' % SVR_result_tot.best_score_)\n",
    "print('Best Hyperparameters TOT: %s' % SVR_result_tot.best_params_)\n",
    "\n",
    "print('Best Score: %s' % SVR_result.best_score_)\n",
    "print('Best Hyperparameters: %s' % SVR_result.best_params_)"
   ],
   "metadata": {
    "collapsed": false,
    "pycharm": {
     "name": "#%%\n"
    }
   }
  },
  {
   "cell_type": "code",
   "execution_count": null,
   "outputs": [],
   "source": [
    "tuned_SVR = SVR(kernel = 'rbf', C=5.7714, gamma = 'auto')"
   ],
   "metadata": {
    "collapsed": false,
    "pycharm": {
     "name": "#%%\n"
    }
   }
  },
  {
   "cell_type": "code",
   "execution_count": null,
   "outputs": [],
   "source": [
    "tuned_SVR.fit(X1_train, y1_train)\n",
    "SVR_pred1 = tuned_SVR.predict(X1_test)\n",
    "\n",
    "print(\"Residual sum of squares: %.2f\" % np.mean((SVR_pred1 - y1_test) ** 2))\n",
    "print('Variance score: %.2f' % tuned_SVR.score(X1_test, y1_test))\n",
    "\n",
    "tuned_SVR.fit(X2_train, y2_train)\n",
    "SVR_pred2 = tuned_SVR.predict(X2_test)\n",
    "\n",
    "print(\"Residual sum of squares: %.2f\" % np.mean((SVR_pred2 - y2_test) ** 2))\n",
    "print('Variance score: %.2f' % tuned_SVR.score(X2_test, y2_test))"
   ],
   "metadata": {
    "collapsed": false,
    "pycharm": {
     "name": "#%%\n"
    }
   }
  },
  {
   "cell_type": "code",
   "execution_count": null,
   "outputs": [],
   "source": [
    "print(\"Cross validation mean MSE score using SVR1 is %s\" % (\n",
    "            -1 * cross_val_score(tuned_SVR, X1_train, y1_train, cv=5, scoring='neg_mean_absolute_error').mean()))\n",
    "print(\"Cross validation mean R2 score using SVR1 is %s\" % (\n",
    "    cross_val_score(tuned_SVR, X1_train, y1_train, cv=5, scoring='r2').mean()))\n",
    "\n",
    "print(\"Cross validation mean MSE score using SVR2 is %s\" % (\n",
    "            -1 * cross_val_score(tuned_SVR, X2_train, y2_train, cv=5, scoring='neg_mean_absolute_error').mean()))\n",
    "print(\"Cross validation mean R2 score using SVR2 is %s\" % (\n",
    "    cross_val_score(tuned_SVR, X2_train, y2_train, cv=5, scoring='r2').mean()))"
   ],
   "metadata": {
    "collapsed": false,
    "pycharm": {
     "name": "#%%\n"
    }
   }
  }
 ],
 "metadata": {
  "kernelspec": {
   "display_name": "Python 3",
   "language": "python",
   "name": "python3"
  },
  "language_info": {
   "codemirror_mode": {
    "name": "ipython",
    "version": 2
   },
   "file_extension": ".py",
   "mimetype": "text/x-python",
   "name": "python",
   "nbconvert_exporter": "python",
   "pygments_lexer": "ipython2",
   "version": "2.7.6"
  }
 },
 "nbformat": 4,
 "nbformat_minor": 0
}