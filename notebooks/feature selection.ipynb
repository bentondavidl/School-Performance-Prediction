{
 "cells": [
  {
   "cell_type": "code",
   "execution_count": 1,
   "metadata": {
    "collapsed": false,
    "pycharm": {
     "name": "#%%\n"
    }
   },
   "outputs": [],
   "source": [
    "import pandas as pd\n",
    "import numpy as np"
   ]
  },
  {
   "cell_type": "code",
   "execution_count": 2,
   "metadata": {
    "collapsed": false,
    "pycharm": {
     "name": "#%%\n"
    }
   },
   "outputs": [
    {
     "name": "stderr",
     "output_type": "stream",
     "text": [
      "C:\\Users\\bento\\AppData\\Local\\Temp\\ipykernel_4412\\2844627415.py:1: DtypeWarning: Columns (804,805,1040,1041,1159,1160,1203) have mixed types. Specify dtype option on import or set low_memory=False.\n",
      "  high_schools = pd.read_csv('../data/full_highschool_data.csv')\n"
     ]
    }
   ],
   "source": [
    "high_schools = pd.read_csv('../data/full_highschool_data.csv')\n",
    "high_schools.dropna(subset=['ACT'], inplace=True)"
   ]
  },
  {
   "cell_type": "code",
   "execution_count": 3,
   "metadata": {
    "collapsed": true
   },
   "outputs": [
    {
     "data": {
      "text/plain": [
       "SCH_HBREPORTED_DIS_WH_F       1.0\n",
       "SCH_DISCWODIS_MULTOOS_AM_M    1.0\n",
       "SCH_DISCWODIS_MULTOOS_WH_F    1.0\n",
       "SCH_DISCWODIS_MULTOOS_WH_M    1.0\n",
       "SCH_DISCWODIS_MULTOOS_BL_F    1.0\n",
       "                             ... \n",
       "TOT_DISCWODIS_EXPZT_F         0.0\n",
       "TOT_DISCWODIS_EXPZT_M         0.0\n",
       "SCH_DISCWODIS_EXPZT_TR_F      0.0\n",
       "SCH_DISCWODIS_EXPZT_TR_M      0.0\n",
       "ACT                           0.0\n",
       "Length: 1397, dtype: float64"
      ]
     },
     "execution_count": 3,
     "metadata": {},
     "output_type": "execute_result"
    }
   ],
   "source": [
    "# sort columns by percentage NA\n",
    "(high_schools.isna().sum()/high_schools.shape[0]).sort_values(ascending=False)"
   ]
  },
  {
   "cell_type": "code",
   "execution_count": 4,
   "metadata": {
    "collapsed": false,
    "pycharm": {
     "name": "#%%\n"
    }
   },
   "outputs": [
    {
     "data": {
      "text/plain": [
       "(6918, 914)"
      ]
     },
     "execution_count": 4,
     "metadata": {},
     "output_type": "execute_result"
    }
   ],
   "source": [
    "# drop columns with no data\n",
    "high_schools = high_schools.dropna(axis=1, how='all')\n",
    "high_schools.shape"
   ]
  },
  {
   "cell_type": "code",
   "execution_count": 5,
   "metadata": {
    "collapsed": false,
    "pycharm": {
     "name": "#%%\n"
    }
   },
   "outputs": [],
   "source": [
    "# fill in values for missing indicators\n",
    "high_schools['SCH_FIREARM_IND'].fillna(False, inplace=True)\n",
    "high_schools['SCH_HOMICIDE_IND'].fillna(False, inplace=True)\n",
    "high_schools['SCH_RET_G09_IND'].fillna(False, inplace=True)\n",
    "high_schools['SCH_RET_G10_IND'].fillna(False, inplace=True)\n",
    "high_schools['SCH_RET_G11_IND'].fillna(False, inplace=True)\n",
    "high_schools['SCH_SSCLASSES_IND'].fillna(False, inplace=True)\n",
    "high_schools['SCH_APSEL'].fillna(False, inplace=True)\n",
    "high_schools['SCH_APMATHENR_IND'].fillna(False, inplace=True)\n",
    "high_schools['SCH_APSCIENR_IND'].fillna(False, inplace=True)\n",
    "high_schools['SCH_APOTHENR_IND'].fillna(False, inplace=True)"
   ]
  },
  {
   "cell_type": "code",
   "execution_count": 6,
   "metadata": {
    "collapsed": false,
    "pycharm": {
     "name": "#%%\n"
    }
   },
   "outputs": [],
   "source": [
    "# fix enrolment for special cases\n",
    "high_schools[~high_schools['SCH_APENR_IND']].filter(regex=r'.*_AP.*',axis=1).fillna(0, inplace=True)\n",
    "high_schools[~high_schools['SCH_CORPINSTANCES_IND']].filter(regex=r'.*_(DISCWO?DIS|CORPINSTANCES).*',axis=1).fillna(0, inplace=True)\n",
    "high_schools[~high_schools['SCH_CREDITRECOVERY_IND']].filter(regex=r'.*_CREDITRECOVERY.*',axis=1).fillna(0, inplace=True)\n",
    "high_schools[~high_schools['SCH_DUAL_IND']].filter(regex=r'.*_DUAL.*',axis=1).fillna(0, inplace=True)\n",
    "high_schools[~high_schools['SCH_GT_IND']].filter(regex=r'.*_GTENR.*',axis=1).fillna(0, inplace=True)\n",
    "high_schools[~high_schools['SCH_IBENR_IND']].filter(regex=r'.*_IB.*',axis=1).fillna(0, inplace=True)\n",
    "high_schools[~high_schools['SCH_SSCLASSES_IND']].filter(regex=r'.*_SSCLASSES.*',axis=1).fillna(0, inplace=True)\n",
    "high_schools[~high_schools['SCH_SSATHLETICS_IND']].filter(regex=r'.*_SS(SPORTS|TEAMS|PART).*',axis=1).fillna(0, inplace=True)"
   ]
  },
  {
   "cell_type": "code",
   "execution_count": 7,
   "metadata": {
    "collapsed": false,
    "pycharm": {
     "name": "#%%\n"
    }
   },
   "outputs": [
    {
     "data": {
      "text/plain": [
       "(6918, 837)"
      ]
     },
     "execution_count": 7,
     "metadata": {},
     "output_type": "execute_result"
    }
   ],
   "source": [
    "# drop columns with more than 60% na vals\n",
    "high_schools = high_schools.dropna(axis=1, thresh=int(high_schools.shape[0]*(1-.6)))\n",
    "high_schools.shape"
   ]
  },
  {
   "cell_type": "code",
   "execution_count": 8,
   "metadata": {
    "collapsed": false,
    "pycharm": {
     "name": "#%%\n"
    }
   },
   "outputs": [],
   "source": [
    "# mark state and district name as a categorical variable\n",
    "from sklearn.preprocessing import OrdinalEncoder\n",
    "high_schools['LEA_STATE_NAME'] = OrdinalEncoder().fit_transform(high_schools['LEA_STATE_NAME'].to_numpy().reshape(-1,1))\n",
    "high_schools['LEA_NAME'] = OrdinalEncoder().fit_transform(high_schools['LEA_NAME'].to_numpy().reshape(-1,1))"
   ]
  },
  {
   "cell_type": "code",
   "execution_count": 9,
   "metadata": {
    "collapsed": false,
    "pycharm": {
     "name": "#%%\n"
    }
   },
   "outputs": [],
   "source": [
    "g = high_schools.columns.to_series().groupby(high_schools.dtypes).groups\n",
    "high_schools = high_schools.loc[:,~high_schools.columns.isin({k.name: v for k, v in g.items()}['object'])]\n",
    "X = high_schools.iloc[:,:-1]\n",
    "X.drop(['LEAID','LEA_NAME','SCHID','COMBOKEY'], axis=1, inplace=True)\n",
    "y = high_schools['ACT']"
   ]
  },
  {
   "cell_type": "code",
   "execution_count": 10,
   "metadata": {
    "collapsed": false,
    "pycharm": {
     "name": "#%%\n"
    }
   },
   "outputs": [],
   "source": [
    "from sklearn.preprocessing import StandardScaler\n",
    "scaler = StandardScaler()\n",
    "X = scaler.fit_transform(X)"
   ]
  },
  {
   "cell_type": "code",
   "execution_count": 11,
   "metadata": {
    "collapsed": false,
    "pycharm": {
     "name": "#%%\n"
    }
   },
   "outputs": [],
   "source": [
    "from sklearn.impute import KNNImputer\n",
    "X_np = KNNImputer().fit_transform(X)\n",
    "X = pd.DataFrame(X_np, columns=high_schools.drop(['LEAID','LEA_NAME','SCHID','COMBOKEY'], axis=1).iloc[:,:-1].columns)"
   ]
  },
  {
   "cell_type": "code",
   "execution_count": 12,
   "metadata": {
    "collapsed": false,
    "pycharm": {
     "name": "#%%\n"
    }
   },
   "outputs": [],
   "source": [
    "# replace missing data with either mean or median depending on skewness\n",
    "# from scipy.stats import skew\n",
    "#\n",
    "# for i, col in enumerate(high_schools.columns):\n",
    "#     if high_schools[col].dtype == object:\n",
    "#         continue\n",
    "#     sk = skew(high_schools[col], nan_policy='omit')\n",
    "#     if abs(sk) > 1:\n",
    "#         high_schools[col].fillna(high_schools[col].median(), inplace=True)\n",
    "#     else:\n",
    "#         high_schools[col].fillna(high_schools[col].mean(), inplace=True)"
   ]
  },
  {
   "cell_type": "code",
   "execution_count": 13,
   "metadata": {
    "collapsed": false,
    "pycharm": {
     "name": "#%%\n"
    }
   },
   "outputs": [
    {
     "data": {
      "text/plain": [
       "LEA_STATE_NAME                0\n",
       "SCH_MATHCLASSES_ADVM          0\n",
       "SCH_MATHCERT_ADVM             0\n",
       "SCH_MATHENR_ADVM_HI_M         0\n",
       "SCH_MATHENR_ADVM_HI_F         0\n",
       "                             ..\n",
       "TOT_DISCWDIS_TFRALT_IDEA_F    0\n",
       "SCH_DISCWDIS_TFRALT_LEP_M     0\n",
       "SCH_DISCWDIS_TFRALT_LEP_F     0\n",
       "SCH_DISCWDIS_TFRALT_504_M     0\n",
       "SCH_DISCWDIS_TFRALT_504_F     0\n",
       "Length: 830, dtype: int64"
      ]
     },
     "execution_count": 13,
     "metadata": {},
     "output_type": "execute_result"
    }
   ],
   "source": [
    "X.isna().sum()"
   ]
  },
  {
   "cell_type": "code",
   "execution_count": 14,
   "metadata": {
    "collapsed": false,
    "pycharm": {
     "name": "#%%\n"
    }
   },
   "outputs": [],
   "source": [
    "X.to_csv('../data/processed_data.csv')"
   ]
  },
  {
   "cell_type": "code",
   "execution_count": 15,
   "metadata": {
    "collapsed": false,
    "pycharm": {
     "name": "#%%\n"
    }
   },
   "outputs": [],
   "source": [
    "X_all_tot = X.filter(regex=r'^TOT')"
   ]
  },
  {
   "cell_type": "code",
   "execution_count": 16,
   "metadata": {
    "collapsed": false,
    "pycharm": {
     "name": "#%%\n"
    }
   },
   "outputs": [
    {
     "data": {
      "image/png": "[encoded data removed]",
      "text/plain": [
       "<Figure size 432x288 with 1 Axes>"
      ]
     },
     "metadata": {
      "needs_background": "light"
     },
     "output_type": "display_data"
    }
   ],
   "source": [
    "from sklearn.cluster import KMeans\n",
    "from sklearn.metrics import silhouette_score\n",
    "import matplotlib.pyplot as plt\n",
    "\n",
    "for k in range(2,15):\n",
    "    km = KMeans(n_clusters=k).fit(X_all_tot)\n",
    "    # score = silhouette_score(X, km.labels_)\n",
    "    plt.scatter(k, km.inertia_)"
   ]
  },
  {
   "cell_type": "code",
   "execution_count": 17,
   "metadata": {
    "collapsed": false,
    "pycharm": {
     "name": "#%%\n"
    }
   },
   "outputs": [],
   "source": [
    "km = KMeans(n_clusters=5).fit(X_all_tot)"
   ]
  },
  {
   "cell_type": "code",
   "execution_count": 18,
   "metadata": {
    "collapsed": false,
    "pycharm": {
     "name": "#%%\n"
    }
   },
   "outputs": [
    {
     "data": {
      "text/plain": [
       "( 0.885209    280\n",
       "  1.303836    258\n",
       " -0.370670    181\n",
       " -1.417236    159\n",
       "  0.257269    158\n",
       " -1.626549    144\n",
       " -0.789297    110\n",
       " -1.835863     99\n",
       "  0.675896     86\n",
       "  0.466583     78\n",
       " -1.207923     64\n",
       " -0.998610     56\n",
       "  1.094522     53\n",
       "  0.047956     41\n",
       " -0.579983     22\n",
       "  1.513149     10\n",
       " -0.161357      9\n",
       " Name: LEA_STATE_NAME, dtype: int64,\n",
       "  0.885209    908\n",
       " -0.789297    426\n",
       "  1.303836    384\n",
       " -0.370670    377\n",
       "  0.047956    346\n",
       " -1.207923    234\n",
       " -1.835863    231\n",
       "  0.675896    230\n",
       " -0.579983    210\n",
       "  0.257269    169\n",
       " -0.998610    140\n",
       " -1.417236    133\n",
       "  0.466583    120\n",
       "  1.094522    100\n",
       " -0.161357     79\n",
       " -1.626549     71\n",
       "  1.513149     60\n",
       " Name: LEA_STATE_NAME, dtype: int64,\n",
       "  0.885209    347\n",
       " -1.626549     68\n",
       " -1.417236     51\n",
       "  0.257269     28\n",
       " -1.835863     25\n",
       " -0.370670     24\n",
       "  1.094522     20\n",
       " -0.998610     18\n",
       "  0.466583     17\n",
       "  1.303836     16\n",
       "  0.047956     15\n",
       "  0.675896      8\n",
       " -0.789297      6\n",
       " -0.579983      6\n",
       " -1.207923      1\n",
       " Name: LEA_STATE_NAME, dtype: int64,\n",
       "  0.257269    9\n",
       "  1.303836    5\n",
       "  0.885209    3\n",
       "  0.466583    1\n",
       " -0.998610    1\n",
       "  0.675896    1\n",
       "  1.094522    1\n",
       " Name: LEA_STATE_NAME, dtype: int64,\n",
       "  0.885209    67\n",
       "  0.675896    59\n",
       " -1.417236    41\n",
       " -1.207923    20\n",
       "  0.466583    10\n",
       " -0.789297     6\n",
       " -0.579983     5\n",
       "  0.257269     4\n",
       "  1.094522     4\n",
       " -1.626549     3\n",
       " -0.370670     1\n",
       "  0.047956     1\n",
       " Name: LEA_STATE_NAME, dtype: int64)"
      ]
     },
     "execution_count": 18,
     "metadata": {},
     "output_type": "execute_result"
    }
   ],
   "source": [
    "X[km.labels_==0]['LEA_STATE_NAME'].value_counts(),X[km.labels_==1]['LEA_STATE_NAME'].value_counts(),X[km.labels_==2]['LEA_STATE_NAME'].value_counts(),X[km.labels_==3]['LEA_STATE_NAME'].value_counts(),X[km.labels_==4]['LEA_STATE_NAME'].value_counts()"
   ]
  },
  {
   "cell_type": "code",
   "execution_count": 21,
   "metadata": {
    "collapsed": false,
    "pycharm": {
     "name": "#%%\n"
    }
   },
   "outputs": [
    {
     "data": {
      "text/plain": [
       "0.31525156138284427"
      ]
     },
     "execution_count": 21,
     "metadata": {},
     "output_type": "execute_result"
    }
   ],
   "source": [
    "from sklearn.linear_model import LinearRegression\n",
    "lr = LinearRegression().fit(X_all_tot,y)\n",
    "score = lr.score(X_all_tot,y)\n",
    "score"
   ]
  },
  {
   "cell_type": "code",
   "execution_count": 22,
   "metadata": {
    "collapsed": false,
    "pycharm": {
     "name": "#%%\n"
    }
   },
   "outputs": [
    {
     "data": {
      "text/html": [
       "<div>\n",
       "<style scoped>\n",
       "    .dataframe tbody tr th:only-of-type {\n",
       "        vertical-align: middle;\n",
       "    }\n",
       "\n",
       "    .dataframe tbody tr th {\n",
       "        vertical-align: top;\n",
       "    }\n",
       "\n",
       "    .dataframe thead th {\n",
       "        text-align: right;\n",
       "    }\n",
       "</style>\n",
       "<table border=\"1\" class=\"dataframe\">\n",
       "  <thead>\n",
       "    <tr style=\"text-align: right;\">\n",
       "      <th></th>\n",
       "      <th>Column Finder</th>\n",
       "      <th>Field Name</th>\n",
       "      <th>Field Description</th>\n",
       "    </tr>\n",
       "  </thead>\n",
       "  <tbody>\n",
       "    <tr>\n",
       "      <th>0</th>\n",
       "      <td>A</td>\n",
       "      <td>LEA_STATE</td>\n",
       "      <td>State Abbreviation</td>\n",
       "    </tr>\n",
       "    <tr>\n",
       "      <th>1</th>\n",
       "      <td>B</td>\n",
       "      <td>LEA_STATE_NAME</td>\n",
       "      <td>State Name</td>\n",
       "    </tr>\n",
       "    <tr>\n",
       "      <th>2</th>\n",
       "      <td>C</td>\n",
       "      <td>LEAID</td>\n",
       "      <td>7 Digit LEAID District Identification Code</td>\n",
       "    </tr>\n",
       "    <tr>\n",
       "      <th>3</th>\n",
       "      <td>D</td>\n",
       "      <td>LEA_NAME</td>\n",
       "      <td>District Name</td>\n",
       "    </tr>\n",
       "    <tr>\n",
       "      <th>4</th>\n",
       "      <td>E</td>\n",
       "      <td>LEA_ADDRESS</td>\n",
       "      <td>District Address</td>\n",
       "    </tr>\n",
       "    <tr>\n",
       "      <th>5</th>\n",
       "      <td>F</td>\n",
       "      <td>LEA_CITY</td>\n",
       "      <td>District City</td>\n",
       "    </tr>\n",
       "    <tr>\n",
       "      <th>6</th>\n",
       "      <td>G</td>\n",
       "      <td>LEA_ZIP</td>\n",
       "      <td>District Zip code</td>\n",
       "    </tr>\n",
       "    <tr>\n",
       "      <th>7</th>\n",
       "      <td>H</td>\n",
       "      <td>CJJ</td>\n",
       "      <td>Juvenile Justice Facility (LEA): \"Yes\" indicat...</td>\n",
       "    </tr>\n",
       "    <tr>\n",
       "      <th>8</th>\n",
       "      <td>I</td>\n",
       "      <td>LEA_DISTED_IND</td>\n",
       "      <td>Distance Education Enrollment Indicator (LEA):...</td>\n",
       "    </tr>\n",
       "    <tr>\n",
       "      <th>9</th>\n",
       "      <td>J</td>\n",
       "      <td>LEA_DISTEDENR_HI_M</td>\n",
       "      <td>Distance Education Enrollment (LEA):  Hispanic...</td>\n",
       "    </tr>\n",
       "    <tr>\n",
       "      <th>10</th>\n",
       "      <td>K</td>\n",
       "      <td>LEA_DISTEDENR_HI_F</td>\n",
       "      <td>Distance Education Enrollment (LEA):  Hispanic...</td>\n",
       "    </tr>\n",
       "    <tr>\n",
       "      <th>11</th>\n",
       "      <td>L</td>\n",
       "      <td>LEA_DISTEDENR_AM_M</td>\n",
       "      <td>Distance Education Enrollment (LEA):  American...</td>\n",
       "    </tr>\n",
       "    <tr>\n",
       "      <th>12</th>\n",
       "      <td>M</td>\n",
       "      <td>LEA_DISTEDENR_AM_F</td>\n",
       "      <td>Distance Education Enrollment (LEA):  American...</td>\n",
       "    </tr>\n",
       "    <tr>\n",
       "      <th>13</th>\n",
       "      <td>N</td>\n",
       "      <td>LEA_DISTEDENR_AS_M</td>\n",
       "      <td>Distance Education Enrollment (LEA):  Asian Male</td>\n",
       "    </tr>\n",
       "    <tr>\n",
       "      <th>14</th>\n",
       "      <td>O</td>\n",
       "      <td>LEA_DISTEDENR_AS_F</td>\n",
       "      <td>Distance Education Enrollment (LEA):  Asian Fe...</td>\n",
       "    </tr>\n",
       "    <tr>\n",
       "      <th>15</th>\n",
       "      <td>P</td>\n",
       "      <td>LEA_DISTEDENR_HP_M</td>\n",
       "      <td>Distance Education Enrollment (LEA):  Native H...</td>\n",
       "    </tr>\n",
       "    <tr>\n",
       "      <th>16</th>\n",
       "      <td>Q</td>\n",
       "      <td>LEA_DISTEDENR_HP_F</td>\n",
       "      <td>Distance Education Enrollment (LEA):  Native H...</td>\n",
       "    </tr>\n",
       "    <tr>\n",
       "      <th>17</th>\n",
       "      <td>R</td>\n",
       "      <td>LEA_DISTEDENR_BL_M</td>\n",
       "      <td>Distance Education Enrollment (LEA):  Black Male</td>\n",
       "    </tr>\n",
       "    <tr>\n",
       "      <th>18</th>\n",
       "      <td>S</td>\n",
       "      <td>LEA_DISTEDENR_BL_F</td>\n",
       "      <td>Distance Education Enrollment (LEA):  Black Fe...</td>\n",
       "    </tr>\n",
       "    <tr>\n",
       "      <th>19</th>\n",
       "      <td>T</td>\n",
       "      <td>LEA_DISTEDENR_WH_M</td>\n",
       "      <td>Distance Education Enrollment (LEA):  White Male</td>\n",
       "    </tr>\n",
       "    <tr>\n",
       "      <th>20</th>\n",
       "      <td>U</td>\n",
       "      <td>LEA_DISTEDENR_WH_F</td>\n",
       "      <td>Distance Education Enrollment (LEA):  White Fe...</td>\n",
       "    </tr>\n",
       "    <tr>\n",
       "      <th>21</th>\n",
       "      <td>V</td>\n",
       "      <td>LEA_DISTEDENR_TR_M</td>\n",
       "      <td>Distance Education Enrollment (LEA):  Two or M...</td>\n",
       "    </tr>\n",
       "    <tr>\n",
       "      <th>22</th>\n",
       "      <td>W</td>\n",
       "      <td>LEA_DISTEDENR_TR_F</td>\n",
       "      <td>Distance Education Enrollment (LEA):  Two or M...</td>\n",
       "    </tr>\n",
       "    <tr>\n",
       "      <th>23</th>\n",
       "      <td>X</td>\n",
       "      <td>TOT_DISTEDENR_M</td>\n",
       "      <td>Distance Education Enrollment (LEA):  Calculat...</td>\n",
       "    </tr>\n",
       "    <tr>\n",
       "      <th>24</th>\n",
       "      <td>Y</td>\n",
       "      <td>TOT_DISTEDENR_F</td>\n",
       "      <td>Distance Education Enrollment (LEA):  Calculat...</td>\n",
       "    </tr>\n",
       "    <tr>\n",
       "      <th>25</th>\n",
       "      <td>Z</td>\n",
       "      <td>LEA_DISTEDENR_LEP_M</td>\n",
       "      <td>Distance Education Enrollment (LEA):  LEP Male</td>\n",
       "    </tr>\n",
       "    <tr>\n",
       "      <th>26</th>\n",
       "      <td>AA</td>\n",
       "      <td>LEA_DISTEDENR_LEP_F</td>\n",
       "      <td>Distance Education Enrollment (LEA):  LEP Female</td>\n",
       "    </tr>\n",
       "    <tr>\n",
       "      <th>27</th>\n",
       "      <td>AB</td>\n",
       "      <td>LEA_DISTEDENR_IDEA_M</td>\n",
       "      <td>Distance Education Enrollment (LEA):  IDEA Male</td>\n",
       "    </tr>\n",
       "    <tr>\n",
       "      <th>28</th>\n",
       "      <td>AC</td>\n",
       "      <td>LEA_DISTEDENR_IDEA_F</td>\n",
       "      <td>Distance Education Enrollment (LEA):  IDEA Fem...</td>\n",
       "    </tr>\n",
       "  </tbody>\n",
       "</table>\n",
       "</div>"
      ],
      "text/plain": [
       "   Column Finder            Field Name  \\\n",
       "0              A             LEA_STATE   \n",
       "1              B        LEA_STATE_NAME   \n",
       "2              C                 LEAID   \n",
       "3              D              LEA_NAME   \n",
       "4              E           LEA_ADDRESS   \n",
       "5              F              LEA_CITY   \n",
       "6              G               LEA_ZIP   \n",
       "7              H                   CJJ   \n",
       "8              I        LEA_DISTED_IND   \n",
       "9              J    LEA_DISTEDENR_HI_M   \n",
       "10             K    LEA_DISTEDENR_HI_F   \n",
       "11             L    LEA_DISTEDENR_AM_M   \n",
       "12             M    LEA_DISTEDENR_AM_F   \n",
       "13             N    LEA_DISTEDENR_AS_M   \n",
       "14             O    LEA_DISTEDENR_AS_F   \n",
       "15             P    LEA_DISTEDENR_HP_M   \n",
       "16             Q    LEA_DISTEDENR_HP_F   \n",
       "17             R    LEA_DISTEDENR_BL_M   \n",
       "18             S    LEA_DISTEDENR_BL_F   \n",
       "19             T    LEA_DISTEDENR_WH_M   \n",
       "20             U    LEA_DISTEDENR_WH_F   \n",
       "21             V    LEA_DISTEDENR_TR_M   \n",
       "22             W    LEA_DISTEDENR_TR_F   \n",
       "23             X       TOT_DISTEDENR_M   \n",
       "24             Y       TOT_DISTEDENR_F   \n",
       "25             Z   LEA_DISTEDENR_LEP_M   \n",
       "26            AA   LEA_DISTEDENR_LEP_F   \n",
       "27            AB  LEA_DISTEDENR_IDEA_M   \n",
       "28            AC  LEA_DISTEDENR_IDEA_F   \n",
       "\n",
       "                                    Field Description  \n",
       "0                                  State Abbreviation  \n",
       "1                                          State Name  \n",
       "2          7 Digit LEAID District Identification Code  \n",
       "3                                       District Name  \n",
       "4                                    District Address  \n",
       "5                                       District City  \n",
       "6                                   District Zip code  \n",
       "7   Juvenile Justice Facility (LEA): \"Yes\" indicat...  \n",
       "8   Distance Education Enrollment Indicator (LEA):...  \n",
       "9   Distance Education Enrollment (LEA):  Hispanic...  \n",
       "10  Distance Education Enrollment (LEA):  Hispanic...  \n",
       "11  Distance Education Enrollment (LEA):  American...  \n",
       "12  Distance Education Enrollment (LEA):  American...  \n",
       "13  Distance Education Enrollment (LEA):  Asian Male   \n",
       "14  Distance Education Enrollment (LEA):  Asian Fe...  \n",
       "15  Distance Education Enrollment (LEA):  Native H...  \n",
       "16  Distance Education Enrollment (LEA):  Native H...  \n",
       "17  Distance Education Enrollment (LEA):  Black Male   \n",
       "18  Distance Education Enrollment (LEA):  Black Fe...  \n",
       "19  Distance Education Enrollment (LEA):  White Male   \n",
       "20  Distance Education Enrollment (LEA):  White Fe...  \n",
       "21  Distance Education Enrollment (LEA):  Two or M...  \n",
       "22  Distance Education Enrollment (LEA):  Two or M...  \n",
       "23  Distance Education Enrollment (LEA):  Calculat...  \n",
       "24  Distance Education Enrollment (LEA):  Calculat...  \n",
       "25    Distance Education Enrollment (LEA):  LEP Male   \n",
       "26  Distance Education Enrollment (LEA):  LEP Female   \n",
       "27   Distance Education Enrollment (LEA):  IDEA Male   \n",
       "28  Distance Education Enrollment (LEA):  IDEA Fem...  "
      ]
     },
     "execution_count": 22,
     "metadata": {},
     "output_type": "execute_result"
    }
   ],
   "source": [
    "col_groups= pd.read_excel('../data/2017-18-crdc-data/Documentation/2017-18 CRDC File Structure.xlsx', sheet_name=None)\n",
    "col_groups.pop('LEA Characteristics')\n",
    "col_groups.pop('High School Equivalency (GED)')\n",
    "col_groups.pop('Distance Education')"
   ]
  },
  {
   "cell_type": "code",
   "execution_count": 23,
   "metadata": {
    "collapsed": false,
    "pycharm": {
     "name": "#%%\n"
    }
   },
   "outputs": [],
   "source": [
    "from sklearn.decomposition import PCA\n",
    "X_components = np.empty((len(col_groups),X.shape[1]))\n",
    "means = []\n",
    "for i, (name, group) in enumerate(col_groups.items()):\n",
    "    # full_component = np.empty(X.shape[1])\n",
    "    subset = np.intersect1d(group['Field Name'].iloc[8:], X.columns)\n",
    "    if len(subset) == 0:\n",
    "        continue\n",
    "    pca = PCA(1).fit(X[subset])\n",
    "    component = pca.components_\n",
    "    means+=list(pca.mean_)\n",
    "    X_components[i, list(map(lambda x: X.columns.get_loc(x), subset))] = component"
   ]
  },
  {
   "cell_type": "code",
   "execution_count": 24,
   "metadata": {
    "collapsed": false,
    "pycharm": {
     "name": "#%%\n"
    }
   },
   "outputs": [],
   "source": [
    "# manually transform principle components\n",
    "X_reduced = np.dot(X-X.mean(),X_components.T)[:,1:]"
   ]
  },
  {
   "cell_type": "code",
   "execution_count": 25,
   "metadata": {
    "collapsed": false,
    "pycharm": {
     "name": "#%%\n"
    }
   },
   "outputs": [
    {
     "name": "stdout",
     "output_type": "stream",
     "text": [
      "i=2, score=0.5280360492675628\n",
      "i=3, score=0.4255924171583927\n",
      "i=4, score=0.33484176356790785\n",
      "i=5, score=0.3355849264184622\n",
      "i=6, score=0.336290660490012\n",
      "i=7, score=0.34083774800131234\n",
      "i=8, score=0.3297205684863202\n",
      "i=9, score=0.3353080158072862\n",
      "i=10, score=0.27252933899975973\n",
      "i=11, score=0.2582846607971323\n",
      "i=12, score=0.25591638512624443\n",
      "i=13, score=0.2538598710103249\n",
      "i=14, score=0.2048183163818312\n",
      "i=15, score=0.22953236798664486\n",
      "i=16, score=0.23113364804392944\n",
      "i=17, score=0.22601754328006424\n",
      "i=18, score=0.2242248867213759\n",
      "i=19, score=0.23226237944787342\n",
      "i=20, score=0.159098351536434\n",
      "i=21, score=0.1504781281186641\n",
      "i=22, score=0.1575460521001329\n",
      "i=23, score=0.1862894993164658\n",
      "i=24, score=0.14727515549133136\n",
      "i=25, score=0.15897332501241812\n",
      "i=26, score=0.15149625526509136\n",
      "i=27, score=0.14117045441068535\n",
      "i=28, score=0.14790482770051525\n",
      "i=29, score=0.10215127918190381\n",
      "i=30, score=0.17363014301401394\n",
      "i=31, score=0.16323971695221245\n",
      "i=32, score=0.14585393723051468\n",
      "i=33, score=0.16546376898318796\n",
      "i=34, score=0.15750707213970985\n",
      "i=35, score=0.1504785667166277\n",
      "i=36, score=0.15298764015522429\n",
      "i=37, score=0.13425494728439394\n",
      "i=38, score=0.16005635662750411\n",
      "i=39, score=0.15875407701199054\n",
      "i=40, score=0.15657597858570613\n",
      "i=41, score=0.14281952858165836\n",
      "i=42, score=0.15787341458857002\n",
      "i=43, score=0.16480576987485523\n",
      "i=44, score=0.14740790423683725\n",
      "i=45, score=0.12969396974086603\n",
      "i=46, score=0.16097278506073104\n",
      "i=47, score=0.14964864716914633\n",
      "i=48, score=0.12148467791714543\n",
      "i=49, score=0.1408590314499152\n"
     ]
    },
    {
     "data": {
      "image/png": "[encoded data removed]",
      "text/plain": [
       "<Figure size 432x288 with 1 Axes>"
      ]
     },
     "metadata": {
      "needs_background": "light"
     },
     "output_type": "display_data"
    }
   ],
   "source": [
    "from sklearn.metrics import silhouette_score\n",
    "wcss = []\n",
    "\n",
    "for i in range(2,50):\n",
    "    km = KMeans(i, random_state=0)\n",
    "    km.fit(X_reduced)\n",
    "    wcss.append(km.inertia_)\n",
    "    score = silhouette_score(X_reduced, km.labels_, metric='euclidean')\n",
    "    plt.scatter(i, score)\n",
    "    print(f'{i=}, {score=}')"
   ]
  },
  {
   "cell_type": "code",
   "execution_count": 26,
   "metadata": {
    "collapsed": false,
    "pycharm": {
     "name": "#%%\n"
    }
   },
   "outputs": [
    {
     "data": {
      "image/png": "[encoded data removed]",
      "text/plain": [
       "<Figure size 432x288 with 1 Axes>"
      ]
     },
     "metadata": {
      "needs_background": "light"
     },
     "output_type": "display_data"
    }
   ],
   "source": [
    "plt.plot(range(2,50), wcss, marker='o', linestyle='--')\n",
    "plt.show()"
   ]
  },
  {
   "cell_type": "code",
   "execution_count": 29,
   "metadata": {},
   "outputs": [
    {
     "name": "stdout",
     "output_type": "stream",
     "text": [
      "Cluster 0, length = 162\n",
      "Cluster 1, length = 99\n",
      "Cluster 2, length = 150\n",
      "Cluster 3, length = 1572\n",
      "Cluster 4, length = 87\n",
      "Cluster 5, length = 164\n",
      "Cluster 6, length = 6\n",
      "Cluster 7, length = 17\n",
      "Cluster 8, length = 1\n",
      "Cluster 9, length = 31\n",
      "Cluster 10, length = 30\n",
      "Cluster 11, length = 1068\n",
      "Cluster 12, length = 28\n",
      "Cluster 13, length = 83\n",
      "Cluster 14, length = 119\n",
      "Cluster 15, length = 136\n",
      "Cluster 16, length = 90\n",
      "Cluster 17, length = 53\n",
      "Cluster 18, length = 14\n",
      "Cluster 19, length = 665\n",
      "Cluster 20, length = 72\n",
      "Cluster 21, length = 56\n",
      "Cluster 22, length = 14\n",
      "Cluster 23, length = 23\n",
      "Cluster 24, length = 39\n",
      "Cluster 25, length = 35\n",
      "Cluster 26, length = 38\n",
      "Cluster 27, length = 239\n",
      "Cluster 28, length = 62\n",
      "Cluster 29, length = 1\n",
      "Cluster 30, length = 144\n",
      "Cluster 31, length = 45\n",
      "Cluster 32, length = 485\n",
      "Cluster 33, length = 3\n",
      "Cluster 34, length = 4\n",
      "Cluster 35, length = 13\n",
      "Cluster 36, length = 14\n",
      "Cluster 37, length = 8\n",
      "Cluster 38, length = 98\n",
      "Cluster 39, length = 52\n",
      "Cluster 40, length = 143\n",
      "Cluster 41, length = 20\n",
      "Cluster 42, length = 354\n",
      "Cluster 43, length = 110\n",
      "Cluster 44, length = 188\n",
      "Cluster 45, length = 58\n",
      "Cluster 46, length = 12\n",
      "Cluster 47, length = 6\n",
      "Cluster 48, length = 7\n"
     ]
    }
   ],
   "source": [
    "for i in set(km.labels_):\n",
    "    subset = high_schools[km.labels_==i]\n",
    "    print(f'Cluster {i}, length = {subset.shape[0]}')\n",
    "    # print(subset['LEA_STATE_NAME'].value_counts())"
   ]
  },
  {
   "cell_type": "code",
   "execution_count": 30,
   "metadata": {},
   "outputs": [
    {
     "data": {
      "image/png": "[encoded data removed]",
      "text/plain": [
       "<Figure size 1080x576 with 18 Axes>"
      ]
     },
     "metadata": {},
     "output_type": "display_data"
    }
   ],
   "source": [
    "from yellowbrick.cluster import SilhouetteVisualizer\n",
    "\n",
    "fig, ax = plt.subplots(9,2, figsize=(15,8))\n",
    "for i in range(2,18):\n",
    "    '''\n",
    "    Create KMeans instance for different number of clusters\n",
    "    '''\n",
    "    km = KMeans(n_clusters=i, init='k-means++', n_init=10, max_iter=100, random_state=42)\n",
    "    q, mod = divmod(i, 2)\n",
    "    '''\n",
    "    Create SilhouetteVisualizer instance with KMeans instance\n",
    "    Fit the visualizer\n",
    "    '''\n",
    "    visualizer = SilhouetteVisualizer(km, colors='yellowbrick', ax=ax[q-1][mod])\n",
    "    visualizer.fit(X_reduced)"
   ]
  },
  {
   "cell_type": "code",
   "execution_count": 33,
   "metadata": {},
   "outputs": [
    {
     "name": "stdout",
     "output_type": "stream",
     "text": [
      "i=2, score=0.46292398848645416\n",
      "i=3, score=0.4130391268653787\n",
      "i=4, score=0.41661650088363533\n",
      "i=5, score=0.4171882240714151\n",
      "i=6, score=0.4177798195179483\n",
      "i=7, score=0.21893029432925065\n",
      "i=8, score=0.2234865137596791\n",
      "i=9, score=0.22636104620084477\n",
      "i=10, score=0.22498955800894266\n",
      "i=11, score=0.2265316101358501\n",
      "i=12, score=0.2250422084233461\n",
      "i=13, score=0.2228416315091808\n",
      "i=14, score=0.21814685561618508\n",
      "i=15, score=0.22120789730455473\n",
      "i=16, score=0.221674340222431\n",
      "i=17, score=0.2228298150250947\n",
      "i=18, score=0.22949353275698206\n",
      "i=19, score=0.2303826395507553\n",
      "i=20, score=0.23057212149562778\n",
      "i=21, score=0.23135174704416053\n",
      "i=22, score=0.22790985001978975\n",
      "i=23, score=0.22934813514087776\n",
      "i=24, score=0.23030447213486024\n",
      "i=25, score=0.23103135369691316\n",
      "i=26, score=0.23125594257624912\n",
      "i=27, score=0.23164543634556456\n",
      "i=28, score=0.23265685465201608\n",
      "i=29, score=0.12573762644997072\n",
      "i=30, score=0.1199230538427412\n",
      "i=31, score=0.12271428059213745\n",
      "i=32, score=0.1211167169595805\n",
      "i=33, score=0.12161769661942058\n",
      "i=34, score=0.11318516714702756\n",
      "i=35, score=0.11369743430063074\n",
      "i=36, score=0.11438187000113129\n",
      "i=37, score=0.11506191174647153\n",
      "i=38, score=0.11706321776175184\n",
      "i=39, score=0.1177714190690195\n",
      "i=40, score=0.11828224413542944\n",
      "i=41, score=0.12033741871454344\n",
      "i=42, score=0.12403385078174564\n",
      "i=43, score=0.12428032999308801\n",
      "i=44, score=0.12506542103997154\n",
      "i=45, score=0.12556321791031783\n",
      "i=46, score=0.1259019810003837\n",
      "i=47, score=0.12600788110458852\n",
      "i=48, score=0.1172021829446938\n",
      "i=49, score=0.11789095704571255\n"
     ]
    },
    {
     "data": {
      "image/png": "[encoded data removed]",
      "text/plain": [
       "<Figure size 576x396 with 1 Axes>"
      ]
     },
     "metadata": {},
     "output_type": "display_data"
    }
   ],
   "source": [
    "from sklearn.cluster import AgglomerativeClustering\n",
    "wcss = []\n",
    "\n",
    "for i in range(2,50):\n",
    "    ag = AgglomerativeClustering(i)\n",
    "    ag.fit(X_reduced)\n",
    "    score = silhouette_score(X_reduced, ag.labels_, metric='euclidean')\n",
    "    plt.scatter(i, score)\n",
    "    print(f'{i=}, {score=}')"
   ]
  },
  {
   "cell_type": "code",
   "execution_count": 40,
   "metadata": {},
   "outputs": [
    {
     "name": "stdout",
     "output_type": "stream",
     "text": [
      "ep=1, score=0.11789095704571255\n",
      "ep=2, score=0.11789095704571255\n",
      "ep=3, score=0.11789095704571255\n",
      "ep=4, score=0.11789095704571255\n",
      "ep=5, score=0.11789095704571255\n",
      "ep=6, score=0.11789095704571255\n",
      "ep=7, score=0.11789095704571255\n",
      "ep=8, score=0.11789095704571255\n",
      "ep=9, score=0.11789095704571255\n",
      "ep=10, score=0.11789095704571255\n",
      "ep=11, score=0.11789095704571255\n",
      "ep=12, score=0.11789095704571255\n",
      "ep=13, score=0.11789095704571255\n",
      "ep=14, score=0.11789095704571255\n",
      "ep=15, score=0.11789095704571255\n",
      "ep=16, score=0.11789095704571255\n",
      "ep=17, score=0.11789095704571255\n",
      "ep=18, score=0.11789095704571255\n",
      "ep=19, score=0.11789095704571255\n"
     ]
    },
    {
     "data": {
      "image/png": "[encoded data removed]",
      "text/plain": [
       "<Figure size 576x396 with 1 Axes>"
      ]
     },
     "metadata": {},
     "output_type": "display_data"
    }
   ],
   "source": [
    "from sklearn.cluster import DBSCAN\n",
    "for ep in range(1,20):\n",
    "    db = DBSCAN(ep).fit(X_reduced)\n",
    "    score = silhouette_score(X_reduced, ag.labels_, metric='euclidean')\n",
    "    plt.scatter(ep,score)\n",
    "    print(f'{ep=}, {score=}')"
   ]
  },
  {
   "cell_type": "code",
   "execution_count": 41,
   "metadata": {},
   "outputs": [
    {
     "name": "stdout",
     "output_type": "stream",
     "text": [
      "n=2, score=0.44278851997780605\n",
      "n=3, score=0.39335045179405664\n",
      "n=4, score=0.38024718438742117\n",
      "n=5, score=0.38170374372821686\n",
      "n=6, score=0.38229561111201515\n",
      "n=7, score=0.384095303776484\n",
      "n=8, score=0.38781930442317897\n",
      "n=9, score=0.38883106912613496\n",
      "n=10, score=0.2013440832360904\n",
      "n=11, score=0.19973745162638057\n",
      "n=12, score=0.19312790313164385\n",
      "n=13, score=0.19635538290888788\n",
      "n=14, score=0.1971259964078211\n",
      "n=15, score=0.198514204529681\n",
      "n=16, score=0.1976379468270907\n",
      "n=17, score=0.19951920827671393\n",
      "n=18, score=0.20675839160749446\n",
      "n=19, score=0.2073710770583096\n"
     ]
    },
    {
     "data": {
      "image/png": "[encoded data removed]",
      "text/plain": [
       "<Figure size 576x396 with 1 Axes>"
      ]
     },
     "metadata": {},
     "output_type": "display_data"
    }
   ],
   "source": [
    "from sklearn.cluster import Birch\n",
    "\n",
    "for n in range(2,20):\n",
    "    br = Birch(n_clusters=n).fit(X_reduced)\n",
    "    score = silhouette_score(X_reduced, br.labels_, metric='euclidean')\n",
    "    plt.scatter(n,score)\n",
    "    print(f'{n=}, {score=}')"
   ]
  },
  {
   "cell_type": "code",
   "execution_count": 78,
   "metadata": {},
   "outputs": [],
   "source": [
    "col_names = ['method','score','Advanced Mathematics','Advanced Placement','Algebra I','Algebra II','Biology','Calculus','Chemistry','Corporal Punishment','Credit Recovery','Dual Enrolment','Enrolment','Expulsions','Geometry','Gifted and Talented','Harassment and Bullying','International Baccalaureate','Offenses','Physics','Referrals and Arrests','Restraint and Seclusion','Retention','SAT and ACT','School Characteristics','School Expenditures','School Support','Single-sex Athletics','Single-sex Classes','Suspensions','Transfers']\n",
    "rows = []"
   ]
  },
  {
   "cell_type": "code",
   "execution_count": 79,
   "metadata": {},
   "outputs": [
    {
     "data": {
      "text/plain": [
       "'R^2 = 0.27451025833035325'"
      ]
     },
     "execution_count": 79,
     "metadata": {},
     "output_type": "execute_result"
    }
   ],
   "source": [
    "from sklearn.linear_model import LinearRegression\n",
    "from sklearn.model_selection import train_test_split\n",
    "X_trainr, X_testr, y_trainr, y_testr = train_test_split(X_reduced, y)\n",
    "lr = LinearRegression().fit(X_trainr,y_trainr)\n",
    "score = lr.score(X_testr, y_testr)\n",
    "rows.append(['LinearRegression',score,*lr.coef_])\n",
    "f'R^2 = {score}'"
   ]
  },
  {
   "cell_type": "code",
   "execution_count": 80,
   "metadata": {},
   "outputs": [
    {
     "data": {
      "text/plain": [
       "'R^2 = 0.27451477038346417'"
      ]
     },
     "execution_count": 80,
     "metadata": {},
     "output_type": "execute_result"
    }
   ],
   "source": [
    "from sklearn.linear_model import Ridge\n",
    "ridge = Ridge().fit(X_trainr, y_trainr)\n",
    "score = ridge.score(X_testr, y_testr)\n",
    "rows.append(['Ridge',score,*ridge.coef_])\n",
    "f'R^2 = {score}'"
   ]
  },
  {
   "cell_type": "code",
   "execution_count": 81,
   "metadata": {},
   "outputs": [
    {
     "data": {
      "text/plain": [
       "'R^2 = 0.15742804774028896'"
      ]
     },
     "execution_count": 81,
     "metadata": {},
     "output_type": "execute_result"
    }
   ],
   "source": [
    "from sklearn.linear_model import Lasso\n",
    "lasso = Lasso(random_state=0).fit(X_trainr, y_trainr)\n",
    "score = lasso.score(X_testr, y_testr)\n",
    "rows.append(['Lasso',score,*lasso.coef_])\n",
    "f'R^2 = {score}'"
   ]
  },
  {
   "cell_type": "code",
   "execution_count": 86,
   "metadata": {},
   "outputs": [
    {
     "data": {
      "text/plain": [
       "'R^2 = 0.26141504376068236'"
      ]
     },
     "execution_count": 86,
     "metadata": {},
     "output_type": "execute_result"
    }
   ],
   "source": [
    "from sklearn.svm import SVR\n",
    "svr = SVR(kernel='linear').fit(X_trainr, y_trainr)\n",
    "score = svr.score(X_testr, y_testr)\n",
    "rows.append(['SVR',score,*svr.coef_[0]])\n",
    "f'R^2 = {score}'"
   ]
  },
  {
   "cell_type": "code",
   "execution_count": 83,
   "metadata": {},
   "outputs": [
    {
     "data": {
      "text/plain": [
       "'R^2 = -0.14778706733286673'"
      ]
     },
     "execution_count": 83,
     "metadata": {},
     "output_type": "execute_result"
    }
   ],
   "source": [
    "from sklearn.tree import DecisionTreeRegressor\n",
    "dtr = DecisionTreeRegressor().fit(X_trainr, y_trainr)\n",
    "score = dtr.score(X_testr, y_testr)\n",
    "rows.append(['DTR',score,*([np.nan]*29)])\n",
    "f'R^2 = {score}'"
   ]
  },
  {
   "cell_type": "code",
   "execution_count": 84,
   "metadata": {},
   "outputs": [
    {
     "data": {
      "text/plain": [
       "'R^2 = 0.33601863641197116'"
      ]
     },
     "execution_count": 84,
     "metadata": {},
     "output_type": "execute_result"
    }
   ],
   "source": [
    "from sklearn.neighbors import KNeighborsRegressor\n",
    "knr = KNeighborsRegressor(5).fit(X_trainr, y_trainr)\n",
    "score = knr.score(X_testr, y_testr)\n",
    "rows.append(['KNR',score,*([np.nan]*29)])\n",
    "f'R^2 = {score}'"
   ]
  },
  {
   "cell_type": "code",
   "execution_count": 87,
   "metadata": {},
   "outputs": [
    {
     "data": {
      "text/html": [
       "<div>\n",
       "<style scoped>\n",
       "    .dataframe tbody tr th:only-of-type {\n",
       "        vertical-align: middle;\n",
       "    }\n",
       "\n",
       "    .dataframe tbody tr th {\n",
       "        vertical-align: top;\n",
       "    }\n",
       "\n",
       "    .dataframe thead th {\n",
       "        text-align: right;\n",
       "    }\n",
       "</style>\n",
       "<table border=\"1\" class=\"dataframe\">\n",
       "  <thead>\n",
       "    <tr style=\"text-align: right;\">\n",
       "      <th></th>\n",
       "      <th>method</th>\n",
       "      <th>score</th>\n",
       "      <th>Advanced Mathematics</th>\n",
       "      <th>Advanced Placement</th>\n",
       "      <th>Algebra I</th>\n",
       "      <th>Algebra II</th>\n",
       "      <th>Biology</th>\n",
       "      <th>Calculus</th>\n",
       "      <th>Chemistry</th>\n",
       "      <th>Corporal Punishment</th>\n",
       "      <th>...</th>\n",
       "      <th>Restraint and Seclusion</th>\n",
       "      <th>Retention</th>\n",
       "      <th>SAT and ACT</th>\n",
       "      <th>School Characteristics</th>\n",
       "      <th>School Expenditures</th>\n",
       "      <th>School Support</th>\n",
       "      <th>Single-sex Athletics</th>\n",
       "      <th>Single-sex Classes</th>\n",
       "      <th>Suspensions</th>\n",
       "      <th>Transfers</th>\n",
       "    </tr>\n",
       "  </thead>\n",
       "  <tbody>\n",
       "    <tr>\n",
       "      <th>0</th>\n",
       "      <td>LinearRegression</td>\n",
       "      <td>0.274510</td>\n",
       "      <td>0.157625</td>\n",
       "      <td>0.009385</td>\n",
       "      <td>-0.087654</td>\n",
       "      <td>0.036127</td>\n",
       "      <td>0.194237</td>\n",
       "      <td>0.096397</td>\n",
       "      <td>0.072748</td>\n",
       "      <td>-0.134584</td>\n",
       "      <td>...</td>\n",
       "      <td>-2.503106e-307</td>\n",
       "      <td>-0.072295</td>\n",
       "      <td>-0.019057</td>\n",
       "      <td>-0.089848</td>\n",
       "      <td>0.004882</td>\n",
       "      <td>0.164135</td>\n",
       "      <td>0.182542</td>\n",
       "      <td>-0.285489</td>\n",
       "      <td>-1.295596e-311</td>\n",
       "      <td>0.031382</td>\n",
       "    </tr>\n",
       "    <tr>\n",
       "      <th>1</th>\n",
       "      <td>Ridge</td>\n",
       "      <td>0.274515</td>\n",
       "      <td>0.157627</td>\n",
       "      <td>0.009383</td>\n",
       "      <td>-0.087637</td>\n",
       "      <td>0.036115</td>\n",
       "      <td>0.194224</td>\n",
       "      <td>0.096387</td>\n",
       "      <td>0.072733</td>\n",
       "      <td>-0.134546</td>\n",
       "      <td>...</td>\n",
       "      <td>-1.614390e-307</td>\n",
       "      <td>-0.072299</td>\n",
       "      <td>-0.019064</td>\n",
       "      <td>-0.089840</td>\n",
       "      <td>0.004884</td>\n",
       "      <td>0.164104</td>\n",
       "      <td>0.182535</td>\n",
       "      <td>-0.285414</td>\n",
       "      <td>-1.613693e-307</td>\n",
       "      <td>0.031378</td>\n",
       "    </tr>\n",
       "    <tr>\n",
       "      <th>2</th>\n",
       "      <td>Lasso</td>\n",
       "      <td>0.157428</td>\n",
       "      <td>0.150601</td>\n",
       "      <td>-0.000000</td>\n",
       "      <td>-0.000000</td>\n",
       "      <td>-0.000000</td>\n",
       "      <td>0.000000</td>\n",
       "      <td>0.000000</td>\n",
       "      <td>0.000000</td>\n",
       "      <td>-0.000000</td>\n",
       "      <td>...</td>\n",
       "      <td>0.000000e+00</td>\n",
       "      <td>-0.064539</td>\n",
       "      <td>-0.000000</td>\n",
       "      <td>-0.000000</td>\n",
       "      <td>0.000000</td>\n",
       "      <td>0.000000</td>\n",
       "      <td>0.000000</td>\n",
       "      <td>-0.000000</td>\n",
       "      <td>0.000000e+00</td>\n",
       "      <td>-0.000000</td>\n",
       "    </tr>\n",
       "    <tr>\n",
       "      <th>3</th>\n",
       "      <td>SVR</td>\n",
       "      <td>0.261415</td>\n",
       "      <td>[0.15228026069322187, 0.001502336979907426, -0...</td>\n",
       "      <td>NaN</td>\n",
       "      <td>NaN</td>\n",
       "      <td>NaN</td>\n",
       "      <td>NaN</td>\n",
       "      <td>NaN</td>\n",
       "      <td>NaN</td>\n",
       "      <td>NaN</td>\n",
       "      <td>...</td>\n",
       "      <td>NaN</td>\n",
       "      <td>NaN</td>\n",
       "      <td>NaN</td>\n",
       "      <td>NaN</td>\n",
       "      <td>NaN</td>\n",
       "      <td>NaN</td>\n",
       "      <td>NaN</td>\n",
       "      <td>NaN</td>\n",
       "      <td>NaN</td>\n",
       "      <td>NaN</td>\n",
       "    </tr>\n",
       "    <tr>\n",
       "      <th>4</th>\n",
       "      <td>DTR</td>\n",
       "      <td>-0.147787</td>\n",
       "      <td>NaN</td>\n",
       "      <td>NaN</td>\n",
       "      <td>NaN</td>\n",
       "      <td>NaN</td>\n",
       "      <td>NaN</td>\n",
       "      <td>NaN</td>\n",
       "      <td>NaN</td>\n",
       "      <td>NaN</td>\n",
       "      <td>...</td>\n",
       "      <td>NaN</td>\n",
       "      <td>NaN</td>\n",
       "      <td>NaN</td>\n",
       "      <td>NaN</td>\n",
       "      <td>NaN</td>\n",
       "      <td>NaN</td>\n",
       "      <td>NaN</td>\n",
       "      <td>NaN</td>\n",
       "      <td>NaN</td>\n",
       "      <td>NaN</td>\n",
       "    </tr>\n",
       "    <tr>\n",
       "      <th>5</th>\n",
       "      <td>KNR</td>\n",
       "      <td>0.336019</td>\n",
       "      <td>NaN</td>\n",
       "      <td>NaN</td>\n",
       "      <td>NaN</td>\n",
       "      <td>NaN</td>\n",
       "      <td>NaN</td>\n",
       "      <td>NaN</td>\n",
       "      <td>NaN</td>\n",
       "      <td>NaN</td>\n",
       "      <td>...</td>\n",
       "      <td>NaN</td>\n",
       "      <td>NaN</td>\n",
       "      <td>NaN</td>\n",
       "      <td>NaN</td>\n",
       "      <td>NaN</td>\n",
       "      <td>NaN</td>\n",
       "      <td>NaN</td>\n",
       "      <td>NaN</td>\n",
       "      <td>NaN</td>\n",
       "      <td>NaN</td>\n",
       "    </tr>\n",
       "    <tr>\n",
       "      <th>6</th>\n",
       "      <td>SVR</td>\n",
       "      <td>0.261415</td>\n",
       "      <td>0.15228</td>\n",
       "      <td>0.001502</td>\n",
       "      <td>-0.075876</td>\n",
       "      <td>-0.003993</td>\n",
       "      <td>0.205477</td>\n",
       "      <td>0.127275</td>\n",
       "      <td>0.017698</td>\n",
       "      <td>-0.134158</td>\n",
       "      <td>...</td>\n",
       "      <td>-4.673900e-308</td>\n",
       "      <td>-0.155293</td>\n",
       "      <td>-0.015049</td>\n",
       "      <td>-0.124518</td>\n",
       "      <td>0.006631</td>\n",
       "      <td>0.121782</td>\n",
       "      <td>0.237277</td>\n",
       "      <td>-0.267713</td>\n",
       "      <td>-4.670890e-308</td>\n",
       "      <td>0.041112</td>\n",
       "    </tr>\n",
       "  </tbody>\n",
       "</table>\n",
       "<p>7 rows × 31 columns</p>\n",
       "</div>"
      ],
      "text/plain": [
       "             method     score  \\\n",
       "0  LinearRegression  0.274510   \n",
       "1             Ridge  0.274515   \n",
       "2             Lasso  0.157428   \n",
       "3               SVR  0.261415   \n",
       "4               DTR -0.147787   \n",
       "5               KNR  0.336019   \n",
       "6               SVR  0.261415   \n",
       "\n",
       "                                Advanced Mathematics  Advanced Placement  \\\n",
       "0                                           0.157625            0.009385   \n",
       "1                                           0.157627            0.009383   \n",
       "2                                           0.150601           -0.000000   \n",
       "3  [0.15228026069322187, 0.001502336979907426, -0...                 NaN   \n",
       "4                                                NaN                 NaN   \n",
       "5                                                NaN                 NaN   \n",
       "6                                            0.15228            0.001502   \n",
       "\n",
       "   Algebra I  Algebra II   Biology  Calculus  Chemistry  Corporal Punishment  \\\n",
       "0  -0.087654    0.036127  0.194237  0.096397   0.072748            -0.134584   \n",
       "1  -0.087637    0.036115  0.194224  0.096387   0.072733            -0.134546   \n",
       "2  -0.000000   -0.000000  0.000000  0.000000   0.000000            -0.000000   \n",
       "3        NaN         NaN       NaN       NaN        NaN                  NaN   \n",
       "4        NaN         NaN       NaN       NaN        NaN                  NaN   \n",
       "5        NaN         NaN       NaN       NaN        NaN                  NaN   \n",
       "6  -0.075876   -0.003993  0.205477  0.127275   0.017698            -0.134158   \n",
       "\n",
       "   ...  Restraint and Seclusion  Retention  SAT and ACT  \\\n",
       "0  ...           -2.503106e-307  -0.072295    -0.019057   \n",
       "1  ...           -1.614390e-307  -0.072299    -0.019064   \n",
       "2  ...             0.000000e+00  -0.064539    -0.000000   \n",
       "3  ...                      NaN        NaN          NaN   \n",
       "4  ...                      NaN        NaN          NaN   \n",
       "5  ...                      NaN        NaN          NaN   \n",
       "6  ...           -4.673900e-308  -0.155293    -0.015049   \n",
       "\n",
       "   School Characteristics  School Expenditures  School Support  \\\n",
       "0               -0.089848             0.004882        0.164135   \n",
       "1               -0.089840             0.004884        0.164104   \n",
       "2               -0.000000             0.000000        0.000000   \n",
       "3                     NaN                  NaN             NaN   \n",
       "4                     NaN                  NaN             NaN   \n",
       "5                     NaN                  NaN             NaN   \n",
       "6               -0.124518             0.006631        0.121782   \n",
       "\n",
       "   Single-sex Athletics  Single-sex Classes    Suspensions  Transfers  \n",
       "0              0.182542           -0.285489 -1.295596e-311   0.031382  \n",
       "1              0.182535           -0.285414 -1.613693e-307   0.031378  \n",
       "2              0.000000           -0.000000   0.000000e+00  -0.000000  \n",
       "3                   NaN                 NaN            NaN        NaN  \n",
       "4                   NaN                 NaN            NaN        NaN  \n",
       "5                   NaN                 NaN            NaN        NaN  \n",
       "6              0.237277           -0.267713 -4.670890e-308   0.041112  \n",
       "\n",
       "[7 rows x 31 columns]"
      ]
     },
     "execution_count": 87,
     "metadata": {},
     "output_type": "execute_result"
    }
   ],
   "source": [
    "component_per_sheet_res = pd.DataFrame(rows, columns=col_names)\n",
    "component_per_sheet_res"
   ]
  },
  {
   "cell_type": "code",
   "execution_count": 88,
   "metadata": {},
   "outputs": [
    {
     "data": {
      "text/plain": [
       "'R^2 = 0.2879110085918293'"
      ]
     },
     "execution_count": 88,
     "metadata": {},
     "output_type": "execute_result"
    }
   ],
   "source": [
    "rows = []\n",
    "X_traint, X_testt, y_traint, y_testt = train_test_split(X_all_tot, y)\n",
    "lr = LinearRegression().fit(X_traint,y_traint)\n",
    "score = lr.score(X_testt, y_testt)\n",
    "rows.append(['LinearRegression',score,*lr.coef_])\n",
    "f'R^2 = {score}'"
   ]
  },
  {
   "cell_type": "code",
   "execution_count": 89,
   "metadata": {},
   "outputs": [
    {
     "data": {
      "text/plain": [
       "'R^2 = 0.28860161861356937'"
      ]
     },
     "execution_count": 89,
     "metadata": {},
     "output_type": "execute_result"
    }
   ],
   "source": [
    "ridge = Ridge().fit(X_traint, y_traint)\n",
    "score = ridge.score(X_testt, y_testt)\n",
    "rows.append(['Ridge',score,*ridge.coef_])\n",
    "f'R^2 = {score}'"
   ]
  },
  {
   "cell_type": "code",
   "execution_count": 90,
   "metadata": {},
   "outputs": [
    {
     "data": {
      "text/plain": [
       "'R^2 = -0.0005841513614699423'"
      ]
     },
     "execution_count": 90,
     "metadata": {},
     "output_type": "execute_result"
    }
   ],
   "source": [
    "lasso = Lasso(random_state=0).fit(X_traint, y_traint)\n",
    "score = lasso.score(X_testt, y_testt)\n",
    "rows.append(['Lasso',score,*lasso.coef_])\n",
    "f'R^2 = {score}'"
   ]
  },
  {
   "cell_type": "code",
   "execution_count": 91,
   "metadata": {},
   "outputs": [
    {
     "data": {
      "text/plain": [
       "'R^2 = 0.2717678128988611'"
      ]
     },
     "execution_count": 91,
     "metadata": {},
     "output_type": "execute_result"
    }
   ],
   "source": [
    "svr = SVR(kernel='linear').fit(X_traint, y_traint)\n",
    "score = svr.score(X_testt, y_testt)\n",
    "rows.append(['SVR',score,*svr.coef_[0]])\n",
    "f'R^2 = {score}'"
   ]
  },
  {
   "cell_type": "code",
   "execution_count": 92,
   "metadata": {},
   "outputs": [
    {
     "data": {
      "text/plain": [
       "'R^2 = -0.09713409998623579'"
      ]
     },
     "execution_count": 92,
     "metadata": {},
     "output_type": "execute_result"
    }
   ],
   "source": [
    "dtr = DecisionTreeRegressor().fit(X_traint, y_traint)\n",
    "score = dtr.score(X_testt, y_testt)\n",
    "rows.append(['DTR',score,*([np.nan]*29)])\n",
    "f'R^2 = {score}'"
   ]
  },
  {
   "cell_type": "code",
   "execution_count": 93,
   "metadata": {},
   "outputs": [
    {
     "data": {
      "text/plain": [
       "'R^2 = 0.3323977133055003'"
      ]
     },
     "execution_count": 93,
     "metadata": {},
     "output_type": "execute_result"
    }
   ],
   "source": [
    "knr = KNeighborsRegressor(5).fit(X_traint, y_traint)\n",
    "score = knr.score(X_testt, y_testt)\n",
    "rows.append(['KNR',score,*([np.nan]*29)])\n",
    "f'R^2 = {score}'"
   ]
  },
  {
   "cell_type": "code",
   "execution_count": 98,
   "metadata": {},
   "outputs": [
    {
     "data": {
      "text/html": [
       "<div>\n",
       "<style scoped>\n",
       "    .dataframe tbody tr th:only-of-type {\n",
       "        vertical-align: middle;\n",
       "    }\n",
       "\n",
       "    .dataframe tbody tr th {\n",
       "        vertical-align: top;\n",
       "    }\n",
       "\n",
       "    .dataframe thead th {\n",
       "        text-align: right;\n",
       "    }\n",
       "</style>\n",
       "<table border=\"1\" class=\"dataframe\">\n",
       "  <thead>\n",
       "    <tr style=\"text-align: right;\">\n",
       "      <th></th>\n",
       "      <th>method</th>\n",
       "      <th>score</th>\n",
       "      <th>TOT_MATHENR_ADVM_M</th>\n",
       "      <th>TOT_MATHENR_ADVM_F</th>\n",
       "      <th>TOT_APENR_M</th>\n",
       "      <th>TOT_APENR_F</th>\n",
       "      <th>TOT_APMATHENR_M</th>\n",
       "      <th>TOT_APMATHENR_F</th>\n",
       "      <th>TOT_APSCIENR_M</th>\n",
       "      <th>TOT_APSCIENR_F</th>\n",
       "      <th>...</th>\n",
       "      <th>TOT_RET_G12_F</th>\n",
       "      <th>TOT_SATACT_M</th>\n",
       "      <th>TOT_SATACT_F</th>\n",
       "      <th>TOT_SSSPORTS</th>\n",
       "      <th>TOT_SSTEAMS</th>\n",
       "      <th>TOT_SSPART</th>\n",
       "      <th>TOT_DISCWODIS_TFRALT_M</th>\n",
       "      <th>TOT_DISCWODIS_TFRALT_F</th>\n",
       "      <th>TOT_DISCWDIS_TFRALT_IDEA_M</th>\n",
       "      <th>TOT_DISCWDIS_TFRALT_IDEA_F</th>\n",
       "    </tr>\n",
       "  </thead>\n",
       "  <tbody>\n",
       "    <tr>\n",
       "      <th>0</th>\n",
       "      <td>LinearRegression</td>\n",
       "      <td>0.287911</td>\n",
       "      <td>0.312905</td>\n",
       "      <td>-0.358276</td>\n",
       "      <td>1.071884</td>\n",
       "      <td>-0.171834</td>\n",
       "      <td>0.199782</td>\n",
       "      <td>0.126159</td>\n",
       "      <td>0.201940</td>\n",
       "      <td>-0.136823</td>\n",
       "      <td>...</td>\n",
       "      <td>-0.106080</td>\n",
       "      <td>-0.559292</td>\n",
       "      <td>0.516196</td>\n",
       "      <td>0.292726</td>\n",
       "      <td>-0.041765</td>\n",
       "      <td>0.310495</td>\n",
       "      <td>-0.024345</td>\n",
       "      <td>-0.112191</td>\n",
       "      <td>0.100003</td>\n",
       "      <td>0.044073</td>\n",
       "    </tr>\n",
       "    <tr>\n",
       "      <th>1</th>\n",
       "      <td>Ridge</td>\n",
       "      <td>0.288602</td>\n",
       "      <td>0.287117</td>\n",
       "      <td>-0.332785</td>\n",
       "      <td>0.890473</td>\n",
       "      <td>0.011136</td>\n",
       "      <td>0.210623</td>\n",
       "      <td>0.119355</td>\n",
       "      <td>0.211398</td>\n",
       "      <td>-0.141056</td>\n",
       "      <td>...</td>\n",
       "      <td>-0.092416</td>\n",
       "      <td>-0.565986</td>\n",
       "      <td>0.520178</td>\n",
       "      <td>0.291545</td>\n",
       "      <td>-0.041713</td>\n",
       "      <td>0.310833</td>\n",
       "      <td>-0.023306</td>\n",
       "      <td>-0.111591</td>\n",
       "      <td>0.098103</td>\n",
       "      <td>0.044153</td>\n",
       "    </tr>\n",
       "    <tr>\n",
       "      <th>2</th>\n",
       "      <td>Lasso</td>\n",
       "      <td>-0.000584</td>\n",
       "      <td>0.000000</td>\n",
       "      <td>0.000000</td>\n",
       "      <td>0.000000</td>\n",
       "      <td>0.000000</td>\n",
       "      <td>0.000000</td>\n",
       "      <td>0.000000</td>\n",
       "      <td>0.000000</td>\n",
       "      <td>0.000000</td>\n",
       "      <td>...</td>\n",
       "      <td>-0.000000</td>\n",
       "      <td>0.000000</td>\n",
       "      <td>0.000000</td>\n",
       "      <td>0.000000</td>\n",
       "      <td>0.000000</td>\n",
       "      <td>0.000000</td>\n",
       "      <td>-0.000000</td>\n",
       "      <td>-0.000000</td>\n",
       "      <td>-0.000000</td>\n",
       "      <td>0.000000</td>\n",
       "    </tr>\n",
       "    <tr>\n",
       "      <th>3</th>\n",
       "      <td>SVR</td>\n",
       "      <td>0.271768</td>\n",
       "      <td>0.218206</td>\n",
       "      <td>-0.276691</td>\n",
       "      <td>0.709097</td>\n",
       "      <td>0.748504</td>\n",
       "      <td>0.278529</td>\n",
       "      <td>0.129051</td>\n",
       "      <td>0.437819</td>\n",
       "      <td>-0.182560</td>\n",
       "      <td>...</td>\n",
       "      <td>0.097136</td>\n",
       "      <td>-0.556015</td>\n",
       "      <td>0.427245</td>\n",
       "      <td>0.340484</td>\n",
       "      <td>-0.047245</td>\n",
       "      <td>0.266481</td>\n",
       "      <td>-0.051136</td>\n",
       "      <td>-0.038049</td>\n",
       "      <td>0.047626</td>\n",
       "      <td>0.051020</td>\n",
       "    </tr>\n",
       "    <tr>\n",
       "      <th>4</th>\n",
       "      <td>DTR</td>\n",
       "      <td>-0.097134</td>\n",
       "      <td>NaN</td>\n",
       "      <td>NaN</td>\n",
       "      <td>NaN</td>\n",
       "      <td>NaN</td>\n",
       "      <td>NaN</td>\n",
       "      <td>NaN</td>\n",
       "      <td>NaN</td>\n",
       "      <td>NaN</td>\n",
       "      <td>...</td>\n",
       "      <td>NaN</td>\n",
       "      <td>NaN</td>\n",
       "      <td>NaN</td>\n",
       "      <td>NaN</td>\n",
       "      <td>NaN</td>\n",
       "      <td>NaN</td>\n",
       "      <td>NaN</td>\n",
       "      <td>NaN</td>\n",
       "      <td>NaN</td>\n",
       "      <td>NaN</td>\n",
       "    </tr>\n",
       "    <tr>\n",
       "      <th>5</th>\n",
       "      <td>KNR</td>\n",
       "      <td>0.332398</td>\n",
       "      <td>NaN</td>\n",
       "      <td>NaN</td>\n",
       "      <td>NaN</td>\n",
       "      <td>NaN</td>\n",
       "      <td>NaN</td>\n",
       "      <td>NaN</td>\n",
       "      <td>NaN</td>\n",
       "      <td>NaN</td>\n",
       "      <td>...</td>\n",
       "      <td>NaN</td>\n",
       "      <td>NaN</td>\n",
       "      <td>NaN</td>\n",
       "      <td>NaN</td>\n",
       "      <td>NaN</td>\n",
       "      <td>NaN</td>\n",
       "      <td>NaN</td>\n",
       "      <td>NaN</td>\n",
       "      <td>NaN</td>\n",
       "      <td>NaN</td>\n",
       "    </tr>\n",
       "  </tbody>\n",
       "</table>\n",
       "<p>6 rows × 79 columns</p>\n",
       "</div>"
      ],
      "text/plain": [
       "             method     score  TOT_MATHENR_ADVM_M  TOT_MATHENR_ADVM_F  \\\n",
       "0  LinearRegression  0.287911            0.312905           -0.358276   \n",
       "1             Ridge  0.288602            0.287117           -0.332785   \n",
       "2             Lasso -0.000584            0.000000            0.000000   \n",
       "3               SVR  0.271768            0.218206           -0.276691   \n",
       "4               DTR -0.097134                 NaN                 NaN   \n",
       "5               KNR  0.332398                 NaN                 NaN   \n",
       "\n",
       "   TOT_APENR_M  TOT_APENR_F  TOT_APMATHENR_M  TOT_APMATHENR_F  TOT_APSCIENR_M  \\\n",
       "0     1.071884    -0.171834         0.199782         0.126159        0.201940   \n",
       "1     0.890473     0.011136         0.210623         0.119355        0.211398   \n",
       "2     0.000000     0.000000         0.000000         0.000000        0.000000   \n",
       "3     0.709097     0.748504         0.278529         0.129051        0.437819   \n",
       "4          NaN          NaN              NaN              NaN             NaN   \n",
       "5          NaN          NaN              NaN              NaN             NaN   \n",
       "\n",
       "   TOT_APSCIENR_F  ...  TOT_RET_G12_F  TOT_SATACT_M  TOT_SATACT_F  \\\n",
       "0       -0.136823  ...      -0.106080     -0.559292      0.516196   \n",
       "1       -0.141056  ...      -0.092416     -0.565986      0.520178   \n",
       "2        0.000000  ...      -0.000000      0.000000      0.000000   \n",
       "3       -0.182560  ...       0.097136     -0.556015      0.427245   \n",
       "4             NaN  ...            NaN           NaN           NaN   \n",
       "5             NaN  ...            NaN           NaN           NaN   \n",
       "\n",
       "   TOT_SSSPORTS  TOT_SSTEAMS  TOT_SSPART  TOT_DISCWODIS_TFRALT_M  \\\n",
       "0      0.292726    -0.041765    0.310495               -0.024345   \n",
       "1      0.291545    -0.041713    0.310833               -0.023306   \n",
       "2      0.000000     0.000000    0.000000               -0.000000   \n",
       "3      0.340484    -0.047245    0.266481               -0.051136   \n",
       "4           NaN          NaN         NaN                     NaN   \n",
       "5           NaN          NaN         NaN                     NaN   \n",
       "\n",
       "   TOT_DISCWODIS_TFRALT_F  TOT_DISCWDIS_TFRALT_IDEA_M  \\\n",
       "0               -0.112191                    0.100003   \n",
       "1               -0.111591                    0.098103   \n",
       "2               -0.000000                   -0.000000   \n",
       "3               -0.038049                    0.047626   \n",
       "4                     NaN                         NaN   \n",
       "5                     NaN                         NaN   \n",
       "\n",
       "   TOT_DISCWDIS_TFRALT_IDEA_F  \n",
       "0                    0.044073  \n",
       "1                    0.044153  \n",
       "2                    0.000000  \n",
       "3                    0.051020  \n",
       "4                         NaN  \n",
       "5                         NaN  \n",
       "\n",
       "[6 rows x 79 columns]"
      ]
     },
     "execution_count": 98,
     "metadata": {},
     "output_type": "execute_result"
    }
   ],
   "source": [
    "all_tot_res = pd.DataFrame(rows, columns=['method','score',*X_all_tot.columns])\n",
    "all_tot_res"
   ]
  }
 ],
 "metadata": {
  "interpreter": {
   "hash": "4d62220704c30707d390e315c86cab98b5e09e1e3655dcad60d8663b60b0f86e"
  },
  "kernelspec": {
   "display_name": "Python 3.10.1 ('venv': venv)",
   "language": "python",
   "name": "python3"
  },
  "language_info": {
   "codemirror_mode": {
    "name": "ipython",
    "version": 3
   },
   "file_extension": ".py",
   "mimetype": "text/x-python",
   "name": "python",
   "nbconvert_exporter": "python",
   "pygments_lexer": "ipython3",
   "version": "3.10.1"
  }
 },
 "nbformat": 4,
 "nbformat_minor": 0
}
