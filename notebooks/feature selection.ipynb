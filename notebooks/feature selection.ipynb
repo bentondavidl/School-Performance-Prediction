{
 "cells": [
  {
   "cell_type": "code",
   "execution_count": 1,
   "outputs": [],
   "source": [
    "import pandas as pd\n",
    "import numpy as np"
   ],
   "metadata": {
    "collapsed": false,
    "pycharm": {
     "name": "#%%\n"
    }
   }
  },
  {
   "cell_type": "code",
   "execution_count": 2,
   "outputs": [
    {
     "name": "stderr",
     "output_type": "stream",
     "text": [
      "C:\\Users\\David\\miniconda3\\lib\\site-packages\\IPython\\core\\interactiveshell.py:3251: DtypeWarning: Columns (804,805,1040,1041,1159,1160,1203) have mixed types.Specify dtype option on import or set low_memory=False.\n",
      "  exec(code_obj, self.user_global_ns, self.user_ns)\n"
     ]
    }
   ],
   "source": [
    "high_schools = pd.read_csv('../data/full_highschool_data.csv')\n",
    "high_schools.dropna(subset=['ACT'], inplace=True)"
   ],
   "metadata": {
    "collapsed": false,
    "pycharm": {
     "name": "#%%\n"
    }
   }
  },
  {
   "cell_type": "code",
   "execution_count": 3,
   "metadata": {
    "collapsed": true
   },
   "outputs": [
    {
     "data": {
      "text/plain": "SCH_HBREPORTED_DIS_WH_F       1.0\nSCH_DISCWODIS_MULTOOS_AM_M    1.0\nSCH_DISCWODIS_MULTOOS_WH_F    1.0\nSCH_DISCWODIS_MULTOOS_WH_M    1.0\nSCH_DISCWODIS_MULTOOS_BL_F    1.0\n                             ... \nTOT_DISCWODIS_EXPZT_F         0.0\nTOT_DISCWODIS_EXPZT_M         0.0\nSCH_DISCWODIS_EXPZT_TR_F      0.0\nSCH_DISCWODIS_EXPZT_TR_M      0.0\nACT                           0.0\nLength: 1397, dtype: float64"
     },
     "execution_count": 3,
     "metadata": {},
     "output_type": "execute_result"
    }
   ],
   "source": [
    "# sort columns by percentage NA\n",
    "(high_schools.isna().sum()/high_schools.shape[0]).sort_values(ascending=False)"
   ]
  },
  {
   "cell_type": "code",
   "execution_count": 4,
   "outputs": [
    {
     "data": {
      "text/plain": "(6918, 914)"
     },
     "execution_count": 4,
     "metadata": {},
     "output_type": "execute_result"
    }
   ],
   "source": [
    "# drop columns with no data\n",
    "high_schools = high_schools.dropna(axis=1, how='all')\n",
    "high_schools.shape"
   ],
   "metadata": {
    "collapsed": false,
    "pycharm": {
     "name": "#%%\n"
    }
   }
  },
  {
   "cell_type": "code",
   "execution_count": 5,
   "outputs": [],
   "source": [
    "# fill in values for missing indicators\n",
    "high_schools['SCH_FIREARM_IND'].fillna(False, inplace=True)\n",
    "high_schools['SCH_HOMICIDE_IND'].fillna(False, inplace=True)\n",
    "high_schools['SCH_RET_G09_IND'].fillna(False, inplace=True)\n",
    "high_schools['SCH_RET_G10_IND'].fillna(False, inplace=True)\n",
    "high_schools['SCH_RET_G11_IND'].fillna(False, inplace=True)\n",
    "high_schools['SCH_SSCLASSES_IND'].fillna(False, inplace=True)\n",
    "high_schools['SCH_APSEL'].fillna(False, inplace=True)\n",
    "high_schools['SCH_APMATHENR_IND'].fillna(False, inplace=True)\n",
    "high_schools['SCH_APSCIENR_IND'].fillna(False, inplace=True)\n",
    "high_schools['SCH_APOTHENR_IND'].fillna(False, inplace=True)"
   ],
   "metadata": {
    "collapsed": false,
    "pycharm": {
     "name": "#%%\n"
    }
   }
  },
  {
   "cell_type": "code",
   "execution_count": 6,
   "outputs": [],
   "source": [
    "# fix enrolment for special cases\n",
    "high_schools[~high_schools['SCH_APENR_IND']].filter(regex=r'.*_AP.*',axis=1).fillna(0, inplace=True)\n",
    "high_schools[~high_schools['SCH_CORPINSTANCES_IND']].filter(regex=r'.*_(DISCWO?DIS|CORPINSTANCES).*',axis=1).fillna(0, inplace=True)\n",
    "high_schools[~high_schools['SCH_CREDITRECOVERY_IND']].filter(regex=r'.*_CREDITRECOVERY.*',axis=1).fillna(0, inplace=True)\n",
    "high_schools[~high_schools['SCH_DUAL_IND']].filter(regex=r'.*_DUAL.*',axis=1).fillna(0, inplace=True)\n",
    "high_schools[~high_schools['SCH_GT_IND']].filter(regex=r'.*_GTENR.*',axis=1).fillna(0, inplace=True)\n",
    "high_schools[~high_schools['SCH_IBENR_IND']].filter(regex=r'.*_IB.*',axis=1).fillna(0, inplace=True)\n",
    "high_schools[~high_schools['SCH_SSCLASSES_IND']].filter(regex=r'.*_SSCLASSES.*',axis=1).fillna(0, inplace=True)\n",
    "high_schools[~high_schools['SCH_SSATHLETICS_IND']].filter(regex=r'.*_SS(SPORTS|TEAMS|PART).*',axis=1).fillna(0, inplace=True)"
   ],
   "metadata": {
    "collapsed": false,
    "pycharm": {
     "name": "#%%\n"
    }
   }
  },
  {
   "cell_type": "code",
   "execution_count": 7,
   "outputs": [
    {
     "data": {
      "text/plain": "(6918, 837)"
     },
     "execution_count": 7,
     "metadata": {},
     "output_type": "execute_result"
    }
   ],
   "source": [
    "# drop columns with more than 60% na vals\n",
    "high_schools = high_schools.dropna(axis=1, thresh=int(high_schools.shape[0]*(1-.6)))\n",
    "high_schools.shape"
   ],
   "metadata": {
    "collapsed": false,
    "pycharm": {
     "name": "#%%\n"
    }
   }
  },
  {
   "cell_type": "code",
   "execution_count": 8,
   "outputs": [],
   "source": [
    "# mark state and district name as a categorical variable\n",
    "from sklearn.preprocessing import OrdinalEncoder\n",
    "high_schools['LEA_STATE_NAME'] = OrdinalEncoder().fit_transform(high_schools['LEA_STATE_NAME'].to_numpy().reshape(-1,1))\n",
    "high_schools['LEA_NAME'] = OrdinalEncoder().fit_transform(high_schools['LEA_NAME'].to_numpy().reshape(-1,1))"
   ],
   "metadata": {
    "collapsed": false,
    "pycharm": {
     "name": "#%%\n"
    }
   }
  },
  {
   "cell_type": "code",
   "execution_count": 9,
   "outputs": [],
   "source": [
    "g = high_schools.columns.to_series().groupby(high_schools.dtypes).groups\n",
    "high_schools = high_schools.loc[:,~high_schools.columns.isin({k.name: v for k, v in g.items()}['object'])]\n",
    "X = high_schools.iloc[:,:-1]\n",
    "X.drop(['LEAID','LEA_NAME','SCHID','COMBOKEY'], axis=1, inplace=True)\n",
    "y = high_schools['ACT']"
   ],
   "metadata": {
    "collapsed": false,
    "pycharm": {
     "name": "#%%\n"
    }
   }
  },
  {
   "cell_type": "code",
   "execution_count": 10,
   "outputs": [],
   "source": [
    "from sklearn.preprocessing import StandardScaler\n",
    "scaler = StandardScaler()\n",
    "X = scaler.fit_transform(X)"
   ],
   "metadata": {
    "collapsed": false,
    "pycharm": {
     "name": "#%%\n"
    }
   }
  },
  {
   "cell_type": "code",
   "execution_count": 11,
   "outputs": [],
   "source": [
    "from sklearn.impute import KNNImputer\n",
    "X_np = KNNImputer().fit_transform(X)\n",
    "X = pd.DataFrame(X_np, columns=high_schools.drop(['LEAID','LEA_NAME','SCHID','COMBOKEY'], axis=1).iloc[:,:-1].columns)"
   ],
   "metadata": {
    "collapsed": false,
    "pycharm": {
     "name": "#%%\n"
    }
   }
  },
  {
   "cell_type": "code",
   "execution_count": 12,
   "outputs": [],
   "source": [
    "# replace missing data with either mean or median depending on skewness\n",
    "# from scipy.stats import skew\n",
    "#\n",
    "# for i, col in enumerate(high_schools.columns):\n",
    "#     if high_schools[col].dtype == object:\n",
    "#         continue\n",
    "#     sk = skew(high_schools[col], nan_policy='omit')\n",
    "#     if abs(sk) > 1:\n",
    "#         high_schools[col].fillna(high_schools[col].median(), inplace=True)\n",
    "#     else:\n",
    "#         high_schools[col].fillna(high_schools[col].mean(), inplace=True)"
   ],
   "metadata": {
    "collapsed": false,
    "pycharm": {
     "name": "#%%\n"
    }
   }
  },
  {
   "cell_type": "code",
   "execution_count": 13,
   "outputs": [
    {
     "data": {
      "text/plain": "LEA_STATE_NAME                0\nSCH_MATHCLASSES_ADVM          0\nSCH_MATHCERT_ADVM             0\nSCH_MATHENR_ADVM_HI_M         0\nSCH_MATHENR_ADVM_HI_F         0\n                             ..\nTOT_DISCWDIS_TFRALT_IDEA_F    0\nSCH_DISCWDIS_TFRALT_LEP_M     0\nSCH_DISCWDIS_TFRALT_LEP_F     0\nSCH_DISCWDIS_TFRALT_504_M     0\nSCH_DISCWDIS_TFRALT_504_F     0\nLength: 830, dtype: int64"
     },
     "execution_count": 13,
     "metadata": {},
     "output_type": "execute_result"
    }
   ],
   "source": [
    "X.isna().sum()"
   ],
   "metadata": {
    "collapsed": false,
    "pycharm": {
     "name": "#%%\n"
    }
   }
  },
  {
   "cell_type": "code",
   "execution_count": 14,
   "outputs": [],
   "source": [
    "X.to_csv('../data/processed_data.csv')"
   ],
   "metadata": {
    "collapsed": false,
    "pycharm": {
     "name": "#%%\n"
    }
   }
  },
  {
   "cell_type": "code",
   "execution_count": 15,
   "outputs": [],
   "source": [
    "X_all_tot = X.filter(regex=r'^TOT')"
   ],
   "metadata": {
    "collapsed": false,
    "pycharm": {
     "name": "#%%\n"
    }
   }
  },
  {
   "cell_type": "code",
   "execution_count": 16,
   "outputs": [
    {
     "data": {
      "text/plain": "<Figure size 432x288 with 1 Axes>",
      "image/png": "[encoded data removed]"
     },
     "metadata": {
      "needs_background": "light"
     },
     "output_type": "display_data"
    }
   ],
   "source": [
    "from sklearn.cluster import KMeans\n",
    "from sklearn.metrics import silhouette_score\n",
    "import matplotlib.pyplot as plt\n",
    "\n",
    "for k in range(2,15):\n",
    "    km = KMeans(n_clusters=k).fit(X_all_tot)\n",
    "    # score = silhouette_score(X, km.labels_)\n",
    "    plt.scatter(k, km.inertia_)"
   ],
   "metadata": {
    "collapsed": false,
    "pycharm": {
     "name": "#%%\n"
    }
   }
  },
  {
   "cell_type": "code",
   "execution_count": 17,
   "outputs": [],
   "source": [
    "km = KMeans(n_clusters=5).fit(X_all_tot)"
   ],
   "metadata": {
    "collapsed": false,
    "pycharm": {
     "name": "#%%\n"
    }
   }
  },
  {
   "cell_type": "code",
   "execution_count": 18,
   "outputs": [
    {
     "data": {
      "text/plain": "( 0.885209    329\n -1.626549     65\n -1.417236     50\n  0.257269     26\n -1.835863     24\n -0.370670     22\n  1.094522     19\n -0.998610     17\n  0.466583     15\n  0.047956     14\n  1.303836     12\n  0.675896      7\n -0.579983      6\n -0.789297      4\n -1.207923      1\n Name: LEA_STATE_NAME, dtype: int64,\n  0.885209    912\n -0.789297    429\n -0.370670    387\n  1.303836    385\n  0.047956    348\n  0.675896    234\n -1.207923    233\n -1.835863    232\n -0.579983    210\n  0.257269    174\n -0.998610    141\n -1.417236    134\n  0.466583    124\n  1.094522    101\n -0.161357     80\n -1.626549     71\n  1.513149     61\n Name: LEA_STATE_NAME, dtype: int64,\n  0.675896    69\n  0.885209    66\n -1.417236    45\n -1.207923    23\n  0.466583    12\n -0.789297     7\n -0.579983     5\n  0.257269     4\n  1.094522     4\n -1.626549     3\n -0.370670     1\n  0.047956     1\n Name: LEA_STATE_NAME, dtype: int64,\n  0.885209    295\n  1.303836    261\n -0.370670    173\n -1.417236    155\n  0.257269    155\n -1.626549    147\n -0.789297    108\n -1.835863     99\n  0.466583     74\n  0.675896     73\n -1.207923     62\n -0.998610     56\n  1.094522     53\n  0.047956     40\n -0.579983     22\n  1.513149      9\n -0.161357      8\n Name: LEA_STATE_NAME, dtype: int64,\n  0.257269    9\n  1.303836    5\n  0.885209    3\n  0.466583    1\n -0.998610    1\n  0.675896    1\n  1.094522    1\n Name: LEA_STATE_NAME, dtype: int64)"
     },
     "execution_count": 18,
     "metadata": {},
     "output_type": "execute_result"
    }
   ],
   "source": [
    "X[km.labels_==0]['LEA_STATE_NAME'].value_counts(),X[km.labels_==1]['LEA_STATE_NAME'].value_counts(),X[km.labels_==2]['LEA_STATE_NAME'].value_counts(),X[km.labels_==3]['LEA_STATE_NAME'].value_counts(),X[km.labels_==4]['LEA_STATE_NAME'].value_counts()"
   ],
   "metadata": {
    "collapsed": false,
    "pycharm": {
     "name": "#%%\n"
    }
   }
  },
  {
   "cell_type": "code",
   "execution_count": 19,
   "outputs": [
    {
     "data": {
      "text/plain": "4.947591026509678"
     },
     "execution_count": 19,
     "metadata": {},
     "output_type": "execute_result"
    }
   ],
   "source": [
    "from sklearn.linear_model import LinearRegression\n",
    "lr = LinearRegression().fit(X_all_tot,y)\n",
    "temp = lr.predict(X_all_tot)\n",
    "sum((temp-y)**2)/len(temp)"
   ],
   "metadata": {
    "collapsed": false,
    "pycharm": {
     "name": "#%%\n"
    }
   }
  },
  {
   "cell_type": "code",
   "execution_count": 20,
   "outputs": [
    {
     "data": {
      "text/plain": "   Column Finder            Field Name  \\\n0              A             LEA_STATE   \n1              B        LEA_STATE_NAME   \n2              C                 LEAID   \n3              D              LEA_NAME   \n4              E           LEA_ADDRESS   \n5              F              LEA_CITY   \n6              G               LEA_ZIP   \n7              H                   CJJ   \n8              I        LEA_DISTED_IND   \n9              J    LEA_DISTEDENR_HI_M   \n10             K    LEA_DISTEDENR_HI_F   \n11             L    LEA_DISTEDENR_AM_M   \n12             M    LEA_DISTEDENR_AM_F   \n13             N    LEA_DISTEDENR_AS_M   \n14             O    LEA_DISTEDENR_AS_F   \n15             P    LEA_DISTEDENR_HP_M   \n16             Q    LEA_DISTEDENR_HP_F   \n17             R    LEA_DISTEDENR_BL_M   \n18             S    LEA_DISTEDENR_BL_F   \n19             T    LEA_DISTEDENR_WH_M   \n20             U    LEA_DISTEDENR_WH_F   \n21             V    LEA_DISTEDENR_TR_M   \n22             W    LEA_DISTEDENR_TR_F   \n23             X       TOT_DISTEDENR_M   \n24             Y       TOT_DISTEDENR_F   \n25             Z   LEA_DISTEDENR_LEP_M   \n26            AA   LEA_DISTEDENR_LEP_F   \n27            AB  LEA_DISTEDENR_IDEA_M   \n28            AC  LEA_DISTEDENR_IDEA_F   \n\n                                    Field Description  \n0                                  State Abbreviation  \n1                                          State Name  \n2          7 Digit LEAID District Identification Code  \n3                                       District Name  \n4                                    District Address  \n5                                       District City  \n6                                   District Zip code  \n7   Juvenile Justice Facility (LEA): \"Yes\" indicat...  \n8   Distance Education Enrollment Indicator (LEA):...  \n9   Distance Education Enrollment (LEA):  Hispanic...  \n10  Distance Education Enrollment (LEA):  Hispanic...  \n11  Distance Education Enrollment (LEA):  American...  \n12  Distance Education Enrollment (LEA):  American...  \n13  Distance Education Enrollment (LEA):  Asian Male   \n14  Distance Education Enrollment (LEA):  Asian Fe...  \n15  Distance Education Enrollment (LEA):  Native H...  \n16  Distance Education Enrollment (LEA):  Native H...  \n17  Distance Education Enrollment (LEA):  Black Male   \n18  Distance Education Enrollment (LEA):  Black Fe...  \n19  Distance Education Enrollment (LEA):  White Male   \n20  Distance Education Enrollment (LEA):  White Fe...  \n21  Distance Education Enrollment (LEA):  Two or M...  \n22  Distance Education Enrollment (LEA):  Two or M...  \n23  Distance Education Enrollment (LEA):  Calculat...  \n24  Distance Education Enrollment (LEA):  Calculat...  \n25    Distance Education Enrollment (LEA):  LEP Male   \n26  Distance Education Enrollment (LEA):  LEP Female   \n27   Distance Education Enrollment (LEA):  IDEA Male   \n28  Distance Education Enrollment (LEA):  IDEA Fem...  ",
      "text/html": "<div>\n<style scoped>\n    .dataframe tbody tr th:only-of-type {\n        vertical-align: middle;\n    }\n\n    .dataframe tbody tr th {\n        vertical-align: top;\n    }\n\n    .dataframe thead th {\n        text-align: right;\n    }\n</style>\n<table border=\"1\" class=\"dataframe\">\n  <thead>\n    <tr style=\"text-align: right;\">\n      <th></th>\n      <th>Column Finder</th>\n      <th>Field Name</th>\n      <th>Field Description</th>\n    </tr>\n  </thead>\n  <tbody>\n    <tr>\n      <th>0</th>\n      <td>A</td>\n      <td>LEA_STATE</td>\n      <td>State Abbreviation</td>\n    </tr>\n    <tr>\n      <th>1</th>\n      <td>B</td>\n      <td>LEA_STATE_NAME</td>\n      <td>State Name</td>\n    </tr>\n    <tr>\n      <th>2</th>\n      <td>C</td>\n      <td>LEAID</td>\n      <td>7 Digit LEAID District Identification Code</td>\n    </tr>\n    <tr>\n      <th>3</th>\n      <td>D</td>\n      <td>LEA_NAME</td>\n      <td>District Name</td>\n    </tr>\n    <tr>\n      <th>4</th>\n      <td>E</td>\n      <td>LEA_ADDRESS</td>\n      <td>District Address</td>\n    </tr>\n    <tr>\n      <th>5</th>\n      <td>F</td>\n      <td>LEA_CITY</td>\n      <td>District City</td>\n    </tr>\n    <tr>\n      <th>6</th>\n      <td>G</td>\n      <td>LEA_ZIP</td>\n      <td>District Zip code</td>\n    </tr>\n    <tr>\n      <th>7</th>\n      <td>H</td>\n      <td>CJJ</td>\n      <td>Juvenile Justice Facility (LEA): \"Yes\" indicat...</td>\n    </tr>\n    <tr>\n      <th>8</th>\n      <td>I</td>\n      <td>LEA_DISTED_IND</td>\n      <td>Distance Education Enrollment Indicator (LEA):...</td>\n    </tr>\n    <tr>\n      <th>9</th>\n      <td>J</td>\n      <td>LEA_DISTEDENR_HI_M</td>\n      <td>Distance Education Enrollment (LEA):  Hispanic...</td>\n    </tr>\n    <tr>\n      <th>10</th>\n      <td>K</td>\n      <td>LEA_DISTEDENR_HI_F</td>\n      <td>Distance Education Enrollment (LEA):  Hispanic...</td>\n    </tr>\n    <tr>\n      <th>11</th>\n      <td>L</td>\n      <td>LEA_DISTEDENR_AM_M</td>\n      <td>Distance Education Enrollment (LEA):  American...</td>\n    </tr>\n    <tr>\n      <th>12</th>\n      <td>M</td>\n      <td>LEA_DISTEDENR_AM_F</td>\n      <td>Distance Education Enrollment (LEA):  American...</td>\n    </tr>\n    <tr>\n      <th>13</th>\n      <td>N</td>\n      <td>LEA_DISTEDENR_AS_M</td>\n      <td>Distance Education Enrollment (LEA):  Asian Male</td>\n    </tr>\n    <tr>\n      <th>14</th>\n      <td>O</td>\n      <td>LEA_DISTEDENR_AS_F</td>\n      <td>Distance Education Enrollment (LEA):  Asian Fe...</td>\n    </tr>\n    <tr>\n      <th>15</th>\n      <td>P</td>\n      <td>LEA_DISTEDENR_HP_M</td>\n      <td>Distance Education Enrollment (LEA):  Native H...</td>\n    </tr>\n    <tr>\n      <th>16</th>\n      <td>Q</td>\n      <td>LEA_DISTEDENR_HP_F</td>\n      <td>Distance Education Enrollment (LEA):  Native H...</td>\n    </tr>\n    <tr>\n      <th>17</th>\n      <td>R</td>\n      <td>LEA_DISTEDENR_BL_M</td>\n      <td>Distance Education Enrollment (LEA):  Black Male</td>\n    </tr>\n    <tr>\n      <th>18</th>\n      <td>S</td>\n      <td>LEA_DISTEDENR_BL_F</td>\n      <td>Distance Education Enrollment (LEA):  Black Fe...</td>\n    </tr>\n    <tr>\n      <th>19</th>\n      <td>T</td>\n      <td>LEA_DISTEDENR_WH_M</td>\n      <td>Distance Education Enrollment (LEA):  White Male</td>\n    </tr>\n    <tr>\n      <th>20</th>\n      <td>U</td>\n      <td>LEA_DISTEDENR_WH_F</td>\n      <td>Distance Education Enrollment (LEA):  White Fe...</td>\n    </tr>\n    <tr>\n      <th>21</th>\n      <td>V</td>\n      <td>LEA_DISTEDENR_TR_M</td>\n      <td>Distance Education Enrollment (LEA):  Two or M...</td>\n    </tr>\n    <tr>\n      <th>22</th>\n      <td>W</td>\n      <td>LEA_DISTEDENR_TR_F</td>\n      <td>Distance Education Enrollment (LEA):  Two or M...</td>\n    </tr>\n    <tr>\n      <th>23</th>\n      <td>X</td>\n      <td>TOT_DISTEDENR_M</td>\n      <td>Distance Education Enrollment (LEA):  Calculat...</td>\n    </tr>\n    <tr>\n      <th>24</th>\n      <td>Y</td>\n      <td>TOT_DISTEDENR_F</td>\n      <td>Distance Education Enrollment (LEA):  Calculat...</td>\n    </tr>\n    <tr>\n      <th>25</th>\n      <td>Z</td>\n      <td>LEA_DISTEDENR_LEP_M</td>\n      <td>Distance Education Enrollment (LEA):  LEP Male</td>\n    </tr>\n    <tr>\n      <th>26</th>\n      <td>AA</td>\n      <td>LEA_DISTEDENR_LEP_F</td>\n      <td>Distance Education Enrollment (LEA):  LEP Female</td>\n    </tr>\n    <tr>\n      <th>27</th>\n      <td>AB</td>\n      <td>LEA_DISTEDENR_IDEA_M</td>\n      <td>Distance Education Enrollment (LEA):  IDEA Male</td>\n    </tr>\n    <tr>\n      <th>28</th>\n      <td>AC</td>\n      <td>LEA_DISTEDENR_IDEA_F</td>\n      <td>Distance Education Enrollment (LEA):  IDEA Fem...</td>\n    </tr>\n  </tbody>\n</table>\n</div>"
     },
     "execution_count": 20,
     "metadata": {},
     "output_type": "execute_result"
    }
   ],
   "source": [
    "col_groups= pd.read_excel('../data/2017-18-crdc-data/Documentation/2017-18 CRDC File Structure.xlsx', sheet_name=None)\n",
    "col_groups.pop('LEA Characteristics')\n",
    "col_groups.pop('High School Equivalency (GED)')\n",
    "col_groups.pop('Distance Education')"
   ],
   "metadata": {
    "collapsed": false,
    "pycharm": {
     "name": "#%%\n"
    }
   }
  },
  {
   "cell_type": "code",
   "execution_count": 21,
   "outputs": [],
   "source": [
    "from sklearn.decomposition import PCA\n",
    "X_components = np.empty((len(col_groups),X.shape[1]))\n",
    "means = []\n",
    "for i, (name, group) in enumerate(col_groups.items()):\n",
    "    # full_component = np.empty(X.shape[1])\n",
    "    subset = np.intersect1d(group['Field Name'].iloc[8:], X.columns)\n",
    "    if len(subset) == 0:\n",
    "        continue\n",
    "    pca = PCA(1).fit(X[subset])\n",
    "    component = pca.components_\n",
    "    means+=list(pca.mean_)\n",
    "    X_components[i, list(map(lambda x: X.columns.get_loc(x), subset))] = component"
   ],
   "metadata": {
    "collapsed": false,
    "pycharm": {
     "name": "#%%\n"
    }
   }
  },
  {
   "cell_type": "code",
   "execution_count": 22,
   "outputs": [],
   "source": [
    "# manually transform principle components\n",
    "X_reduced = np.dot(X-X.mean(),X_components.T)[:,1:]"
   ],
   "metadata": {
    "collapsed": false,
    "pycharm": {
     "name": "#%%\n"
    }
   }
  },
  {
   "cell_type": "code",
   "execution_count": 23,
   "outputs": [
    {
     "data": {
      "text/plain": "      LEA_STATE_NAME  SCH_MATHCLASSES_ADVM  SCH_MATHCERT_ADVM  \\\n0          -0.370670              0.161024          -0.569859   \n1          -0.370670              0.567727          -0.569859   \n2          -0.370670             -0.449032          -0.683923   \n3          -0.370670              0.161024          -0.341731   \n4          -0.370670              0.974430          -0.455795   \n...              ...                   ...                ...   \n6913        1.513149             -0.855735          -0.683923   \n6914        1.513149             -0.245680          -0.113602   \n6915        1.513149             -0.144004           0.000462   \n6916        1.513149             -0.652383          -0.569859   \n6917        1.513149             -0.652383          -0.569859   \n\n      SCH_MATHENR_ADVM_HI_M  SCH_MATHENR_ADVM_HI_F  SCH_MATHENR_ADVM_AM_M  \\\n0                 -0.234065              -0.201334               0.341832   \n1                 -0.182474              -0.151169               0.341832   \n2                 -0.234065              -0.326746              -0.240601   \n3                  0.127076              -0.050840              -0.240601   \n4                 -0.105086               0.250148               0.341832   \n...                     ...                    ...                    ...   \n6913              -0.393999              -0.407009              -0.240601   \n6914              -0.105086              -0.050840              -0.240601   \n6915               0.023893               0.024407              -0.240601   \n6916              -0.414636              -0.427075              -0.240601   \n6917              -0.414636              -0.427075              -0.240601   \n\n      SCH_MATHENR_ADVM_AM_F  SCH_MATHENR_ADVM_AS_M  SCH_MATHENR_ADVM_AS_F  \\\n0                  0.222020               0.009494              -0.301243   \n1                  1.575265              -0.284454              -0.301243   \n2                 -0.229062              -0.137480              -0.227605   \n3                 -0.229062              -0.063993              -0.006693   \n4                 -0.229062              -0.063993              -0.227605   \n...                     ...                    ...                    ...   \n6913              -0.229062              -0.284454              -0.301243   \n6914              -0.229062              -0.284454              -0.227605   \n6915              -0.229062              -0.284454              -0.227605   \n6916              -0.229062              -0.284454              -0.301243   \n6917              -0.229062              -0.284454              -0.301243   \n\n      SCH_MATHENR_ADVM_HP_M  ...  SCH_DISCWDIS_TFRALT_IDEA_WH_M  \\\n0                 -0.202043  ...                      -0.202925   \n1                 -0.202043  ...                      -0.202925   \n2                 -0.202043  ...                      -0.202925   \n3                 -0.202043  ...                      -0.202925   \n4                  1.778875  ...                      -0.202925   \n...                     ...  ...                            ...   \n6913              -0.202043  ...                      -0.202925   \n6914              -0.202043  ...                      -0.202925   \n6915              -0.202043  ...                      -0.202925   \n6916              -0.202043  ...                      -0.202925   \n6917              -0.202043  ...                      -0.202925   \n\n      SCH_DISCWDIS_TFRALT_IDEA_WH_F  SCH_DISCWDIS_TFRALT_IDEA_TR_M  \\\n0                         -0.127021                      -0.097642   \n1                         -0.127021                      -0.097642   \n2                         -0.127021                      -0.097642   \n3                         -0.127021                      -0.097642   \n4                         -0.127021                      -0.097642   \n...                             ...                            ...   \n6913                      -0.127021                      -0.097642   \n6914                      -0.127021                      -0.097642   \n6915                      -0.127021                      -0.097642   \n6916                      -0.127021                      -0.097642   \n6917                      -0.127021                      -0.097642   \n\n      SCH_DISCWDIS_TFRALT_IDEA_TR_F  TOT_DISCWDIS_TFRALT_IDEA_M  \\\n0                         -0.055902                   -0.265758   \n1                         -0.055902                   -0.265758   \n2                         -0.055902                   -0.265758   \n3                         -0.055902                   -0.265758   \n4                         -0.055902                   -0.265758   \n...                             ...                         ...   \n6913                      -0.055902                   -0.265758   \n6914                      -0.055902                   -0.265758   \n6915                      -0.055902                   -0.265758   \n6916                      -0.055902                   -0.265758   \n6917                      -0.055902                   -0.265758   \n\n      TOT_DISCWDIS_TFRALT_IDEA_F  SCH_DISCWDIS_TFRALT_LEP_M  \\\n0                      -0.191704                  -0.104003   \n1                      -0.191704                  -0.104003   \n2                      -0.191704                  -0.104003   \n3                      -0.191704                  -0.104003   \n4                      -0.191704                  -0.104003   \n...                          ...                        ...   \n6913                   -0.191704                  -0.104003   \n6914                   -0.191704                  -0.104003   \n6915                   -0.191704                  -0.104003   \n6916                   -0.191704                  -0.104003   \n6917                   -0.191704                  -0.104003   \n\n      SCH_DISCWDIS_TFRALT_LEP_F  SCH_DISCWDIS_TFRALT_504_M  \\\n0                     -0.054456                  -0.151187   \n1                     -0.054456                  -0.151187   \n2                     -0.054456                  -0.151187   \n3                     -0.054456                  -0.151187   \n4                     -0.054456                  -0.151187   \n...                         ...                        ...   \n6913                  -0.054456                  -0.151187   \n6914                  -0.054456                  -0.151187   \n6915                  -0.054456                  -0.151187   \n6916                  -0.054456                  -0.151187   \n6917                  -0.054456                  -0.151187   \n\n      SCH_DISCWDIS_TFRALT_504_F  \n0                     -0.107252  \n1                     -0.107252  \n2                     -0.107252  \n3                     -0.107252  \n4                     -0.107252  \n...                         ...  \n6913                  -0.107252  \n6914                  -0.107252  \n6915                  -0.107252  \n6916                  -0.107252  \n6917                  -0.107252  \n\n[6918 rows x 830 columns]",
      "text/html": "<div>\n<style scoped>\n    .dataframe tbody tr th:only-of-type {\n        vertical-align: middle;\n    }\n\n    .dataframe tbody tr th {\n        vertical-align: top;\n    }\n\n    .dataframe thead th {\n        text-align: right;\n    }\n</style>\n<table border=\"1\" class=\"dataframe\">\n  <thead>\n    <tr style=\"text-align: right;\">\n      <th></th>\n      <th>LEA_STATE_NAME</th>\n      <th>SCH_MATHCLASSES_ADVM</th>\n      <th>SCH_MATHCERT_ADVM</th>\n      <th>SCH_MATHENR_ADVM_HI_M</th>\n      <th>SCH_MATHENR_ADVM_HI_F</th>\n      <th>SCH_MATHENR_ADVM_AM_M</th>\n      <th>SCH_MATHENR_ADVM_AM_F</th>\n      <th>SCH_MATHENR_ADVM_AS_M</th>\n      <th>SCH_MATHENR_ADVM_AS_F</th>\n      <th>SCH_MATHENR_ADVM_HP_M</th>\n      <th>...</th>\n      <th>SCH_DISCWDIS_TFRALT_IDEA_WH_M</th>\n      <th>SCH_DISCWDIS_TFRALT_IDEA_WH_F</th>\n      <th>SCH_DISCWDIS_TFRALT_IDEA_TR_M</th>\n      <th>SCH_DISCWDIS_TFRALT_IDEA_TR_F</th>\n      <th>TOT_DISCWDIS_TFRALT_IDEA_M</th>\n      <th>TOT_DISCWDIS_TFRALT_IDEA_F</th>\n      <th>SCH_DISCWDIS_TFRALT_LEP_M</th>\n      <th>SCH_DISCWDIS_TFRALT_LEP_F</th>\n      <th>SCH_DISCWDIS_TFRALT_504_M</th>\n      <th>SCH_DISCWDIS_TFRALT_504_F</th>\n    </tr>\n  </thead>\n  <tbody>\n    <tr>\n      <th>0</th>\n      <td>-0.370670</td>\n      <td>0.161024</td>\n      <td>-0.569859</td>\n      <td>-0.234065</td>\n      <td>-0.201334</td>\n      <td>0.341832</td>\n      <td>0.222020</td>\n      <td>0.009494</td>\n      <td>-0.301243</td>\n      <td>-0.202043</td>\n      <td>...</td>\n      <td>-0.202925</td>\n      <td>-0.127021</td>\n      <td>-0.097642</td>\n      <td>-0.055902</td>\n      <td>-0.265758</td>\n      <td>-0.191704</td>\n      <td>-0.104003</td>\n      <td>-0.054456</td>\n      <td>-0.151187</td>\n      <td>-0.107252</td>\n    </tr>\n    <tr>\n      <th>1</th>\n      <td>-0.370670</td>\n      <td>0.567727</td>\n      <td>-0.569859</td>\n      <td>-0.182474</td>\n      <td>-0.151169</td>\n      <td>0.341832</td>\n      <td>1.575265</td>\n      <td>-0.284454</td>\n      <td>-0.301243</td>\n      <td>-0.202043</td>\n      <td>...</td>\n      <td>-0.202925</td>\n      <td>-0.127021</td>\n      <td>-0.097642</td>\n      <td>-0.055902</td>\n      <td>-0.265758</td>\n      <td>-0.191704</td>\n      <td>-0.104003</td>\n      <td>-0.054456</td>\n      <td>-0.151187</td>\n      <td>-0.107252</td>\n    </tr>\n    <tr>\n      <th>2</th>\n      <td>-0.370670</td>\n      <td>-0.449032</td>\n      <td>-0.683923</td>\n      <td>-0.234065</td>\n      <td>-0.326746</td>\n      <td>-0.240601</td>\n      <td>-0.229062</td>\n      <td>-0.137480</td>\n      <td>-0.227605</td>\n      <td>-0.202043</td>\n      <td>...</td>\n      <td>-0.202925</td>\n      <td>-0.127021</td>\n      <td>-0.097642</td>\n      <td>-0.055902</td>\n      <td>-0.265758</td>\n      <td>-0.191704</td>\n      <td>-0.104003</td>\n      <td>-0.054456</td>\n      <td>-0.151187</td>\n      <td>-0.107252</td>\n    </tr>\n    <tr>\n      <th>3</th>\n      <td>-0.370670</td>\n      <td>0.161024</td>\n      <td>-0.341731</td>\n      <td>0.127076</td>\n      <td>-0.050840</td>\n      <td>-0.240601</td>\n      <td>-0.229062</td>\n      <td>-0.063993</td>\n      <td>-0.006693</td>\n      <td>-0.202043</td>\n      <td>...</td>\n      <td>-0.202925</td>\n      <td>-0.127021</td>\n      <td>-0.097642</td>\n      <td>-0.055902</td>\n      <td>-0.265758</td>\n      <td>-0.191704</td>\n      <td>-0.104003</td>\n      <td>-0.054456</td>\n      <td>-0.151187</td>\n      <td>-0.107252</td>\n    </tr>\n    <tr>\n      <th>4</th>\n      <td>-0.370670</td>\n      <td>0.974430</td>\n      <td>-0.455795</td>\n      <td>-0.105086</td>\n      <td>0.250148</td>\n      <td>0.341832</td>\n      <td>-0.229062</td>\n      <td>-0.063993</td>\n      <td>-0.227605</td>\n      <td>1.778875</td>\n      <td>...</td>\n      <td>-0.202925</td>\n      <td>-0.127021</td>\n      <td>-0.097642</td>\n      <td>-0.055902</td>\n      <td>-0.265758</td>\n      <td>-0.191704</td>\n      <td>-0.104003</td>\n      <td>-0.054456</td>\n      <td>-0.151187</td>\n      <td>-0.107252</td>\n    </tr>\n    <tr>\n      <th>...</th>\n      <td>...</td>\n      <td>...</td>\n      <td>...</td>\n      <td>...</td>\n      <td>...</td>\n      <td>...</td>\n      <td>...</td>\n      <td>...</td>\n      <td>...</td>\n      <td>...</td>\n      <td>...</td>\n      <td>...</td>\n      <td>...</td>\n      <td>...</td>\n      <td>...</td>\n      <td>...</td>\n      <td>...</td>\n      <td>...</td>\n      <td>...</td>\n      <td>...</td>\n      <td>...</td>\n    </tr>\n    <tr>\n      <th>6913</th>\n      <td>1.513149</td>\n      <td>-0.855735</td>\n      <td>-0.683923</td>\n      <td>-0.393999</td>\n      <td>-0.407009</td>\n      <td>-0.240601</td>\n      <td>-0.229062</td>\n      <td>-0.284454</td>\n      <td>-0.301243</td>\n      <td>-0.202043</td>\n      <td>...</td>\n      <td>-0.202925</td>\n      <td>-0.127021</td>\n      <td>-0.097642</td>\n      <td>-0.055902</td>\n      <td>-0.265758</td>\n      <td>-0.191704</td>\n      <td>-0.104003</td>\n      <td>-0.054456</td>\n      <td>-0.151187</td>\n      <td>-0.107252</td>\n    </tr>\n    <tr>\n      <th>6914</th>\n      <td>1.513149</td>\n      <td>-0.245680</td>\n      <td>-0.113602</td>\n      <td>-0.105086</td>\n      <td>-0.050840</td>\n      <td>-0.240601</td>\n      <td>-0.229062</td>\n      <td>-0.284454</td>\n      <td>-0.227605</td>\n      <td>-0.202043</td>\n      <td>...</td>\n      <td>-0.202925</td>\n      <td>-0.127021</td>\n      <td>-0.097642</td>\n      <td>-0.055902</td>\n      <td>-0.265758</td>\n      <td>-0.191704</td>\n      <td>-0.104003</td>\n      <td>-0.054456</td>\n      <td>-0.151187</td>\n      <td>-0.107252</td>\n    </tr>\n    <tr>\n      <th>6915</th>\n      <td>1.513149</td>\n      <td>-0.144004</td>\n      <td>0.000462</td>\n      <td>0.023893</td>\n      <td>0.024407</td>\n      <td>-0.240601</td>\n      <td>-0.229062</td>\n      <td>-0.284454</td>\n      <td>-0.227605</td>\n      <td>-0.202043</td>\n      <td>...</td>\n      <td>-0.202925</td>\n      <td>-0.127021</td>\n      <td>-0.097642</td>\n      <td>-0.055902</td>\n      <td>-0.265758</td>\n      <td>-0.191704</td>\n      <td>-0.104003</td>\n      <td>-0.054456</td>\n      <td>-0.151187</td>\n      <td>-0.107252</td>\n    </tr>\n    <tr>\n      <th>6916</th>\n      <td>1.513149</td>\n      <td>-0.652383</td>\n      <td>-0.569859</td>\n      <td>-0.414636</td>\n      <td>-0.427075</td>\n      <td>-0.240601</td>\n      <td>-0.229062</td>\n      <td>-0.284454</td>\n      <td>-0.301243</td>\n      <td>-0.202043</td>\n      <td>...</td>\n      <td>-0.202925</td>\n      <td>-0.127021</td>\n      <td>-0.097642</td>\n      <td>-0.055902</td>\n      <td>-0.265758</td>\n      <td>-0.191704</td>\n      <td>-0.104003</td>\n      <td>-0.054456</td>\n      <td>-0.151187</td>\n      <td>-0.107252</td>\n    </tr>\n    <tr>\n      <th>6917</th>\n      <td>1.513149</td>\n      <td>-0.652383</td>\n      <td>-0.569859</td>\n      <td>-0.414636</td>\n      <td>-0.427075</td>\n      <td>-0.240601</td>\n      <td>-0.229062</td>\n      <td>-0.284454</td>\n      <td>-0.301243</td>\n      <td>-0.202043</td>\n      <td>...</td>\n      <td>-0.202925</td>\n      <td>-0.127021</td>\n      <td>-0.097642</td>\n      <td>-0.055902</td>\n      <td>-0.265758</td>\n      <td>-0.191704</td>\n      <td>-0.104003</td>\n      <td>-0.054456</td>\n      <td>-0.151187</td>\n      <td>-0.107252</td>\n    </tr>\n  </tbody>\n</table>\n<p>6918 rows × 830 columns</p>\n</div>"
     },
     "execution_count": 23,
     "metadata": {},
     "output_type": "execute_result"
    }
   ],
   "source": [
    "X-X.mean()"
   ],
   "metadata": {
    "collapsed": false,
    "pycharm": {
     "name": "#%%\n"
    }
   }
  },
  {
   "cell_type": "code",
   "execution_count": 26,
   "outputs": [],
   "source": [
    "wcss = []\n",
    "\n",
    "for i in range(2,50):\n",
    "    km = KMeans(i)\n",
    "    km.fit(X_reduced)\n",
    "    wcss.append(km.inertia_)"
   ],
   "metadata": {
    "collapsed": false,
    "pycharm": {
     "name": "#%%\n"
    }
   }
  },
  {
   "cell_type": "code",
   "execution_count": 28,
   "outputs": [
    {
     "data": {
      "text/plain": "<Figure size 432x288 with 1 Axes>",
      "image/png": "[encoded data removed]"
     },
     "metadata": {
      "needs_background": "light"
     },
     "output_type": "display_data"
    }
   ],
   "source": [
    "plt.plot(range(2,50), wcss, marker='o', linestyle='--')\n",
    "plt.show()"
   ],
   "metadata": {
    "collapsed": false,
    "pycharm": {
     "name": "#%%\n"
    }
   }
  },
  {
   "cell_type": "code",
   "execution_count": 34,
   "outputs": [
    {
     "data": {
      "text/plain": "<Figure size 432x288 with 1 Axes>",
      "image/png": "[encoded data removed]"
     },
     "metadata": {
      "needs_background": "light"
     },
     "output_type": "display_data"
    }
   ],
   "source": [
    "from sklearn.metrics import silhouette_score\n",
    "for i in range(2,18):\n",
    "    km = KMeans(i)\n",
    "    km.fit(X_reduced)\n",
    "    plt.scatter(i, silhouette_score(X_reduced, km.labels_, metric='euclidean'))"
   ],
   "metadata": {
    "collapsed": false,
    "pycharm": {
     "name": "#%%\n"
    }
   }
  }
 ],
 "metadata": {
  "kernelspec": {
   "display_name": "Python 3",
   "language": "python",
   "name": "python3"
  },
  "language_info": {
   "codemirror_mode": {
    "name": "ipython",
    "version": 2
   },
   "file_extension": ".py",
   "mimetype": "text/x-python",
   "name": "python",
   "nbconvert_exporter": "python",
   "pygments_lexer": "ipython2",
   "version": "2.7.6"
  }
 },
 "nbformat": 4,
 "nbformat_minor": 0
}