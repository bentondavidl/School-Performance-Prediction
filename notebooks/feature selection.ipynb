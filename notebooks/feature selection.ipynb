{
 "cells": [
  {
   "cell_type": "code",
   "execution_count": 1,
   "outputs": [],
   "source": [
    "import pandas as pd\n",
    "import numpy as np"
   ],
   "metadata": {
    "collapsed": false,
    "pycharm": {
     "name": "#%%\n"
    }
   }
  },
  {
   "cell_type": "code",
   "execution_count": 2,
   "outputs": [
    {
     "name": "stderr",
     "output_type": "stream",
     "text": [
      "C:\\Users\\David\\miniconda3\\lib\\site-packages\\IPython\\core\\interactiveshell.py:3251: DtypeWarning: Columns (804,805,1040,1041,1159,1160,1203) have mixed types.Specify dtype option on import or set low_memory=False.\n",
      "  exec(code_obj, self.user_global_ns, self.user_ns)\n"
     ]
    }
   ],
   "source": [
    "high_schools = pd.read_csv('../data/full_highschool_data.csv')\n",
    "high_schools.dropna(subset=['ACT'], inplace=True)"
   ],
   "metadata": {
    "collapsed": false,
    "pycharm": {
     "name": "#%%\n"
    }
   }
  },
  {
   "cell_type": "code",
   "execution_count": 3,
   "metadata": {
    "collapsed": true
   },
   "outputs": [
    {
     "data": {
      "text/plain": "SCH_HBREPORTED_DIS_WH_F       1.0\nSCH_DISCWODIS_MULTOOS_AM_M    1.0\nSCH_DISCWODIS_MULTOOS_WH_F    1.0\nSCH_DISCWODIS_MULTOOS_WH_M    1.0\nSCH_DISCWODIS_MULTOOS_BL_F    1.0\n                             ... \nTOT_DISCWODIS_EXPZT_F         0.0\nTOT_DISCWODIS_EXPZT_M         0.0\nSCH_DISCWODIS_EXPZT_TR_F      0.0\nSCH_DISCWODIS_EXPZT_TR_M      0.0\nACT                           0.0\nLength: 1397, dtype: float64"
     },
     "execution_count": 3,
     "metadata": {},
     "output_type": "execute_result"
    }
   ],
   "source": [
    "# sort columns by percentage NA\n",
    "(high_schools.isna().sum()/high_schools.shape[0]).sort_values(ascending=False)"
   ]
  },
  {
   "cell_type": "code",
   "execution_count": 4,
   "outputs": [
    {
     "data": {
      "text/plain": "(6918, 914)"
     },
     "execution_count": 4,
     "metadata": {},
     "output_type": "execute_result"
    }
   ],
   "source": [
    "# drop columns with no data\n",
    "high_schools = high_schools.dropna(axis=1, how='all')\n",
    "high_schools.shape"
   ],
   "metadata": {
    "collapsed": false,
    "pycharm": {
     "name": "#%%\n"
    }
   }
  },
  {
   "cell_type": "code",
   "execution_count": 5,
   "outputs": [],
   "source": [
    "# fill in values for missing indicators\n",
    "high_schools['SCH_FIREARM_IND'].fillna(False, inplace=True)\n",
    "high_schools['SCH_HOMICIDE_IND'].fillna(False, inplace=True)\n",
    "high_schools['SCH_RET_G09_IND'].fillna(False, inplace=True)\n",
    "high_schools['SCH_RET_G10_IND'].fillna(False, inplace=True)\n",
    "high_schools['SCH_RET_G11_IND'].fillna(False, inplace=True)\n",
    "high_schools['SCH_SSCLASSES_IND'].fillna(False, inplace=True)\n",
    "high_schools['SCH_APSEL'].fillna(False, inplace=True)\n",
    "high_schools['SCH_APMATHENR_IND'].fillna(False, inplace=True)\n",
    "high_schools['SCH_APSCIENR_IND'].fillna(False, inplace=True)\n",
    "high_schools['SCH_APOTHENR_IND'].fillna(False, inplace=True)"
   ],
   "metadata": {
    "collapsed": false,
    "pycharm": {
     "name": "#%%\n"
    }
   }
  },
  {
   "cell_type": "code",
   "execution_count": 6,
   "outputs": [],
   "source": [
    "# fix enrolment for special cases\n",
    "high_schools[~high_schools['SCH_APENR_IND']].filter(regex=r'.*_AP.*',axis=1).fillna(0, inplace=True)\n",
    "high_schools[~high_schools['SCH_CORPINSTANCES_IND']].filter(regex=r'.*_(DISCWO?DIS|CORPINSTANCES).*',axis=1).fillna(0, inplace=True)\n",
    "high_schools[~high_schools['SCH_CREDITRECOVERY_IND']].filter(regex=r'.*_CREDITRECOVERY.*',axis=1).fillna(0, inplace=True)\n",
    "high_schools[~high_schools['SCH_DUAL_IND']].filter(regex=r'.*_DUAL.*',axis=1).fillna(0, inplace=True)\n",
    "high_schools[~high_schools['SCH_GT_IND']].filter(regex=r'.*_GTENR.*',axis=1).fillna(0, inplace=True)\n",
    "high_schools[~high_schools['SCH_IBENR_IND']].filter(regex=r'.*_IB.*',axis=1).fillna(0, inplace=True)\n",
    "high_schools[~high_schools['SCH_SSCLASSES_IND']].filter(regex=r'.*_SSCLASSES.*',axis=1).fillna(0, inplace=True)\n",
    "high_schools[~high_schools['SCH_SSATHLETICS_IND']].filter(regex=r'.*_SS(SPORTS|TEAMS|PART).*',axis=1).fillna(0, inplace=True)"
   ],
   "metadata": {
    "collapsed": false,
    "pycharm": {
     "name": "#%%\n"
    }
   }
  },
  {
   "cell_type": "code",
   "execution_count": 7,
   "outputs": [
    {
     "data": {
      "text/plain": "(6918, 837)"
     },
     "execution_count": 7,
     "metadata": {},
     "output_type": "execute_result"
    }
   ],
   "source": [
    "# drop columns with more than 60% na vals\n",
    "high_schools = high_schools.dropna(axis=1, thresh=int(high_schools.shape[0]*(1-.6)))\n",
    "high_schools.shape"
   ],
   "metadata": {
    "collapsed": false,
    "pycharm": {
     "name": "#%%\n"
    }
   }
  },
  {
   "cell_type": "code",
   "execution_count": 8,
   "outputs": [],
   "source": [
    "# mark state and district name as a categorical variable\n",
    "from sklearn.preprocessing import OrdinalEncoder\n",
    "high_schools['LEA_STATE_NAME'] = OrdinalEncoder().fit_transform(high_schools['LEA_STATE_NAME'].to_numpy().reshape(-1,1))\n",
    "high_schools['LEA_NAME'] = OrdinalEncoder().fit_transform(high_schools['LEA_NAME'].to_numpy().reshape(-1,1))"
   ],
   "metadata": {
    "collapsed": false,
    "pycharm": {
     "name": "#%%\n"
    }
   }
  },
  {
   "cell_type": "code",
   "execution_count": 9,
   "outputs": [],
   "source": [
    "g = high_schools.columns.to_series().groupby(high_schools.dtypes).groups\n",
    "high_schools = high_schools.loc[:,~high_schools.columns.isin({k.name: v for k, v in g.items()}['object'])]\n",
    "X = high_schools.iloc[:,:-1]\n",
    "y = high_schools['ACT']"
   ],
   "metadata": {
    "collapsed": false,
    "pycharm": {
     "name": "#%%\n"
    }
   }
  },
  {
   "cell_type": "code",
   "execution_count": 10,
   "outputs": [],
   "source": [
    "from sklearn.impute import KNNImputer\n",
    "X = KNNImputer().fit_transform(X)"
   ],
   "metadata": {
    "collapsed": false,
    "pycharm": {
     "name": "#%%\n"
    }
   }
  },
  {
   "cell_type": "code",
   "execution_count": 11,
   "outputs": [],
   "source": [
    "# replace missing data with either mean or median depending on skewness\n",
    "# from scipy.stats import skew\n",
    "#\n",
    "# for i, col in enumerate(high_schools.columns):\n",
    "#     if high_schools[col].dtype == object:\n",
    "#         continue\n",
    "#     sk = skew(high_schools[col], nan_policy='omit')\n",
    "#     if abs(sk) > 1:\n",
    "#         high_schools[col].fillna(high_schools[col].median(), inplace=True)\n",
    "#     else:\n",
    "#         high_schools[col].fillna(high_schools[col].mean(), inplace=True)"
   ],
   "metadata": {
    "collapsed": false,
    "pycharm": {
     "name": "#%%\n"
    }
   }
  },
  {
   "cell_type": "code",
   "execution_count": 16,
   "outputs": [
    {
     "data": {
      "text/plain": "0"
     },
     "execution_count": 16,
     "metadata": {},
     "output_type": "execute_result"
    }
   ],
   "source": [
    "np.isnan(X).sum()"
   ],
   "metadata": {
    "collapsed": false,
    "pycharm": {
     "name": "#%%\n"
    }
   }
  }
 ],
 "metadata": {
  "kernelspec": {
   "display_name": "Python 3",
   "language": "python",
   "name": "python3"
  },
  "language_info": {
   "codemirror_mode": {
    "name": "ipython",
    "version": 2
   },
   "file_extension": ".py",
   "mimetype": "text/x-python",
   "name": "python",
   "nbconvert_exporter": "python",
   "pygments_lexer": "ipython2",
   "version": "2.7.6"
  }
 },
 "nbformat": 4,
 "nbformat_minor": 0
}