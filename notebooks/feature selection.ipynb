{
 "cells": [
  {
   "cell_type": "code",
   "execution_count": 1,
   "metadata": {
    "collapsed": false,
    "pycharm": {
     "name": "#%%\n"
    }
   },
   "outputs": [],
   "source": [
    "import pandas as pd\n",
    "import numpy as np"
   ]
  },
  {
   "cell_type": "code",
   "execution_count": 2,
   "metadata": {
    "collapsed": false,
    "pycharm": {
     "name": "#%%\n"
    }
   },
   "outputs": [
    {
     "name": "stderr",
     "output_type": "stream",
     "text": [
      "C:\\Users\\David\\AppData\\Local\\Temp\\ipykernel_19704\\1127357357.py:1: DtypeWarning: Columns (804,805,1040,1041,1159,1160,1203) have mixed types. Specify dtype option on import or set low_memory=False.\n",
      "  high_schools = pd.read_csv('../data/full_highschool_data.csv')\n"
     ]
    }
   ],
   "source": [
    "high_schools = pd.read_csv('../data/full_highschool_data.csv')\n",
    "high_schools.dropna(subset=['ACT'], inplace=True)"
   ]
  },
  {
   "cell_type": "code",
   "execution_count": 3,
   "metadata": {
    "collapsed": true
   },
   "outputs": [
    {
     "data": {
      "text/plain": "SCH_HBREPORTED_DIS_WH_F       1.0\nSCH_DISCWODIS_MULTOOS_AM_M    1.0\nSCH_DISCWODIS_MULTOOS_WH_F    1.0\nSCH_DISCWODIS_MULTOOS_WH_M    1.0\nSCH_DISCWODIS_MULTOOS_BL_F    1.0\n                             ... \nTOT_DISCWODIS_EXPZT_F         0.0\nTOT_DISCWODIS_EXPZT_M         0.0\nSCH_DISCWODIS_EXPZT_TR_F      0.0\nSCH_DISCWODIS_EXPZT_TR_M      0.0\nACT                           0.0\nLength: 1397, dtype: float64"
     },
     "execution_count": 3,
     "metadata": {},
     "output_type": "execute_result"
    }
   ],
   "source": [
    "# sort columns by percentage NA\n",
    "(high_schools.isna().sum()/high_schools.shape[0]).sort_values(ascending=False)"
   ]
  },
  {
   "cell_type": "code",
   "execution_count": 4,
   "metadata": {
    "collapsed": false,
    "pycharm": {
     "name": "#%%\n"
    }
   },
   "outputs": [
    {
     "data": {
      "text/plain": "(6918, 914)"
     },
     "execution_count": 4,
     "metadata": {},
     "output_type": "execute_result"
    }
   ],
   "source": [
    "# drop columns with no data\n",
    "high_schools = high_schools.dropna(axis=1, how='all')\n",
    "high_schools.shape"
   ]
  },
  {
   "cell_type": "code",
   "execution_count": 5,
   "metadata": {
    "collapsed": false,
    "pycharm": {
     "name": "#%%\n"
    }
   },
   "outputs": [],
   "source": [
    "# fill in values for missing indicators\n",
    "high_schools['SCH_FIREARM_IND'].fillna(False, inplace=True)\n",
    "high_schools['SCH_HOMICIDE_IND'].fillna(False, inplace=True)\n",
    "high_schools['SCH_RET_G09_IND'].fillna(False, inplace=True)\n",
    "high_schools['SCH_RET_G10_IND'].fillna(False, inplace=True)\n",
    "high_schools['SCH_RET_G11_IND'].fillna(False, inplace=True)\n",
    "high_schools['SCH_SSCLASSES_IND'].fillna(False, inplace=True)\n",
    "high_schools['SCH_APSEL'].fillna(False, inplace=True)\n",
    "high_schools['SCH_APMATHENR_IND'].fillna(False, inplace=True)\n",
    "high_schools['SCH_APSCIENR_IND'].fillna(False, inplace=True)\n",
    "high_schools['SCH_APOTHENR_IND'].fillna(False, inplace=True)"
   ]
  },
  {
   "cell_type": "code",
   "execution_count": 6,
   "metadata": {
    "collapsed": false,
    "pycharm": {
     "name": "#%%\n"
    }
   },
   "outputs": [],
   "source": [
    "# fix enrolment for special cases\n",
    "high_schools[~high_schools['SCH_APENR_IND']].filter(regex=r'.*_AP.*',axis=1).fillna(0, inplace=True)\n",
    "high_schools[~high_schools['SCH_CORPINSTANCES_IND']].filter(regex=r'.*_(DISCWO?DIS|CORPINSTANCES).*',axis=1).fillna(0, inplace=True)\n",
    "high_schools[~high_schools['SCH_CREDITRECOVERY_IND']].filter(regex=r'.*_CREDITRECOVERY.*',axis=1).fillna(0, inplace=True)\n",
    "high_schools[~high_schools['SCH_DUAL_IND']].filter(regex=r'.*_DUAL.*',axis=1).fillna(0, inplace=True)\n",
    "high_schools[~high_schools['SCH_GT_IND']].filter(regex=r'.*_GTENR.*',axis=1).fillna(0, inplace=True)\n",
    "high_schools[~high_schools['SCH_IBENR_IND']].filter(regex=r'.*_IB.*',axis=1).fillna(0, inplace=True)\n",
    "high_schools[~high_schools['SCH_SSCLASSES_IND']].filter(regex=r'.*_SSCLASSES.*',axis=1).fillna(0, inplace=True)\n",
    "high_schools[~high_schools['SCH_SSATHLETICS_IND']].filter(regex=r'.*_SS(SPORTS|TEAMS|PART).*',axis=1).fillna(0, inplace=True)"
   ]
  },
  {
   "cell_type": "code",
   "execution_count": 7,
   "metadata": {
    "collapsed": false,
    "pycharm": {
     "name": "#%%\n"
    }
   },
   "outputs": [
    {
     "data": {
      "text/plain": "(6918, 837)"
     },
     "execution_count": 7,
     "metadata": {},
     "output_type": "execute_result"
    }
   ],
   "source": [
    "# drop columns with more than 60% na vals\n",
    "high_schools = high_schools.dropna(axis=1, thresh=int(high_schools.shape[0]*(1-.6)))\n",
    "high_schools.shape"
   ]
  },
  {
   "cell_type": "code",
   "execution_count": 8,
   "metadata": {
    "collapsed": false,
    "pycharm": {
     "name": "#%%\n"
    }
   },
   "outputs": [],
   "source": [
    "# mark state and district name as a categorical variable\n",
    "from sklearn.preprocessing import OrdinalEncoder\n",
    "high_schools['LEA_STATE_NAME'] = OrdinalEncoder().fit_transform(high_schools['LEA_STATE_NAME'].to_numpy().reshape(-1,1))\n",
    "high_schools['LEA_NAME'] = OrdinalEncoder().fit_transform(high_schools['LEA_NAME'].to_numpy().reshape(-1,1))"
   ]
  },
  {
   "cell_type": "code",
   "execution_count": 9,
   "metadata": {
    "collapsed": false,
    "pycharm": {
     "name": "#%%\n"
    }
   },
   "outputs": [],
   "source": [
    "g = high_schools.columns.to_series().groupby(high_schools.dtypes).groups\n",
    "high_schools = high_schools.loc[:,~high_schools.columns.isin({k.name: v for k, v in g.items()}['object'])]\n",
    "X = high_schools.iloc[:,:-1]\n",
    "X.drop(['LEAID','LEA_NAME','SCHID','COMBOKEY'], axis=1, inplace=True)\n",
    "y = high_schools['ACT']"
   ]
  },
  {
   "cell_type": "code",
   "execution_count": 10,
   "metadata": {
    "collapsed": false,
    "pycharm": {
     "name": "#%%\n"
    }
   },
   "outputs": [],
   "source": [
    "from sklearn.preprocessing import StandardScaler\n",
    "scaler = StandardScaler()\n",
    "X = scaler.fit_transform(X)"
   ]
  },
  {
   "cell_type": "code",
   "execution_count": 11,
   "metadata": {
    "collapsed": false,
    "pycharm": {
     "name": "#%%\n"
    }
   },
   "outputs": [],
   "source": [
    "from sklearn.impute import KNNImputer\n",
    "X_np = KNNImputer().fit_transform(X)\n",
    "X = pd.DataFrame(X_np, columns=high_schools.drop(['LEAID','LEA_NAME','SCHID','COMBOKEY'], axis=1).iloc[:,:-1].columns)"
   ]
  },
  {
   "cell_type": "code",
   "execution_count": 12,
   "metadata": {
    "collapsed": false,
    "pycharm": {
     "name": "#%%\n"
    }
   },
   "outputs": [],
   "source": [
    "# replace missing data with either mean or median depending on skewness\n",
    "# from scipy.stats import skew\n",
    "#\n",
    "# for i, col in enumerate(high_schools.columns):\n",
    "#     if high_schools[col].dtype == object:\n",
    "#         continue\n",
    "#     sk = skew(high_schools[col], nan_policy='omit')\n",
    "#     if abs(sk) > 1:\n",
    "#         high_schools[col].fillna(high_schools[col].median(), inplace=True)\n",
    "#     else:\n",
    "#         high_schools[col].fillna(high_schools[col].mean(), inplace=True)"
   ]
  },
  {
   "cell_type": "code",
   "execution_count": 13,
   "metadata": {
    "collapsed": false,
    "pycharm": {
     "name": "#%%\n"
    }
   },
   "outputs": [
    {
     "data": {
      "text/plain": "LEA_STATE_NAME                0\nSCH_MATHCLASSES_ADVM          0\nSCH_MATHCERT_ADVM             0\nSCH_MATHENR_ADVM_HI_M         0\nSCH_MATHENR_ADVM_HI_F         0\n                             ..\nTOT_DISCWDIS_TFRALT_IDEA_F    0\nSCH_DISCWDIS_TFRALT_LEP_M     0\nSCH_DISCWDIS_TFRALT_LEP_F     0\nSCH_DISCWDIS_TFRALT_504_M     0\nSCH_DISCWDIS_TFRALT_504_F     0\nLength: 830, dtype: int64"
     },
     "execution_count": 13,
     "metadata": {},
     "output_type": "execute_result"
    }
   ],
   "source": [
    "X.isna().sum()"
   ]
  },
  {
   "cell_type": "code",
   "execution_count": 14,
   "metadata": {
    "collapsed": false,
    "pycharm": {
     "name": "#%%\n"
    }
   },
   "outputs": [],
   "source": [
    "X.to_csv('../data/processed_data.csv')"
   ]
  },
  {
   "cell_type": "code",
   "execution_count": 15,
   "metadata": {
    "collapsed": false,
    "pycharm": {
     "name": "#%%\n"
    }
   },
   "outputs": [],
   "source": [
    "X_all_tot = X.filter(regex=r'^TOT')"
   ]
  },
  {
   "cell_type": "code",
   "execution_count": 16,
   "metadata": {
    "collapsed": false,
    "pycharm": {
     "name": "#%%\n"
    }
   },
   "outputs": [
    {
     "data": {
      "text/plain": "<Figure size 432x288 with 1 Axes>",
      "image/png": "[encoded data removed]"
     },
     "metadata": {
      "needs_background": "light"
     },
     "output_type": "display_data"
    }
   ],
   "source": [
    "from sklearn.cluster import KMeans\n",
    "from sklearn.metrics import silhouette_score\n",
    "import matplotlib.pyplot as plt\n",
    "\n",
    "for k in range(2,15):\n",
    "    km = KMeans(n_clusters=k).fit(X_all_tot)\n",
    "    # score = silhouette_score(X, km.labels_)\n",
    "    plt.scatter(k, km.inertia_)"
   ]
  },
  {
   "cell_type": "code",
   "execution_count": 17,
   "metadata": {
    "collapsed": false,
    "pycharm": {
     "name": "#%%\n"
    }
   },
   "outputs": [],
   "source": [
    "km = KMeans(n_clusters=5).fit(X_all_tot)"
   ]
  },
  {
   "cell_type": "code",
   "execution_count": 18,
   "metadata": {
    "collapsed": false,
    "pycharm": {
     "name": "#%%\n"
    }
   },
   "outputs": [
    {
     "data": {
      "text/plain": "( 0.885209    911\n -0.789297    428\n -0.370670    390\n  1.303836    385\n  0.047956    348\n  0.675896    237\n -1.207923    234\n -1.835863    232\n -0.579983    210\n  0.257269    176\n -0.998610    142\n -1.417236    137\n  0.466583    125\n  1.094522    101\n -0.161357     80\n -1.626549     73\n  1.513149     60\n Name: LEA_STATE_NAME, dtype: int64,\n  0.885209    296\n  1.303836    265\n -0.370670    169\n  0.257269    160\n -1.417236    155\n -1.626549    149\n -0.789297    108\n -1.835863     99\n  0.675896     89\n  0.466583     75\n -1.207923     62\n -0.998610     56\n  1.094522     54\n  0.047956     39\n -0.579983     22\n  1.513149     10\n -0.161357      8\n Name: LEA_STATE_NAME, dtype: int64,\n  0.885209    320\n -1.626549     62\n -1.417236     47\n  0.257269     27\n -1.835863     24\n -0.370670     22\n  1.094522     19\n -0.998610     17\n  0.466583     14\n  0.047956     14\n  1.303836     13\n -0.579983      6\n  0.675896      6\n -0.789297      4\n -1.207923      1\n Name: LEA_STATE_NAME, dtype: int64,\n  0.885209    74\n -1.417236    41\n  0.675896    36\n -1.207923    21\n  0.466583     7\n -0.579983     5\n  1.094522     3\n -0.370670     2\n -1.626549     2\n -0.789297     2\n  0.257269     2\n  0.047956     1\n Name: LEA_STATE_NAME, dtype: int64,\n  0.675896    16\n -0.789297     6\n  0.466583     5\n -1.417236     4\n  0.885209     4\n  0.257269     3\n -1.207923     1\n  0.047956     1\n  1.094522     1\n Name: LEA_STATE_NAME, dtype: int64)"
     },
     "execution_count": 18,
     "metadata": {},
     "output_type": "execute_result"
    }
   ],
   "source": [
    "X[km.labels_==0]['LEA_STATE_NAME'].value_counts(),X[km.labels_==1]['LEA_STATE_NAME'].value_counts(),X[km.labels_==2]['LEA_STATE_NAME'].value_counts(),X[km.labels_==3]['LEA_STATE_NAME'].value_counts(),X[km.labels_==4]['LEA_STATE_NAME'].value_counts()"
   ]
  },
  {
   "cell_type": "code",
   "execution_count": 19,
   "metadata": {
    "collapsed": false,
    "pycharm": {
     "name": "#%%\n"
    }
   },
   "outputs": [
    {
     "data": {
      "text/plain": "0.31525156138284405"
     },
     "execution_count": 19,
     "metadata": {},
     "output_type": "execute_result"
    }
   ],
   "source": [
    "from sklearn.linear_model import LinearRegression\n",
    "lr = LinearRegression().fit(X_all_tot,y)\n",
    "score = lr.score(X_all_tot,y)\n",
    "score"
   ]
  },
  {
   "cell_type": "code",
   "execution_count": 20,
   "metadata": {
    "collapsed": false,
    "pycharm": {
     "name": "#%%\n"
    }
   },
   "outputs": [
    {
     "data": {
      "text/plain": "   Column Finder            Field Name  \\\n0              A             LEA_STATE   \n1              B        LEA_STATE_NAME   \n2              C                 LEAID   \n3              D              LEA_NAME   \n4              E           LEA_ADDRESS   \n5              F              LEA_CITY   \n6              G               LEA_ZIP   \n7              H                   CJJ   \n8              I        LEA_DISTED_IND   \n9              J    LEA_DISTEDENR_HI_M   \n10             K    LEA_DISTEDENR_HI_F   \n11             L    LEA_DISTEDENR_AM_M   \n12             M    LEA_DISTEDENR_AM_F   \n13             N    LEA_DISTEDENR_AS_M   \n14             O    LEA_DISTEDENR_AS_F   \n15             P    LEA_DISTEDENR_HP_M   \n16             Q    LEA_DISTEDENR_HP_F   \n17             R    LEA_DISTEDENR_BL_M   \n18             S    LEA_DISTEDENR_BL_F   \n19             T    LEA_DISTEDENR_WH_M   \n20             U    LEA_DISTEDENR_WH_F   \n21             V    LEA_DISTEDENR_TR_M   \n22             W    LEA_DISTEDENR_TR_F   \n23             X       TOT_DISTEDENR_M   \n24             Y       TOT_DISTEDENR_F   \n25             Z   LEA_DISTEDENR_LEP_M   \n26            AA   LEA_DISTEDENR_LEP_F   \n27            AB  LEA_DISTEDENR_IDEA_M   \n28            AC  LEA_DISTEDENR_IDEA_F   \n\n                                    Field Description  \n0                                  State Abbreviation  \n1                                          State Name  \n2          7 Digit LEAID District Identification Code  \n3                                       District Name  \n4                                    District Address  \n5                                       District City  \n6                                   District Zip code  \n7   Juvenile Justice Facility (LEA): \"Yes\" indicat...  \n8   Distance Education Enrollment Indicator (LEA):...  \n9   Distance Education Enrollment (LEA):  Hispanic...  \n10  Distance Education Enrollment (LEA):  Hispanic...  \n11  Distance Education Enrollment (LEA):  American...  \n12  Distance Education Enrollment (LEA):  American...  \n13  Distance Education Enrollment (LEA):  Asian Male   \n14  Distance Education Enrollment (LEA):  Asian Fe...  \n15  Distance Education Enrollment (LEA):  Native H...  \n16  Distance Education Enrollment (LEA):  Native H...  \n17  Distance Education Enrollment (LEA):  Black Male   \n18  Distance Education Enrollment (LEA):  Black Fe...  \n19  Distance Education Enrollment (LEA):  White Male   \n20  Distance Education Enrollment (LEA):  White Fe...  \n21  Distance Education Enrollment (LEA):  Two or M...  \n22  Distance Education Enrollment (LEA):  Two or M...  \n23  Distance Education Enrollment (LEA):  Calculat...  \n24  Distance Education Enrollment (LEA):  Calculat...  \n25    Distance Education Enrollment (LEA):  LEP Male   \n26  Distance Education Enrollment (LEA):  LEP Female   \n27   Distance Education Enrollment (LEA):  IDEA Male   \n28  Distance Education Enrollment (LEA):  IDEA Fem...  ",
      "text/html": "<div>\n<style scoped>\n    .dataframe tbody tr th:only-of-type {\n        vertical-align: middle;\n    }\n\n    .dataframe tbody tr th {\n        vertical-align: top;\n    }\n\n    .dataframe thead th {\n        text-align: right;\n    }\n</style>\n<table border=\"1\" class=\"dataframe\">\n  <thead>\n    <tr style=\"text-align: right;\">\n      <th></th>\n      <th>Column Finder</th>\n      <th>Field Name</th>\n      <th>Field Description</th>\n    </tr>\n  </thead>\n  <tbody>\n    <tr>\n      <th>0</th>\n      <td>A</td>\n      <td>LEA_STATE</td>\n      <td>State Abbreviation</td>\n    </tr>\n    <tr>\n      <th>1</th>\n      <td>B</td>\n      <td>LEA_STATE_NAME</td>\n      <td>State Name</td>\n    </tr>\n    <tr>\n      <th>2</th>\n      <td>C</td>\n      <td>LEAID</td>\n      <td>7 Digit LEAID District Identification Code</td>\n    </tr>\n    <tr>\n      <th>3</th>\n      <td>D</td>\n      <td>LEA_NAME</td>\n      <td>District Name</td>\n    </tr>\n    <tr>\n      <th>4</th>\n      <td>E</td>\n      <td>LEA_ADDRESS</td>\n      <td>District Address</td>\n    </tr>\n    <tr>\n      <th>5</th>\n      <td>F</td>\n      <td>LEA_CITY</td>\n      <td>District City</td>\n    </tr>\n    <tr>\n      <th>6</th>\n      <td>G</td>\n      <td>LEA_ZIP</td>\n      <td>District Zip code</td>\n    </tr>\n    <tr>\n      <th>7</th>\n      <td>H</td>\n      <td>CJJ</td>\n      <td>Juvenile Justice Facility (LEA): \"Yes\" indicat...</td>\n    </tr>\n    <tr>\n      <th>8</th>\n      <td>I</td>\n      <td>LEA_DISTED_IND</td>\n      <td>Distance Education Enrollment Indicator (LEA):...</td>\n    </tr>\n    <tr>\n      <th>9</th>\n      <td>J</td>\n      <td>LEA_DISTEDENR_HI_M</td>\n      <td>Distance Education Enrollment (LEA):  Hispanic...</td>\n    </tr>\n    <tr>\n      <th>10</th>\n      <td>K</td>\n      <td>LEA_DISTEDENR_HI_F</td>\n      <td>Distance Education Enrollment (LEA):  Hispanic...</td>\n    </tr>\n    <tr>\n      <th>11</th>\n      <td>L</td>\n      <td>LEA_DISTEDENR_AM_M</td>\n      <td>Distance Education Enrollment (LEA):  American...</td>\n    </tr>\n    <tr>\n      <th>12</th>\n      <td>M</td>\n      <td>LEA_DISTEDENR_AM_F</td>\n      <td>Distance Education Enrollment (LEA):  American...</td>\n    </tr>\n    <tr>\n      <th>13</th>\n      <td>N</td>\n      <td>LEA_DISTEDENR_AS_M</td>\n      <td>Distance Education Enrollment (LEA):  Asian Male</td>\n    </tr>\n    <tr>\n      <th>14</th>\n      <td>O</td>\n      <td>LEA_DISTEDENR_AS_F</td>\n      <td>Distance Education Enrollment (LEA):  Asian Fe...</td>\n    </tr>\n    <tr>\n      <th>15</th>\n      <td>P</td>\n      <td>LEA_DISTEDENR_HP_M</td>\n      <td>Distance Education Enrollment (LEA):  Native H...</td>\n    </tr>\n    <tr>\n      <th>16</th>\n      <td>Q</td>\n      <td>LEA_DISTEDENR_HP_F</td>\n      <td>Distance Education Enrollment (LEA):  Native H...</td>\n    </tr>\n    <tr>\n      <th>17</th>\n      <td>R</td>\n      <td>LEA_DISTEDENR_BL_M</td>\n      <td>Distance Education Enrollment (LEA):  Black Male</td>\n    </tr>\n    <tr>\n      <th>18</th>\n      <td>S</td>\n      <td>LEA_DISTEDENR_BL_F</td>\n      <td>Distance Education Enrollment (LEA):  Black Fe...</td>\n    </tr>\n    <tr>\n      <th>19</th>\n      <td>T</td>\n      <td>LEA_DISTEDENR_WH_M</td>\n      <td>Distance Education Enrollment (LEA):  White Male</td>\n    </tr>\n    <tr>\n      <th>20</th>\n      <td>U</td>\n      <td>LEA_DISTEDENR_WH_F</td>\n      <td>Distance Education Enrollment (LEA):  White Fe...</td>\n    </tr>\n    <tr>\n      <th>21</th>\n      <td>V</td>\n      <td>LEA_DISTEDENR_TR_M</td>\n      <td>Distance Education Enrollment (LEA):  Two or M...</td>\n    </tr>\n    <tr>\n      <th>22</th>\n      <td>W</td>\n      <td>LEA_DISTEDENR_TR_F</td>\n      <td>Distance Education Enrollment (LEA):  Two or M...</td>\n    </tr>\n    <tr>\n      <th>23</th>\n      <td>X</td>\n      <td>TOT_DISTEDENR_M</td>\n      <td>Distance Education Enrollment (LEA):  Calculat...</td>\n    </tr>\n    <tr>\n      <th>24</th>\n      <td>Y</td>\n      <td>TOT_DISTEDENR_F</td>\n      <td>Distance Education Enrollment (LEA):  Calculat...</td>\n    </tr>\n    <tr>\n      <th>25</th>\n      <td>Z</td>\n      <td>LEA_DISTEDENR_LEP_M</td>\n      <td>Distance Education Enrollment (LEA):  LEP Male</td>\n    </tr>\n    <tr>\n      <th>26</th>\n      <td>AA</td>\n      <td>LEA_DISTEDENR_LEP_F</td>\n      <td>Distance Education Enrollment (LEA):  LEP Female</td>\n    </tr>\n    <tr>\n      <th>27</th>\n      <td>AB</td>\n      <td>LEA_DISTEDENR_IDEA_M</td>\n      <td>Distance Education Enrollment (LEA):  IDEA Male</td>\n    </tr>\n    <tr>\n      <th>28</th>\n      <td>AC</td>\n      <td>LEA_DISTEDENR_IDEA_F</td>\n      <td>Distance Education Enrollment (LEA):  IDEA Fem...</td>\n    </tr>\n  </tbody>\n</table>\n</div>"
     },
     "execution_count": 20,
     "metadata": {},
     "output_type": "execute_result"
    }
   ],
   "source": [
    "col_groups= pd.read_excel('../data/2017-18-crdc-data/Documentation/2017-18 CRDC File Structure.xlsx', sheet_name=None)\n",
    "col_groups.pop('LEA Characteristics')\n",
    "col_groups.pop('High School Equivalency (GED)')\n",
    "col_groups.pop('Distance Education')"
   ]
  },
  {
   "cell_type": "code",
   "execution_count": 21,
   "metadata": {
    "collapsed": false,
    "pycharm": {
     "name": "#%%\n"
    }
   },
   "outputs": [],
   "source": [
    "from sklearn.decomposition import PCA\n",
    "X_components = np.empty((len(col_groups),X.shape[1]))\n",
    "means = []\n",
    "for i, (name, group) in enumerate(col_groups.items()):\n",
    "    # full_component = np.empty(X.shape[1])\n",
    "    subset = np.intersect1d(group['Field Name'].iloc[8:], X.columns)\n",
    "    if len(subset) == 0:\n",
    "        continue\n",
    "    pca = PCA(1).fit(X[subset])\n",
    "    component = pca.components_\n",
    "    means+=list(pca.mean_)\n",
    "    X_components[i, list(map(lambda x: X.columns.get_loc(x), subset))] = component"
   ]
  },
  {
   "cell_type": "code",
   "execution_count": 22,
   "metadata": {
    "collapsed": false,
    "pycharm": {
     "name": "#%%\n"
    }
   },
   "outputs": [],
   "source": [
    "# manually transform principle components\n",
    "X_reduced = np.dot(X-X.mean(),X_components.T)[:,1:]"
   ]
  },
  {
   "cell_type": "code",
   "execution_count": 23,
   "metadata": {
    "collapsed": false,
    "pycharm": {
     "name": "#%%\n"
    }
   },
   "outputs": [
    {
     "name": "stdout",
     "output_type": "stream",
     "text": [
      "i=2, score=0.52803604876373\n",
      "i=3, score=0.4255924166862205\n",
      "i=4, score=0.33484176441082175\n",
      "i=5, score=0.3355849276667682\n",
      "i=6, score=0.3362906617742173\n",
      "i=7, score=0.3408377492671075\n",
      "i=8, score=0.32972057006406746\n",
      "i=9, score=0.3353080174673749\n",
      "i=10, score=0.2725293400912376\n",
      "i=11, score=0.2582846612522904\n",
      "i=12, score=0.25591638766656816\n",
      "i=13, score=0.25385987355588907\n",
      "i=14, score=0.20481831861216615\n",
      "i=15, score=0.22953237043751296\n",
      "i=16, score=0.23113364926035218\n",
      "i=17, score=0.22601754473906002\n",
      "i=18, score=0.22422488807387506\n",
      "i=19, score=0.2322623811358301\n",
      "i=20, score=0.1590983522980289\n",
      "i=21, score=0.15047812822173623\n",
      "i=22, score=0.1575460524996921\n",
      "i=23, score=0.1862894996407869\n",
      "i=24, score=0.1472751546440649\n",
      "i=25, score=0.15897332553266125\n",
      "i=26, score=0.1514962550968069\n",
      "i=27, score=0.14117045572463383\n",
      "i=28, score=0.14790482730952131\n",
      "i=29, score=0.10215127825385173\n",
      "i=30, score=0.17363014314715083\n",
      "i=31, score=0.16323971549052924\n",
      "i=32, score=0.1458539380074134\n",
      "i=33, score=0.16546376866411935\n",
      "i=34, score=0.15750707189962998\n",
      "i=35, score=0.1504785673151563\n",
      "i=36, score=0.15298763871494347\n",
      "i=37, score=0.13425494709167302\n",
      "i=38, score=0.1600563572198474\n",
      "i=39, score=0.1587540765733136\n",
      "i=40, score=0.15657597769079498\n",
      "i=41, score=0.1428195250146063\n",
      "i=42, score=0.15787341583492293\n",
      "i=43, score=0.16480577085769552\n",
      "i=44, score=0.147407902724826\n",
      "i=45, score=0.12969396830008717\n",
      "i=46, score=0.16097278416176022\n",
      "i=47, score=0.14964864490076418\n",
      "i=48, score=0.12148467755552592\n",
      "i=49, score=0.14085903004387842\n"
     ]
    },
    {
     "data": {
      "text/plain": "<Figure size 432x288 with 1 Axes>",
      "image/png": "[encoded data removed]"
     },
     "metadata": {
      "needs_background": "light"
     },
     "output_type": "display_data"
    }
   ],
   "source": [
    "from sklearn.metrics import silhouette_score\n",
    "wcss = []\n",
    "\n",
    "for i in range(2,50):\n",
    "    km = KMeans(i, random_state=0)\n",
    "    km.fit(X_reduced)\n",
    "    wcss.append(km.inertia_)\n",
    "    score = silhouette_score(X_reduced, km.labels_, metric='euclidean')\n",
    "    plt.scatter(i, score)\n",
    "    print(f'{i=}, {score=}')"
   ]
  },
  {
   "cell_type": "code",
   "execution_count": 24,
   "metadata": {
    "collapsed": false,
    "pycharm": {
     "name": "#%%\n"
    }
   },
   "outputs": [
    {
     "data": {
      "text/plain": "<Figure size 432x288 with 1 Axes>",
      "image/png": "[encoded data removed]"
     },
     "metadata": {
      "needs_background": "light"
     },
     "output_type": "display_data"
    }
   ],
   "source": [
    "plt.plot(range(2,50), wcss, marker='o', linestyle='--')\n",
    "plt.show()"
   ]
  },
  {
   "cell_type": "code",
   "execution_count": 25,
   "metadata": {},
   "outputs": [
    {
     "name": "stdout",
     "output_type": "stream",
     "text": [
      "Cluster 0, length = 162\n",
      "Cluster 1, length = 99\n",
      "Cluster 2, length = 150\n",
      "Cluster 3, length = 1572\n",
      "Cluster 4, length = 87\n",
      "Cluster 5, length = 164\n",
      "Cluster 6, length = 6\n",
      "Cluster 7, length = 17\n",
      "Cluster 8, length = 1\n",
      "Cluster 9, length = 31\n",
      "Cluster 10, length = 30\n",
      "Cluster 11, length = 1068\n",
      "Cluster 12, length = 28\n",
      "Cluster 13, length = 83\n",
      "Cluster 14, length = 119\n",
      "Cluster 15, length = 136\n",
      "Cluster 16, length = 90\n",
      "Cluster 17, length = 53\n",
      "Cluster 18, length = 14\n",
      "Cluster 19, length = 665\n",
      "Cluster 20, length = 72\n",
      "Cluster 21, length = 56\n",
      "Cluster 22, length = 14\n",
      "Cluster 23, length = 23\n",
      "Cluster 24, length = 39\n",
      "Cluster 25, length = 35\n",
      "Cluster 26, length = 38\n",
      "Cluster 27, length = 239\n",
      "Cluster 28, length = 62\n",
      "Cluster 29, length = 1\n",
      "Cluster 30, length = 144\n",
      "Cluster 31, length = 45\n",
      "Cluster 32, length = 485\n",
      "Cluster 33, length = 3\n",
      "Cluster 34, length = 4\n",
      "Cluster 35, length = 13\n",
      "Cluster 36, length = 14\n",
      "Cluster 37, length = 8\n",
      "Cluster 38, length = 98\n",
      "Cluster 39, length = 52\n",
      "Cluster 40, length = 143\n",
      "Cluster 41, length = 20\n",
      "Cluster 42, length = 354\n",
      "Cluster 43, length = 110\n",
      "Cluster 44, length = 188\n",
      "Cluster 45, length = 58\n",
      "Cluster 46, length = 12\n",
      "Cluster 47, length = 6\n",
      "Cluster 48, length = 7\n"
     ]
    }
   ],
   "source": [
    "for i in set(km.labels_):\n",
    "    subset = high_schools[km.labels_==i]\n",
    "    print(f'Cluster {i}, length = {subset.shape[0]}')\n",
    "    # print(subset['LEA_STATE_NAME'].value_counts())"
   ]
  },
  {
   "cell_type": "code",
   "execution_count": 26,
   "metadata": {},
   "outputs": [
    {
     "data": {
      "text/plain": "<Figure size 1080x576 with 18 Axes>",
      "image/png": "[encoded data removed]"
     },
     "metadata": {},
     "output_type": "display_data"
    }
   ],
   "source": [
    "from yellowbrick.cluster import SilhouetteVisualizer\n",
    "\n",
    "fig, ax = plt.subplots(9,2, figsize=(15,8))\n",
    "for i in range(2,18):\n",
    "    '''\n",
    "    Create KMeans instance for different number of clusters\n",
    "    '''\n",
    "    km = KMeans(n_clusters=i, init='k-means++', n_init=10, max_iter=100, random_state=42)\n",
    "    q, mod = divmod(i, 2)\n",
    "    '''\n",
    "    Create SilhouetteVisualizer instance with KMeans instance\n",
    "    Fit the visualizer\n",
    "    '''\n",
    "    visualizer = SilhouetteVisualizer(km, colors='yellowbrick', ax=ax[q-1][mod])\n",
    "    visualizer.fit(X_reduced)"
   ]
  },
  {
   "cell_type": "code",
   "execution_count": 27,
   "outputs": [
    {
     "data": {
      "text/plain": "(0.0, 10.0)"
     },
     "execution_count": 27,
     "metadata": {},
     "output_type": "execute_result"
    },
    {
     "data": {
      "text/plain": "<Figure size 576x396 with 1 Axes>",
      "image/png": "[encoded data removed]"
     },
     "metadata": {},
     "output_type": "display_data"
    }
   ],
   "source": [
    "from sklearn.neighbors import NearestNeighbors\n",
    "\n",
    "neigh = NearestNeighbors(n_neighbors=2)\n",
    "nbrs = neigh.fit(X_reduced)\n",
    "distances, indices = nbrs.kneighbors(X_reduced)\n",
    "distances = np.sort(distances, axis=0)\n",
    "distances = distances[:, 1]\n",
    "plt.plot(distances)\n",
    "plt.ylim(0, 10)"
   ],
   "metadata": {
    "collapsed": false,
    "pycharm": {
     "name": "#%%\n"
    }
   }
  },
  {
   "cell_type": "code",
   "execution_count": 28,
   "metadata": {},
   "outputs": [
    {
     "name": "stdout",
     "output_type": "stream",
     "text": [
      "i=2, score=0.462923987457924\n",
      "i=3, score=0.4130391253124227\n",
      "i=4, score=0.4166164993969914\n",
      "i=5, score=0.4171882225787086\n",
      "i=6, score=0.4177798186590542\n",
      "i=7, score=0.21893029614269563\n",
      "i=8, score=0.22348651552563004\n",
      "i=9, score=0.22636104798123338\n",
      "i=10, score=0.22498955985427338\n",
      "i=11, score=0.2265316118627857\n",
      "i=12, score=0.22504221033413183\n",
      "i=13, score=0.22284163342474275\n",
      "i=14, score=0.21814685760245342\n",
      "i=15, score=0.22120789740321392\n",
      "i=16, score=0.22167434044449855\n",
      "i=17, score=0.2228298154188138\n",
      "i=18, score=0.22949353308762527\n",
      "i=19, score=0.2303826398899271\n",
      "i=20, score=0.23057212192808493\n",
      "i=21, score=0.23135174740550193\n",
      "i=22, score=0.22790985041085293\n",
      "i=23, score=0.2293481357924444\n",
      "i=24, score=0.23030447277168647\n",
      "i=25, score=0.23103135433896405\n",
      "i=26, score=0.23125594327258225\n",
      "i=27, score=0.23164543697868623\n",
      "i=28, score=0.23265685526551616\n",
      "i=29, score=0.12573762482184914\n",
      "i=30, score=0.1199230523524397\n",
      "i=31, score=0.12271427912758882\n",
      "i=32, score=0.12111671557554299\n",
      "i=33, score=0.12161769523097483\n",
      "i=34, score=0.1131851656546012\n",
      "i=35, score=0.11369743279687312\n",
      "i=36, score=0.11438186846657679\n",
      "i=37, score=0.11506191019178012\n",
      "i=38, score=0.11706321609181618\n",
      "i=39, score=0.11777141727979609\n",
      "i=40, score=0.11828224125072583\n",
      "i=41, score=0.12033741735552848\n",
      "i=42, score=0.12403384948609773\n",
      "i=43, score=0.12428032868503974\n",
      "i=44, score=0.12506541981192426\n",
      "i=45, score=0.1255632166205562\n",
      "i=46, score=0.1259019796681503\n",
      "i=47, score=0.12600787976353264\n",
      "i=48, score=0.11720218094727065\n",
      "i=49, score=0.1178909550101469\n"
     ]
    },
    {
     "data": {
      "text/plain": "<Figure size 576x396 with 1 Axes>",
      "image/png": "[encoded data removed]"
     },
     "metadata": {},
     "output_type": "display_data"
    }
   ],
   "source": [
    "from sklearn.cluster import AgglomerativeClustering\n",
    "wcss = []\n",
    "\n",
    "for i in range(2,50):\n",
    "    ag = AgglomerativeClustering(i)\n",
    "    ag.fit(X_reduced)\n",
    "    score = silhouette_score(X_reduced, ag.labels_, metric='euclidean')\n",
    "    plt.scatter(i, score)\n",
    "    print(f'{i=}, {score=}')"
   ]
  },
  {
   "cell_type": "code",
   "execution_count": 29,
   "metadata": {},
   "outputs": [
    {
     "name": "stdout",
     "output_type": "stream",
     "text": [
      "ep=1, score=-0.3609784310827115\n",
      "ep=2, score=-0.16921332668215996\n",
      "ep=3, score=-0.10130508475010029\n",
      "ep=4, score=-0.06793589271770904\n",
      "ep=5, score=0.13410062082761573\n",
      "ep=6, score=0.10518993509341498\n",
      "ep=7, score=0.15264389462111608\n",
      "ep=8, score=0.33146684369228413\n",
      "ep=9, score=0.43790876758878666\n",
      "ep=10, score=0.5104118079509422\n",
      "ep=11, score=0.543635625484037\n",
      "ep=12, score=0.4935505391774629\n",
      "ep=13, score=0.5106020391349629\n",
      "ep=14, score=0.6345742578957106\n",
      "ep=15, score=0.6338042551198473\n",
      "ep=16, score=0.6319295204079577\n",
      "ep=17, score=0.6267831056227899\n",
      "ep=18, score=0.626233686170011\n",
      "ep=19, score=0.7328731410092131\n"
     ]
    },
    {
     "data": {
      "text/plain": "<Figure size 576x396 with 1 Axes>",
      "image/png": "[encoded data removed]"
     },
     "metadata": {},
     "output_type": "display_data"
    }
   ],
   "source": [
    "from sklearn.cluster import DBSCAN\n",
    "for ep in range(1,20):\n",
    "    db = DBSCAN(ep).fit(X_reduced)\n",
    "    score = silhouette_score(X_reduced, db.labels_, metric='euclidean')\n",
    "    plt.scatter(ep,score)\n",
    "    print(f'{ep=}, {score=}')"
   ]
  },
  {
   "cell_type": "code",
   "execution_count": 30,
   "outputs": [
    {
     "data": {
      "text/plain": "(array([-1,  0,  1], dtype=int64), array([  36, 6874,    8], dtype=int64))"
     },
     "execution_count": 30,
     "metadata": {},
     "output_type": "execute_result"
    }
   ],
   "source": [
    "# db = DBSCAN(11).fit(X_reduced)\n",
    "np.unique(db.labels_, return_counts=True)"
   ],
   "metadata": {
    "collapsed": false,
    "pycharm": {
     "name": "#%%\n"
    }
   }
  },
  {
   "cell_type": "code",
   "execution_count": 31,
   "metadata": {},
   "outputs": [
    {
     "name": "stdout",
     "output_type": "stream",
     "text": [
      "n=2, score=0.44278851915121953\n",
      "n=3, score=0.3933504506043472\n",
      "n=4, score=0.3802471842322601\n",
      "n=5, score=0.3817037436970746\n",
      "n=6, score=0.38229561107960097\n",
      "n=7, score=0.3840953037272728\n",
      "n=8, score=0.38781930382039653\n",
      "n=9, score=0.3888310684594304\n",
      "n=10, score=0.20134408428777614\n",
      "n=11, score=0.1997374529063367\n",
      "n=12, score=0.19312790463760296\n",
      "n=13, score=0.19635538445940037\n",
      "n=14, score=0.19712599797479252\n",
      "n=15, score=0.1985142061860823\n",
      "n=16, score=0.1976379486500895\n",
      "n=17, score=0.1995192101314152\n",
      "n=18, score=0.20675839339211166\n",
      "n=19, score=0.2073710787839293\n"
     ]
    },
    {
     "data": {
      "text/plain": "<Figure size 576x396 with 1 Axes>",
      "image/png": "[encoded data removed]"
     },
     "metadata": {},
     "output_type": "display_data"
    }
   ],
   "source": [
    "from sklearn.cluster import Birch\n",
    "\n",
    "for n in range(2,20):\n",
    "    br = Birch(n_clusters=n).fit(X_reduced)\n",
    "    score = silhouette_score(X_reduced, br.labels_, metric='euclidean')\n",
    "    plt.scatter(n,score)\n",
    "    print(f'{n=}, {score=}')"
   ]
  },
  {
   "cell_type": "code",
   "execution_count": 69,
   "outputs": [
    {
     "data": {
      "text/plain": "(array([0, 1, 2, 3, 4, 5, 6, 7, 8], dtype=int64),\n array([4322, 1438,  225,  140,  679,    1,   86,   17,   10], dtype=int64))"
     },
     "execution_count": 69,
     "metadata": {},
     "output_type": "execute_result"
    }
   ],
   "source": [
    "br = Birch(n_clusters=9).fit(X_reduced)\n",
    "np.unique(br.labels_, return_counts=True)"
   ],
   "metadata": {
    "collapsed": false,
    "pycharm": {
     "name": "#%%\n"
    }
   }
  },
  {
   "cell_type": "code",
   "execution_count": 70,
   "outputs": [
    {
     "data": {
      "text/plain": "<BarContainer object of 9 artists>"
     },
     "execution_count": 70,
     "metadata": {},
     "output_type": "execute_result"
    },
    {
     "data": {
      "text/plain": "<Figure size 576x396 with 1 Axes>",
      "image/png": "[encoded data removed]"
     },
     "metadata": {},
     "output_type": "display_data"
    }
   ],
   "source": [
    "plt.bar(*np.unique(br.labels_, return_counts=True))"
   ],
   "metadata": {
    "collapsed": false,
    "pycharm": {
     "name": "#%%\n"
    }
   }
  },
  {
   "cell_type": "code",
   "execution_count": 85,
   "outputs": [],
   "source": [
    "rows = []\n",
    "for clust in np.unique(br.labels_):\n",
    "    for col in range(len(X_reduced[0])):\n",
    "        rows.append([clust, col, X_reduced[br.labels_==clust,col].mean(), X_reduced[br.labels_==clust,col].std()])\n",
    "# X_reduced[br.labels_==2]\n",
    "\n",
    "rows2 = []\n",
    "for col in range(len(X_reduced[0])):\n",
    "        rows2.append([col, X_reduced[:,col].mean(), X_reduced[:,col].std()])"
   ],
   "metadata": {
    "collapsed": false,
    "pycharm": {
     "name": "#%%\n"
    }
   }
  },
  {
   "cell_type": "code",
   "execution_count": 86,
   "outputs": [],
   "source": [
    "local_center_spread = pd.DataFrame(rows, columns=['clust','col','mean','std'])\n",
    "global_center_spread = pd.DataFrame(rows2, columns=['col','mean','std'])"
   ],
   "metadata": {
    "collapsed": false,
    "pycharm": {
     "name": "#%%\n"
    }
   }
  },
  {
   "cell_type": "code",
   "execution_count": 104,
   "outputs": [
    {
     "data": {
      "text/plain": "array([[False,  True],\n       [False,  True],\n       [False, False],\n       [False, False],\n       [False, False],\n       [False, False],\n       [False, False],\n       [False, False],\n       [False, False],\n       [False,  True],\n       [ True,  True],\n       [False, False],\n       [False, False],\n       [False, False],\n       [False, False],\n       [False, False],\n       [False, False],\n       [False, False],\n       [False, False],\n       [False, False],\n       [False, False],\n       [False, False],\n       [False, False],\n       [False,  True],\n       [False, False],\n       [False, False],\n       [False, False],\n       [False, False],\n       [ True,  True]])"
     },
     "execution_count": 104,
     "metadata": {},
     "output_type": "execute_result"
    }
   ],
   "source": [
    "# abs((local_center_spread[local_center_spread['clust']==0][['mean','std']]).to_numpy()-global_center_spread[['mean','std']].to_numpy()) > 2\n",
    "# abs((local_center_spread[local_center_spread['clust']==1][['mean','std']]).to_numpy()-global_center_spread[['mean','std']].to_numpy()) > 2\n",
    "# abs((local_center_spread[local_center_spread['clust']==2][['mean','std']]).to_numpy()-global_center_spread[['mean','std']].to_numpy()) > 2\n",
    "abs((local_center_spread[local_center_spread['clust']==3][['mean','std']]).to_numpy()-global_center_spread[['mean','std']].to_numpy()) > 2\n",
    "# abs((local_center_spread[local_center_spread['clust']==4][['mean','std']]).to_numpy()-global_center_spread[['mean','std']].to_numpy()) > 2\n",
    "# abs((local_center_spread[local_center_spread['clust']==5][['mean','std']]).to_numpy()-global_center_spread[['mean','std']].to_numpy()) > 2"
   ],
   "metadata": {
    "collapsed": false,
    "pycharm": {
     "name": "#%%\n"
    }
   }
  },
  {
   "cell_type": "code",
   "execution_count": 34,
   "outputs": [
    {
     "ename": "NameError",
     "evalue": "name 'X_red_df' is not defined",
     "output_type": "error",
     "traceback": [
      "\u001B[1;31m---------------------------------------------------------------------------\u001B[0m",
      "\u001B[1;31mNameError\u001B[0m                                 Traceback (most recent call last)",
      "Input \u001B[1;32mIn [34]\u001B[0m, in \u001B[0;36m<cell line: 1>\u001B[1;34m()\u001B[0m\n\u001B[1;32m----> 1\u001B[0m \u001B[43mX_red_df\u001B[49m[br\u001B[38;5;241m.\u001B[39mlabels_\u001B[38;5;241m==\u001B[39m\u001B[38;5;241m7\u001B[39m]\n",
      "\u001B[1;31mNameError\u001B[0m: name 'X_red_df' is not defined"
     ]
    }
   ],
   "source": [
    "X_red_df[br.labels_==7]"
   ],
   "metadata": {
    "collapsed": false,
    "pycharm": {
     "name": "#%%\n"
    }
   }
  },
  {
   "cell_type": "code",
   "execution_count": 61,
   "metadata": {},
   "outputs": [],
   "source": [
    "col_names = ['method','score','mse','Advanced Mathematics','Advanced Placement','Algebra I','Algebra II','Biology','Calculus','Chemistry','Corporal Punishment','Credit Recovery','Dual Enrolment','Enrolment','Expulsions','Geometry','Gifted and Talented','Harassment and Bullying','International Baccalaureate','Offenses','Physics','Referrals and Arrests','Restraint and Seclusion','Retention','SAT and ACT','School Characteristics','School Expenditures','School Support','Single-sex Athletics','Single-sex Classes','Suspensions','Transfers']\n",
    "rows = []"
   ]
  },
  {
   "cell_type": "code",
   "execution_count": 62,
   "metadata": {},
   "outputs": [
    {
     "data": {
      "text/plain": "'R^2 = 0.26498248828829407'"
     },
     "execution_count": 62,
     "metadata": {},
     "output_type": "execute_result"
    }
   ],
   "source": [
    "from sklearn.linear_model import LinearRegression\n",
    "from sklearn.model_selection import train_test_split\n",
    "from sklearn.metrics import mean_squared_error\n",
    "from sklearn.model_selection import cross_val_score\n",
    "X_trainr, X_testr, y_trainr, y_testr = train_test_split(X_reduced, y)\n",
    "lr = LinearRegression().fit(X_trainr,y_trainr)\n",
    "score = lr.score(X_testr, y_testr)\n",
    "mse = mean_squared_error(y_testr, lr.predict(X_testr))\n",
    "rows.append(['LinearRegression',score,mse,*lr.coef_])\n",
    "f'R^2 = {(cross_val_score(lr,X_testr,y_testr,cv=5, scoring=\"r2\").mean())}'"
   ]
  },
  {
   "cell_type": "code",
   "execution_count": 63,
   "metadata": {},
   "outputs": [
    {
     "data": {
      "text/plain": "'R^2 = 0.26477251977618305'"
     },
     "execution_count": 63,
     "metadata": {},
     "output_type": "execute_result"
    }
   ],
   "source": [
    "from sklearn.linear_model import Ridge\n",
    "ridge = Ridge().fit(X_trainr, y_trainr)\n",
    "score = ridge.score(X_testr, y_testr)\n",
    "mse = mean_squared_error(y_testr, ridge.predict(X_testr))\n",
    "rows.append(['Ridge',score,mse,*ridge.coef_])\n",
    "f'R^2 = {(cross_val_score(ridge,X_testr,y_testr,cv=5, scoring=\"r2\").mean())}'"
   ]
  },
  {
   "cell_type": "code",
   "execution_count": 64,
   "metadata": {},
   "outputs": [
    {
     "data": {
      "text/plain": "'R^2 = 0.16275568121268616'"
     },
     "execution_count": 64,
     "metadata": {},
     "output_type": "execute_result"
    }
   ],
   "source": [
    "from sklearn.linear_model import Lasso\n",
    "lasso = Lasso(random_state=0).fit(X_trainr, y_trainr)\n",
    "score = lasso.score(X_testr, y_testr)\n",
    "mse = mean_squared_error(y_testr, lasso.predict(X_testr))\n",
    "rows.append(['Lasso',score,mse,*lasso.coef_])\n",
    "f'R^2 = {(cross_val_score(lasso,X_testr,y_testr,cv=5, scoring=\"r2\").mean())}'"
   ]
  },
  {
   "cell_type": "code",
   "execution_count": 65,
   "metadata": {},
   "outputs": [
    {
     "data": {
      "text/plain": "'R^2 = 0.25440696560223364'"
     },
     "execution_count": 65,
     "metadata": {},
     "output_type": "execute_result"
    }
   ],
   "source": [
    "from sklearn.svm import SVR\n",
    "svr = SVR(kernel='linear').fit(X_trainr, y_trainr)\n",
    "score = svr.score(X_testr, y_testr)\n",
    "mse = mean_squared_error(y_testr, svr.predict(X_testr))\n",
    "rows.append(['SVR',score,mse,*svr.coef_[0]])\n",
    "f'R^2 = {(cross_val_score(svr,X_testr,y_testr,cv=5, scoring=\"r2\").mean())}'"
   ]
  },
  {
   "cell_type": "code",
   "execution_count": 66,
   "metadata": {},
   "outputs": [
    {
     "data": {
      "text/plain": "'R^2 = -0.2574291263062669'"
     },
     "execution_count": 66,
     "metadata": {},
     "output_type": "execute_result"
    }
   ],
   "source": [
    "from sklearn.tree import DecisionTreeRegressor\n",
    "dtr = DecisionTreeRegressor().fit(X_trainr, y_trainr)\n",
    "score = dtr.score(X_testr, y_testr)\n",
    "mse = mean_squared_error(y_testr, dtr.predict(X_testr))\n",
    "rows.append(['DTR',score,mse,*([np.nan]*29)])\n",
    "f'R^2 = {(cross_val_score(dtr,X_testr,y_testr,cv=5, scoring=\"r2\").mean())}'"
   ]
  },
  {
   "cell_type": "code",
   "execution_count": 67,
   "metadata": {},
   "outputs": [
    {
     "data": {
      "text/plain": "'R^2 = 0.2790853411812672'"
     },
     "execution_count": 67,
     "metadata": {},
     "output_type": "execute_result"
    }
   ],
   "source": [
    "from sklearn.neighbors import KNeighborsRegressor\n",
    "knr = KNeighborsRegressor(5).fit(X_trainr, y_trainr)\n",
    "score = knr.score(X_testr, y_testr)\n",
    "mse = mean_squared_error(y_testr, knr.predict(X_testr))\n",
    "rows.append(['KNR',score,mse,*([np.nan]*29)])\n",
    "f'R^2 = {(cross_val_score(knr,X_testr,y_testr,cv=5, scoring=\"r2\").mean())}'"
   ]
  },
  {
   "cell_type": "code",
   "execution_count": 68,
   "metadata": {},
   "outputs": [
    {
     "data": {
      "text/plain": "             method     score       mse  Advanced Mathematics  \\\n0  LinearRegression  0.271452  5.231018              0.159481   \n1             Ridge  0.271451  5.231024              0.159484   \n2             Lasso  0.157312  6.050546              0.152686   \n3               SVR  0.259082  5.319834              0.149961   \n4               DTR -0.166168  8.373151                   NaN   \n5               KNR  0.315958  4.911461                   NaN   \n\n   Advanced Placement  Algebra I  Algebra II   Biology  Calculus  Chemistry  \\\n0           -0.001205  -0.067115    0.035656  0.188866  0.084975   0.079115   \n1           -0.001207  -0.067102    0.035644  0.188855  0.084966   0.079098   \n2           -0.000000  -0.000000   -0.000000  0.000000  0.000000   0.000000   \n3           -0.004310  -0.052735   -0.004653  0.187461  0.119329   0.030537   \n4                 NaN        NaN         NaN       NaN       NaN        NaN   \n5                 NaN        NaN         NaN       NaN       NaN        NaN   \n\n   ...  Restraint and Seclusion  Retention  SAT and ACT  \\\n0  ...             1.734723e-17  -0.069899    -0.041341   \n1  ...             0.000000e+00  -0.069903    -0.041345   \n2  ...             0.000000e+00  -0.068904    -0.000000   \n3  ...             0.000000e+00  -0.160731    -0.062709   \n4  ...                      NaN        NaN          NaN   \n5  ...                      NaN        NaN          NaN   \n\n   School Characteristics  School Expenditures  School Support  \\\n0               -0.097162             0.006777        0.150248   \n1               -0.097154             0.006780        0.150220   \n2               -0.000000             0.000000        0.000000   \n3               -0.117114             0.010343        0.116531   \n4                     NaN                  NaN             NaN   \n5                     NaN                  NaN             NaN   \n\n   Single-sex Athletics  Single-sex Classes  Suspensions  Transfers  \n0              0.229809           -0.220431          0.0   0.018868  \n1              0.229798           -0.220375          0.0   0.018864  \n2              0.000000           -0.000000          0.0  -0.000000  \n3              0.263933           -0.179212          0.0   0.024481  \n4                   NaN                 NaN          NaN        NaN  \n5                   NaN                 NaN          NaN        NaN  \n\n[6 rows x 32 columns]",
      "text/html": "<div>\n<style scoped>\n    .dataframe tbody tr th:only-of-type {\n        vertical-align: middle;\n    }\n\n    .dataframe tbody tr th {\n        vertical-align: top;\n    }\n\n    .dataframe thead th {\n        text-align: right;\n    }\n</style>\n<table border=\"1\" class=\"dataframe\">\n  <thead>\n    <tr style=\"text-align: right;\">\n      <th></th>\n      <th>method</th>\n      <th>score</th>\n      <th>mse</th>\n      <th>Advanced Mathematics</th>\n      <th>Advanced Placement</th>\n      <th>Algebra I</th>\n      <th>Algebra II</th>\n      <th>Biology</th>\n      <th>Calculus</th>\n      <th>Chemistry</th>\n      <th>...</th>\n      <th>Restraint and Seclusion</th>\n      <th>Retention</th>\n      <th>SAT and ACT</th>\n      <th>School Characteristics</th>\n      <th>School Expenditures</th>\n      <th>School Support</th>\n      <th>Single-sex Athletics</th>\n      <th>Single-sex Classes</th>\n      <th>Suspensions</th>\n      <th>Transfers</th>\n    </tr>\n  </thead>\n  <tbody>\n    <tr>\n      <th>0</th>\n      <td>LinearRegression</td>\n      <td>0.271452</td>\n      <td>5.231018</td>\n      <td>0.159481</td>\n      <td>-0.001205</td>\n      <td>-0.067115</td>\n      <td>0.035656</td>\n      <td>0.188866</td>\n      <td>0.084975</td>\n      <td>0.079115</td>\n      <td>...</td>\n      <td>1.734723e-17</td>\n      <td>-0.069899</td>\n      <td>-0.041341</td>\n      <td>-0.097162</td>\n      <td>0.006777</td>\n      <td>0.150248</td>\n      <td>0.229809</td>\n      <td>-0.220431</td>\n      <td>0.0</td>\n      <td>0.018868</td>\n    </tr>\n    <tr>\n      <th>1</th>\n      <td>Ridge</td>\n      <td>0.271451</td>\n      <td>5.231024</td>\n      <td>0.159484</td>\n      <td>-0.001207</td>\n      <td>-0.067102</td>\n      <td>0.035644</td>\n      <td>0.188855</td>\n      <td>0.084966</td>\n      <td>0.079098</td>\n      <td>...</td>\n      <td>0.000000e+00</td>\n      <td>-0.069903</td>\n      <td>-0.041345</td>\n      <td>-0.097154</td>\n      <td>0.006780</td>\n      <td>0.150220</td>\n      <td>0.229798</td>\n      <td>-0.220375</td>\n      <td>0.0</td>\n      <td>0.018864</td>\n    </tr>\n    <tr>\n      <th>2</th>\n      <td>Lasso</td>\n      <td>0.157312</td>\n      <td>6.050546</td>\n      <td>0.152686</td>\n      <td>-0.000000</td>\n      <td>-0.000000</td>\n      <td>-0.000000</td>\n      <td>0.000000</td>\n      <td>0.000000</td>\n      <td>0.000000</td>\n      <td>...</td>\n      <td>0.000000e+00</td>\n      <td>-0.068904</td>\n      <td>-0.000000</td>\n      <td>-0.000000</td>\n      <td>0.000000</td>\n      <td>0.000000</td>\n      <td>0.000000</td>\n      <td>-0.000000</td>\n      <td>0.0</td>\n      <td>-0.000000</td>\n    </tr>\n    <tr>\n      <th>3</th>\n      <td>SVR</td>\n      <td>0.259082</td>\n      <td>5.319834</td>\n      <td>0.149961</td>\n      <td>-0.004310</td>\n      <td>-0.052735</td>\n      <td>-0.004653</td>\n      <td>0.187461</td>\n      <td>0.119329</td>\n      <td>0.030537</td>\n      <td>...</td>\n      <td>0.000000e+00</td>\n      <td>-0.160731</td>\n      <td>-0.062709</td>\n      <td>-0.117114</td>\n      <td>0.010343</td>\n      <td>0.116531</td>\n      <td>0.263933</td>\n      <td>-0.179212</td>\n      <td>0.0</td>\n      <td>0.024481</td>\n    </tr>\n    <tr>\n      <th>4</th>\n      <td>DTR</td>\n      <td>-0.166168</td>\n      <td>8.373151</td>\n      <td>NaN</td>\n      <td>NaN</td>\n      <td>NaN</td>\n      <td>NaN</td>\n      <td>NaN</td>\n      <td>NaN</td>\n      <td>NaN</td>\n      <td>...</td>\n      <td>NaN</td>\n      <td>NaN</td>\n      <td>NaN</td>\n      <td>NaN</td>\n      <td>NaN</td>\n      <td>NaN</td>\n      <td>NaN</td>\n      <td>NaN</td>\n      <td>NaN</td>\n      <td>NaN</td>\n    </tr>\n    <tr>\n      <th>5</th>\n      <td>KNR</td>\n      <td>0.315958</td>\n      <td>4.911461</td>\n      <td>NaN</td>\n      <td>NaN</td>\n      <td>NaN</td>\n      <td>NaN</td>\n      <td>NaN</td>\n      <td>NaN</td>\n      <td>NaN</td>\n      <td>...</td>\n      <td>NaN</td>\n      <td>NaN</td>\n      <td>NaN</td>\n      <td>NaN</td>\n      <td>NaN</td>\n      <td>NaN</td>\n      <td>NaN</td>\n      <td>NaN</td>\n      <td>NaN</td>\n      <td>NaN</td>\n    </tr>\n  </tbody>\n</table>\n<p>6 rows × 32 columns</p>\n</div>"
     },
     "execution_count": 68,
     "metadata": {},
     "output_type": "execute_result"
    }
   ],
   "source": [
    "component_per_sheet_res = pd.DataFrame(rows, columns=col_names)\n",
    "component_per_sheet_res"
   ]
  },
  {
   "cell_type": "code",
   "execution_count": null,
   "metadata": {},
   "outputs": [],
   "source": [
    "rows = []\n",
    "X_traint, X_testt, y_traint, y_testt = train_test_split(X_all_tot, y)\n",
    "lr = LinearRegression().fit(X_traint,y_traint)\n",
    "score = lr.score(X_testt, y_testt)\n",
    "rows.append(['LinearRegression',score,*lr.coef_])\n",
    "f'R^2 = {score}'"
   ]
  },
  {
   "cell_type": "code",
   "execution_count": null,
   "metadata": {},
   "outputs": [],
   "source": [
    "ridge = Ridge().fit(X_traint, y_traint)\n",
    "score = ridge.score(X_testt, y_testt)\n",
    "rows.append(['Ridge',score,*ridge.coef_])\n",
    "f'R^2 = {score}'"
   ]
  },
  {
   "cell_type": "code",
   "execution_count": null,
   "metadata": {},
   "outputs": [],
   "source": [
    "lasso = Lasso(random_state=0).fit(X_traint, y_traint)\n",
    "score = lasso.score(X_testt, y_testt)\n",
    "rows.append(['Lasso',score,*lasso.coef_])\n",
    "f'R^2 = {score}'"
   ]
  },
  {
   "cell_type": "code",
   "execution_count": null,
   "metadata": {},
   "outputs": [],
   "source": [
    "svr = SVR(kernel='linear').fit(X_traint, y_traint)\n",
    "score = svr.score(X_testt, y_testt)\n",
    "rows.append(['SVR',score,*svr.coef_[0]])\n",
    "f'R^2 = {score}'"
   ]
  },
  {
   "cell_type": "code",
   "execution_count": null,
   "metadata": {},
   "outputs": [],
   "source": [
    "dtr = DecisionTreeRegressor().fit(X_traint, y_traint)\n",
    "score = dtr.score(X_testt, y_testt)\n",
    "rows.append(['DTR',score,*([np.nan]*29)])\n",
    "f'R^2 = {score}'"
   ]
  },
  {
   "cell_type": "code",
   "execution_count": null,
   "metadata": {},
   "outputs": [],
   "source": [
    "knr = KNeighborsRegressor(20).fit(X_traint, y_traint)\n",
    "score = knr.score(X_testt, y_testt)\n",
    "rows.append(['KNR',score,*([np.nan]*29)])\n",
    "f'R^2 = {score}'"
   ]
  },
  {
   "cell_type": "code",
   "execution_count": null,
   "metadata": {},
   "outputs": [],
   "source": [
    "all_tot_res = pd.DataFrame(rows, columns=['method','score',*X_all_tot.columns])\n",
    "all_tot_res"
   ]
  },
  {
   "cell_type": "code",
   "execution_count": null,
   "outputs": [],
   "source": [],
   "metadata": {
    "collapsed": false,
    "pycharm": {
     "name": "#%%\n"
    }
   }
  }
 ],
 "metadata": {
  "interpreter": {
   "hash": "4d62220704c30707d390e315c86cab98b5e09e1e3655dcad60d8663b60b0f86e"
  },
  "kernelspec": {
   "display_name": "Python 3.10.1 ('venv': venv)",
   "language": "python",
   "name": "python3"
  },
  "language_info": {
   "codemirror_mode": {
    "name": "ipython",
    "version": 3
   },
   "file_extension": ".py",
   "mimetype": "text/x-python",
   "name": "python",
   "nbconvert_exporter": "python",
   "pygments_lexer": "ipython3",
   "version": "3.10.1"
  }
 },
 "nbformat": 4,
 "nbformat_minor": 0
}