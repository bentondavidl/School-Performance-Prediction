{
 "cells": [
  {
   "cell_type": "markdown",
   "metadata": {
    "collapsed": true,
    "pycharm": {
     "name": "#%% md\n"
    }
   },
   "source": [
    "\n",
    "# Data Cleaning and Manipulation\n",
    "\n",
    "This notebook will be used for gathering data from our primary sources and transforming it into a format that can be utilized for machine learning applications"
   ]
  },
  {
   "cell_type": "code",
   "execution_count": 1,
   "outputs": [],
   "source": [
    "# import libraries\n",
    "import pandas as pd\n",
    "from functools import reduce\n",
    "import glob"
   ],
   "metadata": {
    "collapsed": false,
    "pycharm": {
     "name": "#%%\n"
    }
   }
  },
  {
   "cell_type": "code",
   "execution_count": 2,
   "outputs": [
    {
     "name": "stderr",
     "output_type": "stream",
     "text": [
      "C:\\Users\\David\\AppData\\Local\\Temp\\ipykernel_28148\\2738817395.py:2: DtypeWarning: Columns (8) have mixed types.Specify dtype option on import or set low_memory=False.\n",
      "  crdc_dfs = [pd.read_csv(filename, encoding='ANSI', true_values=['Yes'], false_values=['No'], na_values=['-3','-5','-6','-8','-9','-11'], dtype={'LEAID':str,'COMBOKEY':str,'SCHID':str}) for filename in glob.glob(\"../data/2017-18-crdc-data/Data/SCH/CRDC/CSV/*.csv\")]\n",
      "C:\\Users\\David\\AppData\\Local\\Temp\\ipykernel_28148\\2738817395.py:2: DtypeWarning: Columns (8,22) have mixed types.Specify dtype option on import or set low_memory=False.\n",
      "  crdc_dfs = [pd.read_csv(filename, encoding='ANSI', true_values=['Yes'], false_values=['No'], na_values=['-3','-5','-6','-8','-9','-11'], dtype={'LEAID':str,'COMBOKEY':str,'SCHID':str}) for filename in glob.glob(\"../data/2017-18-crdc-data/Data/SCH/CRDC/CSV/*.csv\")]\n"
     ]
    }
   ],
   "source": [
    "# read all data\n",
    "crdc_dfs = [pd.read_csv(filename, encoding='ANSI', true_values=['Yes'], false_values=['No'], na_values=['-3','-5','-6','-8','-9','-11'], dtype={'LEAID':str,'COMBOKEY':str,'SCHID':str}) for filename in glob.glob(\"../data/2017-18-crdc-data/Data/SCH/CRDC/CSV/*.csv\")]"
   ],
   "metadata": {
    "collapsed": false,
    "pycharm": {
     "name": "#%%\n"
    }
   }
  },
  {
   "cell_type": "code",
   "execution_count": 3,
   "outputs": [],
   "source": [
    "# merge dfs together\n",
    "merge_cols = ['LEA_STATE','LEA_STATE_NAME','LEAID','LEA_NAME','SCHID','SCH_NAME','COMBOKEY','JJ']\n",
    "school_data = reduce(lambda left,right: pd.merge(left,right,on=merge_cols,how='left'), crdc_dfs)"
   ],
   "metadata": {
    "collapsed": false,
    "pycharm": {
     "name": "#%%\n"
    }
   }
  },
  {
   "cell_type": "code",
   "execution_count": 4,
   "outputs": [],
   "source": [
    "# keep only schools that have Grade 12\n",
    "high_schools = school_data[school_data['SCH_GRADE_G12']]"
   ],
   "metadata": {
    "collapsed": false,
    "pycharm": {
     "name": "#%%\n"
    }
   }
  },
  {
   "cell_type": "code",
   "execution_count": 12,
   "outputs": [],
   "source": [
    "# remove juvenile justice facilities\n",
    "high_schools = high_schools[high_schools.JJ.eq(False)]\n",
    "high_schools = high_schools.drop(columns='JJ')"
   ],
   "metadata": {
    "collapsed": false,
    "pycharm": {
     "name": "#%%\n"
    }
   }
  },
  {
   "cell_type": "code",
   "execution_count": 5,
   "outputs": [],
   "source": [
    "# get rid of non-high-school data and calculated tot columns\n",
    "import re\n",
    "high_schools = high_schools.drop(columns=[col for col in high_schools.columns if bool(re.match(r'.*_(G0[1-8]|KG|PS|UG).*', col))])\n",
    "high_schools = high_schools.drop(columns=[col for col in high_schools.columns if bool(re.match(r'^TOT.*', col))])"
   ],
   "metadata": {
    "collapsed": false,
    "pycharm": {
     "name": "#%%\n"
    }
   }
  },
  {
   "cell_type": "code",
   "execution_count": 6,
   "outputs": [
    {
     "data": {
      "text/plain": "SCH_HBREPORTED_DIS_BL_M     1.0\nSCH_HBREPORTED_SEX_WH_F     1.0\nSCH_HBREPORTED_SEX_TR_F     1.0\nSCH_HBREPORTED_SEX_LEP_M    1.0\nSCH_HBREPORTED_SEX_LEP_F    1.0\n                           ... \nSCH_STATUS_SPED             0.0\nSCH_STATUS_MAGNET           0.0\nSCH_STATUS_CHARTER          0.0\nSCH_STATUS_ALT              0.0\nLEA_STATE                   0.0\nLength: 1265, dtype: float64"
     },
     "execution_count": 6,
     "metadata": {},
     "output_type": "execute_result"
    }
   ],
   "source": [
    "# sort columns by percentage NA\n",
    "(high_schools.isna().sum()/high_schools.shape[0]).sort_values(ascending=False)"
   ],
   "metadata": {
    "collapsed": false,
    "pycharm": {
     "name": "#%%\n"
    }
   }
  },
  {
   "cell_type": "code",
   "execution_count": 7,
   "outputs": [
    {
     "data": {
      "text/plain": "(24931, 836)"
     },
     "execution_count": 7,
     "metadata": {},
     "output_type": "execute_result"
    }
   ],
   "source": [
    "# drop columns with no data\n",
    "high_schools = high_schools.dropna(axis=1, how='all')\n",
    "high_schools.shape"
   ],
   "metadata": {
    "collapsed": false,
    "pycharm": {
     "name": "#%%\n"
    }
   }
  },
  {
   "cell_type": "code",
   "execution_count": 8,
   "outputs": [
    {
     "data": {
      "text/plain": "(24931, 530)"
     },
     "execution_count": 8,
     "metadata": {},
     "output_type": "execute_result"
    }
   ],
   "source": [
    "# drop columns with more than 40% na vals\n",
    "high_schools = high_schools.dropna(axis=1, thresh=int(high_schools.shape[0]*(1-.4)))\n",
    "high_schools.shape"
   ],
   "metadata": {
    "collapsed": false,
    "pycharm": {
     "name": "#%%\n"
    }
   }
  },
  {
   "cell_type": "code",
   "execution_count": 9,
   "outputs": [
    {
     "data": {
      "text/plain": "       SCH_MATHCLASSES_ADVM  SCH_MATHCERT_ADVM  SCH_MATHENR_ADVM_HI_M  \\\ncount          24926.000000       17600.000000           17600.000000   \nmean               5.559416           6.659205              13.530795   \nstd                9.505211           9.345555              32.183223   \nmin                0.000000           0.000000               0.000000   \n25%                0.000000           1.000000               0.000000   \n50%                2.000000           4.000000               2.000000   \n75%                7.000000           9.000000              11.000000   \nmax              608.000000         608.000000             571.000000   \n\n       SCH_MATHENR_ADVM_HI_F  SCH_MATHENR_ADVM_AM_M  SCH_MATHENR_ADVM_AM_F  \\\ncount           17600.000000           17600.000000           17600.000000   \nmean               14.870909               0.345398               0.417159   \nstd                34.519356               1.677053               2.009880   \nmin                 0.000000               0.000000               0.000000   \n25%                 0.000000               0.000000               0.000000   \n50%                 2.000000               0.000000               0.000000   \n75%                13.000000               0.000000               0.000000   \nmax               552.000000              70.000000              69.000000   \n\n       SCH_MATHENR_ADVM_AS_M  SCH_MATHENR_ADVM_AS_F  SCH_MATHENR_ADVM_HP_M  \\\ncount           17600.000000           17600.000000           17600.000000   \nmean                5.452727               5.634943               0.185398   \nstd                20.701964              20.607065               1.503524   \nmin                 0.000000               0.000000               0.000000   \n25%                 0.000000               0.000000               0.000000   \n50%                 0.000000               0.000000               0.000000   \n75%                 3.000000               3.000000               0.000000   \nmax               587.000000             564.000000             103.000000   \n\n       SCH_MATHENR_ADVM_HP_F  ...  SCH_DISCWDIS_TFRALT_IDEA_BL_M  \\\ncount           17600.000000  ...                   24467.000000   \nmean                0.219830  ...                       0.101892   \nstd                 1.972717  ...                       0.889207   \nmin                 0.000000  ...                       0.000000   \n25%                 0.000000  ...                       0.000000   \n50%                 0.000000  ...                       0.000000   \n75%                 0.000000  ...                       0.000000   \nmax               138.000000  ...                      64.000000   \n\n       SCH_DISCWDIS_TFRALT_IDEA_BL_F  SCH_DISCWDIS_TFRALT_IDEA_WH_M  \\\ncount                   24467.000000                   24467.000000   \nmean                        0.027425                       0.075816   \nstd                         0.350905                       0.519872   \nmin                         0.000000                       0.000000   \n25%                         0.000000                       0.000000   \n50%                         0.000000                       0.000000   \n75%                         0.000000                       0.000000   \nmax                        30.000000                      15.000000   \n\n       SCH_DISCWDIS_TFRALT_IDEA_WH_F  SCH_DISCWDIS_TFRALT_IDEA_TR_M  \\\ncount                   24467.000000                   24467.000000   \nmean                        0.017411                       0.006458   \nstd                         0.186456                       0.093301   \nmin                         0.000000                       0.000000   \n25%                         0.000000                       0.000000   \n50%                         0.000000                       0.000000   \n75%                         0.000000                       0.000000   \nmax                         6.000000                       5.000000   \n\n       SCH_DISCWDIS_TFRALT_IDEA_TR_F  SCH_DISCWDIS_TFRALT_LEP_M  \\\ncount                   24467.000000               24473.000000   \nmean                        0.002166                   0.013852   \nstd                         0.049886                   0.199737   \nmin                         0.000000                   0.000000   \n25%                         0.000000                   0.000000   \n50%                         0.000000                   0.000000   \n75%                         0.000000                   0.000000   \nmax                         2.000000                  12.000000   \n\n       SCH_DISCWDIS_TFRALT_LEP_F  SCH_DISCWDIS_TFRALT_504_M  \\\ncount               24473.000000               24469.000000   \nmean                    0.002207                   0.035473   \nstd                     0.056413                   0.391549   \nmin                     0.000000                   0.000000   \n25%                     0.000000                   0.000000   \n50%                     0.000000                   0.000000   \n75%                     0.000000                   0.000000   \nmax                     4.000000                  17.000000   \n\n       SCH_DISCWDIS_TFRALT_504_F  \ncount               24467.000000  \nmean                    0.010954  \nstd                     0.174976  \nmin                     0.000000  \n25%                     0.000000  \n50%                     0.000000  \n75%                     0.000000  \nmax                     9.000000  \n\n[8 rows x 500 columns]",
      "text/html": "<div>\n<style scoped>\n    .dataframe tbody tr th:only-of-type {\n        vertical-align: middle;\n    }\n\n    .dataframe tbody tr th {\n        vertical-align: top;\n    }\n\n    .dataframe thead th {\n        text-align: right;\n    }\n</style>\n<table border=\"1\" class=\"dataframe\">\n  <thead>\n    <tr style=\"text-align: right;\">\n      <th></th>\n      <th>SCH_MATHCLASSES_ADVM</th>\n      <th>SCH_MATHCERT_ADVM</th>\n      <th>SCH_MATHENR_ADVM_HI_M</th>\n      <th>SCH_MATHENR_ADVM_HI_F</th>\n      <th>SCH_MATHENR_ADVM_AM_M</th>\n      <th>SCH_MATHENR_ADVM_AM_F</th>\n      <th>SCH_MATHENR_ADVM_AS_M</th>\n      <th>SCH_MATHENR_ADVM_AS_F</th>\n      <th>SCH_MATHENR_ADVM_HP_M</th>\n      <th>SCH_MATHENR_ADVM_HP_F</th>\n      <th>...</th>\n      <th>SCH_DISCWDIS_TFRALT_IDEA_BL_M</th>\n      <th>SCH_DISCWDIS_TFRALT_IDEA_BL_F</th>\n      <th>SCH_DISCWDIS_TFRALT_IDEA_WH_M</th>\n      <th>SCH_DISCWDIS_TFRALT_IDEA_WH_F</th>\n      <th>SCH_DISCWDIS_TFRALT_IDEA_TR_M</th>\n      <th>SCH_DISCWDIS_TFRALT_IDEA_TR_F</th>\n      <th>SCH_DISCWDIS_TFRALT_LEP_M</th>\n      <th>SCH_DISCWDIS_TFRALT_LEP_F</th>\n      <th>SCH_DISCWDIS_TFRALT_504_M</th>\n      <th>SCH_DISCWDIS_TFRALT_504_F</th>\n    </tr>\n  </thead>\n  <tbody>\n    <tr>\n      <th>count</th>\n      <td>24926.000000</td>\n      <td>17600.000000</td>\n      <td>17600.000000</td>\n      <td>17600.000000</td>\n      <td>17600.000000</td>\n      <td>17600.000000</td>\n      <td>17600.000000</td>\n      <td>17600.000000</td>\n      <td>17600.000000</td>\n      <td>17600.000000</td>\n      <td>...</td>\n      <td>24467.000000</td>\n      <td>24467.000000</td>\n      <td>24467.000000</td>\n      <td>24467.000000</td>\n      <td>24467.000000</td>\n      <td>24467.000000</td>\n      <td>24473.000000</td>\n      <td>24473.000000</td>\n      <td>24469.000000</td>\n      <td>24467.000000</td>\n    </tr>\n    <tr>\n      <th>mean</th>\n      <td>5.559416</td>\n      <td>6.659205</td>\n      <td>13.530795</td>\n      <td>14.870909</td>\n      <td>0.345398</td>\n      <td>0.417159</td>\n      <td>5.452727</td>\n      <td>5.634943</td>\n      <td>0.185398</td>\n      <td>0.219830</td>\n      <td>...</td>\n      <td>0.101892</td>\n      <td>0.027425</td>\n      <td>0.075816</td>\n      <td>0.017411</td>\n      <td>0.006458</td>\n      <td>0.002166</td>\n      <td>0.013852</td>\n      <td>0.002207</td>\n      <td>0.035473</td>\n      <td>0.010954</td>\n    </tr>\n    <tr>\n      <th>std</th>\n      <td>9.505211</td>\n      <td>9.345555</td>\n      <td>32.183223</td>\n      <td>34.519356</td>\n      <td>1.677053</td>\n      <td>2.009880</td>\n      <td>20.701964</td>\n      <td>20.607065</td>\n      <td>1.503524</td>\n      <td>1.972717</td>\n      <td>...</td>\n      <td>0.889207</td>\n      <td>0.350905</td>\n      <td>0.519872</td>\n      <td>0.186456</td>\n      <td>0.093301</td>\n      <td>0.049886</td>\n      <td>0.199737</td>\n      <td>0.056413</td>\n      <td>0.391549</td>\n      <td>0.174976</td>\n    </tr>\n    <tr>\n      <th>min</th>\n      <td>0.000000</td>\n      <td>0.000000</td>\n      <td>0.000000</td>\n      <td>0.000000</td>\n      <td>0.000000</td>\n      <td>0.000000</td>\n      <td>0.000000</td>\n      <td>0.000000</td>\n      <td>0.000000</td>\n      <td>0.000000</td>\n      <td>...</td>\n      <td>0.000000</td>\n      <td>0.000000</td>\n      <td>0.000000</td>\n      <td>0.000000</td>\n      <td>0.000000</td>\n      <td>0.000000</td>\n      <td>0.000000</td>\n      <td>0.000000</td>\n      <td>0.000000</td>\n      <td>0.000000</td>\n    </tr>\n    <tr>\n      <th>25%</th>\n      <td>0.000000</td>\n      <td>1.000000</td>\n      <td>0.000000</td>\n      <td>0.000000</td>\n      <td>0.000000</td>\n      <td>0.000000</td>\n      <td>0.000000</td>\n      <td>0.000000</td>\n      <td>0.000000</td>\n      <td>0.000000</td>\n      <td>...</td>\n      <td>0.000000</td>\n      <td>0.000000</td>\n      <td>0.000000</td>\n      <td>0.000000</td>\n      <td>0.000000</td>\n      <td>0.000000</td>\n      <td>0.000000</td>\n      <td>0.000000</td>\n      <td>0.000000</td>\n      <td>0.000000</td>\n    </tr>\n    <tr>\n      <th>50%</th>\n      <td>2.000000</td>\n      <td>4.000000</td>\n      <td>2.000000</td>\n      <td>2.000000</td>\n      <td>0.000000</td>\n      <td>0.000000</td>\n      <td>0.000000</td>\n      <td>0.000000</td>\n      <td>0.000000</td>\n      <td>0.000000</td>\n      <td>...</td>\n      <td>0.000000</td>\n      <td>0.000000</td>\n      <td>0.000000</td>\n      <td>0.000000</td>\n      <td>0.000000</td>\n      <td>0.000000</td>\n      <td>0.000000</td>\n      <td>0.000000</td>\n      <td>0.000000</td>\n      <td>0.000000</td>\n    </tr>\n    <tr>\n      <th>75%</th>\n      <td>7.000000</td>\n      <td>9.000000</td>\n      <td>11.000000</td>\n      <td>13.000000</td>\n      <td>0.000000</td>\n      <td>0.000000</td>\n      <td>3.000000</td>\n      <td>3.000000</td>\n      <td>0.000000</td>\n      <td>0.000000</td>\n      <td>...</td>\n      <td>0.000000</td>\n      <td>0.000000</td>\n      <td>0.000000</td>\n      <td>0.000000</td>\n      <td>0.000000</td>\n      <td>0.000000</td>\n      <td>0.000000</td>\n      <td>0.000000</td>\n      <td>0.000000</td>\n      <td>0.000000</td>\n    </tr>\n    <tr>\n      <th>max</th>\n      <td>608.000000</td>\n      <td>608.000000</td>\n      <td>571.000000</td>\n      <td>552.000000</td>\n      <td>70.000000</td>\n      <td>69.000000</td>\n      <td>587.000000</td>\n      <td>564.000000</td>\n      <td>103.000000</td>\n      <td>138.000000</td>\n      <td>...</td>\n      <td>64.000000</td>\n      <td>30.000000</td>\n      <td>15.000000</td>\n      <td>6.000000</td>\n      <td>5.000000</td>\n      <td>2.000000</td>\n      <td>12.000000</td>\n      <td>4.000000</td>\n      <td>17.000000</td>\n      <td>9.000000</td>\n    </tr>\n  </tbody>\n</table>\n<p>8 rows × 500 columns</p>\n</div>"
     },
     "execution_count": 9,
     "metadata": {},
     "output_type": "execute_result"
    }
   ],
   "source": [
    "high_schools.describe()"
   ],
   "metadata": {
    "collapsed": false,
    "pycharm": {
     "name": "#%%\n"
    }
   }
  },
  {
   "cell_type": "code",
   "execution_count": 60,
   "outputs": [],
   "source": [
    "# add NC ACT data\n",
    "nc_act = pd.read_excel('../data/act-results/NCactresults1718.xlsx',header=2,usecols=[0,1,2,3,4],na_values=[' ---- ','*'])\n",
    "nc_act.dropna(inplace=True)\n",
    "nc_high_schools = pd.merge(high_schools[high_schools['LEA_STATE'].eq('NC')], nc_act, left_on='SCH_NAME', right_on='System or School Name')"
   ],
   "metadata": {
    "collapsed": false,
    "pycharm": {
     "name": "#%%\n"
    }
   }
  },
  {
   "cell_type": "code",
   "execution_count": 62,
   "outputs": [],
   "source": [
    "# add SC ACT data\n",
    "sc_act = pd.read_excel('../data/act-results/SCACT-Schools2017final2.xlsx',header=2,usecols=[0,1,2,10])\n",
    "sc_act.dropna(inplace=True)\n",
    "high_schools.loc[high_schools['LEA_STATE'].eq('SC'),'SCH_NAME'] = high_schools[high_schools['LEA_STATE'].eq('SC')]['SCH_NAME'].str.upper()\n",
    "sc_high_schools = pd.merge(high_schools[high_schools['LEA_STATE'].eq('SC')], sc_act, left_on='SCH_NAME', right_on='Unnamed: 2')"
   ],
   "metadata": {
    "collapsed": false,
    "pycharm": {
     "name": "#%%\n"
    }
   }
  },
  {
   "cell_type": "code",
   "execution_count": 63,
   "outputs": [],
   "source": [
    "# add GA ACT data\n",
    "ga_act = pd.read_csv('../data/act-results/GA_ACT_HIGHEST_2018_FEB_24_2020.csv',usecols=[1,4,6,14])\n",
    "ga_act.dropna(inplace=True)\n",
    "ga_act = ga_act[ga_act['TEST_CMPNT_TYP_CD'].eq('Composite')]\n",
    "ga_high_schools = pd.merge(high_schools[high_schools['LEA_STATE'].eq('GA')], ga_act, left_on='SCH_NAME', right_on='INSTN_NAME')"
   ],
   "metadata": {
    "collapsed": false,
    "pycharm": {
     "name": "#%%\n"
    }
   }
  },
  {
   "cell_type": "code",
   "execution_count": 64,
   "outputs": [
    {
     "data": {
      "text/plain": "    LEA_STATE  LEA_STATE_NAME    LEAID                   LEA_NAME  SCHID  \\\n0          NC  NORTH CAROLINA  3700011  Cumberland County Schools  00400   \n1          NC  NORTH CAROLINA  3700011  Cumberland County Schools  00402   \n2          NC  NORTH CAROLINA  3700011  Cumberland County Schools  00420   \n3          NC  NORTH CAROLINA  3700011  Cumberland County Schools  00426   \n4          NC  NORTH CAROLINA  3700011  Cumberland County Schools  00433   \n..        ...             ...      ...                        ...    ...   \n379        GA         GEORGIA  1305700           Whitfield County  04053   \n380        GA         GEORGIA  1305730              Wilcox County  02232   \n381        GA         GEORGIA  1305760              Wilkes County  03852   \n382        GA         GEORGIA  1305790           Wilkinson County  01841   \n383        GA         GEORGIA  1305850               Worth County  01849   \n\n                                        SCH_NAME      COMBOKEY  \\\n0                              Douglas Byrd High  370001100400   \n1                                 Cape Fear High  370001100402   \n2                     Massey Hill Classical High  370001100420   \n3                               Pine Forest High  370001100426   \n4                             Seventy-First High  370001100433   \n..                                           ...           ...   \n379                   Coahulla Creek High School  130570004053   \n380                    Wilcox County High School  130573002232   \n381  Washington-Wilkes Comprehensive High School  130576003852   \n382                 Wilkinson County High School  130579001841   \n383                     Worth County High School  130585001849   \n\n     SCH_MATHCLASSES_ADVM  SCH_MATHCERT_ADVM  SCH_MATHENR_ADVM_HI_M  ...  \\\n0                    10.0                2.0                    7.0  ...   \n1                    14.0                2.0                    9.0  ...   \n2                     4.0                1.0                    7.0  ...   \n3                    10.0                4.0                   21.0  ...   \n4                    18.0                3.0                   12.0  ...   \n..                    ...                ...                    ...  ...   \n379                  19.0               12.0                   30.0  ...   \n380                   0.0                NaN                    NaN  ...   \n381                   4.0                2.0                    3.0  ...   \n382                   0.0                NaN                    NaN  ...   \n383                   9.0                8.0                    2.0  ...   \n\n     Tested  Mean  STATEWIDE - PUBLIC ONLY  Unnamed: 1  Unnamed: 2  18.4  \\\n0     246.0  14.7                      NaN         NaN         NaN   NaN   \n1     336.0  18.3                      NaN         NaN         NaN   NaN   \n2      76.0  20.2                      NaN         NaN         NaN   NaN   \n3     378.0  17.8                      NaN         NaN         NaN   NaN   \n4     300.0  15.5                      NaN         NaN         NaN   NaN   \n..      ...   ...                      ...         ...         ...   ...   \n379     NaN   NaN                      NaN         NaN         NaN   NaN   \n380     NaN   NaN                      NaN         NaN         NaN   NaN   \n381     NaN   NaN                      NaN         NaN         NaN   NaN   \n382     NaN   NaN                      NaN         NaN         NaN   NaN   \n383     NaN   NaN                      NaN         NaN         NaN   NaN   \n\n     SCHOOL_DISTRCT_CD                                   INSTN_NAME  \\\n0                  NaN                                          NaN   \n1                  NaN                                          NaN   \n2                  NaN                                          NaN   \n3                  NaN                                          NaN   \n4                  NaN                                          NaN   \n..                 ...                                          ...   \n379              755.0                   Coahulla Creek High School   \n380              756.0                    Wilcox County High School   \n381              757.0  Washington-Wilkes Comprehensive High School   \n382              758.0                 Wilkinson County High School   \n383              759.0                     Worth County High School   \n\n     TEST_CMPNT_TYP_CD  INSTN_AVG_SCORE_VAL  \n0                  NaN                  NaN  \n1                  NaN                  NaN  \n2                  NaN                  NaN  \n3                  NaN                  NaN  \n4                  NaN                  NaN  \n..                 ...                  ...  \n379          Composite                 19.6  \n380          Composite                 17.9  \n381          Composite                 16.7  \n382          Composite                 17.0  \n383          Composite                 18.4  \n\n[1195 rows x 542 columns]",
      "text/html": "<div>\n<style scoped>\n    .dataframe tbody tr th:only-of-type {\n        vertical-align: middle;\n    }\n\n    .dataframe tbody tr th {\n        vertical-align: top;\n    }\n\n    .dataframe thead th {\n        text-align: right;\n    }\n</style>\n<table border=\"1\" class=\"dataframe\">\n  <thead>\n    <tr style=\"text-align: right;\">\n      <th></th>\n      <th>LEA_STATE</th>\n      <th>LEA_STATE_NAME</th>\n      <th>LEAID</th>\n      <th>LEA_NAME</th>\n      <th>SCHID</th>\n      <th>SCH_NAME</th>\n      <th>COMBOKEY</th>\n      <th>SCH_MATHCLASSES_ADVM</th>\n      <th>SCH_MATHCERT_ADVM</th>\n      <th>SCH_MATHENR_ADVM_HI_M</th>\n      <th>...</th>\n      <th>Tested</th>\n      <th>Mean</th>\n      <th>STATEWIDE - PUBLIC ONLY</th>\n      <th>Unnamed: 1</th>\n      <th>Unnamed: 2</th>\n      <th>18.4</th>\n      <th>SCHOOL_DISTRCT_CD</th>\n      <th>INSTN_NAME</th>\n      <th>TEST_CMPNT_TYP_CD</th>\n      <th>INSTN_AVG_SCORE_VAL</th>\n    </tr>\n  </thead>\n  <tbody>\n    <tr>\n      <th>0</th>\n      <td>NC</td>\n      <td>NORTH CAROLINA</td>\n      <td>3700011</td>\n      <td>Cumberland County Schools</td>\n      <td>00400</td>\n      <td>Douglas Byrd High</td>\n      <td>370001100400</td>\n      <td>10.0</td>\n      <td>2.0</td>\n      <td>7.0</td>\n      <td>...</td>\n      <td>246.0</td>\n      <td>14.7</td>\n      <td>NaN</td>\n      <td>NaN</td>\n      <td>NaN</td>\n      <td>NaN</td>\n      <td>NaN</td>\n      <td>NaN</td>\n      <td>NaN</td>\n      <td>NaN</td>\n    </tr>\n    <tr>\n      <th>1</th>\n      <td>NC</td>\n      <td>NORTH CAROLINA</td>\n      <td>3700011</td>\n      <td>Cumberland County Schools</td>\n      <td>00402</td>\n      <td>Cape Fear High</td>\n      <td>370001100402</td>\n      <td>14.0</td>\n      <td>2.0</td>\n      <td>9.0</td>\n      <td>...</td>\n      <td>336.0</td>\n      <td>18.3</td>\n      <td>NaN</td>\n      <td>NaN</td>\n      <td>NaN</td>\n      <td>NaN</td>\n      <td>NaN</td>\n      <td>NaN</td>\n      <td>NaN</td>\n      <td>NaN</td>\n    </tr>\n    <tr>\n      <th>2</th>\n      <td>NC</td>\n      <td>NORTH CAROLINA</td>\n      <td>3700011</td>\n      <td>Cumberland County Schools</td>\n      <td>00420</td>\n      <td>Massey Hill Classical High</td>\n      <td>370001100420</td>\n      <td>4.0</td>\n      <td>1.0</td>\n      <td>7.0</td>\n      <td>...</td>\n      <td>76.0</td>\n      <td>20.2</td>\n      <td>NaN</td>\n      <td>NaN</td>\n      <td>NaN</td>\n      <td>NaN</td>\n      <td>NaN</td>\n      <td>NaN</td>\n      <td>NaN</td>\n      <td>NaN</td>\n    </tr>\n    <tr>\n      <th>3</th>\n      <td>NC</td>\n      <td>NORTH CAROLINA</td>\n      <td>3700011</td>\n      <td>Cumberland County Schools</td>\n      <td>00426</td>\n      <td>Pine Forest High</td>\n      <td>370001100426</td>\n      <td>10.0</td>\n      <td>4.0</td>\n      <td>21.0</td>\n      <td>...</td>\n      <td>378.0</td>\n      <td>17.8</td>\n      <td>NaN</td>\n      <td>NaN</td>\n      <td>NaN</td>\n      <td>NaN</td>\n      <td>NaN</td>\n      <td>NaN</td>\n      <td>NaN</td>\n      <td>NaN</td>\n    </tr>\n    <tr>\n      <th>4</th>\n      <td>NC</td>\n      <td>NORTH CAROLINA</td>\n      <td>3700011</td>\n      <td>Cumberland County Schools</td>\n      <td>00433</td>\n      <td>Seventy-First High</td>\n      <td>370001100433</td>\n      <td>18.0</td>\n      <td>3.0</td>\n      <td>12.0</td>\n      <td>...</td>\n      <td>300.0</td>\n      <td>15.5</td>\n      <td>NaN</td>\n      <td>NaN</td>\n      <td>NaN</td>\n      <td>NaN</td>\n      <td>NaN</td>\n      <td>NaN</td>\n      <td>NaN</td>\n      <td>NaN</td>\n    </tr>\n    <tr>\n      <th>...</th>\n      <td>...</td>\n      <td>...</td>\n      <td>...</td>\n      <td>...</td>\n      <td>...</td>\n      <td>...</td>\n      <td>...</td>\n      <td>...</td>\n      <td>...</td>\n      <td>...</td>\n      <td>...</td>\n      <td>...</td>\n      <td>...</td>\n      <td>...</td>\n      <td>...</td>\n      <td>...</td>\n      <td>...</td>\n      <td>...</td>\n      <td>...</td>\n      <td>...</td>\n      <td>...</td>\n    </tr>\n    <tr>\n      <th>379</th>\n      <td>GA</td>\n      <td>GEORGIA</td>\n      <td>1305700</td>\n      <td>Whitfield County</td>\n      <td>04053</td>\n      <td>Coahulla Creek High School</td>\n      <td>130570004053</td>\n      <td>19.0</td>\n      <td>12.0</td>\n      <td>30.0</td>\n      <td>...</td>\n      <td>NaN</td>\n      <td>NaN</td>\n      <td>NaN</td>\n      <td>NaN</td>\n      <td>NaN</td>\n      <td>NaN</td>\n      <td>755.0</td>\n      <td>Coahulla Creek High School</td>\n      <td>Composite</td>\n      <td>19.6</td>\n    </tr>\n    <tr>\n      <th>380</th>\n      <td>GA</td>\n      <td>GEORGIA</td>\n      <td>1305730</td>\n      <td>Wilcox County</td>\n      <td>02232</td>\n      <td>Wilcox County High School</td>\n      <td>130573002232</td>\n      <td>0.0</td>\n      <td>NaN</td>\n      <td>NaN</td>\n      <td>...</td>\n      <td>NaN</td>\n      <td>NaN</td>\n      <td>NaN</td>\n      <td>NaN</td>\n      <td>NaN</td>\n      <td>NaN</td>\n      <td>756.0</td>\n      <td>Wilcox County High School</td>\n      <td>Composite</td>\n      <td>17.9</td>\n    </tr>\n    <tr>\n      <th>381</th>\n      <td>GA</td>\n      <td>GEORGIA</td>\n      <td>1305760</td>\n      <td>Wilkes County</td>\n      <td>03852</td>\n      <td>Washington-Wilkes Comprehensive High School</td>\n      <td>130576003852</td>\n      <td>4.0</td>\n      <td>2.0</td>\n      <td>3.0</td>\n      <td>...</td>\n      <td>NaN</td>\n      <td>NaN</td>\n      <td>NaN</td>\n      <td>NaN</td>\n      <td>NaN</td>\n      <td>NaN</td>\n      <td>757.0</td>\n      <td>Washington-Wilkes Comprehensive High School</td>\n      <td>Composite</td>\n      <td>16.7</td>\n    </tr>\n    <tr>\n      <th>382</th>\n      <td>GA</td>\n      <td>GEORGIA</td>\n      <td>1305790</td>\n      <td>Wilkinson County</td>\n      <td>01841</td>\n      <td>Wilkinson County High School</td>\n      <td>130579001841</td>\n      <td>0.0</td>\n      <td>NaN</td>\n      <td>NaN</td>\n      <td>...</td>\n      <td>NaN</td>\n      <td>NaN</td>\n      <td>NaN</td>\n      <td>NaN</td>\n      <td>NaN</td>\n      <td>NaN</td>\n      <td>758.0</td>\n      <td>Wilkinson County High School</td>\n      <td>Composite</td>\n      <td>17.0</td>\n    </tr>\n    <tr>\n      <th>383</th>\n      <td>GA</td>\n      <td>GEORGIA</td>\n      <td>1305850</td>\n      <td>Worth County</td>\n      <td>01849</td>\n      <td>Worth County High School</td>\n      <td>130585001849</td>\n      <td>9.0</td>\n      <td>8.0</td>\n      <td>2.0</td>\n      <td>...</td>\n      <td>NaN</td>\n      <td>NaN</td>\n      <td>NaN</td>\n      <td>NaN</td>\n      <td>NaN</td>\n      <td>NaN</td>\n      <td>759.0</td>\n      <td>Worth County High School</td>\n      <td>Composite</td>\n      <td>18.4</td>\n    </tr>\n  </tbody>\n</table>\n<p>1195 rows × 542 columns</p>\n</div>"
     },
     "execution_count": 64,
     "metadata": {},
     "output_type": "execute_result"
    }
   ],
   "source": [
    "pd.concat([nc_high_schools,sc_high_schools,ga_high_schools])"
   ],
   "metadata": {
    "collapsed": false,
    "pycharm": {
     "name": "#%%\n"
    }
   }
  }
 ],
 "metadata": {
  "kernelspec": {
   "display_name": "Python 3",
   "language": "python",
   "name": "python3"
  },
  "language_info": {
   "codemirror_mode": {
    "name": "ipython",
    "version": 2
   },
   "file_extension": ".py",
   "mimetype": "text/x-python",
   "name": "python",
   "nbconvert_exporter": "python",
   "pygments_lexer": "ipython2",
   "version": "2.7.6"
  }
 },
 "nbformat": 4,
 "nbformat_minor": 0
}