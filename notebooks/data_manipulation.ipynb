{
 "cells": [
  {
   "cell_type": "markdown",
   "metadata": {
    "collapsed": true,
    "pycharm": {
     "name": "#%% md\n"
    }
   },
   "source": [
    "\n",
    "# Data Cleaning and Manipulation\n",
    "\n",
    "This notebook will be used for gathering data from our primary sources and transforming it into a format that can be utilized for machine learning applications"
   ]
  },
  {
   "cell_type": "code",
   "execution_count": 81,
   "outputs": [],
   "source": [
    "# import libraries\n",
    "import pandas as pd\n",
    "from functools import reduce\n",
    "import glob"
   ],
   "metadata": {
    "collapsed": false,
    "pycharm": {
     "name": "#%%\n"
    }
   }
  },
  {
   "cell_type": "code",
   "execution_count": 82,
   "outputs": [
    {
     "name": "stderr",
     "output_type": "stream",
     "text": [
      "C:\\Users\\David\\AppData\\Local\\Temp\\ipykernel_11560\\2738817395.py:2: DtypeWarning: Columns (8) have mixed types.Specify dtype option on import or set low_memory=False.\n",
      "  crdc_dfs = [pd.read_csv(filename, encoding='ANSI', true_values=['Yes'], false_values=['No'], na_values=['-3','-5','-6','-8','-9','-11'], dtype={'LEAID':str,'COMBOKEY':str,'SCHID':str}) for filename in glob.glob(\"../data/2017-18-crdc-data/Data/SCH/CRDC/CSV/*.csv\")]\n",
      "C:\\Users\\David\\AppData\\Local\\Temp\\ipykernel_11560\\2738817395.py:2: DtypeWarning: Columns (8,22) have mixed types.Specify dtype option on import or set low_memory=False.\n",
      "  crdc_dfs = [pd.read_csv(filename, encoding='ANSI', true_values=['Yes'], false_values=['No'], na_values=['-3','-5','-6','-8','-9','-11'], dtype={'LEAID':str,'COMBOKEY':str,'SCHID':str}) for filename in glob.glob(\"../data/2017-18-crdc-data/Data/SCH/CRDC/CSV/*.csv\")]\n"
     ]
    }
   ],
   "source": [
    "# read all data\n",
    "crdc_dfs = [pd.read_csv(filename, encoding='ANSI', true_values=['Yes'], false_values=['No'], na_values=['-3','-5','-6','-8','-9','-11'], dtype={'LEAID':str,'COMBOKEY':str,'SCHID':str}) for filename in glob.glob(\"../data/2017-18-crdc-data/Data/SCH/CRDC/CSV/*.csv\")]"
   ],
   "metadata": {
    "collapsed": false,
    "pycharm": {
     "name": "#%%\n"
    }
   }
  },
  {
   "cell_type": "code",
   "execution_count": 83,
   "outputs": [],
   "source": [
    "# merge dfs together\n",
    "merge_cols = ['LEA_STATE','LEA_STATE_NAME','LEAID','LEA_NAME','SCHID','SCH_NAME','COMBOKEY','JJ']\n",
    "school_data = reduce(lambda left,right: pd.merge(left,right,on=merge_cols,how='left'), crdc_dfs)"
   ],
   "metadata": {
    "collapsed": false,
    "pycharm": {
     "name": "#%%\n"
    }
   }
  },
  {
   "cell_type": "code",
   "execution_count": 84,
   "outputs": [],
   "source": [
    "# keep only schools that have Grade 12\n",
    "high_schools = school_data[school_data['SCH_GRADE_G12']]"
   ],
   "metadata": {
    "collapsed": false,
    "pycharm": {
     "name": "#%%\n"
    }
   }
  },
  {
   "cell_type": "code",
   "execution_count": 85,
   "outputs": [],
   "source": [
    "# remove juvenile justice facilities\n",
    "high_schools = high_schools[high_schools.JJ.eq(False)]\n",
    "high_schools = high_schools.drop(columns='JJ')"
   ],
   "metadata": {
    "collapsed": false,
    "pycharm": {
     "name": "#%%\n"
    }
   }
  },
  {
   "cell_type": "code",
   "execution_count": 86,
   "outputs": [],
   "source": [
    "# get rid of non-high-school data and calculated tot columns\n",
    "import re\n",
    "high_schools = high_schools.drop(columns=[col for col in high_schools.columns if bool(re.match(r'.*_(G0[1-8]|KG|PS|UG).*', col))])\n",
    "high_schools = high_schools.drop(columns=[col for col in high_schools.columns if bool(re.match(r'^TOT.*', col))])"
   ],
   "metadata": {
    "collapsed": false,
    "pycharm": {
     "name": "#%%\n"
    }
   }
  },
  {
   "cell_type": "code",
   "execution_count": 87,
   "outputs": [
    {
     "data": {
      "text/plain": "SCH_HBREPORTED_DIS_BL_F    1.0\nSCH_RS_IDEA_PHYS_AS_F      1.0\nSCH_RS_IDEA_MECH_TR_F      1.0\nSCH_RS_IDEA_MECH_TR_M      1.0\nSCH_RS_IDEA_MECH_WH_F      1.0\n                          ... \nSCH_GRADE_G12              0.0\nSCH_GRADE_G11              0.0\nSCH_GRADE_G09              0.0\nLEA_STATE_NAME             0.0\nLEA_STATE                  0.0\nLength: 1264, dtype: float64"
     },
     "execution_count": 87,
     "metadata": {},
     "output_type": "execute_result"
    }
   ],
   "source": [
    "# sort columns by percentage NA\n",
    "(high_schools.isna().sum()/high_schools.shape[0]).sort_values(ascending=False)"
   ],
   "metadata": {
    "collapsed": false,
    "pycharm": {
     "name": "#%%\n"
    }
   }
  },
  {
   "cell_type": "code",
   "execution_count": 88,
   "outputs": [
    {
     "data": {
      "text/plain": "(24473, 835)"
     },
     "execution_count": 88,
     "metadata": {},
     "output_type": "execute_result"
    }
   ],
   "source": [
    "# drop columns with no data\n",
    "high_schools = high_schools.dropna(axis=1, how='all')\n",
    "high_schools.shape"
   ],
   "metadata": {
    "collapsed": false,
    "pycharm": {
     "name": "#%%\n"
    }
   }
  },
  {
   "cell_type": "code",
   "execution_count": 89,
   "outputs": [
    {
     "data": {
      "text/plain": "(24473, 529)"
     },
     "execution_count": 89,
     "metadata": {},
     "output_type": "execute_result"
    }
   ],
   "source": [
    "# drop columns with more than 40% na vals\n",
    "high_schools = high_schools.dropna(axis=1, thresh=int(high_schools.shape[0]*(1-.4)))\n",
    "high_schools.shape"
   ],
   "metadata": {
    "collapsed": false,
    "pycharm": {
     "name": "#%%\n"
    }
   }
  },
  {
   "cell_type": "code",
   "execution_count": 90,
   "outputs": [
    {
     "data": {
      "text/plain": "      SCH_APENR_IND SCH_CORPINSTANCES_IND SCH_CREDITRECOVERY_IND SCH_DUAL_IND  \\\n2             False                 False                  False        False   \n5              True                 False                   True         True   \n11             True                  True                   True         True   \n14             True                  True                   True         True   \n16             True                  True                   True         True   \n...             ...                   ...                    ...          ...   \n97617          True                 False                  False        False   \n97620          True                 False                  False        False   \n97621         False                 False                  False        False   \n97623          True                 False                  False        False   \n97631          True                 False                  False        False   \n\n      SCH_GT_IND SCH_IBENR_IND SCH_FIREARM_IND SCH_HOMICIDE_IND  \\\n2          False         False           False            False   \n5          False         False           False            False   \n11         False         False           False            False   \n14         False         False           False            False   \n16         False         False           False            False   \n...          ...           ...             ...              ...   \n97617      False         False           False            False   \n97620      False         False           False            False   \n97621      False         False           False            False   \n97623      False         False           False            False   \n97631      False         False           False            False   \n\n      SCH_RET_G09_IND SCH_RET_G10_IND SCH_RET_G11_IND SCH_RET_G12_IND  \\\n2               False           False           False           False   \n5                True            True            True            True   \n11               True            True            True            True   \n14               True            True            True            True   \n16               True            True            True            True   \n...               ...             ...             ...             ...   \n97617           False           False           False           False   \n97620            True            True            True           False   \n97621            True            True            True           False   \n97623            True            True           False           False   \n97631            True            True           False            True   \n\n      SCH_SSATHLETICS_IND SCH_SSCLASSES_IND  \n2                   False               NaN  \n5                    True             False  \n11                   True             False  \n14                   True             False  \n16                   True             False  \n...                   ...               ...  \n97617               False             False  \n97620               False             False  \n97621               False             False  \n97623               False             False  \n97631               False             False  \n\n[24473 rows x 14 columns]",
      "text/html": "<div>\n<style scoped>\n    .dataframe tbody tr th:only-of-type {\n        vertical-align: middle;\n    }\n\n    .dataframe tbody tr th {\n        vertical-align: top;\n    }\n\n    .dataframe thead th {\n        text-align: right;\n    }\n</style>\n<table border=\"1\" class=\"dataframe\">\n  <thead>\n    <tr style=\"text-align: right;\">\n      <th></th>\n      <th>SCH_APENR_IND</th>\n      <th>SCH_CORPINSTANCES_IND</th>\n      <th>SCH_CREDITRECOVERY_IND</th>\n      <th>SCH_DUAL_IND</th>\n      <th>SCH_GT_IND</th>\n      <th>SCH_IBENR_IND</th>\n      <th>SCH_FIREARM_IND</th>\n      <th>SCH_HOMICIDE_IND</th>\n      <th>SCH_RET_G09_IND</th>\n      <th>SCH_RET_G10_IND</th>\n      <th>SCH_RET_G11_IND</th>\n      <th>SCH_RET_G12_IND</th>\n      <th>SCH_SSATHLETICS_IND</th>\n      <th>SCH_SSCLASSES_IND</th>\n    </tr>\n  </thead>\n  <tbody>\n    <tr>\n      <th>2</th>\n      <td>False</td>\n      <td>False</td>\n      <td>False</td>\n      <td>False</td>\n      <td>False</td>\n      <td>False</td>\n      <td>False</td>\n      <td>False</td>\n      <td>False</td>\n      <td>False</td>\n      <td>False</td>\n      <td>False</td>\n      <td>False</td>\n      <td>NaN</td>\n    </tr>\n    <tr>\n      <th>5</th>\n      <td>True</td>\n      <td>False</td>\n      <td>True</td>\n      <td>True</td>\n      <td>False</td>\n      <td>False</td>\n      <td>False</td>\n      <td>False</td>\n      <td>True</td>\n      <td>True</td>\n      <td>True</td>\n      <td>True</td>\n      <td>True</td>\n      <td>False</td>\n    </tr>\n    <tr>\n      <th>11</th>\n      <td>True</td>\n      <td>True</td>\n      <td>True</td>\n      <td>True</td>\n      <td>False</td>\n      <td>False</td>\n      <td>False</td>\n      <td>False</td>\n      <td>True</td>\n      <td>True</td>\n      <td>True</td>\n      <td>True</td>\n      <td>True</td>\n      <td>False</td>\n    </tr>\n    <tr>\n      <th>14</th>\n      <td>True</td>\n      <td>True</td>\n      <td>True</td>\n      <td>True</td>\n      <td>False</td>\n      <td>False</td>\n      <td>False</td>\n      <td>False</td>\n      <td>True</td>\n      <td>True</td>\n      <td>True</td>\n      <td>True</td>\n      <td>True</td>\n      <td>False</td>\n    </tr>\n    <tr>\n      <th>16</th>\n      <td>True</td>\n      <td>True</td>\n      <td>True</td>\n      <td>True</td>\n      <td>False</td>\n      <td>False</td>\n      <td>False</td>\n      <td>False</td>\n      <td>True</td>\n      <td>True</td>\n      <td>True</td>\n      <td>True</td>\n      <td>True</td>\n      <td>False</td>\n    </tr>\n    <tr>\n      <th>...</th>\n      <td>...</td>\n      <td>...</td>\n      <td>...</td>\n      <td>...</td>\n      <td>...</td>\n      <td>...</td>\n      <td>...</td>\n      <td>...</td>\n      <td>...</td>\n      <td>...</td>\n      <td>...</td>\n      <td>...</td>\n      <td>...</td>\n      <td>...</td>\n    </tr>\n    <tr>\n      <th>97617</th>\n      <td>True</td>\n      <td>False</td>\n      <td>False</td>\n      <td>False</td>\n      <td>False</td>\n      <td>False</td>\n      <td>False</td>\n      <td>False</td>\n      <td>False</td>\n      <td>False</td>\n      <td>False</td>\n      <td>False</td>\n      <td>False</td>\n      <td>False</td>\n    </tr>\n    <tr>\n      <th>97620</th>\n      <td>True</td>\n      <td>False</td>\n      <td>False</td>\n      <td>False</td>\n      <td>False</td>\n      <td>False</td>\n      <td>False</td>\n      <td>False</td>\n      <td>True</td>\n      <td>True</td>\n      <td>True</td>\n      <td>False</td>\n      <td>False</td>\n      <td>False</td>\n    </tr>\n    <tr>\n      <th>97621</th>\n      <td>False</td>\n      <td>False</td>\n      <td>False</td>\n      <td>False</td>\n      <td>False</td>\n      <td>False</td>\n      <td>False</td>\n      <td>False</td>\n      <td>True</td>\n      <td>True</td>\n      <td>True</td>\n      <td>False</td>\n      <td>False</td>\n      <td>False</td>\n    </tr>\n    <tr>\n      <th>97623</th>\n      <td>True</td>\n      <td>False</td>\n      <td>False</td>\n      <td>False</td>\n      <td>False</td>\n      <td>False</td>\n      <td>False</td>\n      <td>False</td>\n      <td>True</td>\n      <td>True</td>\n      <td>False</td>\n      <td>False</td>\n      <td>False</td>\n      <td>False</td>\n    </tr>\n    <tr>\n      <th>97631</th>\n      <td>True</td>\n      <td>False</td>\n      <td>False</td>\n      <td>False</td>\n      <td>False</td>\n      <td>False</td>\n      <td>False</td>\n      <td>False</td>\n      <td>True</td>\n      <td>True</td>\n      <td>False</td>\n      <td>True</td>\n      <td>False</td>\n      <td>False</td>\n    </tr>\n  </tbody>\n</table>\n<p>24473 rows × 14 columns</p>\n</div>"
     },
     "execution_count": 90,
     "metadata": {},
     "output_type": "execute_result"
    }
   ],
   "source": [
    "# identify remaining indicator fields\n",
    "high_schools.filter(regex='_IND')"
   ],
   "metadata": {
    "collapsed": false,
    "pycharm": {
     "name": "#%%\n"
    }
   }
  },
  {
   "cell_type": "code",
   "execution_count": 91,
   "outputs": [],
   "source": [
    "# get rid of duplicated data from indicators\n",
    "high_schools.drop(columns=['SCH_APENR_IND','SCH_CORPINSTANCES_IND','SCH_CREDITRECOVERY_IND','SCH_DUAL_IND','SCH_GT_IND','SCH_IBENR_IND','SCH_RET_G09_IND','SCH_RET_G10_IND','SCH_RET_G11_IND','SCH_RET_G12_IND','SCH_SSCLASSES_IND','SCH_SSCLASSES_IND'], inplace=True)"
   ],
   "metadata": {
    "collapsed": false,
    "pycharm": {
     "name": "#%%\n"
    }
   }
  },
  {
   "cell_type": "code",
   "execution_count": 92,
   "outputs": [],
   "source": [
    "# treat bools as floats\n",
    "high_schools = high_schools.replace(True, 1)\n",
    "high_schools = high_schools.replace(False, 0)"
   ],
   "metadata": {
    "collapsed": false,
    "pycharm": {
     "name": "#%%\n"
    }
   }
  },
  {
   "cell_type": "code",
   "execution_count": 93,
   "outputs": [
    {
     "data": {
      "text/plain": "       SCH_MATHCLASSES_ADVM  SCH_MATHCERT_ADVM  SCH_MATHENR_ADVM_HI_M  \\\ncount          24469.000000       17534.000000           17534.000000   \nmean               5.655932           6.675488              13.579389   \nstd                9.564453           9.356777              32.233838   \nmin                0.000000           0.000000               0.000000   \n25%                0.000000           1.000000               0.000000   \n50%                2.000000           4.000000               2.000000   \n75%                8.000000           9.000000              11.000000   \nmax              608.000000         608.000000             571.000000   \n\n       SCH_MATHENR_ADVM_HI_F  SCH_MATHENR_ADVM_AM_M  SCH_MATHENR_ADVM_AM_F  \\\ncount           17534.000000           17534.000000           17534.000000   \nmean               14.926429               0.346641               0.418729   \nstd                34.572369               1.680068               2.013496   \nmin                 0.000000               0.000000               0.000000   \n25%                 0.000000               0.000000               0.000000   \n50%                 2.000000               0.000000               0.000000   \n75%                13.000000               0.000000               0.000000   \nmax               552.000000              70.000000              69.000000   \n\n       SCH_MATHENR_ADVM_AS_M  SCH_MATHENR_ADVM_AS_F  SCH_MATHENR_ADVM_HP_M  \\\ncount           17534.000000           17534.000000           17534.000000   \nmean                5.473252               5.656154               0.186096   \nstd                20.738184              20.642909               1.506309   \nmin                 0.000000               0.000000               0.000000   \n25%                 0.000000               0.000000               0.000000   \n50%                 0.000000               0.000000               0.000000   \n75%                 3.000000               3.000000               0.000000   \nmax               587.000000             564.000000             103.000000   \n\n       SCH_MATHENR_ADVM_HP_F  ...  SCH_DISCWDIS_TFRALT_IDEA_BL_M  \\\ncount           17534.000000  ...                   24467.000000   \nmean                0.220657  ...                       0.101892   \nstd                 1.976380  ...                       0.889207   \nmin                 0.000000  ...                       0.000000   \n25%                 0.000000  ...                       0.000000   \n50%                 0.000000  ...                       0.000000   \n75%                 0.000000  ...                       0.000000   \nmax               138.000000  ...                      64.000000   \n\n       SCH_DISCWDIS_TFRALT_IDEA_BL_F  SCH_DISCWDIS_TFRALT_IDEA_WH_M  \\\ncount                   24467.000000                   24467.000000   \nmean                        0.027425                       0.075816   \nstd                         0.350905                       0.519872   \nmin                         0.000000                       0.000000   \n25%                         0.000000                       0.000000   \n50%                         0.000000                       0.000000   \n75%                         0.000000                       0.000000   \nmax                        30.000000                      15.000000   \n\n       SCH_DISCWDIS_TFRALT_IDEA_WH_F  SCH_DISCWDIS_TFRALT_IDEA_TR_M  \\\ncount                   24467.000000                   24467.000000   \nmean                        0.017411                       0.006458   \nstd                         0.186456                       0.093301   \nmin                         0.000000                       0.000000   \n25%                         0.000000                       0.000000   \n50%                         0.000000                       0.000000   \n75%                         0.000000                       0.000000   \nmax                         6.000000                       5.000000   \n\n       SCH_DISCWDIS_TFRALT_IDEA_TR_F  SCH_DISCWDIS_TFRALT_LEP_M  \\\ncount                   24467.000000               24471.000000   \nmean                        0.002166                   0.013853   \nstd                         0.049886                   0.199745   \nmin                         0.000000                   0.000000   \n25%                         0.000000                   0.000000   \n50%                         0.000000                   0.000000   \n75%                         0.000000                   0.000000   \nmax                         2.000000                  12.000000   \n\n       SCH_DISCWDIS_TFRALT_LEP_F  SCH_DISCWDIS_TFRALT_504_M  \\\ncount               24471.000000               24468.000000   \nmean                    0.002207                   0.035475   \nstd                     0.056415                   0.391557   \nmin                     0.000000                   0.000000   \n25%                     0.000000                   0.000000   \n50%                     0.000000                   0.000000   \n75%                     0.000000                   0.000000   \nmax                     4.000000                  17.000000   \n\n       SCH_DISCWDIS_TFRALT_504_F  \ncount               24467.000000  \nmean                    0.010954  \nstd                     0.174976  \nmin                     0.000000  \n25%                     0.000000  \n50%                     0.000000  \n75%                     0.000000  \nmax                     9.000000  \n\n[8 rows x 511 columns]",
      "text/html": "<div>\n<style scoped>\n    .dataframe tbody tr th:only-of-type {\n        vertical-align: middle;\n    }\n\n    .dataframe tbody tr th {\n        vertical-align: top;\n    }\n\n    .dataframe thead th {\n        text-align: right;\n    }\n</style>\n<table border=\"1\" class=\"dataframe\">\n  <thead>\n    <tr style=\"text-align: right;\">\n      <th></th>\n      <th>SCH_MATHCLASSES_ADVM</th>\n      <th>SCH_MATHCERT_ADVM</th>\n      <th>SCH_MATHENR_ADVM_HI_M</th>\n      <th>SCH_MATHENR_ADVM_HI_F</th>\n      <th>SCH_MATHENR_ADVM_AM_M</th>\n      <th>SCH_MATHENR_ADVM_AM_F</th>\n      <th>SCH_MATHENR_ADVM_AS_M</th>\n      <th>SCH_MATHENR_ADVM_AS_F</th>\n      <th>SCH_MATHENR_ADVM_HP_M</th>\n      <th>SCH_MATHENR_ADVM_HP_F</th>\n      <th>...</th>\n      <th>SCH_DISCWDIS_TFRALT_IDEA_BL_M</th>\n      <th>SCH_DISCWDIS_TFRALT_IDEA_BL_F</th>\n      <th>SCH_DISCWDIS_TFRALT_IDEA_WH_M</th>\n      <th>SCH_DISCWDIS_TFRALT_IDEA_WH_F</th>\n      <th>SCH_DISCWDIS_TFRALT_IDEA_TR_M</th>\n      <th>SCH_DISCWDIS_TFRALT_IDEA_TR_F</th>\n      <th>SCH_DISCWDIS_TFRALT_LEP_M</th>\n      <th>SCH_DISCWDIS_TFRALT_LEP_F</th>\n      <th>SCH_DISCWDIS_TFRALT_504_M</th>\n      <th>SCH_DISCWDIS_TFRALT_504_F</th>\n    </tr>\n  </thead>\n  <tbody>\n    <tr>\n      <th>count</th>\n      <td>24469.000000</td>\n      <td>17534.000000</td>\n      <td>17534.000000</td>\n      <td>17534.000000</td>\n      <td>17534.000000</td>\n      <td>17534.000000</td>\n      <td>17534.000000</td>\n      <td>17534.000000</td>\n      <td>17534.000000</td>\n      <td>17534.000000</td>\n      <td>...</td>\n      <td>24467.000000</td>\n      <td>24467.000000</td>\n      <td>24467.000000</td>\n      <td>24467.000000</td>\n      <td>24467.000000</td>\n      <td>24467.000000</td>\n      <td>24471.000000</td>\n      <td>24471.000000</td>\n      <td>24468.000000</td>\n      <td>24467.000000</td>\n    </tr>\n    <tr>\n      <th>mean</th>\n      <td>5.655932</td>\n      <td>6.675488</td>\n      <td>13.579389</td>\n      <td>14.926429</td>\n      <td>0.346641</td>\n      <td>0.418729</td>\n      <td>5.473252</td>\n      <td>5.656154</td>\n      <td>0.186096</td>\n      <td>0.220657</td>\n      <td>...</td>\n      <td>0.101892</td>\n      <td>0.027425</td>\n      <td>0.075816</td>\n      <td>0.017411</td>\n      <td>0.006458</td>\n      <td>0.002166</td>\n      <td>0.013853</td>\n      <td>0.002207</td>\n      <td>0.035475</td>\n      <td>0.010954</td>\n    </tr>\n    <tr>\n      <th>std</th>\n      <td>9.564453</td>\n      <td>9.356777</td>\n      <td>32.233838</td>\n      <td>34.572369</td>\n      <td>1.680068</td>\n      <td>2.013496</td>\n      <td>20.738184</td>\n      <td>20.642909</td>\n      <td>1.506309</td>\n      <td>1.976380</td>\n      <td>...</td>\n      <td>0.889207</td>\n      <td>0.350905</td>\n      <td>0.519872</td>\n      <td>0.186456</td>\n      <td>0.093301</td>\n      <td>0.049886</td>\n      <td>0.199745</td>\n      <td>0.056415</td>\n      <td>0.391557</td>\n      <td>0.174976</td>\n    </tr>\n    <tr>\n      <th>min</th>\n      <td>0.000000</td>\n      <td>0.000000</td>\n      <td>0.000000</td>\n      <td>0.000000</td>\n      <td>0.000000</td>\n      <td>0.000000</td>\n      <td>0.000000</td>\n      <td>0.000000</td>\n      <td>0.000000</td>\n      <td>0.000000</td>\n      <td>...</td>\n      <td>0.000000</td>\n      <td>0.000000</td>\n      <td>0.000000</td>\n      <td>0.000000</td>\n      <td>0.000000</td>\n      <td>0.000000</td>\n      <td>0.000000</td>\n      <td>0.000000</td>\n      <td>0.000000</td>\n      <td>0.000000</td>\n    </tr>\n    <tr>\n      <th>25%</th>\n      <td>0.000000</td>\n      <td>1.000000</td>\n      <td>0.000000</td>\n      <td>0.000000</td>\n      <td>0.000000</td>\n      <td>0.000000</td>\n      <td>0.000000</td>\n      <td>0.000000</td>\n      <td>0.000000</td>\n      <td>0.000000</td>\n      <td>...</td>\n      <td>0.000000</td>\n      <td>0.000000</td>\n      <td>0.000000</td>\n      <td>0.000000</td>\n      <td>0.000000</td>\n      <td>0.000000</td>\n      <td>0.000000</td>\n      <td>0.000000</td>\n      <td>0.000000</td>\n      <td>0.000000</td>\n    </tr>\n    <tr>\n      <th>50%</th>\n      <td>2.000000</td>\n      <td>4.000000</td>\n      <td>2.000000</td>\n      <td>2.000000</td>\n      <td>0.000000</td>\n      <td>0.000000</td>\n      <td>0.000000</td>\n      <td>0.000000</td>\n      <td>0.000000</td>\n      <td>0.000000</td>\n      <td>...</td>\n      <td>0.000000</td>\n      <td>0.000000</td>\n      <td>0.000000</td>\n      <td>0.000000</td>\n      <td>0.000000</td>\n      <td>0.000000</td>\n      <td>0.000000</td>\n      <td>0.000000</td>\n      <td>0.000000</td>\n      <td>0.000000</td>\n    </tr>\n    <tr>\n      <th>75%</th>\n      <td>8.000000</td>\n      <td>9.000000</td>\n      <td>11.000000</td>\n      <td>13.000000</td>\n      <td>0.000000</td>\n      <td>0.000000</td>\n      <td>3.000000</td>\n      <td>3.000000</td>\n      <td>0.000000</td>\n      <td>0.000000</td>\n      <td>...</td>\n      <td>0.000000</td>\n      <td>0.000000</td>\n      <td>0.000000</td>\n      <td>0.000000</td>\n      <td>0.000000</td>\n      <td>0.000000</td>\n      <td>0.000000</td>\n      <td>0.000000</td>\n      <td>0.000000</td>\n      <td>0.000000</td>\n    </tr>\n    <tr>\n      <th>max</th>\n      <td>608.000000</td>\n      <td>608.000000</td>\n      <td>571.000000</td>\n      <td>552.000000</td>\n      <td>70.000000</td>\n      <td>69.000000</td>\n      <td>587.000000</td>\n      <td>564.000000</td>\n      <td>103.000000</td>\n      <td>138.000000</td>\n      <td>...</td>\n      <td>64.000000</td>\n      <td>30.000000</td>\n      <td>15.000000</td>\n      <td>6.000000</td>\n      <td>5.000000</td>\n      <td>2.000000</td>\n      <td>12.000000</td>\n      <td>4.000000</td>\n      <td>17.000000</td>\n      <td>9.000000</td>\n    </tr>\n  </tbody>\n</table>\n<p>8 rows × 511 columns</p>\n</div>"
     },
     "execution_count": 93,
     "metadata": {},
     "output_type": "execute_result"
    }
   ],
   "source": [
    "high_schools.describe()"
   ],
   "metadata": {
    "collapsed": false,
    "pycharm": {
     "name": "#%%\n"
    }
   }
  },
  {
   "cell_type": "code",
   "execution_count": 94,
   "outputs": [],
   "source": [
    "# add NC ACT data\n",
    "nc_act = pd.read_excel('../data/act-results/NCactresults1718.xlsx',header=2,usecols=[0,1,2,3,4],na_values=[' ---- ','*'])\n",
    "nc_act.dropna(inplace=True)\n",
    "nc_act = nc_act[['System or School Name','Mean']]\n",
    "nc_act.columns = ['SCH_NAME','ACT']\n",
    "nc_high_schools = pd.merge(high_schools[high_schools['LEA_STATE'].eq('NC')], nc_act, on='SCH_NAME')"
   ],
   "metadata": {
    "collapsed": false,
    "pycharm": {
     "name": "#%%\n"
    }
   }
  },
  {
   "cell_type": "code",
   "execution_count": 95,
   "outputs": [],
   "source": [
    "# add SC ACT data\n",
    "sc_act = pd.read_excel('../data/act-results/SCACT-Schools2017final2.xlsx',header=2,usecols=[0,1,2,10])\n",
    "sc_act.dropna(inplace=True)\n",
    "sc_act = sc_act[['Unnamed: 2',18.4]]\n",
    "sc_act.columns = ['SCH_NAME','ACT']\n",
    "high_schools.loc[high_schools['LEA_STATE'].eq('SC'),'SCH_NAME'] = high_schools[high_schools['LEA_STATE'].eq('SC')]['SCH_NAME'].str.upper()\n",
    "sc_high_schools = pd.merge(high_schools[high_schools['LEA_STATE'].eq('SC')], sc_act, on='SCH_NAME')"
   ],
   "metadata": {
    "collapsed": false,
    "pycharm": {
     "name": "#%%\n"
    }
   }
  },
  {
   "cell_type": "code",
   "execution_count": 96,
   "outputs": [],
   "source": [
    "# add GA ACT data\n",
    "ga_act = pd.read_csv('../data/act-results/GA_ACT_HIGHEST_2018_FEB_24_2020.csv',usecols=[1,4,6,14])\n",
    "ga_act.dropna(inplace=True)\n",
    "ga_act = ga_act[ga_act['TEST_CMPNT_TYP_CD'].eq('Composite')]\n",
    "ga_act = ga_act[['INSTN_NAME','INSTN_AVG_SCORE_VAL']]\n",
    "ga_act.columns = ['SCH_NAME','ACT']\n",
    "ga_high_schools = pd.merge(high_schools[high_schools['LEA_STATE'].eq('GA')], ga_act, on='SCH_NAME')"
   ],
   "metadata": {
    "collapsed": false,
    "pycharm": {
     "name": "#%%\n"
    }
   }
  },
  {
   "cell_type": "code",
   "execution_count": 97,
   "outputs": [
    {
     "data": {
      "text/plain": "((494, 518), (431, 519))"
     },
     "execution_count": 97,
     "metadata": {},
     "output_type": "execute_result"
    }
   ],
   "source": [
    "# add CO\n",
    "co_act = pd.read_excel('../data/act-results/CO_ACT District and School Summary 2015_2016.xlsx',header=4,usecols=[3,11])\n",
    "co_act.dropna(inplace=True)\n",
    "co_act.columns = ['SCH_NAME','ACT']\n",
    "high_schools.loc[high_schools['LEA_STATE'].eq('CO'),'SCH_NAME'] = high_schools[high_schools['LEA_STATE'].eq('CO')]['SCH_NAME'].str.upper()\n",
    "co_high_schools = pd.merge(high_schools[high_schools['LEA_STATE'].eq('CO')], co_act, on='SCH_NAME')\n",
    "high_schools[high_schools['LEA_STATE'].eq('CO')].shape, co_high_schools.shape"
   ],
   "metadata": {
    "collapsed": false,
    "pycharm": {
     "name": "#%%\n"
    }
   }
  },
  {
   "cell_type": "code",
   "execution_count": 98,
   "outputs": [
    {
     "data": {
      "text/plain": "((951, 518), (286, 519))"
     },
     "execution_count": 98,
     "metadata": {},
     "output_type": "execute_result"
    }
   ],
   "source": [
    "# add FL\n",
    "fl_act = pd.read_excel('../data/act-results/FL_2017ACTSchool.xlsx',header=3,usecols=[3,9],na_values=['*'])\n",
    "fl_act.dropna(inplace=True)\n",
    "fl_act['Unnamed: 3'] = fl_act['Unnamed: 3'].str.replace(' HS',' HIGH SCHOOL')\n",
    "fl_act.columns = ['SCH_NAME','ACT']\n",
    "high_schools.loc[high_schools['LEA_STATE'].eq('FL'),'SCH_NAME'] = high_schools[high_schools['LEA_STATE'].eq('FL')]['SCH_NAME'].str.upper()\n",
    "fl_high_schools = pd.merge(high_schools[high_schools['LEA_STATE'].eq('FL')], fl_act, on='SCH_NAME')\n",
    "high_schools[high_schools['LEA_STATE'].eq('FL')].shape, fl_high_schools.shape"
   ],
   "metadata": {
    "collapsed": false,
    "pycharm": {
     "name": "#%%\n"
    }
   }
  },
  {
   "cell_type": "code",
   "execution_count": 99,
   "outputs": [
    {
     "data": {
      "text/plain": "((353, 518), (341, 519))"
     },
     "execution_count": 99,
     "metadata": {},
     "output_type": "execute_result"
    }
   ],
   "source": [
    "# add LA\n",
    "la_act = pd.read_excel('../data/act-results/LA_act-class-of-2018.xlsx',sheet_name='Site',header=5,usecols=[3,5])\n",
    "la_act.dropna(inplace=True)\n",
    "la_act.columns = ['SCH_NAME','ACT']\n",
    "la_high_schools = pd.merge(high_schools[high_schools['LEA_STATE'].eq('LA')], la_act, on='SCH_NAME')\n",
    "high_schools[high_schools['LEA_STATE'].eq('LA')].shape, la_high_schools.shape"
   ],
   "metadata": {
    "collapsed": false,
    "pycharm": {
     "name": "#%%\n"
    }
   }
  },
  {
   "cell_type": "code",
   "execution_count": 100,
   "outputs": [
    {
     "data": {
      "text/plain": "((639, 518), (576, 519))"
     },
     "execution_count": 100,
     "metadata": {},
     "output_type": "execute_result"
    }
   ],
   "source": [
    "mo_act = pd.read_excel('../data/act-results/MO_Building ACT Results.xlsx',header=0,usecols=[0,4,9])\n",
    "mo_act.dropna(inplace=True)\n",
    "mo_act = mo_act[mo_act['YEAR'].eq(2018)].iloc[:,1:]\n",
    "mo_act.columns = ['SCH_NAME','ACT']\n",
    "high_schools.loc[high_schools['LEA_STATE'].eq('MO'),'SCH_NAME'] = high_schools[high_schools['LEA_STATE'].eq('MO')]['SCH_NAME'].str.upper()\n",
    "mo_high_schools = pd.merge(high_schools[high_schools['LEA_STATE'].eq('MO')], mo_act, on='SCH_NAME')\n",
    "high_schools[high_schools['LEA_STATE'].eq('MO')].shape, mo_high_schools.shape"
   ],
   "metadata": {
    "collapsed": false,
    "pycharm": {
     "name": "#%%\n"
    }
   }
  },
  {
   "cell_type": "code",
   "execution_count": 114,
   "outputs": [
    {
     "data": {
      "text/plain": "((816, 518), (215, 519))"
     },
     "execution_count": 114,
     "metadata": {},
     "output_type": "execute_result"
    }
   ],
   "source": [
    "mn_act = pd.read_excel('../data/act-results/Minnesota 2018 Public Schools Graduating Class 5 Year Trends.xlsx',header=0,usecols=[0,3,5,11])\n",
    "mn_act.dropna(inplace=True)\n",
    "mn_act = mn_act[mn_act['Analysis Level'].eq('School') & mn_act['Grad Year'].eq(2018)]\n",
    "mn_act = mn_act[['HS Name','Avg Comp']]\n",
    "mn_act.columns = ['SCH_NAME','ACT']\n",
    "high_schools.loc[high_schools['LEA_STATE'].eq('MN'),'SCH_NAME'] = high_schools[high_schools['LEA_STATE'].eq('MN')]['SCH_NAME'].str.upper()\n",
    "high_schools.loc[high_schools['LEA_STATE'].eq('MN'),'SCH_NAME'] = high_schools[high_schools['LEA_STATE'].eq('MN')]['SCH_NAME'].str.replace('SECONDARY','HIGH SCHOOL')\n",
    "high_schools.loc[high_schools['LEA_STATE'].eq('MN'),'SCH_NAME'] = high_schools[high_schools['LEA_STATE'].eq('MN')]['SCH_NAME'].str.replace('SENIOR HIGH','HIGH SCHOOL')\n",
    "mn_high_schools = pd.merge(high_schools[high_schools['LEA_STATE'].eq('MN')], mn_act, on='SCH_NAME')\n",
    "high_schools[high_schools['LEA_STATE'].eq('MN')].shape, mn_high_schools.shape"
   ],
   "metadata": {
    "collapsed": false,
    "pycharm": {
     "name": "#%%\n"
    }
   }
  },
  {
   "cell_type": "code",
   "execution_count": 116,
   "outputs": [
    {
     "data": {
      "text/plain": "((312, 518), (263, 519))"
     },
     "execution_count": 116,
     "metadata": {},
     "output_type": "execute_result"
    }
   ],
   "source": [
    "ne_act = pd.read_csv('../data/act-results/NE_ACT_Composite_20202021.csv')\n",
    "ne_act.dropna(inplace=True)\n",
    "ne_act = ne_act[ne_act['LEVEL'].eq('SC')]\n",
    "ne_act = ne_act[['NAME','AVERAGE_COMPOSITE_SCORE']]\n",
    "ne_act.columns = ['SCH_NAME','ACT']\n",
    "high_schools.loc[high_schools['LEA_STATE'].eq('NE'),'SCH_NAME'] = high_schools[high_schools['LEA_STATE'].eq('NE')]['SCH_NAME'].str.upper()\n",
    "ne_high_schools = pd.merge(high_schools[high_schools['LEA_STATE'].eq('NE')], ne_act, on='SCH_NAME')\n",
    "high_schools[high_schools['LEA_STATE'].eq('NE')].shape, ne_high_schools.shape"
   ],
   "metadata": {
    "collapsed": false,
    "pycharm": {
     "name": "#%%\n"
    }
   }
  },
  {
   "cell_type": "code",
   "execution_count": 122,
   "outputs": [
    {
     "data": {
      "text/plain": "((167, 518), (88, 519))"
     },
     "execution_count": 122,
     "metadata": {},
     "output_type": "execute_result"
    }
   ],
   "source": [
    "nd_act = pd.read_excel('../data/act-results/North Dakota ACT Scores.xlsx',header=1,usecols=[1,10])\n",
    "nd_act.dropna(inplace=True)\n",
    "nd_act['School'] = nd_act['School'].str.upper()\n",
    "nd_act.columns = ['SCH_NAME','ACT']\n",
    "nd_high_schools = pd.merge(high_schools[high_schools['LEA_STATE'].eq('ND')], nd_act, on='SCH_NAME')\n",
    "high_schools[high_schools['LEA_STATE'].eq('ND')].shape, nd_high_schools.shape"
   ],
   "metadata": {
    "collapsed": false,
    "pycharm": {
     "name": "#%%\n"
    }
   }
  },
  {
   "cell_type": "code",
   "execution_count": 123,
   "outputs": [
    {
     "data": {
      "text/plain": "((490, 518), (458, 519))"
     },
     "execution_count": 123,
     "metadata": {},
     "output_type": "execute_result"
    }
   ],
   "source": [
    "ok_act = pd.read_excel('../data/act-results/OK_School Level_ACT_2016_Senior.xlsx',header=0,usecols=[5,7])\n",
    "ok_act.dropna(inplace=True)\n",
    "ok_act.columns = ['SCH_NAME',\"ACT\"]\n",
    "ok_high_schools = pd.merge(high_schools[high_schools['LEA_STATE'].eq('OK')], ok_act, on='SCH_NAME')\n",
    "high_schools[high_schools['LEA_STATE'].eq('OK')].shape, ok_high_schools.shape"
   ],
   "metadata": {
    "collapsed": false,
    "pycharm": {
     "name": "#%%\n"
    }
   }
  },
  {
   "cell_type": "code",
   "execution_count": 121,
   "outputs": [
    {
     "data": {
      "text/plain": "((751, 518), (565, 519))"
     },
     "execution_count": 121,
     "metadata": {},
     "output_type": "execute_result"
    }
   ],
   "source": [
    "pa_act = pd.read_excel('../data/act-results/Pennsylvania_2017 ACT Scores Public Schools.xlsx',header=7,usecols=[4,11])\n",
    "pa_act.dropna(inplace=True)\n",
    "pa_act.columns = ['SCH_NAME','ACT']\n",
    "pa_high_schools = pd.merge(high_schools[high_schools['LEA_STATE'].eq('PA')], pa_act, on='SCH_NAME')\n",
    "high_schools[high_schools['LEA_STATE'].eq('PA')].shape, pa_high_schools.shape"
   ],
   "metadata": {
    "collapsed": false,
    "pycharm": {
     "name": "#%%\n"
    }
   }
  },
  {
   "cell_type": "code",
   "execution_count": 119,
   "outputs": [
    {
     "data": {
      "text/plain": "((402, 518), (395, 519))"
     },
     "execution_count": 119,
     "metadata": {},
     "output_type": "execute_result"
    }
   ],
   "source": [
    "tn_act = pd.read_excel('../data/act-results/TN_2017-18 ACT_school_suppressed.xlsx',header=0,usecols=[3,4,11])\n",
    "tn_act.dropna(inplace=True)\n",
    "tn_act = tn_act[tn_act['Subgroup'].eq('All Students')][['School Name','Average Composite Score']]\n",
    "tn_act.columns = ['SCH_NAME','ACT']\n",
    "tn_high_schools = pd.merge(high_schools[high_schools['LEA_STATE'].eq('TN')], tn_act, on='SCH_NAME')\n",
    "high_schools[high_schools['LEA_STATE'].eq('TN')].shape, tn_high_schools.shape"
   ],
   "metadata": {
    "collapsed": false,
    "pycharm": {
     "name": "#%%\n"
    }
   }
  },
  {
   "cell_type": "code",
   "execution_count": 120,
   "outputs": [
    {
     "data": {
      "text/plain": "((2033, 518), (1605, 519))"
     },
     "execution_count": 120,
     "metadata": {},
     "output_type": "execute_result"
    }
   ],
   "source": [
    "tx_act = pd.read_excel('../data/act-results/TX_ACT_Campus_Data_Class_2018.xlsx',sheet_name='ACT_Campus_Data_Class_2018',header=0,usecols=[0,3,14])\n",
    "tx_act.dropna(inplace=True)\n",
    "tx_act = tx_act[tx_act['Group'].eq('All Students')].iloc[:,1:]\n",
    "tx_act['CampName'] = tx_act['CampName'].str.upper()\n",
    "tx_act.columns = ['SCH_NAME','ACT']\n",
    "tx_high_schools = pd.merge(high_schools[high_schools['LEA_STATE'].eq('TX')], tx_act, on='SCH_NAME')\n",
    "high_schools[high_schools['LEA_STATE'].eq('TX')].shape, tx_high_schools.shape"
   ],
   "metadata": {
    "collapsed": false,
    "pycharm": {
     "name": "#%%\n"
    }
   }
  },
  {
   "cell_type": "code",
   "execution_count": 124,
   "outputs": [
    {
     "data": {
      "text/plain": "((215, 518), (186, 519))"
     },
     "execution_count": 124,
     "metadata": {},
     "output_type": "execute_result"
    }
   ],
   "source": [
    "ut_act = pd.read_excel('../data/act-results/Utah_ACTGrade112018.xlsx',sheet_name='SCHOOL',header=0,usecols=[3,5])\n",
    "ut_act.dropna(inplace=True)\n",
    "ut_act.columns = ['SCH_NAME','ACT']\n",
    "ut_high_schools = pd.merge(high_schools[high_schools['LEA_STATE'].eq('UT')], ut_act, on='SCH_NAME')\n",
    "high_schools[high_schools['LEA_STATE'].eq('UT')].shape, ut_high_schools.shape"
   ],
   "metadata": {
    "collapsed": false,
    "pycharm": {
     "name": "#%%\n"
    }
   }
  },
  {
   "cell_type": "code",
   "execution_count": 126,
   "outputs": [
    {
     "data": {
      "text/plain": "((576, 518), (682, 519))"
     },
     "execution_count": 126,
     "metadata": {},
     "output_type": "execute_result"
    }
   ],
   "source": [
    "wi_act = pd.read_csv('../data/act-results/WI_act_graduates_certified_2017-18.csv')\n",
    "wi_act = wi_act[wi_act['TEST_SUBJECT'].eq('Composite') & wi_act['GROUP_BY'].eq('All Students')]\n",
    "wi_act = wi_act[['SCHOOL_NAME','AVERAGE_SCORE']]\n",
    "wi_act.columns = ['SCH_NAME','ACT']\n",
    "wi_high_schools = pd.merge(high_schools[high_schools['LEA_STATE'].eq('WI')], wi_act, on='SCH_NAME')\n",
    "high_schools[high_schools['LEA_STATE'].eq('WI')].shape, wi_high_schools.shape"
   ],
   "metadata": {
    "collapsed": false,
    "pycharm": {
     "name": "#%%\n"
    }
   }
  },
  {
   "cell_type": "code",
   "execution_count": 135,
   "outputs": [
    {
     "name": "stderr",
     "output_type": "stream",
     "text": [
      "C:\\Users\\David\\miniconda3\\lib\\site-packages\\openpyxl\\styles\\stylesheet.py:226: UserWarning: Workbook contains no default style, apply openpyxl's default\n",
      "  warn(\"Workbook contains no default style, apply openpyxl's default\")\n"
     ]
    },
    {
     "data": {
      "text/plain": "((95, 518), (70, 519))"
     },
     "execution_count": 135,
     "metadata": {},
     "output_type": "execute_result"
    }
   ],
   "source": [
    "wy_act = pd.read_excel('../data/act-results/WY_DistrictACTSuiteAverages_20220329_050233.xlsx',header=8,usecols=[4,20])\n",
    "wy_act.dropna(inplace=True)\n",
    "wy_act.columns = ['SCH_NAME','ACT']\n",
    "wy_high_schools = pd.merge(high_schools[high_schools['LEA_STATE'].eq('WY')], wy_act, on='SCH_NAME')\n",
    "high_schools[high_schools['LEA_STATE'].eq('WY')].shape, wy_high_schools.shape"
   ],
   "metadata": {
    "collapsed": false,
    "pycharm": {
     "name": "#%%\n"
    }
   }
  },
  {
   "cell_type": "code",
   "execution_count": 136,
   "outputs": [],
   "source": [
    "high_schools_act = pd.concat([nc_high_schools,sc_high_schools,ga_high_schools,co_high_schools,fl_high_schools,la_high_schools,mn_high_schools,mo_high_schools,ne_high_schools,nd_high_schools,ok_high_schools,pa_high_schools,tn_high_schools,tx_high_schools,ut_high_schools,wi_high_schools,wy_high_schools])"
   ],
   "metadata": {
    "collapsed": false,
    "pycharm": {
     "name": "#%%\n"
    }
   }
  },
  {
   "cell_type": "code",
   "execution_count": 137,
   "outputs": [],
   "source": [
    "# replace missing data with either mean or median depending on skewness\n",
    "from scipy.stats import skew\n",
    "\n",
    "for i, col in enumerate(high_schools_act.columns):\n",
    "    if high_schools_act[col].dtype == object:\n",
    "        continue\n",
    "    sk = skew(high_schools_act[col], nan_policy='omit')\n",
    "    if abs(sk) > 1:\n",
    "        high_schools_act[col].fillna(high_schools_act[col].median(), inplace=True)\n",
    "    else:\n",
    "        high_schools_act[col].fillna(high_schools_act[col].mean(), inplace=True)\n"
   ],
   "metadata": {
    "collapsed": false,
    "pycharm": {
     "name": "#%%\n"
    }
   }
  },
  {
   "cell_type": "code",
   "execution_count": 138,
   "outputs": [
    {
     "data": {
      "text/plain": "LEA_STATE                       0\nSCH_DISCWDIS_EXPWE_LEP_M        0\nSCH_DISCWDIS_EXPZT_IDEA_BL_M    0\nSCH_DISCWDIS_EXPZT_IDEA_HP_F    0\nSCH_DISCWDIS_EXPZT_IDEA_HP_M    0\n                               ..\nSCH_DUALENR_AS_F                0\nSCH_DUALENR_AS_M                0\nSCH_DUALENR_AM_F                0\nSCH_DUALENR_AM_M                0\nACT                             0\nLength: 519, dtype: int64"
     },
     "execution_count": 138,
     "metadata": {},
     "output_type": "execute_result"
    }
   ],
   "source": [
    "high_schools_act.isna().sum().sort_values(ascending=False)"
   ],
   "metadata": {
    "collapsed": false,
    "pycharm": {
     "name": "#%%\n"
    }
   }
  },
  {
   "cell_type": "code",
   "execution_count": 141,
   "outputs": [],
   "source": [
    "high_schools_act.to_csv('../data/full_highschool_data.csv',index=False)"
   ],
   "metadata": {
    "collapsed": false,
    "pycharm": {
     "name": "#%%\n"
    }
   }
  }
 ],
 "metadata": {
  "kernelspec": {
   "display_name": "Python 3",
   "language": "python",
   "name": "python3"
  },
  "language_info": {
   "codemirror_mode": {
    "name": "ipython",
    "version": 2
   },
   "file_extension": ".py",
   "mimetype": "text/x-python",
   "name": "python",
   "nbconvert_exporter": "python",
   "pygments_lexer": "ipython2",
   "version": "2.7.6"
  }
 },
 "nbformat": 4,
 "nbformat_minor": 0
}