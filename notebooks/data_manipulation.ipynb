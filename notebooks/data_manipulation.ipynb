{
 "cells": [
  {
   "cell_type": "markdown",
   "metadata": {
    "collapsed": true,
    "pycharm": {
     "name": "#%% md\n"
    }
   },
   "source": [
    "\n",
    "# Data Cleaning and Manipulation\n",
    "\n",
    "This notebook will be used for gathering data from our primary sources and transforming it into a format that can be utilized for machine learning applications"
   ]
  },
  {
   "cell_type": "code",
   "execution_count": 1,
   "outputs": [],
   "source": [
    "# import libraries\n",
    "import pandas as pd\n",
    "from functools import reduce\n",
    "import glob"
   ],
   "metadata": {
    "collapsed": false,
    "pycharm": {
     "name": "#%%\n"
    }
   }
  },
  {
   "cell_type": "code",
   "execution_count": 2,
   "outputs": [
    {
     "name": "stderr",
     "output_type": "stream",
     "text": [
      "C:\\Users\\David\\AppData\\Local\\Temp\\ipykernel_14060\\2738817395.py:2: DtypeWarning: Columns (8) have mixed types.Specify dtype option on import or set low_memory=False.\n",
      "  crdc_dfs = [pd.read_csv(filename, encoding='ANSI', true_values=['Yes'], false_values=['No'], na_values=['-3','-5','-6','-8','-9','-11'], dtype={'LEAID':str,'COMBOKEY':str,'SCHID':str}) for filename in glob.glob(\"../data/2017-18-crdc-data/Data/SCH/CRDC/CSV/*.csv\")]\n",
      "C:\\Users\\David\\AppData\\Local\\Temp\\ipykernel_14060\\2738817395.py:2: DtypeWarning: Columns (8,22) have mixed types.Specify dtype option on import or set low_memory=False.\n",
      "  crdc_dfs = [pd.read_csv(filename, encoding='ANSI', true_values=['Yes'], false_values=['No'], na_values=['-3','-5','-6','-8','-9','-11'], dtype={'LEAID':str,'COMBOKEY':str,'SCHID':str}) for filename in glob.glob(\"../data/2017-18-crdc-data/Data/SCH/CRDC/CSV/*.csv\")]\n"
     ]
    }
   ],
   "source": [
    "# read all data\n",
    "crdc_dfs = [pd.read_csv(filename, encoding='ANSI', true_values=['Yes'], false_values=['No'], na_values=['-3','-5','-6','-8','-9','-11'], dtype={'LEAID':str,'COMBOKEY':str,'SCHID':str}) for filename in glob.glob(\"../data/2017-18-crdc-data/Data/SCH/CRDC/CSV/*.csv\")]"
   ],
   "metadata": {
    "collapsed": false,
    "pycharm": {
     "name": "#%%\n"
    }
   }
  },
  {
   "cell_type": "code",
   "execution_count": 3,
   "outputs": [],
   "source": [
    "# merge dfs together\n",
    "merge_cols = ['LEA_STATE','LEA_STATE_NAME','LEAID','LEA_NAME','SCHID','SCH_NAME','COMBOKEY','JJ']\n",
    "school_data = reduce(lambda left,right: pd.merge(left,right,on=merge_cols,how='left'), crdc_dfs)"
   ],
   "metadata": {
    "collapsed": false,
    "pycharm": {
     "name": "#%%\n"
    }
   }
  },
  {
   "cell_type": "code",
   "execution_count": 4,
   "outputs": [],
   "source": [
    "# keep only schools that have Grade 12\n",
    "high_schools = school_data[school_data['SCH_GRADE_G12']]"
   ],
   "metadata": {
    "collapsed": false,
    "pycharm": {
     "name": "#%%\n"
    }
   }
  },
  {
   "cell_type": "code",
   "execution_count": 5,
   "outputs": [],
   "source": [
    "# remove juvenile justice facilities\n",
    "high_schools = high_schools[high_schools.JJ.eq(False)]\n",
    "high_schools = high_schools.drop(columns='JJ')"
   ],
   "metadata": {
    "collapsed": false,
    "pycharm": {
     "name": "#%%\n"
    }
   }
  },
  {
   "cell_type": "code",
   "execution_count": 6,
   "outputs": [],
   "source": [
    "# get rid of non-high-school data and calculated tot columns\n",
    "import re\n",
    "high_schools = high_schools.drop(columns=[col for col in high_schools.columns if bool(re.match(r'.*_(GS?0[1-8]|KG|PS|UG).*', col))])"
   ],
   "metadata": {
    "collapsed": false,
    "pycharm": {
     "name": "#%%\n"
    }
   }
  },
  {
   "cell_type": "code",
   "execution_count": 7,
   "outputs": [
    {
     "data": {
      "text/plain": "       SCH_MATHCLASSES_ADVM  SCH_MATHCERT_ADVM  SCH_MATHENR_ADVM_HI_M  \\\ncount          24469.000000       17534.000000           17534.000000   \nmean               5.655932           6.675488              13.579389   \nstd                9.564453           9.356777              32.233838   \nmin                0.000000           0.000000               0.000000   \n25%                0.000000           1.000000               0.000000   \n50%                2.000000           4.000000               2.000000   \n75%                8.000000           9.000000              11.000000   \nmax              608.000000         608.000000             571.000000   \n\n       SCH_MATHENR_ADVM_HI_F  SCH_MATHENR_ADVM_AM_M  SCH_MATHENR_ADVM_AM_F  \\\ncount           17534.000000           17534.000000           17534.000000   \nmean               14.926429               0.346641               0.418729   \nstd                34.572369               1.680068               2.013496   \nmin                 0.000000               0.000000               0.000000   \n25%                 0.000000               0.000000               0.000000   \n50%                 2.000000               0.000000               0.000000   \n75%                13.000000               0.000000               0.000000   \nmax               552.000000              70.000000              69.000000   \n\n       SCH_MATHENR_ADVM_AS_M  SCH_MATHENR_ADVM_AS_F  SCH_MATHENR_ADVM_HP_M  \\\ncount           17534.000000           17534.000000           17534.000000   \nmean                5.473252               5.656154               0.186096   \nstd                20.738184              20.642909               1.506309   \nmin                 0.000000               0.000000               0.000000   \n25%                 0.000000               0.000000               0.000000   \n50%                 0.000000               0.000000               0.000000   \n75%                 3.000000               3.000000               0.000000   \nmax               587.000000             564.000000             103.000000   \n\n       SCH_MATHENR_ADVM_HP_F  ...  SCH_DISCWDIS_TFRALT_IDEA_WH_M  \\\ncount           17534.000000  ...                   24467.000000   \nmean                0.220657  ...                       0.075816   \nstd                 1.976380  ...                       0.519872   \nmin                 0.000000  ...                       0.000000   \n25%                 0.000000  ...                       0.000000   \n50%                 0.000000  ...                       0.000000   \n75%                 0.000000  ...                       0.000000   \nmax               138.000000  ...                      15.000000   \n\n       SCH_DISCWDIS_TFRALT_IDEA_WH_F  SCH_DISCWDIS_TFRALT_IDEA_TR_M  \\\ncount                   24467.000000                   24467.000000   \nmean                        0.017411                       0.006458   \nstd                         0.186456                       0.093301   \nmin                         0.000000                       0.000000   \n25%                         0.000000                       0.000000   \n50%                         0.000000                       0.000000   \n75%                         0.000000                       0.000000   \nmax                         6.000000                       5.000000   \n\n       SCH_DISCWDIS_TFRALT_IDEA_TR_F  TOT_DISCWDIS_TFRALT_IDEA_M  \\\ncount                   24467.000000                24467.000000   \nmean                        0.002166                    0.228103   \nstd                         0.049886                    1.348344   \nmin                         0.000000                    0.000000   \n25%                         0.000000                    0.000000   \n50%                         0.000000                    0.000000   \n75%                         0.000000                    0.000000   \nmax                         2.000000                   76.000000   \n\n       TOT_DISCWDIS_TFRALT_IDEA_F  SCH_DISCWDIS_TFRALT_LEP_M  \\\ncount                24467.000000               24471.000000   \nmean                     0.059018                   0.013853   \nstd                      0.501806                   0.199745   \nmin                      0.000000                   0.000000   \n25%                      0.000000                   0.000000   \n50%                      0.000000                   0.000000   \n75%                      0.000000                   0.000000   \nmax                     33.000000                  12.000000   \n\n       SCH_DISCWDIS_TFRALT_LEP_F  SCH_DISCWDIS_TFRALT_504_M  \\\ncount               24471.000000               24468.000000   \nmean                    0.002207                   0.035475   \nstd                     0.056415                   0.391557   \nmin                     0.000000                   0.000000   \n25%                     0.000000                   0.000000   \n50%                     0.000000                   0.000000   \n75%                     0.000000                   0.000000   \nmax                     4.000000                  17.000000   \n\n       SCH_DISCWDIS_TFRALT_504_F  \ncount               24467.000000  \nmean                    0.010954  \nstd                     0.174976  \nmin                     0.000000  \n25%                     0.000000  \n50%                     0.000000  \n75%                     0.000000  \nmax                     9.000000  \n\n[8 rows x 1360 columns]",
      "text/html": "<div>\n<style scoped>\n    .dataframe tbody tr th:only-of-type {\n        vertical-align: middle;\n    }\n\n    .dataframe tbody tr th {\n        vertical-align: top;\n    }\n\n    .dataframe thead th {\n        text-align: right;\n    }\n</style>\n<table border=\"1\" class=\"dataframe\">\n  <thead>\n    <tr style=\"text-align: right;\">\n      <th></th>\n      <th>SCH_MATHCLASSES_ADVM</th>\n      <th>SCH_MATHCERT_ADVM</th>\n      <th>SCH_MATHENR_ADVM_HI_M</th>\n      <th>SCH_MATHENR_ADVM_HI_F</th>\n      <th>SCH_MATHENR_ADVM_AM_M</th>\n      <th>SCH_MATHENR_ADVM_AM_F</th>\n      <th>SCH_MATHENR_ADVM_AS_M</th>\n      <th>SCH_MATHENR_ADVM_AS_F</th>\n      <th>SCH_MATHENR_ADVM_HP_M</th>\n      <th>SCH_MATHENR_ADVM_HP_F</th>\n      <th>...</th>\n      <th>SCH_DISCWDIS_TFRALT_IDEA_WH_M</th>\n      <th>SCH_DISCWDIS_TFRALT_IDEA_WH_F</th>\n      <th>SCH_DISCWDIS_TFRALT_IDEA_TR_M</th>\n      <th>SCH_DISCWDIS_TFRALT_IDEA_TR_F</th>\n      <th>TOT_DISCWDIS_TFRALT_IDEA_M</th>\n      <th>TOT_DISCWDIS_TFRALT_IDEA_F</th>\n      <th>SCH_DISCWDIS_TFRALT_LEP_M</th>\n      <th>SCH_DISCWDIS_TFRALT_LEP_F</th>\n      <th>SCH_DISCWDIS_TFRALT_504_M</th>\n      <th>SCH_DISCWDIS_TFRALT_504_F</th>\n    </tr>\n  </thead>\n  <tbody>\n    <tr>\n      <th>count</th>\n      <td>24469.000000</td>\n      <td>17534.000000</td>\n      <td>17534.000000</td>\n      <td>17534.000000</td>\n      <td>17534.000000</td>\n      <td>17534.000000</td>\n      <td>17534.000000</td>\n      <td>17534.000000</td>\n      <td>17534.000000</td>\n      <td>17534.000000</td>\n      <td>...</td>\n      <td>24467.000000</td>\n      <td>24467.000000</td>\n      <td>24467.000000</td>\n      <td>24467.000000</td>\n      <td>24467.000000</td>\n      <td>24467.000000</td>\n      <td>24471.000000</td>\n      <td>24471.000000</td>\n      <td>24468.000000</td>\n      <td>24467.000000</td>\n    </tr>\n    <tr>\n      <th>mean</th>\n      <td>5.655932</td>\n      <td>6.675488</td>\n      <td>13.579389</td>\n      <td>14.926429</td>\n      <td>0.346641</td>\n      <td>0.418729</td>\n      <td>5.473252</td>\n      <td>5.656154</td>\n      <td>0.186096</td>\n      <td>0.220657</td>\n      <td>...</td>\n      <td>0.075816</td>\n      <td>0.017411</td>\n      <td>0.006458</td>\n      <td>0.002166</td>\n      <td>0.228103</td>\n      <td>0.059018</td>\n      <td>0.013853</td>\n      <td>0.002207</td>\n      <td>0.035475</td>\n      <td>0.010954</td>\n    </tr>\n    <tr>\n      <th>std</th>\n      <td>9.564453</td>\n      <td>9.356777</td>\n      <td>32.233838</td>\n      <td>34.572369</td>\n      <td>1.680068</td>\n      <td>2.013496</td>\n      <td>20.738184</td>\n      <td>20.642909</td>\n      <td>1.506309</td>\n      <td>1.976380</td>\n      <td>...</td>\n      <td>0.519872</td>\n      <td>0.186456</td>\n      <td>0.093301</td>\n      <td>0.049886</td>\n      <td>1.348344</td>\n      <td>0.501806</td>\n      <td>0.199745</td>\n      <td>0.056415</td>\n      <td>0.391557</td>\n      <td>0.174976</td>\n    </tr>\n    <tr>\n      <th>min</th>\n      <td>0.000000</td>\n      <td>0.000000</td>\n      <td>0.000000</td>\n      <td>0.000000</td>\n      <td>0.000000</td>\n      <td>0.000000</td>\n      <td>0.000000</td>\n      <td>0.000000</td>\n      <td>0.000000</td>\n      <td>0.000000</td>\n      <td>...</td>\n      <td>0.000000</td>\n      <td>0.000000</td>\n      <td>0.000000</td>\n      <td>0.000000</td>\n      <td>0.000000</td>\n      <td>0.000000</td>\n      <td>0.000000</td>\n      <td>0.000000</td>\n      <td>0.000000</td>\n      <td>0.000000</td>\n    </tr>\n    <tr>\n      <th>25%</th>\n      <td>0.000000</td>\n      <td>1.000000</td>\n      <td>0.000000</td>\n      <td>0.000000</td>\n      <td>0.000000</td>\n      <td>0.000000</td>\n      <td>0.000000</td>\n      <td>0.000000</td>\n      <td>0.000000</td>\n      <td>0.000000</td>\n      <td>...</td>\n      <td>0.000000</td>\n      <td>0.000000</td>\n      <td>0.000000</td>\n      <td>0.000000</td>\n      <td>0.000000</td>\n      <td>0.000000</td>\n      <td>0.000000</td>\n      <td>0.000000</td>\n      <td>0.000000</td>\n      <td>0.000000</td>\n    </tr>\n    <tr>\n      <th>50%</th>\n      <td>2.000000</td>\n      <td>4.000000</td>\n      <td>2.000000</td>\n      <td>2.000000</td>\n      <td>0.000000</td>\n      <td>0.000000</td>\n      <td>0.000000</td>\n      <td>0.000000</td>\n      <td>0.000000</td>\n      <td>0.000000</td>\n      <td>...</td>\n      <td>0.000000</td>\n      <td>0.000000</td>\n      <td>0.000000</td>\n      <td>0.000000</td>\n      <td>0.000000</td>\n      <td>0.000000</td>\n      <td>0.000000</td>\n      <td>0.000000</td>\n      <td>0.000000</td>\n      <td>0.000000</td>\n    </tr>\n    <tr>\n      <th>75%</th>\n      <td>8.000000</td>\n      <td>9.000000</td>\n      <td>11.000000</td>\n      <td>13.000000</td>\n      <td>0.000000</td>\n      <td>0.000000</td>\n      <td>3.000000</td>\n      <td>3.000000</td>\n      <td>0.000000</td>\n      <td>0.000000</td>\n      <td>...</td>\n      <td>0.000000</td>\n      <td>0.000000</td>\n      <td>0.000000</td>\n      <td>0.000000</td>\n      <td>0.000000</td>\n      <td>0.000000</td>\n      <td>0.000000</td>\n      <td>0.000000</td>\n      <td>0.000000</td>\n      <td>0.000000</td>\n    </tr>\n    <tr>\n      <th>max</th>\n      <td>608.000000</td>\n      <td>608.000000</td>\n      <td>571.000000</td>\n      <td>552.000000</td>\n      <td>70.000000</td>\n      <td>69.000000</td>\n      <td>587.000000</td>\n      <td>564.000000</td>\n      <td>103.000000</td>\n      <td>138.000000</td>\n      <td>...</td>\n      <td>15.000000</td>\n      <td>6.000000</td>\n      <td>5.000000</td>\n      <td>2.000000</td>\n      <td>76.000000</td>\n      <td>33.000000</td>\n      <td>12.000000</td>\n      <td>4.000000</td>\n      <td>17.000000</td>\n      <td>9.000000</td>\n    </tr>\n  </tbody>\n</table>\n<p>8 rows × 1360 columns</p>\n</div>"
     },
     "execution_count": 7,
     "metadata": {},
     "output_type": "execute_result"
    }
   ],
   "source": [
    "high_schools.describe()"
   ],
   "metadata": {
    "collapsed": false,
    "pycharm": {
     "name": "#%%\n"
    }
   }
  },
  {
   "cell_type": "code",
   "execution_count": 8,
   "outputs": [],
   "source": [
    "# add NC ACT data\n",
    "nc_act = pd.read_excel('../data/act-results/NCactresults1718.xlsx',header=2,usecols=[0,1,2,3,4],na_values=[' ---- ','*'])\n",
    "nc_act.dropna(inplace=True)\n",
    "nc_act = nc_act[['System or School Name','Mean']]\n",
    "nc_act.columns = ['SCH_NAME','ACT']\n",
    "nc_high_schools = pd.merge(high_schools[high_schools['LEA_STATE'].eq('NC')], nc_act, on='SCH_NAME')"
   ],
   "metadata": {
    "collapsed": false,
    "pycharm": {
     "name": "#%%\n"
    }
   }
  },
  {
   "cell_type": "code",
   "execution_count": 9,
   "outputs": [],
   "source": [
    "# add SC ACT data\n",
    "sc_act = pd.read_excel('../data/act-results/SCACT-Schools2017final2.xlsx',header=2,usecols=[0,1,2,10])\n",
    "sc_act.dropna(inplace=True)\n",
    "sc_act = sc_act[['Unnamed: 2',18.4]]\n",
    "sc_act.columns = ['SCH_NAME','ACT']\n",
    "high_schools.loc[high_schools['LEA_STATE'].eq('SC'),'SCH_NAME'] = high_schools[high_schools['LEA_STATE'].eq('SC')]['SCH_NAME'].str.upper()\n",
    "sc_high_schools = pd.merge(high_schools[high_schools['LEA_STATE'].eq('SC')], sc_act, on='SCH_NAME')"
   ],
   "metadata": {
    "collapsed": false,
    "pycharm": {
     "name": "#%%\n"
    }
   }
  },
  {
   "cell_type": "code",
   "execution_count": 10,
   "outputs": [],
   "source": [
    "# add GA ACT data\n",
    "ga_act = pd.read_csv('../data/act-results/GA_ACT_HIGHEST_2018_FEB_24_2020.csv',usecols=[1,4,6,14])\n",
    "ga_act.dropna(inplace=True)\n",
    "ga_act = ga_act[ga_act['TEST_CMPNT_TYP_CD'].eq('Composite')]\n",
    "ga_act = ga_act[['INSTN_NAME','INSTN_AVG_SCORE_VAL']]\n",
    "ga_act.columns = ['SCH_NAME','ACT']\n",
    "ga_high_schools = pd.merge(high_schools[high_schools['LEA_STATE'].eq('GA')], ga_act, on='SCH_NAME')"
   ],
   "metadata": {
    "collapsed": false,
    "pycharm": {
     "name": "#%%\n"
    }
   }
  },
  {
   "cell_type": "code",
   "execution_count": 11,
   "outputs": [
    {
     "data": {
      "text/plain": "((494, 1396), (431, 1397))"
     },
     "execution_count": 11,
     "metadata": {},
     "output_type": "execute_result"
    }
   ],
   "source": [
    "# add CO\n",
    "co_act = pd.read_excel('../data/act-results/CO_ACT District and School Summary 2015_2016.xlsx',header=4,usecols=[3,11])\n",
    "co_act.dropna(inplace=True)\n",
    "co_act.columns = ['SCH_NAME','ACT']\n",
    "high_schools.loc[high_schools['LEA_STATE'].eq('CO'),'SCH_NAME'] = high_schools[high_schools['LEA_STATE'].eq('CO')]['SCH_NAME'].str.upper()\n",
    "co_high_schools = pd.merge(high_schools[high_schools['LEA_STATE'].eq('CO')], co_act, on='SCH_NAME')\n",
    "high_schools[high_schools['LEA_STATE'].eq('CO')].shape, co_high_schools.shape"
   ],
   "metadata": {
    "collapsed": false,
    "pycharm": {
     "name": "#%%\n"
    }
   }
  },
  {
   "cell_type": "code",
   "execution_count": 12,
   "outputs": [
    {
     "data": {
      "text/plain": "((951, 1396), (286, 1397))"
     },
     "execution_count": 12,
     "metadata": {},
     "output_type": "execute_result"
    }
   ],
   "source": [
    "# add FL\n",
    "fl_act = pd.read_excel('../data/act-results/FL_2017ACTSchool.xlsx',header=3,usecols=[3,9],na_values=['*'])\n",
    "fl_act.dropna(inplace=True)\n",
    "fl_act['Unnamed: 3'] = fl_act['Unnamed: 3'].str.replace(' HS',' HIGH SCHOOL')\n",
    "fl_act.columns = ['SCH_NAME','ACT']\n",
    "high_schools.loc[high_schools['LEA_STATE'].eq('FL'),'SCH_NAME'] = high_schools[high_schools['LEA_STATE'].eq('FL')]['SCH_NAME'].str.upper()\n",
    "fl_high_schools = pd.merge(high_schools[high_schools['LEA_STATE'].eq('FL')], fl_act, on='SCH_NAME')\n",
    "high_schools[high_schools['LEA_STATE'].eq('FL')].shape, fl_high_schools.shape"
   ],
   "metadata": {
    "collapsed": false,
    "pycharm": {
     "name": "#%%\n"
    }
   }
  },
  {
   "cell_type": "code",
   "execution_count": 13,
   "outputs": [
    {
     "data": {
      "text/plain": "((353, 1396), (341, 1397))"
     },
     "execution_count": 13,
     "metadata": {},
     "output_type": "execute_result"
    }
   ],
   "source": [
    "# add LA\n",
    "la_act = pd.read_excel('../data/act-results/LA_act-class-of-2018.xlsx',sheet_name='Site',header=5,usecols=[3,5])\n",
    "la_act.dropna(inplace=True)\n",
    "la_act.columns = ['SCH_NAME','ACT']\n",
    "la_high_schools = pd.merge(high_schools[high_schools['LEA_STATE'].eq('LA')], la_act, on='SCH_NAME')\n",
    "high_schools[high_schools['LEA_STATE'].eq('LA')].shape, la_high_schools.shape"
   ],
   "metadata": {
    "collapsed": false,
    "pycharm": {
     "name": "#%%\n"
    }
   }
  },
  {
   "cell_type": "code",
   "execution_count": 14,
   "outputs": [
    {
     "data": {
      "text/plain": "((639, 1396), (576, 1397))"
     },
     "execution_count": 14,
     "metadata": {},
     "output_type": "execute_result"
    }
   ],
   "source": [
    "mo_act = pd.read_excel('../data/act-results/MO_Building ACT Results.xlsx',header=0,usecols=[0,4,9])\n",
    "mo_act.dropna(inplace=True)\n",
    "mo_act = mo_act[mo_act['YEAR'].eq(2018)].iloc[:,1:]\n",
    "mo_act.columns = ['SCH_NAME','ACT']\n",
    "high_schools.loc[high_schools['LEA_STATE'].eq('MO'),'SCH_NAME'] = high_schools[high_schools['LEA_STATE'].eq('MO')]['SCH_NAME'].str.upper()\n",
    "mo_high_schools = pd.merge(high_schools[high_schools['LEA_STATE'].eq('MO')], mo_act, on='SCH_NAME')\n",
    "high_schools[high_schools['LEA_STATE'].eq('MO')].shape, mo_high_schools.shape"
   ],
   "metadata": {
    "collapsed": false,
    "pycharm": {
     "name": "#%%\n"
    }
   }
  },
  {
   "cell_type": "code",
   "execution_count": 15,
   "outputs": [
    {
     "data": {
      "text/plain": "((816, 1396), (215, 1397))"
     },
     "execution_count": 15,
     "metadata": {},
     "output_type": "execute_result"
    }
   ],
   "source": [
    "mn_act = pd.read_excel('../data/act-results/Minnesota 2018 Public Schools Graduating Class 5 Year Trends.xlsx',header=0,usecols=[0,3,5,11])\n",
    "mn_act.dropna(inplace=True)\n",
    "mn_act = mn_act[mn_act['Analysis Level'].eq('School') & mn_act['Grad Year'].eq(2018)]\n",
    "mn_act = mn_act[['HS Name','Avg Comp']]\n",
    "mn_act.columns = ['SCH_NAME','ACT']\n",
    "high_schools.loc[high_schools['LEA_STATE'].eq('MN'),'SCH_NAME'] = high_schools[high_schools['LEA_STATE'].eq('MN')]['SCH_NAME'].str.upper()\n",
    "high_schools.loc[high_schools['LEA_STATE'].eq('MN'),'SCH_NAME'] = high_schools[high_schools['LEA_STATE'].eq('MN')]['SCH_NAME'].str.replace('SECONDARY','HIGH SCHOOL')\n",
    "high_schools.loc[high_schools['LEA_STATE'].eq('MN'),'SCH_NAME'] = high_schools[high_schools['LEA_STATE'].eq('MN')]['SCH_NAME'].str.replace('SENIOR HIGH','HIGH SCHOOL')\n",
    "mn_high_schools = pd.merge(high_schools[high_schools['LEA_STATE'].eq('MN')], mn_act, on='SCH_NAME')\n",
    "high_schools[high_schools['LEA_STATE'].eq('MN')].shape, mn_high_schools.shape"
   ],
   "metadata": {
    "collapsed": false,
    "pycharm": {
     "name": "#%%\n"
    }
   }
  },
  {
   "cell_type": "code",
   "execution_count": 16,
   "outputs": [
    {
     "data": {
      "text/plain": "((312, 1396), (263, 1397))"
     },
     "execution_count": 16,
     "metadata": {},
     "output_type": "execute_result"
    }
   ],
   "source": [
    "ne_act = pd.read_csv('../data/act-results/NE_ACT_Composite_20202021.csv')\n",
    "ne_act.dropna(inplace=True)\n",
    "ne_act = ne_act[ne_act['LEVEL'].eq('SC')]\n",
    "ne_act = ne_act[['NAME','AVERAGE_COMPOSITE_SCORE']]\n",
    "ne_act.columns = ['SCH_NAME','ACT']\n",
    "high_schools.loc[high_schools['LEA_STATE'].eq('NE'),'SCH_NAME'] = high_schools[high_schools['LEA_STATE'].eq('NE')]['SCH_NAME'].str.upper()\n",
    "ne_high_schools = pd.merge(high_schools[high_schools['LEA_STATE'].eq('NE')], ne_act, on='SCH_NAME')\n",
    "high_schools[high_schools['LEA_STATE'].eq('NE')].shape, ne_high_schools.shape"
   ],
   "metadata": {
    "collapsed": false,
    "pycharm": {
     "name": "#%%\n"
    }
   }
  },
  {
   "cell_type": "code",
   "execution_count": 17,
   "outputs": [
    {
     "data": {
      "text/plain": "((167, 1396), (88, 1397))"
     },
     "execution_count": 17,
     "metadata": {},
     "output_type": "execute_result"
    }
   ],
   "source": [
    "nd_act = pd.read_excel('../data/act-results/North Dakota ACT Scores.xlsx',header=1,usecols=[1,10])\n",
    "nd_act.dropna(inplace=True)\n",
    "nd_act['School'] = nd_act['School'].str.upper()\n",
    "nd_act.columns = ['SCH_NAME','ACT']\n",
    "nd_high_schools = pd.merge(high_schools[high_schools['LEA_STATE'].eq('ND')], nd_act, on='SCH_NAME')\n",
    "high_schools[high_schools['LEA_STATE'].eq('ND')].shape, nd_high_schools.shape"
   ],
   "metadata": {
    "collapsed": false,
    "pycharm": {
     "name": "#%%\n"
    }
   }
  },
  {
   "cell_type": "code",
   "execution_count": 18,
   "outputs": [
    {
     "data": {
      "text/plain": "((490, 1396), (458, 1397))"
     },
     "execution_count": 18,
     "metadata": {},
     "output_type": "execute_result"
    }
   ],
   "source": [
    "ok_act = pd.read_excel('../data/act-results/OK_School Level_ACT_2016_Senior.xlsx',header=0,usecols=[5,7])\n",
    "ok_act.dropna(inplace=True)\n",
    "ok_act.columns = ['SCH_NAME',\"ACT\"]\n",
    "ok_high_schools = pd.merge(high_schools[high_schools['LEA_STATE'].eq('OK')], ok_act, on='SCH_NAME')\n",
    "high_schools[high_schools['LEA_STATE'].eq('OK')].shape, ok_high_schools.shape"
   ],
   "metadata": {
    "collapsed": false,
    "pycharm": {
     "name": "#%%\n"
    }
   }
  },
  {
   "cell_type": "code",
   "execution_count": 19,
   "outputs": [
    {
     "data": {
      "text/plain": "((751, 1396), (565, 1397))"
     },
     "execution_count": 19,
     "metadata": {},
     "output_type": "execute_result"
    }
   ],
   "source": [
    "pa_act = pd.read_excel('../data/act-results/Pennsylvania_2017 ACT Scores Public Schools.xlsx',header=7,usecols=[4,11])\n",
    "pa_act.dropna(inplace=True)\n",
    "pa_act.columns = ['SCH_NAME','ACT']\n",
    "pa_high_schools = pd.merge(high_schools[high_schools['LEA_STATE'].eq('PA')], pa_act, on='SCH_NAME')\n",
    "high_schools[high_schools['LEA_STATE'].eq('PA')].shape, pa_high_schools.shape"
   ],
   "metadata": {
    "collapsed": false,
    "pycharm": {
     "name": "#%%\n"
    }
   }
  },
  {
   "cell_type": "code",
   "execution_count": 20,
   "outputs": [
    {
     "data": {
      "text/plain": "((402, 1396), (395, 1397))"
     },
     "execution_count": 20,
     "metadata": {},
     "output_type": "execute_result"
    }
   ],
   "source": [
    "tn_act = pd.read_excel('../data/act-results/TN_2017-18 ACT_school_suppressed.xlsx',header=0,usecols=[3,4,11])\n",
    "tn_act.dropna(inplace=True)\n",
    "tn_act = tn_act[tn_act['Subgroup'].eq('All Students')][['School Name','Average Composite Score']]\n",
    "tn_act.columns = ['SCH_NAME','ACT']\n",
    "tn_high_schools = pd.merge(high_schools[high_schools['LEA_STATE'].eq('TN')], tn_act, on='SCH_NAME')\n",
    "high_schools[high_schools['LEA_STATE'].eq('TN')].shape, tn_high_schools.shape"
   ],
   "metadata": {
    "collapsed": false,
    "pycharm": {
     "name": "#%%\n"
    }
   }
  },
  {
   "cell_type": "code",
   "execution_count": 21,
   "outputs": [
    {
     "data": {
      "text/plain": "((2033, 1396), (1605, 1397))"
     },
     "execution_count": 21,
     "metadata": {},
     "output_type": "execute_result"
    }
   ],
   "source": [
    "tx_act = pd.read_excel('../data/act-results/TX_ACT_Campus_Data_Class_2018.xlsx',sheet_name='ACT_Campus_Data_Class_2018',header=0,usecols=[0,3,14])\n",
    "tx_act.dropna(inplace=True)\n",
    "tx_act = tx_act[tx_act['Group'].eq('All Students')].iloc[:,1:]\n",
    "tx_act['CampName'] = tx_act['CampName'].str.upper()\n",
    "tx_act.columns = ['SCH_NAME','ACT']\n",
    "tx_high_schools = pd.merge(high_schools[high_schools['LEA_STATE'].eq('TX')], tx_act, on='SCH_NAME')\n",
    "high_schools[high_schools['LEA_STATE'].eq('TX')].shape, tx_high_schools.shape"
   ],
   "metadata": {
    "collapsed": false,
    "pycharm": {
     "name": "#%%\n"
    }
   }
  },
  {
   "cell_type": "code",
   "execution_count": 22,
   "outputs": [
    {
     "data": {
      "text/plain": "((215, 1396), (186, 1397))"
     },
     "execution_count": 22,
     "metadata": {},
     "output_type": "execute_result"
    }
   ],
   "source": [
    "ut_act = pd.read_excel('../data/act-results/Utah_ACTGrade112018.xlsx',sheet_name='SCHOOL',header=0,usecols=[3,5])\n",
    "ut_act.dropna(inplace=True)\n",
    "ut_act.columns = ['SCH_NAME','ACT']\n",
    "ut_high_schools = pd.merge(high_schools[high_schools['LEA_STATE'].eq('UT')], ut_act, on='SCH_NAME')\n",
    "high_schools[high_schools['LEA_STATE'].eq('UT')].shape, ut_high_schools.shape"
   ],
   "metadata": {
    "collapsed": false,
    "pycharm": {
     "name": "#%%\n"
    }
   }
  },
  {
   "cell_type": "code",
   "execution_count": 23,
   "outputs": [
    {
     "data": {
      "text/plain": "((576, 1396), (682, 1397))"
     },
     "execution_count": 23,
     "metadata": {},
     "output_type": "execute_result"
    }
   ],
   "source": [
    "wi_act = pd.read_csv('../data/act-results/WI_act_graduates_certified_2017-18.csv')\n",
    "wi_act = wi_act[wi_act['TEST_SUBJECT'].eq('Composite') & wi_act['GROUP_BY'].eq('All Students')]\n",
    "wi_act = wi_act[['SCHOOL_NAME','AVERAGE_SCORE']]\n",
    "wi_act.columns = ['SCH_NAME','ACT']\n",
    "wi_high_schools = pd.merge(high_schools[high_schools['LEA_STATE'].eq('WI')], wi_act, on='SCH_NAME')\n",
    "high_schools[high_schools['LEA_STATE'].eq('WI')].shape, wi_high_schools.shape"
   ],
   "metadata": {
    "collapsed": false,
    "pycharm": {
     "name": "#%%\n"
    }
   }
  },
  {
   "cell_type": "code",
   "execution_count": 24,
   "outputs": [
    {
     "name": "stderr",
     "output_type": "stream",
     "text": [
      "C:\\Users\\David\\miniconda3\\lib\\site-packages\\openpyxl\\styles\\stylesheet.py:226: UserWarning: Workbook contains no default style, apply openpyxl's default\n",
      "  warn(\"Workbook contains no default style, apply openpyxl's default\")\n"
     ]
    },
    {
     "data": {
      "text/plain": "((95, 1396), (70, 1397))"
     },
     "execution_count": 24,
     "metadata": {},
     "output_type": "execute_result"
    }
   ],
   "source": [
    "wy_act = pd.read_excel('../data/act-results/WY_DistrictACTSuiteAverages_20220329_050233.xlsx',header=8,usecols=[4,20])\n",
    "wy_act.dropna(inplace=True)\n",
    "wy_act.columns = ['SCH_NAME','ACT']\n",
    "wy_high_schools = pd.merge(high_schools[high_schools['LEA_STATE'].eq('WY')], wy_act, on='SCH_NAME')\n",
    "high_schools[high_schools['LEA_STATE'].eq('WY')].shape, wy_high_schools.shape"
   ],
   "metadata": {
    "collapsed": false,
    "pycharm": {
     "name": "#%%\n"
    }
   }
  },
  {
   "cell_type": "code",
   "execution_count": 25,
   "outputs": [],
   "source": [
    "high_schools_act = pd.concat([nc_high_schools,sc_high_schools,ga_high_schools,co_high_schools,fl_high_schools,la_high_schools,mn_high_schools,mo_high_schools,ne_high_schools,nd_high_schools,ok_high_schools,pa_high_schools,tn_high_schools,tx_high_schools,ut_high_schools,wi_high_schools,wy_high_schools])"
   ],
   "metadata": {
    "collapsed": false,
    "pycharm": {
     "name": "#%%\n"
    }
   }
  },
  {
   "cell_type": "code",
   "execution_count": 26,
   "outputs": [],
   "source": [
    "import numpy as np\n",
    "\n",
    "high_schools_act['ACT'] = high_schools_act['ACT'].replace(['*','--','~',-1,'***','N<10'],np.NaN)"
   ],
   "metadata": {
    "collapsed": false,
    "pycharm": {
     "name": "#%%\n"
    }
   }
  },
  {
   "cell_type": "code",
   "execution_count": 27,
   "outputs": [],
   "source": [
    "high_schools_act.to_csv('../data/full_highschool_data.csv',index=False)"
   ],
   "metadata": {
    "collapsed": false,
    "pycharm": {
     "name": "#%%\n"
    }
   }
  }
 ],
 "metadata": {
  "kernelspec": {
   "display_name": "Python 3",
   "language": "python",
   "name": "python3"
  },
  "language_info": {
   "codemirror_mode": {
    "name": "ipython",
    "version": 2
   },
   "file_extension": ".py",
   "mimetype": "text/x-python",
   "name": "python",
   "nbconvert_exporter": "python",
   "pygments_lexer": "ipython2",
   "version": "2.7.6"
  }
 },
 "nbformat": 4,
 "nbformat_minor": 0
}