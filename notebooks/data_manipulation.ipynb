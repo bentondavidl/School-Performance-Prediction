{
 "cells": [
  {
   "cell_type": "markdown",
   "metadata": {
    "collapsed": true,
    "pycharm": {
     "name": "#%% md\n"
    }
   },
   "source": [
    "\n",
    "# Data Cleaning and Manipulation\n",
    "\n",
    "This notebook will be used for gathering data from our primary sources and transforming it into a format that can be utilized for machine learning applications"
   ]
  },
  {
   "cell_type": "code",
   "execution_count": 1,
   "outputs": [],
   "source": [
    "# import libraries\n",
    "import pandas as pd\n",
    "from functools import reduce\n",
    "import glob"
   ],
   "metadata": {
    "collapsed": false,
    "pycharm": {
     "name": "#%%\n"
    }
   }
  },
  {
   "cell_type": "code",
   "execution_count": 2,
   "outputs": [
    {
     "name": "stderr",
     "output_type": "stream",
     "text": [
      "C:\\Users\\David\\AppData\\Local\\Temp\\ipykernel_22468\\2738817395.py:2: DtypeWarning: Columns (8) have mixed types.Specify dtype option on import or set low_memory=False.\n",
      "  crdc_dfs = [pd.read_csv(filename, encoding='ANSI', true_values=['Yes'], false_values=['No'], na_values=['-3','-5','-6','-8','-9','-11'], dtype={'LEAID':str,'COMBOKEY':str,'SCHID':str}) for filename in glob.glob(\"../data/2017-18-crdc-data/Data/SCH/CRDC/CSV/*.csv\")]\n",
      "C:\\Users\\David\\AppData\\Local\\Temp\\ipykernel_22468\\2738817395.py:2: DtypeWarning: Columns (8,22) have mixed types.Specify dtype option on import or set low_memory=False.\n",
      "  crdc_dfs = [pd.read_csv(filename, encoding='ANSI', true_values=['Yes'], false_values=['No'], na_values=['-3','-5','-6','-8','-9','-11'], dtype={'LEAID':str,'COMBOKEY':str,'SCHID':str}) for filename in glob.glob(\"../data/2017-18-crdc-data/Data/SCH/CRDC/CSV/*.csv\")]\n"
     ]
    }
   ],
   "source": [
    "# read all data\n",
    "crdc_dfs = [pd.read_csv(filename, encoding='ANSI', true_values=['Yes'], false_values=['No'], na_values=['-3','-5','-6','-8','-9','-11'], dtype={'LEAID':str,'COMBOKEY':str,'SCHID':str}) for filename in glob.glob(\"../data/2017-18-crdc-data/Data/SCH/CRDC/CSV/*.csv\")]"
   ],
   "metadata": {
    "collapsed": false,
    "pycharm": {
     "name": "#%%\n"
    }
   }
  },
  {
   "cell_type": "code",
   "execution_count": 3,
   "outputs": [],
   "source": [
    "# merge dfs together\n",
    "merge_cols = ['LEA_STATE','LEA_STATE_NAME','LEAID','LEA_NAME','SCHID','SCH_NAME','COMBOKEY','JJ']\n",
    "school_data = reduce(lambda left,right: pd.merge(left,right,on=merge_cols,how='left'), crdc_dfs)"
   ],
   "metadata": {
    "collapsed": false,
    "pycharm": {
     "name": "#%%\n"
    }
   }
  },
  {
   "cell_type": "code",
   "execution_count": 4,
   "outputs": [],
   "source": [
    "# keep only schools that have Grade 12\n",
    "high_schools = school_data[school_data['SCH_GRADE_G12']]"
   ],
   "metadata": {
    "collapsed": false,
    "pycharm": {
     "name": "#%%\n"
    }
   }
  },
  {
   "cell_type": "code",
   "execution_count": 5,
   "outputs": [],
   "source": [
    "# remove juvenile justice facilities\n",
    "high_schools = high_schools[high_schools.JJ.eq(False)]\n",
    "high_schools = high_schools.drop(columns='JJ')"
   ],
   "metadata": {
    "collapsed": false,
    "pycharm": {
     "name": "#%%\n"
    }
   }
  },
  {
   "cell_type": "code",
   "execution_count": 6,
   "outputs": [],
   "source": [
    "# get rid of non-high-school data and calculated tot columns\n",
    "import re\n",
    "high_schools = high_schools.drop(columns=[col for col in high_schools.columns if bool(re.match(r'.*_(G0[1-8]|KG|PS|UG).*', col))])\n",
    "high_schools = high_schools.drop(columns=[col for col in high_schools.columns if bool(re.match(r'^TOT.*', col))])"
   ],
   "metadata": {
    "collapsed": false,
    "pycharm": {
     "name": "#%%\n"
    }
   }
  },
  {
   "cell_type": "code",
   "execution_count": 7,
   "outputs": [
    {
     "data": {
      "text/plain": "SCH_HBREPORTED_DIS_BL_F    1.0\nSCH_RS_IDEA_PHYS_AS_F      1.0\nSCH_RS_IDEA_MECH_TR_F      1.0\nSCH_RS_IDEA_MECH_TR_M      1.0\nSCH_RS_IDEA_MECH_WH_F      1.0\n                          ... \nSCH_GRADE_G12              0.0\nSCH_GRADE_G11              0.0\nSCH_GRADE_G09              0.0\nLEA_STATE_NAME             0.0\nLEA_STATE                  0.0\nLength: 1264, dtype: float64"
     },
     "execution_count": 7,
     "metadata": {},
     "output_type": "execute_result"
    }
   ],
   "source": [
    "# sort columns by percentage NA\n",
    "(high_schools.isna().sum()/high_schools.shape[0]).sort_values(ascending=False)"
   ],
   "metadata": {
    "collapsed": false,
    "pycharm": {
     "name": "#%%\n"
    }
   }
  },
  {
   "cell_type": "code",
   "execution_count": 8,
   "outputs": [
    {
     "data": {
      "text/plain": "(24473, 835)"
     },
     "execution_count": 8,
     "metadata": {},
     "output_type": "execute_result"
    }
   ],
   "source": [
    "# drop columns with no data\n",
    "high_schools = high_schools.dropna(axis=1, how='all')\n",
    "high_schools.shape"
   ],
   "metadata": {
    "collapsed": false,
    "pycharm": {
     "name": "#%%\n"
    }
   }
  },
  {
   "cell_type": "code",
   "execution_count": 9,
   "outputs": [
    {
     "data": {
      "text/plain": "(24473, 529)"
     },
     "execution_count": 9,
     "metadata": {},
     "output_type": "execute_result"
    }
   ],
   "source": [
    "# drop columns with more than 40% na vals\n",
    "high_schools = high_schools.dropna(axis=1, thresh=int(high_schools.shape[0]*(1-.4)))\n",
    "high_schools.shape"
   ],
   "metadata": {
    "collapsed": false,
    "pycharm": {
     "name": "#%%\n"
    }
   }
  },
  {
   "cell_type": "code",
   "execution_count": 10,
   "outputs": [
    {
     "data": {
      "text/plain": "       SCH_MATHCLASSES_ADVM  SCH_MATHCERT_ADVM  SCH_MATHENR_ADVM_HI_M  \\\ncount          24469.000000       17534.000000           17534.000000   \nmean               5.655932           6.675488              13.579389   \nstd                9.564453           9.356777              32.233838   \nmin                0.000000           0.000000               0.000000   \n25%                0.000000           1.000000               0.000000   \n50%                2.000000           4.000000               2.000000   \n75%                8.000000           9.000000              11.000000   \nmax              608.000000         608.000000             571.000000   \n\n       SCH_MATHENR_ADVM_HI_F  SCH_MATHENR_ADVM_AM_M  SCH_MATHENR_ADVM_AM_F  \\\ncount           17534.000000           17534.000000           17534.000000   \nmean               14.926429               0.346641               0.418729   \nstd                34.572369               1.680068               2.013496   \nmin                 0.000000               0.000000               0.000000   \n25%                 0.000000               0.000000               0.000000   \n50%                 2.000000               0.000000               0.000000   \n75%                13.000000               0.000000               0.000000   \nmax               552.000000              70.000000              69.000000   \n\n       SCH_MATHENR_ADVM_AS_M  SCH_MATHENR_ADVM_AS_F  SCH_MATHENR_ADVM_HP_M  \\\ncount           17534.000000           17534.000000           17534.000000   \nmean                5.473252               5.656154               0.186096   \nstd                20.738184              20.642909               1.506309   \nmin                 0.000000               0.000000               0.000000   \n25%                 0.000000               0.000000               0.000000   \n50%                 0.000000               0.000000               0.000000   \n75%                 3.000000               3.000000               0.000000   \nmax               587.000000             564.000000             103.000000   \n\n       SCH_MATHENR_ADVM_HP_F  ...  SCH_DISCWDIS_TFRALT_IDEA_BL_M  \\\ncount           17534.000000  ...                   24467.000000   \nmean                0.220657  ...                       0.101892   \nstd                 1.976380  ...                       0.889207   \nmin                 0.000000  ...                       0.000000   \n25%                 0.000000  ...                       0.000000   \n50%                 0.000000  ...                       0.000000   \n75%                 0.000000  ...                       0.000000   \nmax               138.000000  ...                      64.000000   \n\n       SCH_DISCWDIS_TFRALT_IDEA_BL_F  SCH_DISCWDIS_TFRALT_IDEA_WH_M  \\\ncount                   24467.000000                   24467.000000   \nmean                        0.027425                       0.075816   \nstd                         0.350905                       0.519872   \nmin                         0.000000                       0.000000   \n25%                         0.000000                       0.000000   \n50%                         0.000000                       0.000000   \n75%                         0.000000                       0.000000   \nmax                        30.000000                      15.000000   \n\n       SCH_DISCWDIS_TFRALT_IDEA_WH_F  SCH_DISCWDIS_TFRALT_IDEA_TR_M  \\\ncount                   24467.000000                   24467.000000   \nmean                        0.017411                       0.006458   \nstd                         0.186456                       0.093301   \nmin                         0.000000                       0.000000   \n25%                         0.000000                       0.000000   \n50%                         0.000000                       0.000000   \n75%                         0.000000                       0.000000   \nmax                         6.000000                       5.000000   \n\n       SCH_DISCWDIS_TFRALT_IDEA_TR_F  SCH_DISCWDIS_TFRALT_LEP_M  \\\ncount                   24467.000000               24471.000000   \nmean                        0.002166                   0.013853   \nstd                         0.049886                   0.199745   \nmin                         0.000000                   0.000000   \n25%                         0.000000                   0.000000   \n50%                         0.000000                   0.000000   \n75%                         0.000000                   0.000000   \nmax                         2.000000                  12.000000   \n\n       SCH_DISCWDIS_TFRALT_LEP_F  SCH_DISCWDIS_TFRALT_504_M  \\\ncount               24471.000000               24468.000000   \nmean                    0.002207                   0.035475   \nstd                     0.056415                   0.391557   \nmin                     0.000000                   0.000000   \n25%                     0.000000                   0.000000   \n50%                     0.000000                   0.000000   \n75%                     0.000000                   0.000000   \nmax                     4.000000                  17.000000   \n\n       SCH_DISCWDIS_TFRALT_504_F  \ncount               24467.000000  \nmean                    0.010954  \nstd                     0.174976  \nmin                     0.000000  \n25%                     0.000000  \n50%                     0.000000  \n75%                     0.000000  \nmax                     9.000000  \n\n[8 rows x 500 columns]",
      "text/html": "<div>\n<style scoped>\n    .dataframe tbody tr th:only-of-type {\n        vertical-align: middle;\n    }\n\n    .dataframe tbody tr th {\n        vertical-align: top;\n    }\n\n    .dataframe thead th {\n        text-align: right;\n    }\n</style>\n<table border=\"1\" class=\"dataframe\">\n  <thead>\n    <tr style=\"text-align: right;\">\n      <th></th>\n      <th>SCH_MATHCLASSES_ADVM</th>\n      <th>SCH_MATHCERT_ADVM</th>\n      <th>SCH_MATHENR_ADVM_HI_M</th>\n      <th>SCH_MATHENR_ADVM_HI_F</th>\n      <th>SCH_MATHENR_ADVM_AM_M</th>\n      <th>SCH_MATHENR_ADVM_AM_F</th>\n      <th>SCH_MATHENR_ADVM_AS_M</th>\n      <th>SCH_MATHENR_ADVM_AS_F</th>\n      <th>SCH_MATHENR_ADVM_HP_M</th>\n      <th>SCH_MATHENR_ADVM_HP_F</th>\n      <th>...</th>\n      <th>SCH_DISCWDIS_TFRALT_IDEA_BL_M</th>\n      <th>SCH_DISCWDIS_TFRALT_IDEA_BL_F</th>\n      <th>SCH_DISCWDIS_TFRALT_IDEA_WH_M</th>\n      <th>SCH_DISCWDIS_TFRALT_IDEA_WH_F</th>\n      <th>SCH_DISCWDIS_TFRALT_IDEA_TR_M</th>\n      <th>SCH_DISCWDIS_TFRALT_IDEA_TR_F</th>\n      <th>SCH_DISCWDIS_TFRALT_LEP_M</th>\n      <th>SCH_DISCWDIS_TFRALT_LEP_F</th>\n      <th>SCH_DISCWDIS_TFRALT_504_M</th>\n      <th>SCH_DISCWDIS_TFRALT_504_F</th>\n    </tr>\n  </thead>\n  <tbody>\n    <tr>\n      <th>count</th>\n      <td>24469.000000</td>\n      <td>17534.000000</td>\n      <td>17534.000000</td>\n      <td>17534.000000</td>\n      <td>17534.000000</td>\n      <td>17534.000000</td>\n      <td>17534.000000</td>\n      <td>17534.000000</td>\n      <td>17534.000000</td>\n      <td>17534.000000</td>\n      <td>...</td>\n      <td>24467.000000</td>\n      <td>24467.000000</td>\n      <td>24467.000000</td>\n      <td>24467.000000</td>\n      <td>24467.000000</td>\n      <td>24467.000000</td>\n      <td>24471.000000</td>\n      <td>24471.000000</td>\n      <td>24468.000000</td>\n      <td>24467.000000</td>\n    </tr>\n    <tr>\n      <th>mean</th>\n      <td>5.655932</td>\n      <td>6.675488</td>\n      <td>13.579389</td>\n      <td>14.926429</td>\n      <td>0.346641</td>\n      <td>0.418729</td>\n      <td>5.473252</td>\n      <td>5.656154</td>\n      <td>0.186096</td>\n      <td>0.220657</td>\n      <td>...</td>\n      <td>0.101892</td>\n      <td>0.027425</td>\n      <td>0.075816</td>\n      <td>0.017411</td>\n      <td>0.006458</td>\n      <td>0.002166</td>\n      <td>0.013853</td>\n      <td>0.002207</td>\n      <td>0.035475</td>\n      <td>0.010954</td>\n    </tr>\n    <tr>\n      <th>std</th>\n      <td>9.564453</td>\n      <td>9.356777</td>\n      <td>32.233838</td>\n      <td>34.572369</td>\n      <td>1.680068</td>\n      <td>2.013496</td>\n      <td>20.738184</td>\n      <td>20.642909</td>\n      <td>1.506309</td>\n      <td>1.976380</td>\n      <td>...</td>\n      <td>0.889207</td>\n      <td>0.350905</td>\n      <td>0.519872</td>\n      <td>0.186456</td>\n      <td>0.093301</td>\n      <td>0.049886</td>\n      <td>0.199745</td>\n      <td>0.056415</td>\n      <td>0.391557</td>\n      <td>0.174976</td>\n    </tr>\n    <tr>\n      <th>min</th>\n      <td>0.000000</td>\n      <td>0.000000</td>\n      <td>0.000000</td>\n      <td>0.000000</td>\n      <td>0.000000</td>\n      <td>0.000000</td>\n      <td>0.000000</td>\n      <td>0.000000</td>\n      <td>0.000000</td>\n      <td>0.000000</td>\n      <td>...</td>\n      <td>0.000000</td>\n      <td>0.000000</td>\n      <td>0.000000</td>\n      <td>0.000000</td>\n      <td>0.000000</td>\n      <td>0.000000</td>\n      <td>0.000000</td>\n      <td>0.000000</td>\n      <td>0.000000</td>\n      <td>0.000000</td>\n    </tr>\n    <tr>\n      <th>25%</th>\n      <td>0.000000</td>\n      <td>1.000000</td>\n      <td>0.000000</td>\n      <td>0.000000</td>\n      <td>0.000000</td>\n      <td>0.000000</td>\n      <td>0.000000</td>\n      <td>0.000000</td>\n      <td>0.000000</td>\n      <td>0.000000</td>\n      <td>...</td>\n      <td>0.000000</td>\n      <td>0.000000</td>\n      <td>0.000000</td>\n      <td>0.000000</td>\n      <td>0.000000</td>\n      <td>0.000000</td>\n      <td>0.000000</td>\n      <td>0.000000</td>\n      <td>0.000000</td>\n      <td>0.000000</td>\n    </tr>\n    <tr>\n      <th>50%</th>\n      <td>2.000000</td>\n      <td>4.000000</td>\n      <td>2.000000</td>\n      <td>2.000000</td>\n      <td>0.000000</td>\n      <td>0.000000</td>\n      <td>0.000000</td>\n      <td>0.000000</td>\n      <td>0.000000</td>\n      <td>0.000000</td>\n      <td>...</td>\n      <td>0.000000</td>\n      <td>0.000000</td>\n      <td>0.000000</td>\n      <td>0.000000</td>\n      <td>0.000000</td>\n      <td>0.000000</td>\n      <td>0.000000</td>\n      <td>0.000000</td>\n      <td>0.000000</td>\n      <td>0.000000</td>\n    </tr>\n    <tr>\n      <th>75%</th>\n      <td>8.000000</td>\n      <td>9.000000</td>\n      <td>11.000000</td>\n      <td>13.000000</td>\n      <td>0.000000</td>\n      <td>0.000000</td>\n      <td>3.000000</td>\n      <td>3.000000</td>\n      <td>0.000000</td>\n      <td>0.000000</td>\n      <td>...</td>\n      <td>0.000000</td>\n      <td>0.000000</td>\n      <td>0.000000</td>\n      <td>0.000000</td>\n      <td>0.000000</td>\n      <td>0.000000</td>\n      <td>0.000000</td>\n      <td>0.000000</td>\n      <td>0.000000</td>\n      <td>0.000000</td>\n    </tr>\n    <tr>\n      <th>max</th>\n      <td>608.000000</td>\n      <td>608.000000</td>\n      <td>571.000000</td>\n      <td>552.000000</td>\n      <td>70.000000</td>\n      <td>69.000000</td>\n      <td>587.000000</td>\n      <td>564.000000</td>\n      <td>103.000000</td>\n      <td>138.000000</td>\n      <td>...</td>\n      <td>64.000000</td>\n      <td>30.000000</td>\n      <td>15.000000</td>\n      <td>6.000000</td>\n      <td>5.000000</td>\n      <td>2.000000</td>\n      <td>12.000000</td>\n      <td>4.000000</td>\n      <td>17.000000</td>\n      <td>9.000000</td>\n    </tr>\n  </tbody>\n</table>\n<p>8 rows × 500 columns</p>\n</div>"
     },
     "execution_count": 10,
     "metadata": {},
     "output_type": "execute_result"
    }
   ],
   "source": [
    "high_schools.describe()"
   ],
   "metadata": {
    "collapsed": false,
    "pycharm": {
     "name": "#%%\n"
    }
   }
  },
  {
   "cell_type": "code",
   "execution_count": 11,
   "outputs": [],
   "source": [
    "# add NC ACT data\n",
    "nc_act = pd.read_excel('../data/act-results/NCactresults1718.xlsx',header=2,usecols=[0,1,2,3,4],na_values=[' ---- ','*'])\n",
    "nc_act.dropna(inplace=True)\n",
    "nc_high_schools = pd.merge(high_schools[high_schools['LEA_STATE'].eq('NC')], nc_act, left_on='SCH_NAME', right_on='System or School Name')"
   ],
   "metadata": {
    "collapsed": false,
    "pycharm": {
     "name": "#%%\n"
    }
   }
  },
  {
   "cell_type": "code",
   "execution_count": 12,
   "outputs": [],
   "source": [
    "# add SC ACT data\n",
    "sc_act = pd.read_excel('../data/act-results/SCACT-Schools2017final2.xlsx',header=2,usecols=[0,1,2,10])\n",
    "sc_act.dropna(inplace=True)\n",
    "high_schools.loc[high_schools['LEA_STATE'].eq('SC'),'SCH_NAME'] = high_schools[high_schools['LEA_STATE'].eq('SC')]['SCH_NAME'].str.upper()\n",
    "sc_high_schools = pd.merge(high_schools[high_schools['LEA_STATE'].eq('SC')], sc_act, left_on='SCH_NAME', right_on='Unnamed: 2')"
   ],
   "metadata": {
    "collapsed": false,
    "pycharm": {
     "name": "#%%\n"
    }
   }
  },
  {
   "cell_type": "code",
   "execution_count": 13,
   "outputs": [],
   "source": [
    "# add GA ACT data\n",
    "ga_act = pd.read_csv('../data/act-results/GA_ACT_HIGHEST_2018_FEB_24_2020.csv',usecols=[1,4,6,14])\n",
    "ga_act.dropna(inplace=True)\n",
    "ga_act = ga_act[ga_act['TEST_CMPNT_TYP_CD'].eq('Composite')]\n",
    "ga_high_schools = pd.merge(high_schools[high_schools['LEA_STATE'].eq('GA')], ga_act, left_on='SCH_NAME', right_on='INSTN_NAME')"
   ],
   "metadata": {
    "collapsed": false,
    "pycharm": {
     "name": "#%%\n"
    }
   }
  },
  {
   "cell_type": "code",
   "execution_count": 14,
   "outputs": [
    {
     "data": {
      "text/plain": "((494, 529), (431, 531))"
     },
     "execution_count": 14,
     "metadata": {},
     "output_type": "execute_result"
    }
   ],
   "source": [
    "# add CO\n",
    "co_act = pd.read_excel('../data/act-results/CO_ACT District and School Summary 2015_2016.xlsx',header=4,usecols=[3,11])\n",
    "co_act.dropna(inplace=True)\n",
    "high_schools.loc[high_schools['LEA_STATE'].eq('CO'),'SCH_NAME'] = high_schools[high_schools['LEA_STATE'].eq('CO')]['SCH_NAME'].str.upper()\n",
    "co_high_schools = pd.merge(high_schools[high_schools['LEA_STATE'].eq('CO')], co_act, left_on='SCH_NAME', right_on='School Name')\n",
    "high_schools[high_schools['LEA_STATE'].eq('CO')].shape, co_high_schools.shape"
   ],
   "metadata": {
    "collapsed": false,
    "pycharm": {
     "name": "#%%\n"
    }
   }
  },
  {
   "cell_type": "code",
   "execution_count": 15,
   "outputs": [
    {
     "data": {
      "text/plain": "((951, 529), (302, 531))"
     },
     "execution_count": 15,
     "metadata": {},
     "output_type": "execute_result"
    }
   ],
   "source": [
    "# add FL\n",
    "fl_act = pd.read_excel('../data/act-results/FL_2017ACTSchool.xlsx',header=3,usecols=[3,9])\n",
    "fl_act.dropna(inplace=True)\n",
    "fl_act['Unnamed: 3'] = fl_act['Unnamed: 3'].str.replace(' HS',' HIGH SCHOOL')\n",
    "high_schools.loc[high_schools['LEA_STATE'].eq('FL'),'SCH_NAME'] = high_schools[high_schools['LEA_STATE'].eq('FL')]['SCH_NAME'].str.upper()\n",
    "fl_high_schools = pd.merge(high_schools[high_schools['LEA_STATE'].eq('FL')], fl_act, left_on='SCH_NAME', right_on='Unnamed: 3')\n",
    "high_schools[high_schools['LEA_STATE'].eq('FL')].shape, fl_high_schools.shape"
   ],
   "metadata": {
    "collapsed": false,
    "pycharm": {
     "name": "#%%\n"
    }
   }
  },
  {
   "cell_type": "code",
   "execution_count": 16,
   "outputs": [
    {
     "data": {
      "text/plain": "((353, 529), (341, 531))"
     },
     "execution_count": 16,
     "metadata": {},
     "output_type": "execute_result"
    }
   ],
   "source": [
    "# add LA\n",
    "la_act = pd.read_excel('../data/act-results/LA_act-class-of-2018.xlsx',sheet_name='Site',header=5,usecols=[3,5])\n",
    "la_act.dropna(inplace=True)\n",
    "la_high_schools = pd.merge(high_schools[high_schools['LEA_STATE'].eq('LA')], la_act, left_on='SCH_NAME', right_on='Site Name')\n",
    "high_schools[high_schools['LEA_STATE'].eq('LA')].shape, la_high_schools.shape"
   ],
   "metadata": {
    "collapsed": false,
    "pycharm": {
     "name": "#%%\n"
    }
   }
  },
  {
   "cell_type": "code",
   "execution_count": 17,
   "outputs": [
    {
     "data": {
      "text/plain": "((639, 529), (576, 532))"
     },
     "execution_count": 17,
     "metadata": {},
     "output_type": "execute_result"
    }
   ],
   "source": [
    "mo_act = pd.read_excel('../data/act-results/MO_Building ACT Results.xlsx',header=0,usecols=[0,4,9])\n",
    "mo_act.dropna(inplace=True)\n",
    "mo_act = mo_act[mo_act['YEAR'].eq(2018)]\n",
    "high_schools.loc[high_schools['LEA_STATE'].eq('MO'),'SCH_NAME'] = high_schools[high_schools['LEA_STATE'].eq('MO')]['SCH_NAME'].str.upper()\n",
    "mo_high_schools = pd.merge(high_schools[high_schools['LEA_STATE'].eq('MO')], mo_act, left_on='SCH_NAME', right_on='SCHOOL_NAME')\n",
    "high_schools[high_schools['LEA_STATE'].eq('MO')].shape, mo_high_schools.shape"
   ],
   "metadata": {
    "collapsed": false,
    "pycharm": {
     "name": "#%%\n"
    }
   }
  },
  {
   "cell_type": "code",
   "execution_count": 31,
   "outputs": [
    {
     "data": {
      "text/plain": "((816, 529), (137, 533))"
     },
     "execution_count": 31,
     "metadata": {},
     "output_type": "execute_result"
    }
   ],
   "source": [
    "mn_act = pd.read_excel('../data/act-results/Minnesota 2018 Public Schools Graduating Class 5 Year Trends.xlsx',header=0,usecols=[0,3,5,11])\n",
    "mn_act.dropna(inplace=True)\n",
    "mn_act = mn_act[mn_act['Analysis Level'].eq('School') & mn_act['Grad Year'].eq(2018)]\n",
    "high_schools.loc[high_schools['LEA_STATE'].eq('MN'),'SCH_NAME'] = high_schools[high_schools['LEA_STATE'].eq('MN')]['SCH_NAME'].str.upper()\n",
    "high_schools.loc[high_schools['LEA_STATE'].eq('MN'),'SCH_NAME'] = high_schools[high_schools['LEA_STATE'].eq('MN')]['SCH_NAME'].str.replace('SECONDARY','HIGH SCHOOL')\n",
    "mn_high_schools = pd.merge(high_schools[high_schools['LEA_STATE'].eq('MN')], mn_act, left_on='SCH_NAME', right_on='HS Name')\n",
    "high_schools[high_schools['LEA_STATE'].eq('MN')].shape, mn_high_schools.shape"
   ],
   "metadata": {
    "collapsed": false,
    "pycharm": {
     "name": "#%%\n"
    }
   }
  },
  {
   "cell_type": "code",
   "execution_count": 19,
   "outputs": [
    {
     "data": {
      "text/plain": "((312, 529), (263, 538))"
     },
     "execution_count": 19,
     "metadata": {},
     "output_type": "execute_result"
    }
   ],
   "source": [
    "ne_act = pd.read_csv('../data/act-results/NE_ACT_Composite_20202021.csv')\n",
    "ne_act.dropna(inplace=True)\n",
    "ne_act = ne_act[ne_act['LEVEL'].eq('SC')]\n",
    "high_schools.loc[high_schools['LEA_STATE'].eq('NE'),'SCH_NAME'] = high_schools[high_schools['LEA_STATE'].eq('NE')]['SCH_NAME'].str.upper()\n",
    "ne_high_schools = pd.merge(high_schools[high_schools['LEA_STATE'].eq('NE')], ne_act, left_on='SCH_NAME', right_on='NAME')\n",
    "high_schools[high_schools['LEA_STATE'].eq('NE')].shape, ne_high_schools.shape"
   ],
   "metadata": {
    "collapsed": false,
    "pycharm": {
     "name": "#%%\n"
    }
   }
  },
  {
   "cell_type": "code",
   "execution_count": 20,
   "outputs": [
    {
     "data": {
      "text/plain": "((167, 529), (88, 531))"
     },
     "execution_count": 20,
     "metadata": {},
     "output_type": "execute_result"
    }
   ],
   "source": [
    "nd_act = pd.read_excel('../data/act-results/North Dakota ACT Scores.xlsx',header=1,usecols=[1,10])\n",
    "nd_act.dropna(inplace=True)\n",
    "nd_act['School'] = nd_act['School'].str.upper()\n",
    "nd_high_schools = pd.merge(high_schools[high_schools['LEA_STATE'].eq('ND')], nd_act, left_on='SCH_NAME', right_on='School')\n",
    "high_schools[high_schools['LEA_STATE'].eq('ND')].shape, nd_high_schools.shape"
   ],
   "metadata": {
    "collapsed": false,
    "pycharm": {
     "name": "#%%\n"
    }
   }
  },
  {
   "cell_type": "code",
   "execution_count": 21,
   "outputs": [
    {
     "data": {
      "text/plain": "((490, 529), (458, 531))"
     },
     "execution_count": 21,
     "metadata": {},
     "output_type": "execute_result"
    }
   ],
   "source": [
    "ok_act = pd.read_excel('../data/act-results/OK_School Level_ACT_2016_Senior.xlsx',header=0,usecols=[5,7])\n",
    "ok_act.dropna(inplace=True)\n",
    "ok_high_schools = pd.merge(high_schools[high_schools['LEA_STATE'].eq('OK')], ok_act, left_on='SCH_NAME', right_on='SchoolName')\n",
    "high_schools[high_schools['LEA_STATE'].eq('OK')].shape, ok_high_schools.shape"
   ],
   "metadata": {
    "collapsed": false,
    "pycharm": {
     "name": "#%%\n"
    }
   }
  },
  {
   "cell_type": "code",
   "execution_count": 22,
   "outputs": [
    {
     "data": {
      "text/plain": "((751, 529), (565, 531))"
     },
     "execution_count": 22,
     "metadata": {},
     "output_type": "execute_result"
    }
   ],
   "source": [
    "pa_act = pd.read_excel('../data/act-results/Pennsylvania_2017 ACT Scores Public Schools.xlsx',header=7,usecols=[4,11])\n",
    "pa_act.dropna(inplace=True)\n",
    "pa_high_schools = pd.merge(high_schools[high_schools['LEA_STATE'].eq('PA')], pa_act, left_on='SCH_NAME', right_on='School Name')\n",
    "high_schools[high_schools['LEA_STATE'].eq('PA')].shape, pa_high_schools.shape"
   ],
   "metadata": {
    "collapsed": false,
    "pycharm": {
     "name": "#%%\n"
    }
   }
  },
  {
   "cell_type": "code",
   "execution_count": 23,
   "outputs": [
    {
     "data": {
      "text/plain": "((402, 529), (395, 532))"
     },
     "execution_count": 23,
     "metadata": {},
     "output_type": "execute_result"
    }
   ],
   "source": [
    "tn_act = pd.read_excel('../data/act-results/TN_2017-18 ACT_school_suppressed.xlsx',header=0,usecols=[3,4,11])\n",
    "tn_act.dropna(inplace=True)\n",
    "tn_act = tn_act[tn_act['Subgroup'].eq('All Students')]\n",
    "tn_high_schools = pd.merge(high_schools[high_schools['LEA_STATE'].eq('TN')], tn_act, left_on='SCH_NAME', right_on='School Name')\n",
    "high_schools[high_schools['LEA_STATE'].eq('TN')].shape, tn_high_schools.shape"
   ],
   "metadata": {
    "collapsed": false,
    "pycharm": {
     "name": "#%%\n"
    }
   }
  },
  {
   "cell_type": "code",
   "execution_count": 24,
   "outputs": [
    {
     "data": {
      "text/plain": "((2033, 529), (1605, 532))"
     },
     "execution_count": 24,
     "metadata": {},
     "output_type": "execute_result"
    }
   ],
   "source": [
    "tx_act = pd.read_excel('../data/act-results/TX_ACT_Campus_Data_Class_2018.xlsx',sheet_name='ACT_Campus_Data_Class_2018',header=0,usecols=[0,3,14])\n",
    "tx_act.dropna(inplace=True)\n",
    "tx_act = tx_act[tx_act['Group'].eq('All Students')]\n",
    "tx_act['CampName'] = tx_act['CampName'].str.upper()\n",
    "tx_high_schools = pd.merge(high_schools[high_schools['LEA_STATE'].eq('TX')], tx_act, left_on='SCH_NAME', right_on='CampName')\n",
    "high_schools[high_schools['LEA_STATE'].eq('TX')].shape, tx_high_schools.shape"
   ],
   "metadata": {
    "collapsed": false,
    "pycharm": {
     "name": "#%%\n"
    }
   }
  },
  {
   "cell_type": "code",
   "execution_count": 25,
   "outputs": [
    {
     "data": {
      "text/plain": "((215, 529), (186, 531))"
     },
     "execution_count": 25,
     "metadata": {},
     "output_type": "execute_result"
    }
   ],
   "source": [
    "ut_act = pd.read_excel('../data/act-results/Utah_ACTGrade112018.xlsx',sheet_name='SCHOOL',header=0,usecols=[3,5])\n",
    "ut_act.dropna(inplace=True)\n",
    "ut_high_schools = pd.merge(high_schools[high_schools['LEA_STATE'].eq('UT')], ut_act, left_on='SCH_NAME', right_on='School')\n",
    "high_schools[high_schools['LEA_STATE'].eq('UT')].shape, ut_high_schools.shape"
   ],
   "metadata": {
    "collapsed": false,
    "pycharm": {
     "name": "#%%\n"
    }
   }
  },
  {
   "cell_type": "code",
   "execution_count": 26,
   "outputs": [
    {
     "data": {
      "text/plain": "((576, 529), (682, 546))"
     },
     "execution_count": 26,
     "metadata": {},
     "output_type": "execute_result"
    }
   ],
   "source": [
    "wi_act = pd.read_csv('../data/act-results/WI_act_graduates_certified_2017-18.csv')\n",
    "wi_act = wi_act[wi_act['TEST_SUBJECT'].eq('Composite') & wi_act['GROUP_BY'].eq('All Students')]\n",
    "wi_high_schools = pd.merge(high_schools[high_schools['LEA_STATE'].eq('WI')], wi_act, left_on='SCH_NAME', right_on='SCHOOL_NAME')\n",
    "high_schools[high_schools['LEA_STATE'].eq('WI')].shape, wi_high_schools.shape"
   ],
   "metadata": {
    "collapsed": false,
    "pycharm": {
     "name": "#%%\n"
    }
   }
  },
  {
   "cell_type": "code",
   "execution_count": 27,
   "outputs": [
    {
     "name": "stderr",
     "output_type": "stream",
     "text": [
      "C:\\Users\\David\\miniconda3\\lib\\site-packages\\openpyxl\\styles\\stylesheet.py:226: UserWarning: Workbook contains no default style, apply openpyxl's default\n",
      "  warn(\"Workbook contains no default style, apply openpyxl's default\")\n"
     ]
    },
    {
     "data": {
      "text/plain": "((95, 529), (87, 531))"
     },
     "execution_count": 27,
     "metadata": {},
     "output_type": "execute_result"
    }
   ],
   "source": [
    "wy_act = pd.read_excel('../data/act-results/WY_DistrictACTSuiteAverages_20220329_050233.xlsx',header=8,usecols=[4,20])\n",
    "wy_high_schools = pd.merge(high_schools[high_schools['LEA_STATE'].eq('WY')], wy_act, left_on='SCH_NAME', right_on='\\n\\nSchool Name')\n",
    "high_schools[high_schools['LEA_STATE'].eq('WY')].shape, wy_high_schools.shape"
   ],
   "metadata": {
    "collapsed": false,
    "pycharm": {
     "name": "#%%\n"
    }
   }
  },
  {
   "cell_type": "code",
   "execution_count": 32,
   "outputs": [
    {
     "data": {
      "text/plain": "   LEA_STATE  LEA_STATE_NAME    LEAID                              LEA_NAME  \\\n0         NC  NORTH CAROLINA  3700011             Cumberland County Schools   \n1         NC  NORTH CAROLINA  3700011             Cumberland County Schools   \n2         NC  NORTH CAROLINA  3700011             Cumberland County Schools   \n3         NC  NORTH CAROLINA  3700011             Cumberland County Schools   \n4         NC  NORTH CAROLINA  3700011             Cumberland County Schools   \n..       ...             ...      ...                                   ...   \n82        WY         WYOMING  5605762  Sweetwater County School District #2   \n83        WY         WYOMING  5605820    Washakie County School District #2   \n84        WY         WYOMING  5605830       Teton County School District #1   \n85        WY         WYOMING  5606090      Weston County School District #7   \n86        WY         WYOMING  5606240    Washakie County School District #1   \n\n    SCHID                    SCH_NAME      COMBOKEY  SCH_MATHCLASSES_ADVM  \\\n0   00400           Douglas Byrd High  370001100400                  10.0   \n1   00402              Cape Fear High  370001100402                  14.0   \n2   00420  Massey Hill Classical High  370001100420                   4.0   \n3   00426            Pine Forest High  370001100426                  10.0   \n4   00433          Seventy-First High  370001100433                  18.0   \n..    ...                         ...           ...                   ...   \n82  00324     Green River High School  560576200324                   6.0   \n83  00393              Ten Sleep K-12  560582000393                   1.0   \n84  00335    Jackson Hole High School  560583000335                   7.0   \n85  00401           Upton High School  560609000401                   2.0   \n86  00343         Worland High School  560624000343                   2.0   \n\n    SCH_MATHCERT_ADVM  SCH_MATHENR_ADVM_HI_M  ...  DISTRICT_NAME  \\\n0                 2.0                    7.0  ...            NaN   \n1                 2.0                    9.0  ...            NaN   \n2                 1.0                    7.0  ...            NaN   \n3                 4.0                   21.0  ...            NaN   \n4                 3.0                   12.0  ...            NaN   \n..                ...                    ...  ...            ...   \n82                6.0                   12.0  ...            NaN   \n83                1.0                    0.0  ...            NaN   \n84                7.0                   17.0  ...            NaN   \n85                2.0                    0.0  ...            NaN   \n86                2.0                    0.0  ...            NaN   \n\n    TEST_SUBJECT  COLLEGE_READINESS  GROUP_BY  GROUP_BY_VALUE  STUDENT_COUNT  \\\n0            NaN                NaN       NaN             NaN            NaN   \n1            NaN                NaN       NaN             NaN            NaN   \n2            NaN                NaN       NaN             NaN            NaN   \n3            NaN                NaN       NaN             NaN            NaN   \n4            NaN                NaN       NaN             NaN            NaN   \n..           ...                ...       ...             ...            ...   \n82           NaN                NaN       NaN             NaN            NaN   \n83           NaN                NaN       NaN             NaN            NaN   \n84           NaN                NaN       NaN             NaN            NaN   \n85           NaN                NaN       NaN             NaN            NaN   \n86           NaN                NaN       NaN             NaN            NaN   \n\n    AVERAGE_SCORE  GROUP_COUNT           \\n\\nSchool Name  \\\n0             NaN          NaN                       NaN   \n1             NaN          NaN                       NaN   \n2             NaN          NaN                       NaN   \n3             NaN          NaN                       NaN   \n4             NaN          NaN                       NaN   \n..            ...          ...                       ...   \n82            NaN          NaN   Green River High School   \n83            NaN          NaN            Ten Sleep K-12   \n84            NaN          NaN  Jackson Hole High School   \n85            NaN          NaN         Upton High School   \n86            NaN          NaN       Worland High School   \n\n    Composite\\nScore\\nAverage  \n0                         NaN  \n1                         NaN  \n2                         NaN  \n3                         NaN  \n4                         NaN  \n..                        ...  \n82                       19.3  \n83                        NaN  \n84                       22.3  \n85                       19.8  \n86                       19.6  \n\n[7311 rows x 590 columns]",
      "text/html": "<div>\n<style scoped>\n    .dataframe tbody tr th:only-of-type {\n        vertical-align: middle;\n    }\n\n    .dataframe tbody tr th {\n        vertical-align: top;\n    }\n\n    .dataframe thead th {\n        text-align: right;\n    }\n</style>\n<table border=\"1\" class=\"dataframe\">\n  <thead>\n    <tr style=\"text-align: right;\">\n      <th></th>\n      <th>LEA_STATE</th>\n      <th>LEA_STATE_NAME</th>\n      <th>LEAID</th>\n      <th>LEA_NAME</th>\n      <th>SCHID</th>\n      <th>SCH_NAME</th>\n      <th>COMBOKEY</th>\n      <th>SCH_MATHCLASSES_ADVM</th>\n      <th>SCH_MATHCERT_ADVM</th>\n      <th>SCH_MATHENR_ADVM_HI_M</th>\n      <th>...</th>\n      <th>DISTRICT_NAME</th>\n      <th>TEST_SUBJECT</th>\n      <th>COLLEGE_READINESS</th>\n      <th>GROUP_BY</th>\n      <th>GROUP_BY_VALUE</th>\n      <th>STUDENT_COUNT</th>\n      <th>AVERAGE_SCORE</th>\n      <th>GROUP_COUNT</th>\n      <th>\\n\\nSchool Name</th>\n      <th>Composite\\nScore\\nAverage</th>\n    </tr>\n  </thead>\n  <tbody>\n    <tr>\n      <th>0</th>\n      <td>NC</td>\n      <td>NORTH CAROLINA</td>\n      <td>3700011</td>\n      <td>Cumberland County Schools</td>\n      <td>00400</td>\n      <td>Douglas Byrd High</td>\n      <td>370001100400</td>\n      <td>10.0</td>\n      <td>2.0</td>\n      <td>7.0</td>\n      <td>...</td>\n      <td>NaN</td>\n      <td>NaN</td>\n      <td>NaN</td>\n      <td>NaN</td>\n      <td>NaN</td>\n      <td>NaN</td>\n      <td>NaN</td>\n      <td>NaN</td>\n      <td>NaN</td>\n      <td>NaN</td>\n    </tr>\n    <tr>\n      <th>1</th>\n      <td>NC</td>\n      <td>NORTH CAROLINA</td>\n      <td>3700011</td>\n      <td>Cumberland County Schools</td>\n      <td>00402</td>\n      <td>Cape Fear High</td>\n      <td>370001100402</td>\n      <td>14.0</td>\n      <td>2.0</td>\n      <td>9.0</td>\n      <td>...</td>\n      <td>NaN</td>\n      <td>NaN</td>\n      <td>NaN</td>\n      <td>NaN</td>\n      <td>NaN</td>\n      <td>NaN</td>\n      <td>NaN</td>\n      <td>NaN</td>\n      <td>NaN</td>\n      <td>NaN</td>\n    </tr>\n    <tr>\n      <th>2</th>\n      <td>NC</td>\n      <td>NORTH CAROLINA</td>\n      <td>3700011</td>\n      <td>Cumberland County Schools</td>\n      <td>00420</td>\n      <td>Massey Hill Classical High</td>\n      <td>370001100420</td>\n      <td>4.0</td>\n      <td>1.0</td>\n      <td>7.0</td>\n      <td>...</td>\n      <td>NaN</td>\n      <td>NaN</td>\n      <td>NaN</td>\n      <td>NaN</td>\n      <td>NaN</td>\n      <td>NaN</td>\n      <td>NaN</td>\n      <td>NaN</td>\n      <td>NaN</td>\n      <td>NaN</td>\n    </tr>\n    <tr>\n      <th>3</th>\n      <td>NC</td>\n      <td>NORTH CAROLINA</td>\n      <td>3700011</td>\n      <td>Cumberland County Schools</td>\n      <td>00426</td>\n      <td>Pine Forest High</td>\n      <td>370001100426</td>\n      <td>10.0</td>\n      <td>4.0</td>\n      <td>21.0</td>\n      <td>...</td>\n      <td>NaN</td>\n      <td>NaN</td>\n      <td>NaN</td>\n      <td>NaN</td>\n      <td>NaN</td>\n      <td>NaN</td>\n      <td>NaN</td>\n      <td>NaN</td>\n      <td>NaN</td>\n      <td>NaN</td>\n    </tr>\n    <tr>\n      <th>4</th>\n      <td>NC</td>\n      <td>NORTH CAROLINA</td>\n      <td>3700011</td>\n      <td>Cumberland County Schools</td>\n      <td>00433</td>\n      <td>Seventy-First High</td>\n      <td>370001100433</td>\n      <td>18.0</td>\n      <td>3.0</td>\n      <td>12.0</td>\n      <td>...</td>\n      <td>NaN</td>\n      <td>NaN</td>\n      <td>NaN</td>\n      <td>NaN</td>\n      <td>NaN</td>\n      <td>NaN</td>\n      <td>NaN</td>\n      <td>NaN</td>\n      <td>NaN</td>\n      <td>NaN</td>\n    </tr>\n    <tr>\n      <th>...</th>\n      <td>...</td>\n      <td>...</td>\n      <td>...</td>\n      <td>...</td>\n      <td>...</td>\n      <td>...</td>\n      <td>...</td>\n      <td>...</td>\n      <td>...</td>\n      <td>...</td>\n      <td>...</td>\n      <td>...</td>\n      <td>...</td>\n      <td>...</td>\n      <td>...</td>\n      <td>...</td>\n      <td>...</td>\n      <td>...</td>\n      <td>...</td>\n      <td>...</td>\n      <td>...</td>\n    </tr>\n    <tr>\n      <th>82</th>\n      <td>WY</td>\n      <td>WYOMING</td>\n      <td>5605762</td>\n      <td>Sweetwater County School District #2</td>\n      <td>00324</td>\n      <td>Green River High School</td>\n      <td>560576200324</td>\n      <td>6.0</td>\n      <td>6.0</td>\n      <td>12.0</td>\n      <td>...</td>\n      <td>NaN</td>\n      <td>NaN</td>\n      <td>NaN</td>\n      <td>NaN</td>\n      <td>NaN</td>\n      <td>NaN</td>\n      <td>NaN</td>\n      <td>NaN</td>\n      <td>Green River High School</td>\n      <td>19.3</td>\n    </tr>\n    <tr>\n      <th>83</th>\n      <td>WY</td>\n      <td>WYOMING</td>\n      <td>5605820</td>\n      <td>Washakie County School District #2</td>\n      <td>00393</td>\n      <td>Ten Sleep K-12</td>\n      <td>560582000393</td>\n      <td>1.0</td>\n      <td>1.0</td>\n      <td>0.0</td>\n      <td>...</td>\n      <td>NaN</td>\n      <td>NaN</td>\n      <td>NaN</td>\n      <td>NaN</td>\n      <td>NaN</td>\n      <td>NaN</td>\n      <td>NaN</td>\n      <td>NaN</td>\n      <td>Ten Sleep K-12</td>\n      <td>NaN</td>\n    </tr>\n    <tr>\n      <th>84</th>\n      <td>WY</td>\n      <td>WYOMING</td>\n      <td>5605830</td>\n      <td>Teton County School District #1</td>\n      <td>00335</td>\n      <td>Jackson Hole High School</td>\n      <td>560583000335</td>\n      <td>7.0</td>\n      <td>7.0</td>\n      <td>17.0</td>\n      <td>...</td>\n      <td>NaN</td>\n      <td>NaN</td>\n      <td>NaN</td>\n      <td>NaN</td>\n      <td>NaN</td>\n      <td>NaN</td>\n      <td>NaN</td>\n      <td>NaN</td>\n      <td>Jackson Hole High School</td>\n      <td>22.3</td>\n    </tr>\n    <tr>\n      <th>85</th>\n      <td>WY</td>\n      <td>WYOMING</td>\n      <td>5606090</td>\n      <td>Weston County School District #7</td>\n      <td>00401</td>\n      <td>Upton High School</td>\n      <td>560609000401</td>\n      <td>2.0</td>\n      <td>2.0</td>\n      <td>0.0</td>\n      <td>...</td>\n      <td>NaN</td>\n      <td>NaN</td>\n      <td>NaN</td>\n      <td>NaN</td>\n      <td>NaN</td>\n      <td>NaN</td>\n      <td>NaN</td>\n      <td>NaN</td>\n      <td>Upton High School</td>\n      <td>19.8</td>\n    </tr>\n    <tr>\n      <th>86</th>\n      <td>WY</td>\n      <td>WYOMING</td>\n      <td>5606240</td>\n      <td>Washakie County School District #1</td>\n      <td>00343</td>\n      <td>Worland High School</td>\n      <td>560624000343</td>\n      <td>2.0</td>\n      <td>2.0</td>\n      <td>0.0</td>\n      <td>...</td>\n      <td>NaN</td>\n      <td>NaN</td>\n      <td>NaN</td>\n      <td>NaN</td>\n      <td>NaN</td>\n      <td>NaN</td>\n      <td>NaN</td>\n      <td>NaN</td>\n      <td>Worland High School</td>\n      <td>19.6</td>\n    </tr>\n  </tbody>\n</table>\n<p>7311 rows × 590 columns</p>\n</div>"
     },
     "execution_count": 32,
     "metadata": {},
     "output_type": "execute_result"
    }
   ],
   "source": [
    "pd.concat([nc_high_schools,sc_high_schools,ga_high_schools,co_high_schools,fl_high_schools,la_high_schools,mn_high_schools,mo_high_schools,ne_high_schools,nd_high_schools,ok_high_schools,pa_high_schools,tn_high_schools,tx_high_schools,ut_high_schools,wi_high_schools,wy_high_schools])"
   ],
   "metadata": {
    "collapsed": false,
    "pycharm": {
     "name": "#%%\n"
    }
   }
  }
 ],
 "metadata": {
  "kernelspec": {
   "display_name": "Python 3",
   "language": "python",
   "name": "python3"
  },
  "language_info": {
   "codemirror_mode": {
    "name": "ipython",
    "version": 2
   },
   "file_extension": ".py",
   "mimetype": "text/x-python",
   "name": "python",
   "nbconvert_exporter": "python",
   "pygments_lexer": "ipython2",
   "version": "2.7.6"
  }
 },
 "nbformat": 4,
 "nbformat_minor": 0
}